{
 "cells": [
  {
   "cell_type": "code",
   "execution_count": 25,
   "id": "8df405ae-c670-4841-89d1-1a2e78b575a7",
   "metadata": {},
   "outputs": [
    {
     "name": "stdout",
     "output_type": "stream",
     "text": [
      "A\n"
     ]
    },
    {
     "data": {
      "text/plain": [
       "A    float64\n",
       "B    float64\n",
       "C    float64\n",
       "D    float64\n",
       "E      int64\n",
       "dtype: object"
      ]
     },
     "execution_count": 25,
     "metadata": {},
     "output_type": "execute_result"
    }
   ],
   "source": [
    "import pandas as pd\n",
    "try:\n",
    "    import pandopt as pdo\n",
    "except:\n",
    "    import sys, os\n",
    "    sys.path.append('/'.join(os.getcwd().split('/')[:-2]))\n",
    "    import pandopt as pdo\n",
    "import pandas as pd\n",
    "import numpy as np\n",
    "import tqdm \n",
    "import pandas as pd\n",
    "import numpy as np\n",
    "import timeit\n",
    "import functools\n",
    "\n",
    "import ast\n",
    "import inspect\n",
    "import types\n",
    "import numpy as np\n",
    "import numba as nb\n",
    "import pandas as pd\n",
    "import time\n",
    "import logging\n",
    "import functools\n",
    "import copy\n",
    "import sys\n",
    "from typing import Callable, Type, Dict, Tuple, Any\n",
    "from numpy.lib.stride_tricks import sliding_window_view\n",
    "logger = logging.getLogger()\n",
    "logger.setLevel(0)\n",
    "\n",
    "\n",
    "\n",
    "\n",
    "class DF(pd.DataFrame):\n",
    "    def groupby(self, *args, **kwargs):\n",
    "        print(args, kwargs)\n",
    "        return DGRoup(self,*args, **kwargs)\n",
    "\n",
    "\n",
    "class DGRoup(pd.core.groupby.generic.DataFrameGroupBy):\n",
    "    def __init__(self, *args, **kwargs):\n",
    "        print('init:',args, kwargs)\n",
    "        super().__init__(*args, **kwargs)\n",
    "\n",
    "    def apply(self, *args, **kwargs):\n",
    "        print('apply', args, kwargs)\n",
    "        result = super().apply(*args, **kwargs)\n",
    "        print('result', result)\n",
    "        return result\n",
    "\n",
    "df = pdo.DataFrame(np.random.randn(10000, 4), columns=['A', 'B', 'C', 'D'])#.astype(np.float32)\n",
    "df['E'] = df['A'].apply(lambda x: 1 if x <-2 else 2 if x <-1 else 3 if x<0 else 4 if x<2 else 5)\n",
    "df.dtypes"
   ]
  },
  {
   "cell_type": "code",
   "execution_count": 1,
   "id": "efbb6925-764b-44a8-9dc5-863e2f44d070",
   "metadata": {},
   "outputs": [
    {
     "data": {
      "text/plain": [
       "             A         B         C         D  E\n",
       "68   -2.024255 -0.653233  0.787701 -1.877896  1\n",
       "100  -2.165115 -0.510235 -0.905067  0.326226  1\n",
       "102  -2.353347 -1.576216  0.298123 -0.868118  1\n",
       "111  -2.162830  2.608022  0.129211  0.355969  1\n",
       "114  -2.386508  0.178014  0.548628 -1.234875  1\n",
       "...        ...       ...       ...       ... ..\n",
       "9644 -2.287872  0.477173 -1.245266  0.587293  1\n",
       "9697 -2.997249 -0.876881 -2.087745 -0.105303  1\n",
       "9791 -2.012931 -0.633578 -2.998835  0.023668  1\n",
       "9807 -2.151815  0.838173 -1.599651 -0.020868  1\n",
       "9910 -2.028642 -0.801516 -1.350986 -0.010207  1\n",
       "\n",
       "[215 rows x 5 columns]"
      ]
     },
     "execution_count": 1,
     "metadata": {},
     "output_type": "execute_result"
    }
   ],
   "source": [
    "import pandopt as pdo\n",
    "import pandas as pd\n",
    "import numpy as np\n",
    "dfa=pd.DataFrame(np.random.randn(10000, 4), columns=['A', 'B', 'C', 'D'])\n",
    "dfa['E'] = dfa['A'].apply(lambda x: 1 if x <-2 else 2 if x <-1 else 3 if x<0 else 4 if x<2 else 5)\n",
    "dfa.loc[dfa.groupby('E').groups[1],:]"
   ]
  },
  {
   "cell_type": "code",
   "execution_count": 7,
   "id": "ec1b2f66-31b4-4ff1-bf4e-52a04fb790a1",
   "metadata": {},
   "outputs": [
    {
     "name": "stdout",
     "output_type": "stream",
     "text": [
      "A\n",
      "E\n"
     ]
    },
    {
     "data": {
      "text/plain": [
       "{1: [93, 127, 134, 154, 170, 173, 236, 237, 238, 331, 365, 392, 434, 453, 497, 601, 629, 671, 708, 747, 785, 799, 853, 1034, 1035, 1111, 1123, 1141, 1283, 1458, 1475, 1509, 1587, 1633, 1651, 1666, 1726, 1751, 1764, 1823, 1826, 1939, 1962, 2023, 2035, 2077, 2141, 2150, 2194, 2238, 2245, 2274, 2328, 2348, 2425, 2552, 2595, 2628, 2648, 2684, 2789, 2829, 2838, 2839, 2845, 2957, 2961, 3038, 3085, 3088, 3097, 3100, 3146, 3149, 3170, 3193, 3243, 3264, 3267, 3330, 3487, 3509, 3520, 3570, 3702, 3741, 3744, 3747, 3773, 3781, 3795, 3837, 3843, 3928, 3955, 3960, 3980, 3998, 4102, 4177, ...], 2: [5, 24, 38, 39, 64, 67, 76, 80, 88, 95, 98, 99, 105, 110, 123, 124, 135, 139, 142, 151, 157, 180, 182, 184, 191, 200, 202, 204, 212, 224, 233, 247, 258, 262, 270, 273, 280, 298, 299, 313, 316, 325, 350, 355, 367, 370, 378, 383, 386, 407, 408, 410, 414, 415, 418, 429, 460, 483, 515, 518, 521, 542, 550, 554, 560, 576, 583, 585, 587, 588, 590, 592, 598, 610, 613, 620, 650, 661, 663, 669, 674, 688, 699, 704, 712, 717, 718, 722, 724, 727, 729, 748, 751, 772, 781, 817, 866, 874, 879, 880, ...], 3: [0, 1, 9, 13, 14, 16, 20, 21, 23, 25, 35, 40, 47, 48, 50, 51, 52, 56, 59, 60, 62, 63, 71, 72, 74, 75, 78, 82, 90, 91, 92, 96, 102, 104, 108, 112, 114, 116, 117, 118, 119, 120, 126, 130, 131, 132, 133, 136, 137, 140, 161, 165, 166, 169, 174, 175, 177, 179, 185, 188, 190, 193, 196, 208, 209, 210, 213, 214, 215, 216, 218, 221, 227, 229, 230, 231, 234, 239, 240, 241, 244, 246, 251, 253, 255, 260, 263, 271, 281, 283, 288, 292, 293, 301, 302, 303, 308, 310, 311, 318, ...], 4: [2, 3, 4, 6, 7, 8, 10, 11, 12, 15, 17, 18, 19, 22, 26, 27, 28, 29, 30, 31, 32, 33, 34, 36, 37, 41, 42, 43, 44, 45, 46, 49, 53, 54, 55, 57, 58, 61, 65, 66, 68, 69, 70, 73, 77, 79, 81, 83, 84, 85, 86, 87, 89, 94, 100, 101, 103, 106, 107, 111, 113, 115, 121, 122, 125, 128, 129, 138, 141, 143, 144, 145, 146, 147, 148, 149, 150, 152, 153, 155, 156, 158, 159, 160, 162, 163, 167, 168, 171, 172, 176, 178, 181, 183, 186, 187, 189, 192, 194, 195, ...], 5: [97, 109, 164, 276, 277, 291, 339, 391, 447, 559, 637, 739, 798, 812, 840, 844, 870, 876, 893, 904, 999, 1040, 1128, 1187, 1189, 1212, 1221, 1222, 1248, 1264, 1424, 1497, 1625, 1655, 1794, 1795, 1852, 1958, 1990, 2227, 2347, 2364, 2389, 2457, 2546, 2564, 2614, 2623, 2653, 2698, 2804, 2843, 2857, 2900, 2904, 2976, 3032, 3059, 3144, 3187, 3215, 3239, 3253, 3324, 3364, 3412, 3528, 3585, 3622, 3669, 3681, 3689, 3724, 3725, 3752, 3759, 3813, 4127, 4128, 4193, 4206, 4225, 4235, 4359, 4423, 4471, 4531, 4548, 4569, 4584, 4619, 4649, 4724, 4858, 4899, 4935, 5033, 5050, 5181, 5188, ...]}"
      ]
     },
     "execution_count": 7,
     "metadata": {},
     "output_type": "execute_result"
    }
   ],
   "source": [
    "df = pdo.DataFrame(np.random.randn(10000, 4), columns=['A', 'B', 'C', 'D'])#.astype(np.float32)\n",
    "df['E'] = df['A'].apply(lambda x: 1 if x <-2 else 2 if x <-1 else 3 if x<0 else 4 if x<2 else 5)\n",
    "groups = df.groupby('E').groups"
   ]
  },
  {
   "cell_type": "code",
   "execution_count": null,
   "id": "c9b9bbd0-7759-4380-9441-11f444d9fa44",
   "metadata": {},
   "outputs": [],
   "source": [
    "{[col_names]: [funcs], ...}\n"
   ]
  },
  {
   "cell_type": "code",
   "execution_count": null,
   "id": "e79dfd47-2953-420e-9514-1b74d72df78a",
   "metadata": {},
   "outputs": [],
   "source": [
    "def slice(array, func):\n",
    "    ...\n",
    "\n",
    "def optigroup(array, slices, jitfuncs):\n",
    "    ...    \n",
    "\n",
    "def group_result(array, groups, funcs):\n",
    "    result = np.empty((len(groups), len(funcs)))\n",
    "    "
   ]
  },
  {
   "cell_type": "code",
   "execution_count": 23,
   "id": "98e9dff0-24ed-48f5-aef0-497b4f409346",
   "metadata": {},
   "outputs": [
    {
     "name": "stdout",
     "output_type": "stream",
     "text": [
      "A\n",
      "['A', 'B', 'C', 'D']\n",
      "E\n",
      "22.5 ms ± 1.34 ms per loop (mean ± std. dev. of 7 runs, 1 loop each)\n",
      "10 ms ± 3.25 ms per loop (mean ± std. dev. of 7 runs, 1 loop each)\n"
     ]
    }
   ],
   "source": [
    "import numpy as np\n",
    "import numba as nb\n",
    "\n",
    "# This function slices the array based on the provided indices\n",
    "def slice(array, indices):\n",
    "    return array[indices]\n",
    "\n",
    "# This function organizes the array slices and functions\n",
    "def optigroup(array, slices, jitfuncs):\n",
    "    results = []\n",
    "    for indices in slices:\n",
    "        group = slice(array, indices)\n",
    "        group_results = [func(group) for func in jitfuncs]\n",
    "        results.append(group_results)\n",
    "    return results\n",
    "\n",
    "\n",
    "@nb.jit(parallel=True, fastmath=True, forceinline=True, looplift=True, inline='always', target_backend='host', no_cfunc_wrapper=True, no_rewrites=True ,nopython=True, nogil=True)\n",
    "def group_result(array, groups, agg_sum, agg_mean):\n",
    "    result = np.empty((len(groups), 2))  # Assuming 2 functions: agg_sum and agg_mean\n",
    "    for i in prange(len(groups)):\n",
    "        group_array = array[groups[i]]\n",
    "        result[i, 0] = agg_sum(group_array)  # Apply agg_sum\n",
    "        result[i, 1] = agg_mean(group_array)  # Apply agg_mean\n",
    "    return result\n",
    "    \n",
    "def agg_sum(x):\n",
    "    return np.sum(x)\n",
    "\n",
    "def agg_mean(x):\n",
    "    return np.mean(x)\n",
    "\n",
    "njit=nb.jit(parallel=True, fastmath=True, forceinline=True, looplift=True, inline='always', target_backend='host', no_cfunc_wrapper=True, no_rewrites=True ,nopython=True, nogil=True)\n",
    "# Example usage:\n",
    "df = pdo.DataFrame(np.random.randn(1000000, 4), columns=['A', 'B', 'C', 'D'])#.astype(np.float32)\n",
    "df['E'] = df['A'].apply(lambda x: 1 if x <-2 else 2 if x <-1 else 3 if x<0 else 4 if x<2 else 5)\n",
    "array = df[['A', 'B', 'C', 'D']].to_numpy()\n",
    "groups = [group.to_numpy() for group in df.groupby('E').groups.values()]\n",
    "jit_agg_sum = njit(agg_sum)\n",
    "jit_agg_mean = njit(agg_mean)\n",
    "\n",
    "%timeit results = optigroup(array, groups, [jit_agg_sum, jit_agg_mean])\n",
    "%timeit parallel_results = group_result(array, groups, jit_agg_sum, jit_agg_mean)\n"
   ]
  },
  {
   "cell_type": "code",
   "execution_count": 37,
   "id": "d614ffc1-394e-4ba0-9dc7-e63d93b57254",
   "metadata": {},
   "outputs": [
    {
     "name": "stdout",
     "output_type": "stream",
     "text": [
      "['A']\n",
      "E\n",
      "5.36 ms ± 213 µs per loop (mean ± std. dev. of 7 runs, 1 loop each)\n",
      "2.2 ms ± 632 µs per loop (mean ± std. dev. of 7 runs, 1 loop each)\n"
     ]
    }
   ],
   "source": [
    "array = df[['A']].to_numpy()\n",
    "groups = [group.to_numpy() for group in df.groupby('E').groups.values()]\n",
    "jit_agg_sum = njit(agg_sum)\n",
    "jit_agg_mean = njit(agg_mean)\n",
    "\n",
    "%timeit results = optigroup(array, groups, [jit_agg_sum, jit_agg_mean])\n",
    "%timeit parallel_results = group_result(array, groups, jit_agg_sum, jit_agg_mean)"
   ]
  },
  {
   "cell_type": "code",
   "execution_count": 35,
   "id": "5434dce7-150f-41a7-a38b-31e928e06a47",
   "metadata": {},
   "outputs": [
    {
     "name": "stdout",
     "output_type": "stream",
     "text": [
      "11.7 ms ± 117 µs per loop (mean ± std. dev. of 7 runs, 100 loops each)\n"
     ]
    }
   ],
   "source": [
    "dfa=df.to_pandas()\n",
    "%timeit dfa.groupby('E')[['A']].aggregate(['mean', 'sum'])"
   ]
  },
  {
   "cell_type": "code",
   "execution_count": 138,
   "id": "2a526a89-abea-4c18-bb89-465a59f38f3e",
   "metadata": {},
   "outputs": [
    {
     "ename": "TypeError",
     "evalue": "tuple expected at most 1 argument, got 2",
     "output_type": "error",
     "traceback": [
      "\u001b[0;31m---------------------------------------------------------------------------\u001b[0m",
      "\u001b[0;31mTypeError\u001b[0m                                 Traceback (most recent call last)",
      "Cell \u001b[0;32mIn[138], line 1\u001b[0m\n\u001b[0;32m----> 1\u001b[0m array[\u001b[38;5;28mtuple\u001b[39m((\u001b[38;5;28mlist\u001b[39m(groups[\u001b[38;5;241m0\u001b[39m]), \u001b[38;5;28;43mtuple\u001b[39;49m\u001b[43m(\u001b[49m\u001b[38;5;241;43m0\u001b[39;49m\u001b[43m,\u001b[49m\u001b[38;5;241;43m1\u001b[39;49m\u001b[43m)\u001b[49m))]\n",
      "\u001b[0;31mTypeError\u001b[0m: tuple expected at most 1 argument, got 2"
     ]
    }
   ],
   "source": [
    "array[tuple((list(groups[0]), tuple(0,1)))]"
   ]
  },
  {
   "cell_type": "code",
   "execution_count": 153,
   "id": "2d09f506-321a-47be-b49b-3f64ee822cb6",
   "metadata": {},
   "outputs": [
    {
     "ename": "SyntaxError",
     "evalue": "iterable unpacking cannot be used in comprehension (1991996339.py, line 1)",
     "output_type": "error",
     "traceback": [
      "\u001b[0;36m  Cell \u001b[0;32mIn[153], line 1\u001b[0;36m\u001b[0m\n\u001b[0;31m    set(*sc if type(sc)==list else sc for sc in scalcs)\u001b[0m\n\u001b[0m        ^\u001b[0m\n\u001b[0;31mSyntaxError\u001b[0m\u001b[0;31m:\u001b[0m iterable unpacking cannot be used in comprehension\n"
     ]
    }
   ],
   "source": [
    "set(*sc if type(sc)==list else sc for sc in scalcs)"
   ]
  },
  {
   "cell_type": "code",
   "execution_count": 185,
   "id": "d0ff3904-28d5-43ee-ad52-ff9b366dd8f6",
   "metadata": {},
   "outputs": [
    {
     "name": "stderr",
     "output_type": "stream",
     "text": [
      "/home/remi/.pyenv/versions/3.12.2/lib/python3.12/site-packages/numba/core/utils.py:639: NumbaExperimentalFeatureWarning: First-class function type feature is experimental\n",
      "  warnings.warn(\"First-class function type feature is experimental\",\n",
      "/tmp/ipykernel_216863/2312305388.py:36: NumbaExperimentalFeatureWarning: First-class function type feature is experimental\n",
      "  result_array[j, func] = funcs[func](select)\n",
      "/home/remi/.pyenv/versions/3.12.2/lib/python3.12/site-packages/numba/core/utils.py:639: NumbaExperimentalFeatureWarning: First-class function type feature is experimental\n",
      "  warnings.warn(\"First-class function type feature is experimental\",\n"
     ]
    },
    {
     "ename": "TypingError",
     "evalue": "Failed in nopython mode pipeline (step: nopython frontend)\nNo implementation of function Function(<built-in function getitem>) found for signature:\n \n >>> getitem(Tuple(type(CPUDispatcher(<function jcustom_sum at 0x7fe7ac1c82c0>)), type(CPUDispatcher(<function jcustom_mean at 0x7fe7ac1c85e0>)), type(CPUDispatcher(<function jcustom_max at 0x7fe7b75aea20>))), int64)\n \nThere are 22 candidate implementations:\n  - Of which 22 did not match due to:\n  Overload of function 'getitem': File: <numerous>: Line N/A.\n    With argument(s): '(Tuple(type(CPUDispatcher(<function jcustom_sum at 0x7fe7ac1c82c0>)), type(CPUDispatcher(<function jcustom_mean at 0x7fe7ac1c85e0>)), type(CPUDispatcher(<function jcustom_max at 0x7fe7b75aea20>))), int64)':\n   No match.\n\nDuring: typing of intrinsic-call at /tmp/ipykernel_216863/2312305388.py (36)\n\nFile \"../../../../tmp/ipykernel_216863/2312305388.py\", line 36:\n<source missing, REPL/exec in use?>\n",
     "output_type": "error",
     "traceback": [
      "\u001b[0;31m---------------------------------------------------------------------------\u001b[0m",
      "\u001b[0;31mTypingError\u001b[0m                               Traceback (most recent call last)",
      "Cell \u001b[0;32mIn[185], line 74\u001b[0m\n\u001b[1;32m     72\u001b[0m result_array \u001b[38;5;241m=\u001b[39m np\u001b[38;5;241m.\u001b[39mzeros((\u001b[38;5;28mlen\u001b[39m(groups), \u001b[38;5;28mlen\u001b[39m(sfuncs)))\n\u001b[1;32m     73\u001b[0m group_sep \u001b[38;5;241m=\u001b[39m reorder(_tmp_array, rawarray\u001b[38;5;241m=\u001b[39marray[:, \u001b[38;5;28mlist\u001b[39m(unique_cols)], groups\u001b[38;5;241m=\u001b[39mgroups)\n\u001b[0;32m---> 74\u001b[0m \u001b[43mapply\u001b[49m\u001b[43m(\u001b[49m\u001b[43mresult_array\u001b[49m\u001b[43m,\u001b[49m\u001b[43m \u001b[49m\u001b[43m_tmp_array\u001b[49m\u001b[43m,\u001b[49m\u001b[43m \u001b[49m\u001b[43mgroup_sep\u001b[49m\u001b[43m,\u001b[49m\u001b[43m \u001b[49m\u001b[38;5;28;43mtuple\u001b[39;49m\u001b[43m(\u001b[49m\u001b[43msfuncs\u001b[49m\u001b[43m)\u001b[49m\u001b[43m)\u001b[49m\n\u001b[1;32m     75\u001b[0m \u001b[38;5;66;03m# Assuming 'groups' is a list of indices for each group\u001b[39;00m\n\u001b[1;32m     76\u001b[0m \u001b[38;5;28;01mfor\u001b[39;00m group_indices \u001b[38;5;129;01min\u001b[39;00m groups:\n\u001b[1;32m     77\u001b[0m     \u001b[38;5;66;03m# Reordering raw array data into _tmp_array\u001b[39;00m\n\u001b[1;32m     78\u001b[0m     \n\u001b[1;32m     79\u001b[0m     \u001b[38;5;66;03m# Process each function on the group array\u001b[39;00m\n",
      "File \u001b[0;32m~/.pyenv/versions/3.12.2/lib/python3.12/site-packages/numba/core/dispatcher.py:468\u001b[0m, in \u001b[0;36m_DispatcherBase._compile_for_args\u001b[0;34m(self, *args, **kws)\u001b[0m\n\u001b[1;32m    464\u001b[0m         msg \u001b[38;5;241m=\u001b[39m (\u001b[38;5;124mf\u001b[39m\u001b[38;5;124m\"\u001b[39m\u001b[38;5;132;01m{\u001b[39;00m\u001b[38;5;28mstr\u001b[39m(e)\u001b[38;5;241m.\u001b[39mrstrip()\u001b[38;5;132;01m}\u001b[39;00m\u001b[38;5;124m \u001b[39m\u001b[38;5;130;01m\\n\u001b[39;00m\u001b[38;5;130;01m\\n\u001b[39;00m\u001b[38;5;124mThis error may have been caused \u001b[39m\u001b[38;5;124m\"\u001b[39m\n\u001b[1;32m    465\u001b[0m                \u001b[38;5;124mf\u001b[39m\u001b[38;5;124m\"\u001b[39m\u001b[38;5;124mby the following argument(s):\u001b[39m\u001b[38;5;130;01m\\n\u001b[39;00m\u001b[38;5;132;01m{\u001b[39;00margs_str\u001b[38;5;132;01m}\u001b[39;00m\u001b[38;5;130;01m\\n\u001b[39;00m\u001b[38;5;124m\"\u001b[39m)\n\u001b[1;32m    466\u001b[0m         e\u001b[38;5;241m.\u001b[39mpatch_message(msg)\n\u001b[0;32m--> 468\u001b[0m     \u001b[43merror_rewrite\u001b[49m\u001b[43m(\u001b[49m\u001b[43me\u001b[49m\u001b[43m,\u001b[49m\u001b[43m \u001b[49m\u001b[38;5;124;43m'\u001b[39;49m\u001b[38;5;124;43mtyping\u001b[39;49m\u001b[38;5;124;43m'\u001b[39;49m\u001b[43m)\u001b[49m\n\u001b[1;32m    469\u001b[0m \u001b[38;5;28;01mexcept\u001b[39;00m errors\u001b[38;5;241m.\u001b[39mUnsupportedError \u001b[38;5;28;01mas\u001b[39;00m e:\n\u001b[1;32m    470\u001b[0m     \u001b[38;5;66;03m# Something unsupported is present in the user code, add help info\u001b[39;00m\n\u001b[1;32m    471\u001b[0m     error_rewrite(e, \u001b[38;5;124m'\u001b[39m\u001b[38;5;124munsupported_error\u001b[39m\u001b[38;5;124m'\u001b[39m)\n",
      "File \u001b[0;32m~/.pyenv/versions/3.12.2/lib/python3.12/site-packages/numba/core/dispatcher.py:409\u001b[0m, in \u001b[0;36m_DispatcherBase._compile_for_args.<locals>.error_rewrite\u001b[0;34m(e, issue_type)\u001b[0m\n\u001b[1;32m    407\u001b[0m     \u001b[38;5;28;01mraise\u001b[39;00m e\n\u001b[1;32m    408\u001b[0m \u001b[38;5;28;01melse\u001b[39;00m:\n\u001b[0;32m--> 409\u001b[0m     \u001b[38;5;28;01mraise\u001b[39;00m e\u001b[38;5;241m.\u001b[39mwith_traceback(\u001b[38;5;28;01mNone\u001b[39;00m)\n",
      "\u001b[0;31mTypingError\u001b[0m: Failed in nopython mode pipeline (step: nopython frontend)\nNo implementation of function Function(<built-in function getitem>) found for signature:\n \n >>> getitem(Tuple(type(CPUDispatcher(<function jcustom_sum at 0x7fe7ac1c82c0>)), type(CPUDispatcher(<function jcustom_mean at 0x7fe7ac1c85e0>)), type(CPUDispatcher(<function jcustom_max at 0x7fe7b75aea20>))), int64)\n \nThere are 22 candidate implementations:\n  - Of which 22 did not match due to:\n  Overload of function 'getitem': File: <numerous>: Line N/A.\n    With argument(s): '(Tuple(type(CPUDispatcher(<function jcustom_sum at 0x7fe7ac1c82c0>)), type(CPUDispatcher(<function jcustom_mean at 0x7fe7ac1c85e0>)), type(CPUDispatcher(<function jcustom_max at 0x7fe7b75aea20>))), int64)':\n   No match.\n\nDuring: typing of intrinsic-call at /tmp/ipykernel_216863/2312305388.py (36)\n\nFile \"../../../../tmp/ipykernel_216863/2312305388.py\", line 36:\n<source missing, REPL/exec in use?>\n"
     ]
    }
   ],
   "source": [
    "\n",
    "@nb.jit\n",
    "def jcustom_sum(array):\n",
    "    return np.sum(array)\n",
    "\n",
    "@nb.jit\n",
    "def jcustom_mean(array):\n",
    "    return np.mean(array)\n",
    "\n",
    "@nb.jit\n",
    "def jcustom_max(array):\n",
    "    return np.max(array)\n",
    "\n",
    "@nb.jit(nopython=True, parallel=True)\n",
    "def reorder(_tmp_array, rawarray, groups):\n",
    "    n = len(groups)\n",
    "    farray = np.zeros(len(groups) + 1, dtype=nb.int32)\n",
    "    c = 0\n",
    "    for j in nb.prange(n):\n",
    "        m = len(groups[j])\n",
    "        for i in nb.prange(m):\n",
    "            _tmp_array[c] = rawarray[groups[j][i]]\n",
    "            c += 1\n",
    "        farray[j + 1] = c\n",
    "    return farray\n",
    "\n",
    "\n",
    "\n",
    "@nb.jit(nopython=True, parallel=True)\n",
    "def apply(_tmp_array, result_array, group_sep, funcs):\n",
    "    n = len(group_sep) \n",
    "    m = len(funcs)\n",
    "    c = 0\n",
    "    for j in nb.prange(n):\n",
    "        select = _tmp_array[group_sep[j]:group_sep[j+1]]\n",
    "        for func in nb.prange(m):\n",
    "            result_array[j, func] = funcs[func](select)\n",
    "\n",
    "\n",
    "# Define the column-function mapping with custom functions\n",
    "col_func_map = {\n",
    "    ('A',): [jcustom_sum, jcustom_mean],\n",
    "    ('B',): [jcustom_max],\n",
    "    # ('B', 'C'): [jcustom_sum]\n",
    "    # Add more mappings as needed\n",
    "}\n",
    "\n",
    "pdtype = {}\n",
    "sfuncs = []\n",
    "scols = []\n",
    "stypes = []\n",
    "for cols, func_list in col_func_map.items():\n",
    "    col_idx = [df.columns.get_loc(col) for col in cols]\n",
    "    dtype = df.dtypes.loc[list(cols)]\n",
    "    if dtype.nunique() > 1:\n",
    "        raise ValueError\n",
    "    dtype=dtype.iloc[0]\n",
    "    scols, sfuncs=pdtype.get(dtype, [[], []])\n",
    "    for func in func_list:\n",
    "        scols.append(col_idx)\n",
    "        sfuncs.append(func)\n",
    "    pdtype[dtype] = [scols, sfuncs]\n",
    "\n",
    "\n",
    "\n",
    "for dtype, (scols, sfuncs) in pdtype.items():\n",
    "    # Getting unique columns to avoid repetition\n",
    "    unique_cols = set(col for sublist in scols for col in sublist)\n",
    "    n, k = len(array), len(unique_cols)\n",
    "    \n",
    "    # Create a temporary array for contiguous memory\n",
    "    _tmp_array = np.zeros((n, k), dtype=dtype)\n",
    "    result_array = np.zeros((len(groups), len(sfuncs)))\n",
    "    group_sep = reorder(_tmp_array, rawarray=array[:, list(unique_cols)], groups=groups)\n",
    "    apply(result_array, _tmp_array, group_sep, tuple(sfuncs))\n",
    "    # Assuming 'groups' is a list of indices for each group\n",
    "    for group_indices in groups:\n",
    "        # Reordering raw array data into _tmp_array\n",
    "        \n",
    "        # Process each function on the group array\n",
    "        for func in sfuncs:\n",
    "            result = func(_tmp_array)\n",
    "\n",
    "            # Handle the result as needed\n",
    "            print(result)  # Example: print or store the result\n",
    "\n",
    "    \n",
    "print(pdtype)\n",
    "    \n"
   ]
  },
  {
   "cell_type": "code",
   "execution_count": 184,
   "id": "b3c75b59-c560-4d07-86b4-e5040da5570e",
   "metadata": {},
   "outputs": [
    {
     "ename": "TypingError",
     "evalue": "Failed in nopython mode pipeline (step: nopython frontend)\nUntyped global name 'func_dict': Cannot determine Numba type of <class 'dict'>\n\nFile \"../../../../tmp/ipykernel_216863/1246074749.py\", line 43:\n<source missing, REPL/exec in use?>\n",
     "output_type": "error",
     "traceback": [
      "\u001b[0;31m---------------------------------------------------------------------------\u001b[0m",
      "\u001b[0;31mTypingError\u001b[0m                               Traceback (most recent call last)",
      "Cell \u001b[0;32mIn[184], line 65\u001b[0m\n\u001b[1;32m     63\u001b[0m result_array \u001b[38;5;241m=\u001b[39m np\u001b[38;5;241m.\u001b[39mzeros((\u001b[38;5;28mlen\u001b[39m(groups), \u001b[38;5;28mlen\u001b[39m(sfuncs)))\n\u001b[1;32m     64\u001b[0m group_sep \u001b[38;5;241m=\u001b[39m reorder(_tmp_array, rawarray\u001b[38;5;241m=\u001b[39marray[:, \u001b[38;5;28mlist\u001b[39m(unique_cols)], groups\u001b[38;5;241m=\u001b[39mgroups)\n\u001b[0;32m---> 65\u001b[0m \u001b[43mapply\u001b[49m\u001b[43m(\u001b[49m\u001b[43m_tmp_array\u001b[49m\u001b[43m,\u001b[49m\u001b[43m \u001b[49m\u001b[43mresult_array\u001b[49m\u001b[43m,\u001b[49m\u001b[43m \u001b[49m\u001b[43mgroup_sep\u001b[49m\u001b[43m,\u001b[49m\u001b[43m \u001b[49m\u001b[43msfuncs\u001b[49m\u001b[43m)\u001b[49m\n\u001b[1;32m     66\u001b[0m \u001b[38;5;66;03m# Your existing result handling code\u001b[39;00m\n",
      "File \u001b[0;32m~/.pyenv/versions/3.12.2/lib/python3.12/site-packages/numba/core/dispatcher.py:468\u001b[0m, in \u001b[0;36m_DispatcherBase._compile_for_args\u001b[0;34m(self, *args, **kws)\u001b[0m\n\u001b[1;32m    464\u001b[0m         msg \u001b[38;5;241m=\u001b[39m (\u001b[38;5;124mf\u001b[39m\u001b[38;5;124m\"\u001b[39m\u001b[38;5;132;01m{\u001b[39;00m\u001b[38;5;28mstr\u001b[39m(e)\u001b[38;5;241m.\u001b[39mrstrip()\u001b[38;5;132;01m}\u001b[39;00m\u001b[38;5;124m \u001b[39m\u001b[38;5;130;01m\\n\u001b[39;00m\u001b[38;5;130;01m\\n\u001b[39;00m\u001b[38;5;124mThis error may have been caused \u001b[39m\u001b[38;5;124m\"\u001b[39m\n\u001b[1;32m    465\u001b[0m                \u001b[38;5;124mf\u001b[39m\u001b[38;5;124m\"\u001b[39m\u001b[38;5;124mby the following argument(s):\u001b[39m\u001b[38;5;130;01m\\n\u001b[39;00m\u001b[38;5;132;01m{\u001b[39;00margs_str\u001b[38;5;132;01m}\u001b[39;00m\u001b[38;5;130;01m\\n\u001b[39;00m\u001b[38;5;124m\"\u001b[39m)\n\u001b[1;32m    466\u001b[0m         e\u001b[38;5;241m.\u001b[39mpatch_message(msg)\n\u001b[0;32m--> 468\u001b[0m     \u001b[43merror_rewrite\u001b[49m\u001b[43m(\u001b[49m\u001b[43me\u001b[49m\u001b[43m,\u001b[49m\u001b[43m \u001b[49m\u001b[38;5;124;43m'\u001b[39;49m\u001b[38;5;124;43mtyping\u001b[39;49m\u001b[38;5;124;43m'\u001b[39;49m\u001b[43m)\u001b[49m\n\u001b[1;32m    469\u001b[0m \u001b[38;5;28;01mexcept\u001b[39;00m errors\u001b[38;5;241m.\u001b[39mUnsupportedError \u001b[38;5;28;01mas\u001b[39;00m e:\n\u001b[1;32m    470\u001b[0m     \u001b[38;5;66;03m# Something unsupported is present in the user code, add help info\u001b[39;00m\n\u001b[1;32m    471\u001b[0m     error_rewrite(e, \u001b[38;5;124m'\u001b[39m\u001b[38;5;124munsupported_error\u001b[39m\u001b[38;5;124m'\u001b[39m)\n",
      "File \u001b[0;32m~/.pyenv/versions/3.12.2/lib/python3.12/site-packages/numba/core/dispatcher.py:409\u001b[0m, in \u001b[0;36m_DispatcherBase._compile_for_args.<locals>.error_rewrite\u001b[0;34m(e, issue_type)\u001b[0m\n\u001b[1;32m    407\u001b[0m     \u001b[38;5;28;01mraise\u001b[39;00m e\n\u001b[1;32m    408\u001b[0m \u001b[38;5;28;01melse\u001b[39;00m:\n\u001b[0;32m--> 409\u001b[0m     \u001b[38;5;28;01mraise\u001b[39;00m e\u001b[38;5;241m.\u001b[39mwith_traceback(\u001b[38;5;28;01mNone\u001b[39;00m)\n",
      "\u001b[0;31mTypingError\u001b[0m: Failed in nopython mode pipeline (step: nopython frontend)\nUntyped global name 'func_dict': Cannot determine Numba type of <class 'dict'>\n\nFile \"../../../../tmp/ipykernel_216863/1246074749.py\", line 43:\n<source missing, REPL/exec in use?>\n"
     ]
    }
   ],
   "source": [
    "\n",
    "@nb.jit\n",
    "def jcustom_sum(array):\n",
    "    return np.sum(array)\n",
    "\n",
    "@nb.jit\n",
    "def jcustom_mean(array):\n",
    "    return np.mean(array)\n",
    "\n",
    "@nb.jit\n",
    "def jcustom_max(array):\n",
    "    return np.max(array)\n",
    "\n",
    "@nb.jit(nopython=True, parallel=True)\n",
    "def reorder(_tmp_array, rawarray, groups):\n",
    "    n = len(groups)\n",
    "    farray = np.zeros(len(groups) + 1, dtype=nb.int32)\n",
    "    c = 0\n",
    "    for j in nb.prange(n):\n",
    "        m = len(groups[j])\n",
    "        for i in nb.prange(m):\n",
    "            _tmp_array[c] = rawarray[groups[j][i]]\n",
    "            c += 1\n",
    "        farray[j + 1] = c\n",
    "    return farray\n",
    "\n",
    "\n",
    "\n",
    "# Dictionary of JIT-compiled functions\n",
    "func_dict = {\n",
    "    'sum': jcustom_sum,\n",
    "    'mean': jcustom_mean,\n",
    "    'max': jcustom_max\n",
    "}\n",
    "\n",
    "@nb.jit(nopython=True, parallel=True)\n",
    "def apply(_tmp_array, result_array, group_sep, func_keys):\n",
    "    n = len(group_sep) - 1\n",
    "    m = len(func_keys)\n",
    "    for j in nb.prange(n):\n",
    "        select = _tmp_array[group_sep[j]:group_sep[j+1]]\n",
    "        for k in nb.prange(m):\n",
    "            func_key = func_keys[k]\n",
    "            result_array[j, k] = func_dict[func_key](select)\n",
    "\n",
    "pdtype = {}\n",
    "sfuncs = []\n",
    "scols = []\n",
    "for cols, func_list in col_func_map.items():\n",
    "    # Your existing code to get col_idx and dtype\n",
    "    scols, sfuncs = pdtype.get(dtype, [[], []])\n",
    "    for func in func_list:\n",
    "        scols.append(col_idx)\n",
    "        sfuncs.append(func.__name__)  # Append the function name as a string\n",
    "    pdtype[dtype] = [scols, sfuncs]\n",
    "\n",
    "for dtype, (scols, sfuncs) in pdtype.items():\n",
    "    # Getting unique columns to avoid repetition\n",
    "    unique_cols = set(col for sublist in scols for col in sublist)\n",
    "    n, k = len(array), len(unique_cols)\n",
    "    \n",
    "    # Create a temporary array for contiguous memory\n",
    "    _tmp_array = np.zeros((n, k), dtype=dtype)\n",
    "    result_array = np.zeros((len(groups), len(sfuncs)))\n",
    "    group_sep = reorder(_tmp_array, rawarray=array[:, list(unique_cols)], groups=groups)\n",
    "    apply(_tmp_array, result_array, group_sep, sfuncs)\n",
    "    # Your existing result handling code\n"
   ]
  },
  {
   "cell_type": "code",
   "execution_count": 84,
   "id": "14a4c365-25f6-468a-a8a3-bea4d5e2adf9",
   "metadata": {},
   "outputs": [
    {
     "name": "stdout",
     "output_type": "stream",
     "text": [
      "A\n",
      "E\n"
     ]
    },
    {
     "ename": "TypingError",
     "evalue": "Failed in nopython mode pipeline (step: nopython frontend)\nNo implementation of function Function(<class 'enumerate'>) found for signature:\n \n >>> enumerate(int64)\n \nThere are 2 candidate implementations:\n  - Of which 2 did not match due to:\n  Overload of function 'enumerate': File: numba/core/typing/builtins.py: Line 1042.\n    With argument(s): '(int64)':\n   No match.\n\nDuring: resolving callee type: Function(<class 'enumerate'>)\nDuring: typing of call at /tmp/ipykernel_216863/2214971155.py (51)\n\n\nFile \"../../../../tmp/ipykernel_216863/2214971155.py\", line 51:\n<source missing, REPL/exec in use?>\n",
     "output_type": "error",
     "traceback": [
      "\u001b[0;31m---------------------------------------------------------------------------\u001b[0m",
      "\u001b[0;31mTypingError\u001b[0m                               Traceback (most recent call last)",
      "Cell \u001b[0;32mIn[84], line 108\u001b[0m\n\u001b[1;32m    106\u001b[0m array \u001b[38;5;241m=\u001b[39m array\u001b[38;5;241m.\u001b[39mastype(np\u001b[38;5;241m.\u001b[39mfloat32)\n\u001b[1;32m    107\u001b[0m \u001b[38;5;66;03m# Timing the operation\u001b[39;00m\n\u001b[0;32m--> 108\u001b[0m result \u001b[38;5;241m=\u001b[39m \u001b[43mgroup_result\u001b[49m\u001b[43m(\u001b[49m\u001b[43marray\u001b[49m\u001b[43m,\u001b[49m\u001b[43m \u001b[49m\u001b[43mgroups\u001b[49m\u001b[43m,\u001b[49m\u001b[43m \u001b[49m\u001b[43mcolumn_indices\u001b[49m\u001b[43m,\u001b[49m\u001b[43m \u001b[49m\u001b[43mfuncs\u001b[49m\u001b[43m)\u001b[49m\n",
      "File \u001b[0;32m~/.pyenv/versions/3.12.2/lib/python3.12/site-packages/numba/core/dispatcher.py:468\u001b[0m, in \u001b[0;36m_DispatcherBase._compile_for_args\u001b[0;34m(self, *args, **kws)\u001b[0m\n\u001b[1;32m    464\u001b[0m         msg \u001b[38;5;241m=\u001b[39m (\u001b[38;5;124mf\u001b[39m\u001b[38;5;124m\"\u001b[39m\u001b[38;5;132;01m{\u001b[39;00m\u001b[38;5;28mstr\u001b[39m(e)\u001b[38;5;241m.\u001b[39mrstrip()\u001b[38;5;132;01m}\u001b[39;00m\u001b[38;5;124m \u001b[39m\u001b[38;5;130;01m\\n\u001b[39;00m\u001b[38;5;130;01m\\n\u001b[39;00m\u001b[38;5;124mThis error may have been caused \u001b[39m\u001b[38;5;124m\"\u001b[39m\n\u001b[1;32m    465\u001b[0m                \u001b[38;5;124mf\u001b[39m\u001b[38;5;124m\"\u001b[39m\u001b[38;5;124mby the following argument(s):\u001b[39m\u001b[38;5;130;01m\\n\u001b[39;00m\u001b[38;5;132;01m{\u001b[39;00margs_str\u001b[38;5;132;01m}\u001b[39;00m\u001b[38;5;130;01m\\n\u001b[39;00m\u001b[38;5;124m\"\u001b[39m)\n\u001b[1;32m    466\u001b[0m         e\u001b[38;5;241m.\u001b[39mpatch_message(msg)\n\u001b[0;32m--> 468\u001b[0m     \u001b[43merror_rewrite\u001b[49m\u001b[43m(\u001b[49m\u001b[43me\u001b[49m\u001b[43m,\u001b[49m\u001b[43m \u001b[49m\u001b[38;5;124;43m'\u001b[39;49m\u001b[38;5;124;43mtyping\u001b[39;49m\u001b[38;5;124;43m'\u001b[39;49m\u001b[43m)\u001b[49m\n\u001b[1;32m    469\u001b[0m \u001b[38;5;28;01mexcept\u001b[39;00m errors\u001b[38;5;241m.\u001b[39mUnsupportedError \u001b[38;5;28;01mas\u001b[39;00m e:\n\u001b[1;32m    470\u001b[0m     \u001b[38;5;66;03m# Something unsupported is present in the user code, add help info\u001b[39;00m\n\u001b[1;32m    471\u001b[0m     error_rewrite(e, \u001b[38;5;124m'\u001b[39m\u001b[38;5;124munsupported_error\u001b[39m\u001b[38;5;124m'\u001b[39m)\n",
      "File \u001b[0;32m~/.pyenv/versions/3.12.2/lib/python3.12/site-packages/numba/core/dispatcher.py:409\u001b[0m, in \u001b[0;36m_DispatcherBase._compile_for_args.<locals>.error_rewrite\u001b[0;34m(e, issue_type)\u001b[0m\n\u001b[1;32m    407\u001b[0m     \u001b[38;5;28;01mraise\u001b[39;00m e\n\u001b[1;32m    408\u001b[0m \u001b[38;5;28;01melse\u001b[39;00m:\n\u001b[0;32m--> 409\u001b[0m     \u001b[38;5;28;01mraise\u001b[39;00m e\u001b[38;5;241m.\u001b[39mwith_traceback(\u001b[38;5;28;01mNone\u001b[39;00m)\n",
      "\u001b[0;31mTypingError\u001b[0m: Failed in nopython mode pipeline (step: nopython frontend)\nNo implementation of function Function(<class 'enumerate'>) found for signature:\n \n >>> enumerate(int64)\n \nThere are 2 candidate implementations:\n  - Of which 2 did not match due to:\n  Overload of function 'enumerate': File: numba/core/typing/builtins.py: Line 1042.\n    With argument(s): '(int64)':\n   No match.\n\nDuring: resolving callee type: Function(<class 'enumerate'>)\nDuring: typing of call at /tmp/ipykernel_216863/2214971155.py (51)\n\n\nFile \"../../../../tmp/ipykernel_216863/2214971155.py\", line 51:\n<source missing, REPL/exec in use?>\n"
     ]
    }
   ],
   "source": [
    "import numpy as np\n",
    "import pandas as pd\n",
    "import numba as nb\n",
    "\n",
    "# Helper function to slice the array based on provided indices\n",
    "def slice(array, indices):\n",
    "    return array[indices]\n",
    "\n",
    "@nb.jit(nb.types.float32(nb.types.float32[:]), nopython=True)\n",
    "def jcustom_sum(array):\n",
    "    return np.sum(array)\n",
    "\n",
    "@nb.jit(nb.types.float32(nb.types.float32[:]), nopython=True)\n",
    "def jcustom_mean(array):\n",
    "    return np.mean(array)\n",
    "\n",
    "@nb.jit(nb.types.float32(nb.types.float32[:]), nopython=True)\n",
    "def jcustom_max(array):\n",
    "    return np.max(array)\n",
    "\n",
    "col_func_map = {\n",
    "    'A': [jcustom_sum, jcustom_mean],\n",
    "    'B': [jcustom_max],\n",
    "    ('A', 'B'): ['max']\n",
    "    # Add more mappings as needed\n",
    "}\n",
    "\n",
    "# Define a single aggregation function with a flag\n",
    "@nb.jit(nb.types.float32(nb.types.float32[:], nb.types.unicode_type), nopython=True)\n",
    "def aggregate(array, operation):\n",
    "    if operation == 0:\n",
    "        return jcustom_sum(array)\n",
    "    elif operation == 1:\n",
    "        return jcustom_mean(array)\n",
    "    elif operation == 2:\n",
    "        return jcustom_max(array)\n",
    "    # Add more operations as needed\n",
    "    else:\n",
    "        raise ValueError(\"Unsupported operation\")\n",
    "\n",
    "# Modified group_result to handle multiple columns and functions\n",
    "@nb.njit(parallel=True)\n",
    "def group_result(array, groups, column_indices, funcs):\n",
    "    num_groups = len(groups)\n",
    "    num_funcs = len(funcs)\n",
    "    result = np.empty((num_groups, len(column_indices) * num_funcs)).astype(np.float32)\n",
    "\n",
    "    for j, col_idx in enumerate(column_indices):\n",
    "        trunc_col = array[:, col_idx]\n",
    "        for k, func in enumerate(funcs[j]):\n",
    "            for i, gidx in enumerate(num_groups):\n",
    "                \n",
    "                    result_idx = j * num_funcs + k\n",
    "                    result[i, result_idx] = aggregate(trunc_col[gidx], func)\n",
    "\n",
    "    return result\n",
    "\n",
    "# Example usage:\n",
    "df = pd.DataFrame(np.random.randn(100000, 4), columns=['A', 'B', 'C', 'D']).astype(np.float32)\n",
    "df['E'] = df['A'].apply(lambda x: 1 if x < -2 else 2 if x < -1 else 3 if x < 0 else 4 if x < 2 else 5)\n",
    "array = df.to_numpy()\n",
    "\n",
    "# Group indices\n",
    "groups = [group.to_numpy() for group in df.groupby('E').groups.values()]\n",
    "\n",
    "# def custom_sum(x):\n",
    "#     return np.sum(x)\n",
    "\n",
    "# def custom_mean(x):\n",
    "#     return np.mean(x)\n",
    "\n",
    "# def custom_max(x):\n",
    "#     return np.max(x)\n",
    "\n",
    "# Define custom aggregation functions\n",
    "\n",
    "\n",
    "\n",
    "# Define the column-function mapping with custom functions\n",
    "col_func_map = {\n",
    "    'A': [jcustom_sum, jcustom_mean],\n",
    "    'B': [jcustom_max]\n",
    "    # Add more mappings as needed\n",
    "}\n",
    "\n",
    "\n",
    "# Define the column-function mapping with custom functions\n",
    "col_func_map = {\n",
    "    'A': ['max', 'mean'],\n",
    "    'B': ['sum']\n",
    "    # Add more mappings as needed\n",
    "}\n",
    "\n",
    "# Prepare column indices and functions for JIT\n",
    "column_indices = []\n",
    "funcs = []\n",
    "\n",
    "for col, func_list in col_func_map.items():\n",
    "    col_idx = np.int8(df.columns.get_loc(col))\n",
    "    column_indices.append(col_idx)\n",
    "    # jit_funcs = [nb.jit(f) for f in func_list]\n",
    "    funcs.append(func_list)\n",
    "\n",
    "# Execute the computation\n",
    "# result = group_result(array, groups, column_indices, funcs)\n",
    "array = array.astype(np.float32)\n",
    "# Timing the operation\n",
    "result = group_result(array, groups, column_indices, funcs)\n"
   ]
  },
  {
   "cell_type": "code",
   "execution_count": 77,
   "id": "90b090d7-eefc-4e41-9807-0e2c64023b1b",
   "metadata": {},
   "outputs": [
    {
     "data": {
      "text/plain": [
       "[0, 1]"
      ]
     },
     "execution_count": 77,
     "metadata": {},
     "output_type": "execute_result"
    }
   ],
   "source": [
    "column_indices"
   ]
  },
  {
   "cell_type": "code",
   "execution_count": null,
   "id": "496f1cc2-a6fc-42bf-b7b6-5046d4723e08",
   "metadata": {},
   "outputs": [],
   "source": [
    "def agg_sum(x):\n",
    "    return np.sum(x)\n",
    "\n",
    "\n",
    "df.apply(agg_sum, axis=0)"
   ]
  },
  {
   "cell_type": "code",
   "execution_count": null,
   "id": "97f37502-8684-462a-9b14-4a7627cd4389",
   "metadata": {},
   "outputs": [],
   "source": [
    "df.apply(lambda x: np.sum(x))"
   ]
  },
  {
   "cell_type": "code",
   "execution_count": null,
   "id": "680e4790-7d37-4265-94d1-188bf29748d1",
   "metadata": {},
   "outputs": [],
   "source": [
    "df.apply(lambda x: np.sum(x))"
   ]
  },
  {
   "cell_type": "code",
   "execution_count": null,
   "id": "34de29fe-4003-48e0-b991-db9d7a6f2404",
   "metadata": {},
   "outputs": [],
   "source": [
    "df.groupby('A').apply(agg_sum)"
   ]
  },
  {
   "cell_type": "code",
   "execution_count": null,
   "id": "bf0ff474-ceb5-4342-a56b-840676c2f05c",
   "metadata": {},
   "outputs": [],
   "source": [
    "df = pdo.DataFrame(np.random.randn(10000, 4), columns=['A', 'B', 'C', 'D'])#.astype(np.float32)\n",
    "type(df)"
   ]
  },
  {
   "cell_type": "code",
   "execution_count": null,
   "id": "0627c2e9-4a3b-424a-8950-7690375b3039",
   "metadata": {},
   "outputs": [],
   "source": [
    "type(df[['A', 'B']])"
   ]
  },
  {
   "cell_type": "code",
   "execution_count": null,
   "id": "bbf7789c-ebed-4016-815e-a02be7757ec5",
   "metadata": {},
   "outputs": [],
   "source": [
    "df.dtypes"
   ]
  },
  {
   "cell_type": "code",
   "execution_count": null,
   "id": "c641ba57-fe58-4c15-a7c7-932f442ec444",
   "metadata": {},
   "outputs": [],
   "source": [
    "print(type(df), type(df[['A']]))\n",
    "type(df.apply(np.sum))"
   ]
  },
  {
   "cell_type": "code",
   "execution_count": null,
   "id": "281832f6-2e95-4326-a1b9-0ad74de153b6",
   "metadata": {},
   "outputs": [],
   "source": [
    "def qqq(x):\n",
    "    return np.sum(x)\n",
    "\n",
    "def zzz(x):\n",
    "    return x[\"A\"]\n",
    "\n",
    "df.apply(zzz, axis=1)\n",
    "\n",
    "#df[['A', 'B']].apply(apb, axis=1)\n"
   ]
  },
  {
   "cell_type": "code",
   "execution_count": null,
   "id": "b71487f7-b4d5-42e9-a7e5-4e7f271c0c41",
   "metadata": {},
   "outputs": [],
   "source": []
  },
  {
   "cell_type": "code",
   "execution_count": null,
   "id": "8c08e300-f50c-4631-b2a0-1b51ac51979f",
   "metadata": {},
   "outputs": [],
   "source": [
    "    arr_slice = df[['Client', 'Month']].values\n",
    "    lidx = np.ravel_multi_index(arr_slice.T,arr_slice.max(0)+1)\n",
    "    unq,unqtags,counts = np.unique(lidx,return_inverse=True,return_counts=True)\n",
    "    df[\"Nbcontrats\"] = counts[unqtags]"
   ]
  },
  {
   "cell_type": "code",
   "execution_count": null,
   "id": "cae88fe2-910e-43dd-9cb1-f1510de552b9",
   "metadata": {},
   "outputs": [],
   "source": [
    "df=pa,das"
   ]
  },
  {
   "cell_type": "code",
   "execution_count": null,
   "id": "7d665b66-4544-486f-8be4-786c91824212",
   "metadata": {},
   "outputs": [],
   "source": [
    "    arr_slice = df[['Client', 'Month']].values\n",
    "    lidx = np.ravel_multi_index(arr_slice.T,arr_slice.max(0)+1)\n",
    "    unq,unqtags,counts = np.unique(lidx,return_inverse=True,return_counts=True)\n",
    "    df[\"Nbcontrats\"] = counts[unqtags]"
   ]
  }
 ],
 "metadata": {
  "kernelspec": {
   "display_name": "Python 3 (ipykernel)",
   "language": "python",
   "name": "python3"
  },
  "language_info": {
   "codemirror_mode": {
    "name": "ipython",
    "version": 3
   },
   "file_extension": ".py",
   "mimetype": "text/x-python",
   "name": "python",
   "nbconvert_exporter": "python",
   "pygments_lexer": "ipython3",
   "version": "3.12.2"
  }
 },
 "nbformat": 4,
 "nbformat_minor": 5
}
