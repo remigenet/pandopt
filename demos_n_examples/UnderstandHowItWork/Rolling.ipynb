{
 "cells": [
  {
   "cell_type": "markdown",
   "id": "1cfb9f1b-acbe-4dcc-a9c3-51bb297519a3",
   "metadata": {},
   "source": [
    "# Understanding how the follwing works :"
   ]
  },
  {
   "cell_type": "code",
   "execution_count": 1,
   "id": "ee8d899b-1646-44bb-a166-a7e86181afdd",
   "metadata": {},
   "outputs": [],
   "source": [
    "import numpy as np\n",
    "import numba as nb\n",
    "import pandas as pd\n",
    "import logging\n",
    "from typing import Callable, Type, Dict, Tuple, Any\n",
    "from numpy.lib.stride_tricks import sliding_window_view\n",
    "from IPython.display import display"
   ]
  },
  {
   "cell_type": "code",
   "execution_count": 2,
   "id": "b9e6e919-6e66-4a0a-91cd-5a748ba0218e",
   "metadata": {},
   "outputs": [],
   "source": [
    "arr = np.random.randn(100_000,6).astype(np.float32)"
   ]
  },
  {
   "cell_type": "markdown",
   "id": "266c4482-96a6-4d35-81f8-9647a17654ba",
   "metadata": {},
   "source": [
    "sliding_window_view creates a view on the initial array enabling to not need any copy here"
   ]
  },
  {
   "cell_type": "code",
   "execution_count": 5,
   "id": "f21ec160-a1d7-46af-9251-638cbfbd8f6d",
   "metadata": {},
   "outputs": [],
   "source": [
    "window=30\n",
    "\n",
    "data = sliding_window_view(arr, window, axis=0)\n",
    "\n",
    "df = pd.DataFrame(arr, columns = ['A', 'B', 'C', 'D', 'E', 'F'])"
   ]
  },
  {
   "cell_type": "markdown",
   "id": "c56db86c-5725-40de-9387-5e2f5be82292",
   "metadata": {},
   "source": [
    "# Standard case - summing axis = 0 : The aggregation is performed over each columns independantly, it is the only mode available in pandas currently "
   ]
  },
  {
   "cell_type": "code",
   "execution_count": 56,
   "id": "5edbc43f-d585-4409-a877-9190c118f88e",
   "metadata": {},
   "outputs": [],
   "source": [
    "def agg_sum(x):\n",
    "    return np.sum(x)\n",
    "\n",
    "@nb.njit(nb.float32(nb.float32[:]), cache=True, fastmath=False, forceinline=True, looplift=True, inline='always', target_backend='host', nogil=True)\n",
    "def agg_sumba(x):\n",
    "    return np.sum(x)\n",
    "\n",
    "@nb.njit((nb.float32[:, :], nb.float32[:, :],nb.types.uint32,nb.types.uint32), cache=True, fastmath=True, forceinline=True, looplift=True, inline='always', target_backend='host', nogil=True)\n",
    "def vl(z, r, i, m):\n",
    "    for j in nb.prange(m):\n",
    "        r[i, j] = agg_sumba(z[j, :])\n",
    "\n",
    "\n",
    "@nb.njit((nb.types.Array(nb.types.float32, 3, 'A', readonly=True), nb.float32[:, :],nb.types.uint32, nb.types.uint32), cache=True, parallel=True, fastmath=True, forceinline=True, looplift=True, inline='always', target_backend='host', no_cfunc_wrapper=True, no_rewrites=True, nogil=True)\n",
    "def cvlopt(z, r, n, m):\n",
    "    for i in nb.prange(n):\n",
    "        vl(z[i,:,:], r, i, m)\n",
    "\n",
    "def vlopt(arr, window):\n",
    "    cvlopt(sliding_window_view(arr, window, axis=0), r:=np.empty((n:=arr.shape[0]- window + 1, m:=arr.shape[1]), dtype=np.float32), np.uint32(n), np.uint32(m))\n",
    "    return r\n",
    "\n",
    "display(pd.DataFrame(vlopt(df.to_numpy(), window)))\n",
    "display(df.rolling(window).sum())"
   ]
  },
  {
   "cell_type": "code",
   "execution_count": 62,
   "id": "7df39658-527a-4ab1-b493-9bcce8e94aea",
   "metadata": {},
   "outputs": [
    {
     "name": "stdout",
     "output_type": "stream",
     "text": [
      "86 µs ± 985 ns per loop (mean ± std. dev. of 7 runs, 10,000 loops each)\n",
      "209 ms ± 785 µs per loop (mean ± std. dev. of 7 runs, 1 loop each)\n",
      "262 µs ± 4.17 µs per loop (mean ± std. dev. of 7 runs, 1,000 loops each)\n"
     ]
    }
   ],
   "source": [
    "\n",
    "%timeit vlopt(df.to_numpy(), window)\n",
    "%timeit df.rolling(window).apply(lambda x: agg_sum(x))\n",
    "%timeit df.rolling(window).sum()"
   ]
  },
  {
   "cell_type": "markdown",
   "id": "051c2360-6aa0-4de8-bbd3-8acf4bdc9e33",
   "metadata": {},
   "source": [
    "### Obtained performance outperforms specialized function of pandas while allowing for any custom aggregation function, which would lead to terrible performance using the standard pandas apply as seen above"
   ]
  },
  {
   "cell_type": "markdown",
   "id": "e809b728-c284-4a97-a5f1-57c5439cdd57",
   "metadata": {},
   "source": [
    "# Function with multiple columns "
   ]
  },
  {
   "cell_type": "code",
   "execution_count": 39,
   "id": "1cba7a04-2786-475c-8d90-38a907fc0da1",
   "metadata": {},
   "outputs": [
    {
     "data": {
      "text/html": [
       "<div>\n",
       "<style scoped>\n",
       "    .dataframe tbody tr th:only-of-type {\n",
       "        vertical-align: middle;\n",
       "    }\n",
       "\n",
       "    .dataframe tbody tr th {\n",
       "        vertical-align: top;\n",
       "    }\n",
       "\n",
       "    .dataframe thead th {\n",
       "        text-align: right;\n",
       "    }\n",
       "</style>\n",
       "<table border=\"1\" class=\"dataframe\">\n",
       "  <thead>\n",
       "    <tr style=\"text-align: right;\">\n",
       "      <th></th>\n",
       "      <th>0</th>\n",
       "    </tr>\n",
       "  </thead>\n",
       "  <tbody>\n",
       "    <tr>\n",
       "      <th>0</th>\n",
       "      <td>-0.452091</td>\n",
       "    </tr>\n",
       "    <tr>\n",
       "      <th>1</th>\n",
       "      <td>-0.425316</td>\n",
       "    </tr>\n",
       "    <tr>\n",
       "      <th>2</th>\n",
       "      <td>-0.374303</td>\n",
       "    </tr>\n",
       "    <tr>\n",
       "      <th>3</th>\n",
       "      <td>-0.374494</td>\n",
       "    </tr>\n",
       "    <tr>\n",
       "      <th>4</th>\n",
       "      <td>-0.388132</td>\n",
       "    </tr>\n",
       "    <tr>\n",
       "      <th>...</th>\n",
       "      <td>...</td>\n",
       "    </tr>\n",
       "    <tr>\n",
       "      <th>99966</th>\n",
       "      <td>-0.517406</td>\n",
       "    </tr>\n",
       "    <tr>\n",
       "      <th>99967</th>\n",
       "      <td>-0.475784</td>\n",
       "    </tr>\n",
       "    <tr>\n",
       "      <th>99968</th>\n",
       "      <td>-0.518359</td>\n",
       "    </tr>\n",
       "    <tr>\n",
       "      <th>99969</th>\n",
       "      <td>-0.462582</td>\n",
       "    </tr>\n",
       "    <tr>\n",
       "      <th>99970</th>\n",
       "      <td>-0.458891</td>\n",
       "    </tr>\n",
       "  </tbody>\n",
       "</table>\n",
       "<p>99971 rows × 1 columns</p>\n",
       "</div>"
      ],
      "text/plain": [
       "              0\n",
       "0     -0.452091\n",
       "1     -0.425316\n",
       "2     -0.374303\n",
       "3     -0.374494\n",
       "4     -0.388132\n",
       "...         ...\n",
       "99966 -0.517406\n",
       "99967 -0.475784\n",
       "99968 -0.518359\n",
       "99969 -0.462582\n",
       "99970 -0.458891\n",
       "\n",
       "[99971 rows x 1 columns]"
      ]
     },
     "metadata": {},
     "output_type": "display_data"
    },
    {
     "data": {
      "text/plain": [
       "0             NaN\n",
       "1             NaN\n",
       "2             NaN\n",
       "3             NaN\n",
       "4             NaN\n",
       "           ...   \n",
       "99995   -0.526344\n",
       "99996   -0.484738\n",
       "99997   -0.527226\n",
       "99998   -0.471530\n",
       "99999   -0.467814\n",
       "Length: 100000, dtype: float64"
      ]
     },
     "metadata": {},
     "output_type": "display_data"
    }
   ],
   "source": [
    "def func_base(x):\n",
    "    return np.mean(x['A'] * x['C']) - np.std(x['B'] / 2)\n",
    "\n",
    "#transfcoder jobs to transform columns name as this\n",
    "@nb.njit(nb.float32(nb.types.Array(nb.types.float32, 2, 'A', readonly=True)), cache=True, fastmath=False, forceinline=True, looplift=True, inline='always', target_backend='host', nogil=True)\n",
    "def func_modified(x):\n",
    "    return np.mean(x[0, :] * x[2, :]) - np.std(x[1, :] / 2)\n",
    "\n",
    "@nb.njit((nb.types.Array(nb.types.float32, 3, 'A', readonly=True), nb.float32[:],nb.types.uint32), cache=True, parallel=True, fastmath=True, forceinline=True, looplift=True, inline='always', target_backend='host', no_cfunc_wrapper=True, no_rewrites=True, nogil=True)\n",
    "def cvlopt(z, r, n):\n",
    "    for i in nb.prange(n):\n",
    "        r[i] = func_modified(z[i,:,:])\n",
    "\n",
    "def vlopt(arr, window):\n",
    "    cvlopt(sliding_window_view(arr, window, axis=0), r:=np.empty(n:=arr.shape[0]- window + 1, dtype=np.float32), np.uint32(n))\n",
    "    return r\n",
    "\n",
    "display(pd.DataFrame(vlopt(df.to_numpy(), window)))\n",
    "display((df['A'] * df['C']).rolling(window).mean() - (df['B'] / 2).rolling(window).std())"
   ]
  },
  {
   "cell_type": "markdown",
   "id": "8358c7fb-2da3-4a59-bce3-84a6dc0df30e",
   "metadata": {},
   "source": [
    "### The slight difference above come from the difference of standard deviation between pandas and numpy, where pandas used the unbiased estimator whereas numpy does not.\n",
    "Bellow the proof of equality with same metric used"
   ]
  },
  {
   "cell_type": "code",
   "execution_count": 40,
   "id": "fcdadada-52ea-4e21-9263-6f8d422d6733",
   "metadata": {},
   "outputs": [
    {
     "data": {
      "text/plain": [
       "29      -0.452091\n",
       "30      -0.425316\n",
       "31      -0.374303\n",
       "32      -0.374494\n",
       "33      -0.388132\n",
       "           ...   \n",
       "99995   -0.517406\n",
       "99996   -0.475784\n",
       "99997   -0.518359\n",
       "99998   -0.462582\n",
       "99999   -0.458891\n",
       "Length: 99971, dtype: float64"
      ]
     },
     "metadata": {},
     "output_type": "display_data"
    }
   ],
   "source": [
    "display(((df['A'] * df['C']).rolling(window).mean() - (df['B'] / 2).rolling(window).apply(lambda x: np.std(x))).dropna())"
   ]
  },
  {
   "cell_type": "markdown",
   "id": "c9d13ebf-799b-456c-b80d-f20d5c6f30bd",
   "metadata": {},
   "source": [
    "## and so the performance"
   ]
  },
  {
   "cell_type": "code",
   "execution_count": 41,
   "id": "5f86aac4-9424-4877-83aa-dd27fbc8e46f",
   "metadata": {},
   "outputs": [
    {
     "name": "stdout",
     "output_type": "stream",
     "text": [
      "1.09 ms ± 5.7 µs per loop (mean ± std. dev. of 7 runs, 1,000 loops each)\n",
      "466 ms ± 2.27 ms per loop (mean ± std. dev. of 7 runs, 1 loop each)\n",
      "2.9 ms ± 22.3 µs per loop (mean ± std. dev. of 7 runs, 100 loops each)\n",
      "5.39 s ± 27.9 ms per loop (mean ± std. dev. of 7 runs, 1 loop each)\n"
     ]
    }
   ],
   "source": [
    "%timeit vlopt(arr, window)\n",
    "%timeit df.apply(lambda x: x['A'] * x['C'], axis = 1).rolling(window).mean() - (df['B'] / 2).rolling(window).std()\n",
    "%timeit ((df['A'] * df['C']).rolling(window).mean() - (df['B'] / 2).rolling(window).std()).dropna()\n",
    "%timeit ((df['A'] * df['C']).rolling(window).mean() - (df['B'] / 2).rolling(window).apply(lambda x: np.std(x))).dropna()"
   ]
  },
  {
   "cell_type": "markdown",
   "id": "5c6c4d40-91ff-41d2-ad64-8d974948d87f",
   "metadata": {},
   "source": [
    "## and thus we show how the new method can improved readability of rolling aggregation while in the meatime improve greatly the performance and flexibility"
   ]
  },
  {
   "cell_type": "markdown",
   "id": "3bcf0b7b-1517-44d6-8953-32c15127b8d3",
   "metadata": {},
   "source": [
    "# Aggregation example"
   ]
  },
  {
   "cell_type": "code",
   "execution_count": 49,
   "id": "4cdf39d0-204e-4f12-81e7-75c3453b1b1e",
   "metadata": {
    "scrolled": true
   },
   "outputs": [
    {
     "data": {
      "text/html": [
       "<div>\n",
       "<style scoped>\n",
       "    .dataframe tbody tr th:only-of-type {\n",
       "        vertical-align: middle;\n",
       "    }\n",
       "\n",
       "    .dataframe tbody tr th {\n",
       "        vertical-align: top;\n",
       "    }\n",
       "\n",
       "    .dataframe thead th {\n",
       "        text-align: right;\n",
       "    }\n",
       "</style>\n",
       "<table border=\"1\" class=\"dataframe\">\n",
       "  <thead>\n",
       "    <tr style=\"text-align: right;\">\n",
       "      <th></th>\n",
       "      <th>0</th>\n",
       "      <th>1</th>\n",
       "    </tr>\n",
       "  </thead>\n",
       "  <tbody>\n",
       "    <tr>\n",
       "      <th>0</th>\n",
       "      <td>-0.452091</td>\n",
       "      <td>-0.607906</td>\n",
       "    </tr>\n",
       "    <tr>\n",
       "      <th>1</th>\n",
       "      <td>-0.425316</td>\n",
       "      <td>-3.129244</td>\n",
       "    </tr>\n",
       "    <tr>\n",
       "      <th>2</th>\n",
       "      <td>-0.374303</td>\n",
       "      <td>-0.079888</td>\n",
       "    </tr>\n",
       "    <tr>\n",
       "      <th>3</th>\n",
       "      <td>-0.374494</td>\n",
       "      <td>0.006210</td>\n",
       "    </tr>\n",
       "    <tr>\n",
       "      <th>4</th>\n",
       "      <td>-0.388132</td>\n",
       "      <td>-0.302323</td>\n",
       "    </tr>\n",
       "    <tr>\n",
       "      <th>...</th>\n",
       "      <td>...</td>\n",
       "      <td>...</td>\n",
       "    </tr>\n",
       "    <tr>\n",
       "      <th>99966</th>\n",
       "      <td>-0.517406</td>\n",
       "      <td>0.360413</td>\n",
       "    </tr>\n",
       "    <tr>\n",
       "      <th>99967</th>\n",
       "      <td>-0.475784</td>\n",
       "      <td>0.297359</td>\n",
       "    </tr>\n",
       "    <tr>\n",
       "      <th>99968</th>\n",
       "      <td>-0.518359</td>\n",
       "      <td>0.962592</td>\n",
       "    </tr>\n",
       "    <tr>\n",
       "      <th>99969</th>\n",
       "      <td>-0.462582</td>\n",
       "      <td>1.288945</td>\n",
       "    </tr>\n",
       "    <tr>\n",
       "      <th>99970</th>\n",
       "      <td>-0.458891</td>\n",
       "      <td>13.579263</td>\n",
       "    </tr>\n",
       "  </tbody>\n",
       "</table>\n",
       "<p>99971 rows × 2 columns</p>\n",
       "</div>"
      ],
      "text/plain": [
       "              0          1\n",
       "0     -0.452091  -0.607906\n",
       "1     -0.425316  -3.129244\n",
       "2     -0.374303  -0.079888\n",
       "3     -0.374494   0.006210\n",
       "4     -0.388132  -0.302323\n",
       "...         ...        ...\n",
       "99966 -0.517406   0.360413\n",
       "99967 -0.475784   0.297359\n",
       "99968 -0.518359   0.962592\n",
       "99969 -0.462582   1.288945\n",
       "99970 -0.458891  13.579263\n",
       "\n",
       "[99971 rows x 2 columns]"
      ]
     },
     "metadata": {},
     "output_type": "display_data"
    }
   ],
   "source": [
    "def func_base(x):\n",
    "    return np.mean(x['A'] * x['C']) - np.std(x['B'] / 2)\n",
    "\n",
    "def func_base_2(x):\n",
    "    r = 0\n",
    "    for item in x['A']:\n",
    "        if item > 0:\n",
    "            r /= item\n",
    "        else:\n",
    "            r -= item\n",
    "    return r * np.mean(x['B'])\n",
    "    \n",
    "#transfcoder jobs to transform columns name as this\n",
    "@nb.njit(nb.float32(nb.types.Array(nb.types.float32, 2, 'A', readonly=True)), cache=True, fastmath=False, forceinline=True, looplift=True, inline='always', target_backend='host', nogil=True)\n",
    "def func_modified(x):\n",
    "    return np.mean(x[0, :] * x[2, :]) - np.std(x[1, :] / 2)\n",
    "\n",
    "\n",
    "@nb.njit(nb.float32(nb.types.Array(nb.types.float32, 2, 'A', readonly=True)), cache=True, fastmath=False, forceinline=True, looplift=True, inline='always', target_backend='host', nogil=True)\n",
    "def func_modified_2(x):\n",
    "    r = 0\n",
    "    for item in x[:,0]:\n",
    "        if item > 0:\n",
    "            r /= item\n",
    "        else:\n",
    "            r -= item\n",
    "    return r * np.mean(x[1, :])\n",
    "\n",
    "\n",
    "\n",
    "@nb.njit((nb.float32[:,:], nb.float32[:, :],nb.types.uint32), cache=True, fastmath=True, forceinline=True, looplift=True, inline='always', target_backend='host', nogil=True)\n",
    "def vl(z, r, i):\n",
    "    for k in nb.prange(2):\n",
    "        if k == 0:\n",
    "            r[i, k] = func_modified(z)\n",
    "        elif k == 1:\n",
    "            r[i, k] = func_modified_2(z)\n",
    "\n",
    "@nb.njit((nb.types.Array(nb.types.float32, 3, 'A', readonly=True), nb.float32[:, :],nb.types.uint32), cache=True, parallel=True, fastmath=True, forceinline=True, looplift=True, inline='always', target_backend='host', no_cfunc_wrapper=True, no_rewrites=True, nogil=True)\n",
    "def cvlopt(z, r, n):\n",
    "    for i in nb.prange(n):\n",
    "        vl(z[i,:,:], r, i)\n",
    "\n",
    "def vlopt(arr, window):\n",
    "    cvlopt(sliding_window_view(arr, window, axis=0), r:=np.empty((n:=arr.shape[0]- window + 1, 2), dtype=np.float32), np.uint32(n))\n",
    "    return r\n",
    "\n",
    "display(pd.DataFrame(vlopt(df.to_numpy(), window)))\n"
   ]
  },
  {
   "cell_type": "code",
   "execution_count": 34,
   "id": "90cf16e4-03ff-43c4-898e-a23b7681fe5a",
   "metadata": {},
   "outputs": [],
   "source": [
    "\n"
   ]
  }
 ],
 "metadata": {
  "kernelspec": {
   "display_name": "Python 3 (ipykernel)",
   "language": "python",
   "name": "python3"
  },
  "language_info": {
   "codemirror_mode": {
    "name": "ipython",
    "version": 3
   },
   "file_extension": ".py",
   "mimetype": "text/x-python",
   "name": "python",
   "nbconvert_exporter": "python",
   "pygments_lexer": "ipython3",
   "version": "3.12.1"
  }
 },
 "nbformat": 4,
 "nbformat_minor": 5
}
