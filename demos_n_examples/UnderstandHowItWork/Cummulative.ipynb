{
 "cells": [
  {
   "cell_type": "markdown",
   "id": "caa57891-2506-4c82-bea5-3db2392fcc59",
   "metadata": {},
   "source": [
    "# Custom cumulative \n",
    "\n",
    "## While pandas offers range of options, a missing thing is a way to apply any cumulative operation over a serie/a dataframe, let's fix this\n",
    "\n"
   ]
  },
  {
   "cell_type": "code",
   "execution_count": 1,
   "id": "4321bbd2-79a3-4b75-992f-1a3f2ba19e04",
   "metadata": {},
   "outputs": [],
   "source": [
    "import numpy as np\n",
    "import numba as nb\n",
    "import pandas as pd\n",
    "import logging\n",
    "from typing import Callable, Type, Dict, Tuple, Any"
   ]
  },
  {
   "cell_type": "code",
   "execution_count": 2,
   "id": "5c129d91-1ab7-4a5f-8114-596adde95885",
   "metadata": {},
   "outputs": [],
   "source": [
    "arr = np.random.randn(100_000,6).astype(np.float32)\n",
    "df = pd.DataFrame(arr, columns = ['A', 'B', 'C', 'D', 'E', 'F'])"
   ]
  },
  {
   "cell_type": "code",
   "execution_count": 3,
   "id": "59b060a2-0a1c-4377-b52d-c34cb8807347",
   "metadata": {},
   "outputs": [],
   "source": []
  },
  {
   "cell_type": "markdown",
   "id": "23131096-cc93-44a8-b151-a7a648bddb7a",
   "metadata": {},
   "source": [
    "##  With axis = 0, cumulative directly apply to each column independantly\n",
    "\n",
    "We need to set a format, which is new value, previous value + option of a default start value different from 0"
   ]
  },
  {
   "cell_type": "code",
   "execution_count": null,
   "id": "9db92575-ae5b-4f98-9983-452537d2cde9",
   "metadata": {},
   "outputs": [],
   "source": [
    "\n",
    "\n",
    "@nb.njit(nb.float32(nb.float32[:]), cache=True, fastmath=False, forceinline=True, looplift=True, inline='always', target_backend='host', nogil=True)\n",
    "def cumulative_function(new, previous):\n",
    "    return new + previous if new < previous else new - previous\n",
    "\n",
    "@nb.njit((nb.float32[:, :], nb.float32[:, :],nb.types.uint32,nb.types.uint32), cache=True, fastmath=True, forceinline=True, looplift=True, inline='always', target_backend='host', nogil=True)\n",
    "def vl(z, r, i, m):\n",
    "    for j in nb.prange(m):\n",
    "        r[i, j] = agg_sumba(z[j, :])\n",
    "\n",
    "\n",
    "@nb.njit((nb.types.Array(nb.types.float32, 3, 'A', readonly=True), nb.float32[:, :],nb.types.uint32, nb.types.uint32), cache=True, parallel=True, fastmath=True, forceinline=True, looplift=True, inline='always', target_backend='host', no_cfunc_wrapper=True, no_rewrites=True, nogil=True)\n",
    "def cvlopt(z, r, n, m):\n",
    "    for i in nb.prange(n):\n",
    "        vl(z[i,:,:], r, i, m)\n",
    "\n",
    "def vlopt(arr, window):\n",
    "    cvlopt(sliding_window_view(arr, window, axis=0), r:=np.empty((n:=arr.shape[0]- window + 1, m:=arr.shape[1]), dtype=np.float32), np.uint32(n), np.uint32(m))\n",
    "    return r\n",
    "\n",
    "display(pd.DataFrame(vlopt(df.to_numpy(), window)))\n",
    "display(df.rolling(window).sum())"
   ]
  }
 ],
 "metadata": {
  "kernelspec": {
   "display_name": "Python 3 (ipykernel)",
   "language": "python",
   "name": "python3"
  },
  "language_info": {
   "codemirror_mode": {
    "name": "ipython",
    "version": 3
   },
   "file_extension": ".py",
   "mimetype": "text/x-python",
   "name": "python",
   "nbconvert_exporter": "python",
   "pygments_lexer": "ipython3",
   "version": "3.12.1"
  }
 },
 "nbformat": 4,
 "nbformat_minor": 5
}
