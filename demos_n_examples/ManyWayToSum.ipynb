{
 "cells": [
  {
   "cell_type": "markdown",
   "id": "c45c93b2-2086-49c4-999e-ac4ad6476713",
   "metadata": {},
   "source": [
    "# Understanding the impact of how the code is structured per simple example: The Sum"
   ]
  },
  {
   "cell_type": "code",
   "execution_count": 1,
   "id": "b49dff49-175a-4c33-b98b-21b1f235b1f8",
   "metadata": {},
   "outputs": [
    {
     "name": "stderr",
     "output_type": "stream",
     "text": [
      "/home/remi/.pyenv/versions/3.12.1/lib/python3.12/site-packages/numba/core/typed_passes.py:336: NumbaPerformanceWarning: \n",
      "The keyword argument 'parallel=True' was specified but no transformation for parallel execution was possible.\n",
      "\n",
      "To find out why, try turning on parallel diagnostics, see https://numba.readthedocs.io/en/stable/user/parallel.html#diagnostics for help.\n",
      "\n",
      "File \"../../../../../tmp/ipykernel_1504290/2868275802.py\", line 4:\n",
      "<source missing, REPL/exec in use?>\n",
      "\n",
      "  warnings.warn(errors.NumbaPerformanceWarning(msg,\n",
      "/home/remi/.pyenv/versions/3.12.1/lib/python3.12/site-packages/numba/core/typed_passes.py:336: NumbaPerformanceWarning: \n",
      "The keyword argument 'parallel=True' was specified but no transformation for parallel execution was possible.\n",
      "\n",
      "To find out why, try turning on parallel diagnostics, see https://numba.readthedocs.io/en/stable/user/parallel.html#diagnostics for help.\n",
      "\n",
      "File \"../../../../../tmp/ipykernel_1504290/2868275802.py\", line 8:\n",
      "<source missing, REPL/exec in use?>\n",
      "\n",
      "  warnings.warn(errors.NumbaPerformanceWarning(msg,\n"
     ]
    },
    {
     "data": {
      "text/plain": [
       "(array([ 2.6424679 , -1.40860445,  3.26047798, ..., -2.26988148,\n",
       "        -1.0384263 , -0.6958217 ]),\n",
       " array([ 2.6424679 , -1.40860445,  3.26047798, ..., -2.26988148,\n",
       "        -1.0384263 , -0.6958217 ]),\n",
       " array([ 2.6424679 , -1.40860445,  3.26047798, ..., -2.26988148,\n",
       "        -1.0384263 , -0.6958217 ]),\n",
       " array([ 2.6424679 , -1.40860445,  3.26047798, ..., -2.26988148,\n",
       "        -1.0384263 , -0.6958217 ]))"
      ]
     },
     "execution_count": 1,
     "metadata": {},
     "output_type": "execute_result"
    }
   ],
   "source": [
    "import numba as nb\n",
    "import numpy as np\n",
    "\n",
    "@nb.njit(cache=False, parallel=True, fastmath=True, forceinline=True, looplift=True, inline='always', target_backend='host', no_cfunc_wrapper=True, no_rewrites=True, nogil=True)\n",
    "def vectorized_opt(z):\n",
    "    return z[:,0]+z[:,1]+z[:,2]\n",
    "\n",
    "@nb.njit(cache=False, parallel=True, fastmath=True, forceinline=True, looplift=True, inline='always', target_backend='host', no_cfunc_wrapper=True, no_rewrites=True, nogil=True)\n",
    "def vectorized_optb(z):\n",
    "    return np.sum(z, axis=1)\n",
    "\n",
    "\n",
    "@nb.njit(cache=False, fastmath=True, forceinline=True, looplift=True, inline='always', target_backend='host', nogil=True)\n",
    "def vl(z, r, i):\n",
    "    # Sum across z[i, :] and store directly into r at position i\n",
    "    r[i] = np.sum(z)\n",
    "\n",
    "@nb.njit(cache=False, parallel=True, fastmath=True, forceinline=True, looplift=True, inline='always', target_backend='host', no_cfunc_wrapper=True, no_rewrites=True, nogil=True)\n",
    "def cvlopt(z, n, r):\n",
    "    for i in nb.prange(n):\n",
    "        vl(z[i,:], r, i)\n",
    "\n",
    "def vlopt(z):\n",
    "    n = z.shape[0]  # Determine the number of rows in z\n",
    "    r = np.empty(n, dtype=z.dtype)  # Initialize the result array\n",
    "    cvlopt(z, n, r)\n",
    "    return r\n",
    "\n",
    "\n",
    "\n",
    "@nb.njit(cache=False, fastmath=True, forceinline=True, looplift=True, inline='always', target_backend='host', nogil=True)\n",
    "def w(zij, ri):\n",
    "    # Intended to modify ri in place, but you should return the updated value instead\n",
    "    return ri + zij\n",
    "\n",
    "\n",
    "@nb.njit(cache=False, parallel=True, fastmath=True, forceinline=True, looplift=True, inline='always', target_backend='host', no_cfunc_wrapper=True, no_rewrites=True, nogil=True)\n",
    "def wl(zi, k, r, i):\n",
    "    # Accumulate directly into the array r at position i\n",
    "    for j in nb.prange(k):\n",
    "        r[i] = w(zi[j], r[i])\n",
    "\n",
    "\n",
    "@nb.njit(cache=False, parallel=True, fastmath=True, forceinline=True, looplift=True, inline='always', target_backend='host', no_cfunc_wrapper=True, no_rewrites=True, nogil=True)\n",
    "def cwlopt(z, n, k, r):\n",
    "    for i in nb.prange(n):\n",
    "        wl(z[i,:], k, r, i)\n",
    "    return r\n",
    "\n",
    "def wlopt(z):\n",
    "    n, k = z.shape\n",
    "    r = np.zeros(n, dtype=z.dtype)\n",
    "    return cwlopt(z, n, k, r)\n",
    "\n",
    "                  \n",
    "arr = np.random.randn(10000,3).astype(np.float64)\n",
    "#Do one pass to dont have compile time in benchmarks\n",
    "vectorized_opt(arr),vectorized_optb(arr), vlopt(arr),wlopt(arr)"
   ]
  },
  {
   "cell_type": "code",
   "execution_count": 2,
   "id": "423e1815-be38-4129-86a6-d8a35bb97506",
   "metadata": {},
   "outputs": [
    {
     "name": "stdout",
     "output_type": "stream",
     "text": [
      "9.35 µs ± 22.1 ns per loop (mean ± std. dev. of 7 runs, 100,000 loops each)\n",
      "11.2 µs ± 250 ns per loop (mean ± std. dev. of 7 runs, 100,000 loops each)\n",
      "44.3 µs ± 740 ns per loop (mean ± std. dev. of 7 runs, 10,000 loops each)\n",
      "49.1 µs ± 637 ns per loop (mean ± std. dev. of 7 runs, 10,000 loops each)\n",
      "143 µs ± 215 ns per loop (mean ± std. dev. of 7 runs, 10,000 loops each)\n",
      "24.9 ms ± 105 µs per loop (mean ± std. dev. of 7 runs, 10 loops each)\n"
     ]
    }
   ],
   "source": [
    "%timeit vectorized_opt(arr)\n",
    "%timeit vectorized_optb(arr)\n",
    "%timeit vlopt(arr)\n",
    "%timeit wlopt(arr)\n",
    "%timeit np.sum(arr, axis=1)\n",
    "%timeit np.fromiter((map(lambda v: np.sum(v), (arr[i,:] for i in range(arr.shape[0])))), dtype=arr.dtype)"
   ]
  },
  {
   "cell_type": "code",
   "execution_count": 3,
   "id": "8f3dbf20-af21-4fae-b48f-21e722af8e20",
   "metadata": {},
   "outputs": [
    {
     "name": "stderr",
     "output_type": "stream",
     "text": [
      "/home/remi/.pyenv/versions/3.12.1/lib/python3.12/site-packages/numba/core/typed_passes.py:336: NumbaPerformanceWarning: \n",
      "The keyword argument 'parallel=True' was specified but no transformation for parallel execution was possible.\n",
      "\n",
      "To find out why, try turning on parallel diagnostics, see https://numba.readthedocs.io/en/stable/user/parallel.html#diagnostics for help.\n",
      "\n",
      "File \"../../../../../tmp/ipykernel_1504290/2868275802.py\", line 4:\n",
      "<source missing, REPL/exec in use?>\n",
      "\n",
      "  warnings.warn(errors.NumbaPerformanceWarning(msg,\n"
     ]
    },
    {
     "name": "stdout",
     "output_type": "stream",
     "text": [
      "74.3 µs ± 6.15 µs per loop (mean ± std. dev. of 7 runs, 1 loop each)\n"
     ]
    },
    {
     "name": "stderr",
     "output_type": "stream",
     "text": [
      "/home/remi/.pyenv/versions/3.12.1/lib/python3.12/site-packages/numba/core/typed_passes.py:336: NumbaPerformanceWarning: \n",
      "The keyword argument 'parallel=True' was specified but no transformation for parallel execution was possible.\n",
      "\n",
      "To find out why, try turning on parallel diagnostics, see https://numba.readthedocs.io/en/stable/user/parallel.html#diagnostics for help.\n",
      "\n",
      "File \"../../../../../tmp/ipykernel_1504290/2868275802.py\", line 8:\n",
      "<source missing, REPL/exec in use?>\n",
      "\n",
      "  warnings.warn(errors.NumbaPerformanceWarning(msg,\n"
     ]
    },
    {
     "name": "stdout",
     "output_type": "stream",
     "text": [
      "89.9 µs ± 6.28 µs per loop (mean ± std. dev. of 7 runs, 1 loop each)\n",
      "75.1 µs ± 12.3 µs per loop (mean ± std. dev. of 7 runs, 1 loop each)\n",
      "101 µs ± 13.4 µs per loop (mean ± std. dev. of 7 runs, 1 loop each)\n",
      "1.38 ms ± 975 ns per loop (mean ± std. dev. of 7 runs, 1,000 loops each)\n",
      "243 ms ± 275 µs per loop (mean ± std. dev. of 7 runs, 1 loop each)\n"
     ]
    }
   ],
   "source": [
    "arr = np.random.randn(100_000,3).astype(np.float32)\n",
    "\n",
    "%timeit vectorized_opt(arr)\n",
    "%timeit vectorized_optb(arr)\n",
    "%timeit vlopt(arr)\n",
    "%timeit wlopt(arr)\n",
    "%timeit np.sum(arr, axis=1)\n",
    "%timeit np.fromiter((map(lambda v: np.sum(v), (arr[i,:] for i in range(arr.shape[0])))), dtype=arr.dtype)"
   ]
  },
  {
   "cell_type": "code",
   "execution_count": 4,
   "id": "2f3d7945-fd16-48c1-be2f-09a20a39c152",
   "metadata": {},
   "outputs": [
    {
     "name": "stdout",
     "output_type": "stream",
     "text": [
      "703 µs ± 7.28 µs per loop (mean ± std. dev. of 7 runs, 1,000 loops each)\n",
      "892 µs ± 843 ns per loop (mean ± std. dev. of 7 runs, 1,000 loops each)\n",
      "222 µs ± 4.07 µs per loop (mean ± std. dev. of 7 runs, 1,000 loops each)\n",
      "391 µs ± 2.85 µs per loop (mean ± std. dev. of 7 runs, 1,000 loops each)\n",
      "13.9 ms ± 14.1 µs per loop (mean ± std. dev. of 7 runs, 100 loops each)\n",
      "2.46 s ± 36.7 ms per loop (mean ± std. dev. of 7 runs, 1 loop each)\n"
     ]
    }
   ],
   "source": [
    "arr = np.random.randn(1_000_000,3).astype(np.float32)\n",
    "\n",
    "%timeit vectorized_opt(arr)\n",
    "%timeit vectorized_optb(arr)\n",
    "%timeit vlopt(arr)\n",
    "%timeit wlopt(arr)\n",
    "%timeit np.sum(arr, axis=1)\n",
    "%timeit np.fromiter((map(lambda v: np.sum(v), (arr[i,:] for i in range(arr.shape[0])))), dtype=arr.dtype)"
   ]
  },
  {
   "cell_type": "code",
   "execution_count": null,
   "id": "0899ce91-3a71-4294-bc8d-8d8db9ada582",
   "metadata": {},
   "outputs": [
    {
     "name": "stdout",
     "output_type": "stream",
     "text": [
      "341 ms ± 3.29 ms per loop (mean ± std. dev. of 7 runs, 1 loop each)\n",
      "71.7 ms ± 389 µs per loop (mean ± std. dev. of 7 runs, 10 loops each)\n",
      "116 ms ± 1.78 ms per loop (mean ± std. dev. of 7 runs, 10 loops each)\n",
      "1.43 s ± 1.64 ms per loop (mean ± std. dev. of 7 runs, 1 loop each)\n"
     ]
    }
   ],
   "source": [
    "arr = np.random.randn(100_000_000,3).astype(np.float32)\n",
    "\n",
    "%timeit vectorized_optb(arr)\n",
    "%timeit vlopt(arr)\n",
    "%timeit wlopt(arr)\n",
    "%timeit np.sum(arr, axis=1)\n",
    "%timeit np.fromiter((map(lambda v: np.sum(v), (arr[i,:] for i in range(arr.shape[0])))), dtype=arr.dtype)"
   ]
  }
 ],
 "metadata": {
  "kernelspec": {
   "display_name": "Python 3 (ipykernel)",
   "language": "python",
   "name": "python3"
  },
  "language_info": {
   "codemirror_mode": {
    "name": "ipython",
    "version": 3
   },
   "file_extension": ".py",
   "mimetype": "text/x-python",
   "name": "python",
   "nbconvert_exporter": "python",
   "pygments_lexer": "ipython3",
   "version": "3.12.1"
  }
 },
 "nbformat": 4,
 "nbformat_minor": 5
}
