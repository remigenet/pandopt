{
 "cells": [
  {
   "cell_type": "markdown",
   "id": "180eebf6-e3b3-4fbf-b0c2-5cf085e95fe8",
   "metadata": {},
   "source": [
    "# Testing the apply method"
   ]
  },
  {
   "cell_type": "code",
   "execution_count": 1,
   "id": "d7c4f574-f697-4275-a7de-cb116b94e92c",
   "metadata": {},
   "outputs": [
    {
     "ename": "ModuleNotFoundError",
     "evalue": "No module named 'pandopt.transfcoders'",
     "output_type": "error",
     "traceback": [
      "\u001b[0;31m---------------------------------------------------------------------------\u001b[0m",
      "\u001b[0;31mModuleNotFoundError\u001b[0m                       Traceback (most recent call last)",
      "Cell \u001b[0;32mIn[1], line 2\u001b[0m\n\u001b[1;32m      1\u001b[0m \u001b[38;5;28;01mtry\u001b[39;00m:\n\u001b[0;32m----> 2\u001b[0m     \u001b[38;5;28;01mimport\u001b[39;00m \u001b[38;5;21;01mpandopt\u001b[39;00m \u001b[38;5;28;01mas\u001b[39;00m \u001b[38;5;21;01mpdo\u001b[39;00m\n\u001b[1;32m      3\u001b[0m \u001b[38;5;28;01mexcept\u001b[39;00m:\n",
      "\u001b[0;31mModuleNotFoundError\u001b[0m: No module named 'pandopt'",
      "\nDuring handling of the above exception, another exception occurred:\n",
      "\u001b[0;31mModuleNotFoundError\u001b[0m                       Traceback (most recent call last)",
      "Cell \u001b[0;32mIn[1], line 6\u001b[0m\n\u001b[1;32m      4\u001b[0m     \u001b[38;5;28;01mimport\u001b[39;00m \u001b[38;5;21;01msys\u001b[39;00m\u001b[38;5;241m,\u001b[39m \u001b[38;5;21;01mos\u001b[39;00m\n\u001b[1;32m      5\u001b[0m     sys\u001b[38;5;241m.\u001b[39mpath\u001b[38;5;241m.\u001b[39mappend(\u001b[38;5;124m'\u001b[39m\u001b[38;5;124m/\u001b[39m\u001b[38;5;124m'\u001b[39m\u001b[38;5;241m.\u001b[39mjoin(os\u001b[38;5;241m.\u001b[39mgetcwd()\u001b[38;5;241m.\u001b[39msplit(\u001b[38;5;124m'\u001b[39m\u001b[38;5;124m/\u001b[39m\u001b[38;5;124m'\u001b[39m)[:\u001b[38;5;241m-\u001b[39m\u001b[38;5;241m2\u001b[39m]))\n\u001b[0;32m----> 6\u001b[0m     \u001b[38;5;28;01mimport\u001b[39;00m \u001b[38;5;21;01mpandopt\u001b[39;00m \u001b[38;5;28;01mas\u001b[39;00m \u001b[38;5;21;01mpdo\u001b[39;00m\n\u001b[1;32m      7\u001b[0m \u001b[38;5;28;01mimport\u001b[39;00m \u001b[38;5;21;01mpandas\u001b[39;00m \u001b[38;5;28;01mas\u001b[39;00m \u001b[38;5;21;01mpd\u001b[39;00m\n\u001b[1;32m      8\u001b[0m \u001b[38;5;28;01mimport\u001b[39;00m \u001b[38;5;21;01mnumpy\u001b[39;00m \u001b[38;5;28;01mas\u001b[39;00m \u001b[38;5;21;01mnp\u001b[39;00m\n",
      "File \u001b[0;32m~/PhDWork/pandopt/__init__.py:1\u001b[0m\n\u001b[0;32m----> 1\u001b[0m \u001b[38;5;28;01mfrom\u001b[39;00m \u001b[38;5;21;01m.\u001b[39;00m\u001b[38;5;21;01mpandopt\u001b[39;00m \u001b[38;5;28;01mimport\u001b[39;00m \u001b[38;5;241m*\u001b[39m\n",
      "File \u001b[0;32m~/PhDWork/pandopt/pandopt/__init__.py:2\u001b[0m\n\u001b[1;32m      1\u001b[0m \u001b[38;5;28;01mfrom\u001b[39;00m \u001b[38;5;21;01mpandas\u001b[39;00m \u001b[38;5;28;01mimport\u001b[39;00m \u001b[38;5;241m*\u001b[39m\n\u001b[0;32m----> 2\u001b[0m \u001b[38;5;28;01mfrom\u001b[39;00m \u001b[38;5;21;01m.\u001b[39;00m\u001b[38;5;21;01mframes\u001b[39;00m \u001b[38;5;28;01mimport\u001b[39;00m DataFrame\n\u001b[1;32m      3\u001b[0m \u001b[38;5;28;01mfrom\u001b[39;00m \u001b[38;5;21;01m.\u001b[39;00m\u001b[38;5;21;01mrolls\u001b[39;00m \u001b[38;5;28;01mimport\u001b[39;00m RollOpt\n\u001b[1;32m      4\u001b[0m \u001b[38;5;28;01mfrom\u001b[39;00m \u001b[38;5;21;01m.\u001b[39;00m\u001b[38;5;21;01mgroups\u001b[39;00m \u001b[38;5;28;01mimport\u001b[39;00m GroupOpt\n",
      "File \u001b[0;32m~/PhDWork/pandopt/pandopt/frames.py:9\u001b[0m\n\u001b[1;32m      7\u001b[0m logger\u001b[38;5;241m.\u001b[39msetLevel(\u001b[38;5;241m0\u001b[39m)\n\u001b[1;32m      8\u001b[0m \u001b[38;5;28;01mimport\u001b[39;00m \u001b[38;5;21;01mpandopt\u001b[39;00m\n\u001b[0;32m----> 9\u001b[0m \u001b[38;5;28;01mfrom\u001b[39;00m \u001b[38;5;21;01mpandopt\u001b[39;00m\u001b[38;5;21;01m.\u001b[39;00m\u001b[38;5;21;01mtransfcoders\u001b[39;00m \u001b[38;5;28;01mimport\u001b[39;00m _prepare_funcs\n\u001b[1;32m     11\u001b[0m \u001b[38;5;28;01mclass\u001b[39;00m \u001b[38;5;21;01mDataFrame\u001b[39;00m(pandas\u001b[38;5;241m.\u001b[39mDataFrame):\n\u001b[1;32m     12\u001b[0m     _compiled_func \u001b[38;5;241m=\u001b[39m {}\n",
      "\u001b[0;31mModuleNotFoundError\u001b[0m: No module named 'pandopt.transfcoders'"
     ]
    }
   ],
   "source": [
    "try:\n",
    "    import pandopt as pdo\n",
    "except:\n",
    "    import sys, os\n",
    "    sys.path.append('/'.join(os.getcwd().split('/')[:-2]))\n",
    "    import pandopt as pdo\n",
    "import pandas as pd\n",
    "import numpy as np\n",
    "import tqdm \n",
    "import pandas as pd\n",
    "import numpy as np\n",
    "import timeit\n",
    "import functools\n",
    "import time\n",
    "import plotly.express as px\n",
    "from typing import Callable, Dict\n",
    "import polars as pl\n",
    "from IPython.display import display"
   ]
  },
  {
   "cell_type": "code",
   "execution_count": null,
   "id": "8ce44839-92c1-4259-941d-5fe68e765cce",
   "metadata": {
    "scrolled": true
   },
   "outputs": [],
   "source": [
    "# Example functions\n",
    "def simple_start(z):\n",
    "    x = (z['A'] + z['B']) / z['C']\n",
    "    x += z['B'] * z['D']\n",
    "    return x / z['B']\n",
    "\n",
    "def harder_func(z):\n",
    "    x = (z['A'] + z['B']) / z['C']\n",
    "    if x > 0:\n",
    "        return x / z['B']\n",
    "    x += z['B'] * z['D']\n",
    "    return x * z['B']\n",
    "\n",
    "def harder2_func(z):\n",
    "    x = (z['A'] + z['B']) / z['C']\n",
    "    if (k:=z['A']-z['C']) > (j:=z['B']/z['D']):\n",
    "        return x / k\n",
    "    x *= j\n",
    "    return x - k if k > z['C'] else x + k\n",
    "\n",
    "\n",
    "def harder3_func(z):\n",
    "    g=lambda a, b: a if abs(a) > abs(b) else - 2 * (b**(-a))\n",
    "    x = (z['A'] + z['B']) / z['C']\n",
    "    if (k:=z['A']-z['C']) > (j:=g(z['B'],z['D'])):\n",
    "        return j / k\n",
    "    x *= j\n",
    "    return x - k if k > z['C'] else x + k\n",
    "\n",
    "def agg_sum(z):\n",
    "    return np.sum(z)"
   ]
  },
  {
   "cell_type": "markdown",
   "id": "3afa2ed1-68d7-46f1-9ba9-390073181250",
   "metadata": {},
   "source": [
    "## Basic test and work setup"
   ]
  },
  {
   "cell_type": "code",
   "execution_count": null,
   "id": "a2ec098b-3809-44e1-a490-07fbb05fa289",
   "metadata": {},
   "outputs": [],
   "source": [
    "def timeit(method_func, df, method_name, check_metric):\n",
    "    if method_func is False:\n",
    "        print(f'{method_name:<15} {'NA':<15} {'NA':<15} {'Discarded':<10}')\n",
    "        return \n",
    "    t1 = time.time()\n",
    "    result = method_func(df)\n",
    "    result_np = result.to_numpy() if hasattr(result, 'to_numpy') else result\n",
    "    t2 = time.time()\n",
    "    execution_time = t2 - t1\n",
    "\n",
    "    if isinstance(result, pd.Series):\n",
    "        result_shape_str = f\"{result.shape[0]} x 1\"  \n",
    "    else:\n",
    "        result_shape_str = \" x \".join(map(str, result.shape)) if hasattr(result, 'shape') else \"N/A\"\n",
    "    \n",
    "    metric = check_metric(result.to_numpy() if hasattr(result, 'to_numpy') else result)\n",
    "    try:\n",
    "        print(f'{method_name:<15} {result_shape_str:<15} {metric:<15.5f} {execution_time:<10.5f}')\n",
    "    except:\n",
    "        print(f'{method_name:<15} {result_shape_str:<15} {metric:<15} {execution_time:<10}')\n",
    "    return execution_time\n",
    "\n",
    "def format_number(num):\n",
    "    \"\"\"\n",
    "    Convert a numerical value into a human-readable format,\n",
    "    adding suffixes like K, M, B, etc.\n",
    "    \"\"\"\n",
    "    for unit in ['', 'K', 'M', 'B', 'T']:\n",
    "        if abs(num) < 1000:\n",
    "            return f\"{num:3.0f}{unit}\"\n",
    "        num /= 1000.0\n",
    "    return f\"{num:.1f}T\"\n",
    "\n",
    "\n",
    "def run_compare(methods: Dict[str, Callable], x_seconds: float = 1.5, start_ten_exponent: int = 1, check_metric: Callable = lambda x: (1 + np.abs(np.max(x) - np.min(x))) / np.median(x)):\n",
    "    execution_times = {key: {} for key in methods}\n",
    "    ten_exponent = start_ten_exponent\n",
    "    while ten_exponent < 10: # Over than 9 become more SSD/RAM  - lazy loading options tes\n",
    "        df_size = int(10**ten_exponent)\n",
    "        formatted_size = format_number(df_size)\n",
    "    \n",
    "        print(f'\\ntesting {format_number(df_size)} rows')\n",
    "        print(f'{\"method_name\":<15} {\"result shape\":<15} {\"compare metric\":<15} {\"execution_time\":<10}')\n",
    "    \n",
    "        pandas_df = pd.DataFrame(np.random.randn(df_size, 4), columns=['A', 'B', 'C', 'D']).astype(np.float32)\n",
    "    \n",
    "        iteration_discards = []\n",
    "        for method_name, method_func in methods.items():\n",
    "            #Last is to avoid removing pandaopt at first iter due to compilation time\n",
    "            if (e_time:=timeit(method_func, pandas_df, method_name, check_metric)) and e_time > x_seconds and ten_exponent > start_ten_exponent: \n",
    "                iteration_discards.append(method_name)\n",
    "            execution_times[method_name][df_size] = e_time\n",
    "                \n",
    "        for method_name in iteration_discards:\n",
    "            methods[method_name] = False\n",
    "        \n",
    "        # Break the loop if all methods are over the time limit\n",
    "        if not methods:\n",
    "            print(\"All methods exceeded the time limit. Ending tests.\")\n",
    "            break\n",
    "        ten_exponent += 1\n",
    "    \n",
    "    results = pd.DataFrame(execution_times)\n",
    "    results_long = results.reset_index().melt(id_vars=['index'], var_name='Method', value_name='Execution Time')\n",
    "    results_long.rename(columns={'index': 'Rows'}, inplace=True)\n",
    "    fig = px.line(results_long, x='Rows', y='Execution Time', color='Method', log_x=True, log_y=True, title='Execution Times by Method')\n",
    "    fig.show()\n",
    "    \n",
    "    display(results)\n",
    "    return results"
   ]
  },
  {
   "cell_type": "markdown",
   "id": "f955f731-4046-42fb-8821-6b01f1d5fe4d",
   "metadata": {},
   "source": [
    "## Pandopt Apply basic numpy sum vs Alternatives"
   ]
  },
  {
   "cell_type": "markdown",
   "id": "286d2263-9f05-49e8-8528-6d5a649d271a",
   "metadata": {},
   "source": [
    "### Sum of columns per row"
   ]
  },
  {
   "cell_type": "code",
   "execution_count": null,
   "id": "0c1ea849-9360-4047-98ce-21450fecaeb6",
   "metadata": {},
   "outputs": [],
   "source": [
    "# Define test methods\n",
    "def pandas_apply(df):\n",
    "    return df.apply(agg_sum, axis=1)\n",
    "\n",
    "def pandas_sum(df):\n",
    "    return df.sum(axis=1)\n",
    "\n",
    "def numpy_sum(df):\n",
    "    return np.sum(df.to_numpy(), axis=1)\n",
    "\n",
    "def polars_sum(df):\n",
    "    polars_df = pl.DataFrame(df)\n",
    "    return polars_df.sum_horizontal()\n",
    "\n",
    "def pandopt_apply(df):\n",
    "    return pdo.DataFrame(df).apply(agg_sum, axis=1)  \n",
    "\n",
    "methods = {\n",
    "    'pandas_apply': pandas_apply,\n",
    "    'pandas_sum': pandas_sum,\n",
    "    'numpy_sum': numpy_sum,\n",
    "    'polars_sum': polars_sum,\n",
    "    'pandopt_apply': pandopt_apply, \n",
    "}\n",
    "\n",
    "run_compare(methods, x_seconds = 1.5, start_ten_exponent = 2)"
   ]
  },
  {
   "cell_type": "code",
   "execution_count": null,
   "id": "00c01692-401e-49e4-9a9f-89236b7b2688",
   "metadata": {},
   "outputs": [],
   "source": []
  },
  {
   "cell_type": "markdown",
   "id": "97ea35a9-5de3-462b-91ce-bdb50ff81462",
   "metadata": {},
   "source": [
    "### Sum of row per columns"
   ]
  },
  {
   "cell_type": "code",
   "execution_count": null,
   "id": "fcd14376-aa95-4311-8103-584389074e24",
   "metadata": {},
   "outputs": [],
   "source": [
    "# Define test methods\n",
    "def pandas_apply(df):\n",
    "    return df.apply(agg_sum, axis=0)\n",
    "\n",
    "def pandas_sum(df):\n",
    "    return df.sum(axis=0)\n",
    "\n",
    "def numpy_sum(df):\n",
    "    return np.sum(df.to_numpy(), axis=0)\n",
    "\n",
    "def polars_sum(df):\n",
    "    polars_df = pl.DataFrame(df)\n",
    "    return polars_df.sum()\n",
    "\n",
    "def pandopt_apply(df):\n",
    "    return pdo.DataFrame(df).apply(agg_sum, axis=0)  #\n",
    "\n",
    "methods = {\n",
    "    'pandas_apply': pandas_apply,\n",
    "    'pandas_sum': pandas_sum,\n",
    "    'numpy_sum': numpy_sum,\n",
    "    'polars_sum': polars_sum,\n",
    "    'pandopt_apply': pandopt_apply, \n",
    "}\n",
    "\n",
    "run_compare(methods, x_seconds = 1.5)"
   ]
  },
  {
   "cell_type": "markdown",
   "id": "783a4adb-9e1c-4349-901b-6de71024eb86",
   "metadata": {},
   "source": [
    "### Total sum"
   ]
  },
  {
   "cell_type": "code",
   "execution_count": null,
   "id": "14be8655-9cc6-4ea1-af31-5f022e7c0fbf",
   "metadata": {},
   "outputs": [],
   "source": [
    "# Define test methods\n",
    "def pandas_apply(df):\n",
    "    return df.apply(agg_sum).apply(agg_sum)\n",
    "\n",
    "def pandas_sum(df):\n",
    "    return df.sum().sum()\n",
    "\n",
    "def numpy_sum(df):\n",
    "    return np.sum(df.to_numpy(), axis=None)\n",
    "\n",
    "def polars_sum(df):\n",
    "    polars_df = pl.DataFrame(df)\n",
    "    return polars_df.sum_horizontal().sum()\n",
    "\n",
    "def pandopt_apply(df):\n",
    "    return pdo.DataFrame(df).apply(agg_sum, axis=None)  \n",
    "\n",
    "methods = {\n",
    "    'pandas_apply': pandas_apply,\n",
    "    'pandas_sum': pandas_sum,\n",
    "    'numpy_sum': numpy_sum,\n",
    "    'polars_sum': polars_sum,\n",
    "    'pandopt_apply': pandopt_apply, \n",
    "}\n",
    "\n",
    "run_compare(methods, x_seconds = 1.5, check_metric = lambda x: str(x))"
   ]
  },
  {
   "cell_type": "markdown",
   "id": "4ddb9d5d-5786-4467-9d47-3de4634d7ea9",
   "metadata": {},
   "source": [
    "## Wider test using more general Callables"
   ]
  },
  {
   "cell_type": "code",
   "execution_count": null,
   "id": "d15b1a09-2ea6-4fdf-904e-e05157d51158",
   "metadata": {},
   "outputs": [],
   "source": [
    "def agg_sum(z):\n",
    "    return np.sum(z)\n",
    "\n",
    "def agg_mean(z):\n",
    "    return np.mean(z)\n",
    "\n",
    "def agg_max(z):\n",
    "    return np.max(z)\n",
    "\n",
    "def agg_min(z):\n",
    "    return np.min(z)\n",
    "\n",
    "def agg_std(z):\n",
    "    return np.std(z)\n",
    "\n",
    "def agg_sum(z):\n",
    "    return np.sum(z)\n",
    "\n",
    "\n",
    "def measure_performance(df, func, window_size=3):\n",
    "    try:\n",
    "        operation = functools.partial(df.apply, func, axis=1)\n",
    "        start_time = timeit.default_timer()\n",
    "        result = operation()\n",
    "        elapsed_time = timeit.default_timer() - start_time\n",
    "        return np.sum(result, axis=0), elapsed_time, None\n",
    "    except Exception as e:\n",
    "        return None, None, str(e)\n",
    "\n",
    "def run_tests(max_ten_exponent, test_funcs, n_iter = 15):\n",
    "    results = {}\n",
    "    total_tests = max_ten_exponent  * len(test_funcs) * n_iter\n",
    "    progress_bar = tqdm.tqdm(total=total_tests, desc=\"Running Tests\", ncols=100)\n",
    "\n",
    "    for test_num in range(1, max_ten_exponent + 1):\n",
    "        df_size = int(10**test_num)\n",
    "        for func in test_funcs:\n",
    "            for test_iter in range(n_iter):\n",
    "                pandas_df = pd.DataFrame(np.random.randn(df_size, 4), columns=['A', 'B', 'C', 'D']).astype(np.float32)\n",
    "                pandopt_df = pdo.DataFrame(pandas_df)\n",
    "                pandas_checksum, pandas_time, pandas_error = measure_performance(pandas_df, func)\n",
    "                pandopt_checksum, pandopt_time, pandopt_error = measure_performance(pandopt_df, func)\n",
    "\n",
    "                key = f\"Size: 10^{test_num}, Func: {func.__name__}, Test:- {test_iter}\"\n",
    "                results[key] = {\n",
    "                    \"Size\":df_size,\n",
    "                    \"function\": func.__name__, \n",
    "                    \"test_iter\": test_iter,\n",
    "                    \"Pandas Time (s)\": pandas_time,\n",
    "                    \"Pandopt Time (s)\": pandopt_time,\n",
    "                    \"Checksum Pandas\": pandas_checksum,\n",
    "                    \"Checksum Pandopt\": pandopt_checksum,\n",
    "                    \"Pandas Error\": pandas_error,\n",
    "                    \"Pandopt Error\": pandopt_error\n",
    "                }\n",
    "\n",
    "            progress_bar.update(1)\n",
    "\n",
    "    progress_bar.close()\n",
    "    return pd.DataFrame.from_dict(results, orient='index')\n",
    "\n",
    "# Run the tests\n",
    "test_functions = [simple_start, harder_func, harder2_func, harder3_func, agg_sum, agg_mean, agg_max, agg_min, agg_std] \n",
    "results_df = run_tests(max_ten_exponent=8, test_funcs=test_functions)\n",
    "results_df"
   ]
  },
  {
   "cell_type": "code",
   "execution_count": null,
   "id": "e25bbcce-f201-47e8-8701-7ad7c8c1a89e",
   "metadata": {},
   "outputs": [],
   "source": [
    "results_df['time reduction'] = results_df[\"Pandopt Time (s)\"] / results_df[\"Pandas Time (s)\"] - 1\n",
    "results_df['performance multiplicator'] = results_df[\"Pandas Time (s)\"] / results_df[\"Pandopt Time (s)\"] - 1\n",
    "results_df"
   ]
  },
  {
   "cell_type": "code",
   "execution_count": null,
   "id": "4dd3df65-ddb5-4e78-87e4-268694748e17",
   "metadata": {},
   "outputs": [],
   "source": [
    "results_df.to_csv('benchmark_apply.csv')"
   ]
  },
  {
   "cell_type": "code",
   "execution_count": null,
   "id": "831c574c-9aa8-4b91-bd73-17f1c5980a76",
   "metadata": {},
   "outputs": [],
   "source": [
    "results_df['Pandas Error'].apply(lambda x: x is not None).sum(),results_df['Pandopt Error'].apply(lambda x: x is not None).sum()"
   ]
  },
  {
   "cell_type": "code",
   "execution_count": null,
   "id": "41af629b-97fb-44be-9319-ef8b138e9250",
   "metadata": {},
   "outputs": [],
   "source": [
    "results_df['Pandas Time (s)'].sum(),results_df['Pandopt Time (s)'].sum()"
   ]
  },
  {
   "cell_type": "code",
   "execution_count": null,
   "id": "2778853c-3a7d-417d-a38a-1acc8889840e",
   "metadata": {},
   "outputs": [],
   "source": [
    "results_df.plot(x='Pandas Time (s)', y='Pandopt Time (s)', kind = 'scatter', backend='plotly')"
   ]
  }
 ],
 "metadata": {
  "kernelspec": {
   "display_name": "Python 3 (ipykernel)",
   "language": "python",
   "name": "python3"
  },
  "language_info": {
   "codemirror_mode": {
    "name": "ipython",
    "version": 3
   },
   "file_extension": ".py",
   "mimetype": "text/x-python",
   "name": "python",
   "nbconvert_exporter": "python",
   "pygments_lexer": "ipython3",
   "version": "3.12.2"
  }
 },
 "nbformat": 4,
 "nbformat_minor": 5
}
