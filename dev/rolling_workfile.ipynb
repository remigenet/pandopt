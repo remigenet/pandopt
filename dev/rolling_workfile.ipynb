{
 "cells": [
  {
   "cell_type": "code",
   "execution_count": 1,
   "id": "e7f76513-733d-4ba1-b249-5201c23888b0",
   "metadata": {},
   "outputs": [
    {
     "ename": "ModuleNotFoundError",
     "evalue": "No module named 'PandOpt'",
     "output_type": "error",
     "traceback": [
      "\u001b[0;31m---------------------------------------------------------------------------\u001b[0m",
      "\u001b[0;31mModuleNotFoundError\u001b[0m                       Traceback (most recent call last)",
      "Cell \u001b[0;32mIn[1], line 1\u001b[0m\n\u001b[0;32m----> 1\u001b[0m \u001b[38;5;28;01mfrom\u001b[39;00m \u001b[38;5;21;01mPandOpt\u001b[39;00m \u001b[38;5;28;01mimport\u001b[39;00m pandopt\n\u001b[1;32m      2\u001b[0m \u001b[38;5;28;01mimport\u001b[39;00m \u001b[38;5;21;01mpandas\u001b[39;00m \u001b[38;5;28;01mas\u001b[39;00m \u001b[38;5;21;01mpd\u001b[39;00m\n\u001b[1;32m      3\u001b[0m \u001b[38;5;28;01mimport\u001b[39;00m \u001b[38;5;21;01mnumpy\u001b[39;00m \u001b[38;5;28;01mas\u001b[39;00m \u001b[38;5;21;01mnp\u001b[39;00m\n",
      "\u001b[0;31mModuleNotFoundError\u001b[0m: No module named 'PandOpt'"
     ]
    }
   ],
   "source": [
    "from PandOpt import pandopt\n",
    "import pandas as pd\n",
    "import numpy as np\n",
    "import tqdm \n",
    "import pandas as pd\n",
    "import numpy as np\n",
    "import timeit\n",
    "import functools\n",
    "import time\n",
    "\n",
    "\n",
    "def agg_sum(z):\n",
    "    return np.sum(z)\n",
    "\n",
    "def agg_mean(z):\n",
    "    return np.mean(z)\n",
    "\n",
    "def agg_max(z):\n",
    "    return np.max(z)\n",
    "\n",
    "def agg_min(z):\n",
    "    return np.min(z)\n",
    "\n",
    "def agg_std(z):\n",
    "    return np.std(z)\n",
    "\n",
    "def agg_sum(z):\n",
    "    return np.sum(z)\n",
    "\n",
    "def agg_custom(z):\n",
    "    print(z.shape)\n",
    "    if z['A',-1] > z['B',0]:\n",
    "        return np.median(z['C']) - np.std(np.log(z))\n",
    "    return np.mean(z[\"C\"]) / 2 / np.std(z)\n",
    "\n"
   ]
  },
  {
   "cell_type": "code",
   "execution_count": 2,
   "id": "57870ae0-be24-45ee-bdc0-f296deb7260a",
   "metadata": {},
   "outputs": [
    {
     "name": "stdout",
     "output_type": "stream",
     "text": [
      "CPU times: user 533 ms, sys: 0 ns, total: 533 ms\n",
      "Wall time: 533 ms\n",
      "CPU times: user 1.58 ms, sys: 0 ns, total: 1.58 ms\n",
      "Wall time: 1.43 ms\n",
      "(9976, 4, 25) MOVE SHAPE TO  25 4\n",
      "1 True fidD3_to_D2_TrueD3_to_D2_TrueTrueagg_sum\n",
      "(9976, 4, 25) (34, 1) (9976, 1)\n",
      "CPU times: user 1.74 s, sys: 39 ms, total: 1.78 s\n",
      "Wall time: 1.77 s\n",
      "5582.848180342466 5582.848180342466 5582.848505012691\n",
      "CPU times: user 1.4 s, sys: 0 ns, total: 1.4 s\n",
      "Wall time: 1.4 s\n",
      "CPU times: user 754 µs, sys: 0 ns, total: 754 µs\n",
      "Wall time: 735 µs\n",
      "(9976, 4, 25) MOVE SHAPE TO  25 4\n",
      "1 True fidD3_to_D2_TrueD3_to_D2_TrueTrueagg_sum\n",
      "(9976, 4, 25) (34, 1) (9976, 1)\n",
      "CPU times: user 3.64 ms, sys: 0 ns, total: 3.64 ms\n",
      "Wall time: 572 µs\n",
      "5582.848538602037 5582.848538602037 5582.848505012691\n"
     ]
    }
   ],
   "source": [
    "\n",
    "pandas_df = pd.DataFrame(np.random.randn(10000, 4), columns=['A', 'B', 'C', 'D']).astype(np.float32)\n",
    "pandopt_df = pandopt(pandas_df)\n",
    "\n",
    "%time a = pandas_df.agg(agg_sum, axis=1).rolling(25).apply(agg_sum)\n",
    "%time a2 = pandas_df.sum(axis=1).rolling(25).sum()\n",
    "%time b = pandopt_df.rolling(25).apply(agg_sum, axis=1)\n",
    "\n",
    "print(np.sum(a.dropna().values), np.sum(a2.dropna().values), np.sum(b.values))\n",
    "\n",
    "\n",
    "%time a = pandas_df.rolling(25).apply(agg_sum)\n",
    "%time a2 = pandas_df.rolling(25).sum()\n",
    "%time b = pandopt_df.rolling(25).apply(agg_sum, axis=1)\n",
    "\n",
    "print(np.sum(a.dropna().values), np.sum(a2.dropna().values), np.sum(b.values))\n"
   ]
  },
  {
   "cell_type": "code",
   "execution_count": 3,
   "id": "7b85fb68-5459-49cb-b165-5fa722fadcb3",
   "metadata": {},
   "outputs": [
    {
     "name": "stdout",
     "output_type": "stream",
     "text": [
      "(9999, 4, 2) MOVE SHAPE TO  2 4\n",
      "0 True fidD3_to_D2_TrueD3_to_D2_FalseABCDagg_sum\n",
      "(9999, 4, 2) (11, 4) (9999, 4)\n"
     ]
    },
    {
     "data": {
      "text/plain": [
       "(             A         B         C         D\n",
       " 1    -1.674616  3.902491 -1.321442  0.082701\n",
       " 2    -1.399608  2.952631 -0.366256  0.992523\n",
       " 3    -1.022978 -0.554519  1.070892  2.647099\n",
       " 4    -1.704087  0.749522  2.203085  1.654937\n",
       " 5    -0.881862  2.257730  1.393843  0.034733\n",
       " ...        ...       ...       ...       ...\n",
       " 9995 -0.718896  0.902270 -1.272563 -0.581781\n",
       " 9996  0.117984 -0.137017 -0.073636 -1.575410\n",
       " 9997 -1.113306 -1.456367  2.269982  0.448175\n",
       " 9998 -0.174489 -0.197640  2.201348  0.858918\n",
       " 9999  2.546889  0.678836  0.574333  1.024494\n",
       " \n",
       " [9999 rows x 4 columns],\n",
       "              A         B         C         D\n",
       " 0          NaN       NaN       NaN       NaN\n",
       " 1    -1.674616  3.902491 -1.321442  0.082701\n",
       " 2    -1.399608  2.952631 -0.366256  0.992523\n",
       " 3    -1.022978 -0.554519  1.070892  2.647099\n",
       " 4    -1.704087  0.749522  2.203085  1.654936\n",
       " ...        ...       ...       ...       ...\n",
       " 9995 -0.718896  0.902270 -1.272563 -0.581781\n",
       " 9996  0.117984 -0.137017 -0.073636 -1.575410\n",
       " 9997 -1.113306 -1.456367  2.269982  0.448175\n",
       " 9998 -0.174489 -0.197640  2.201348  0.858918\n",
       " 9999  2.546889  0.678836  0.574333  1.024494\n",
       " \n",
       " [10000 rows x 4 columns])"
      ]
     },
     "execution_count": 3,
     "metadata": {},
     "output_type": "execute_result"
    }
   ],
   "source": [
    "pandas_df = pd.DataFrame(np.random.randn(10000, 4), columns=['A', 'B', 'C', 'D']).astype(np.float32)\n",
    "pandopt_df = pandopt(pandas_df)\n",
    "pandopt_df.rolling(2).apply(agg_sum), pandas_df.rolling(2).apply(agg_sum)"
   ]
  },
  {
   "cell_type": "code",
   "execution_count": 4,
   "id": "82b8d33e-7483-4fb1-858d-a524abfbdf28",
   "metadata": {},
   "outputs": [
    {
     "data": {
      "text/plain": [
       "2.0049508"
      ]
     },
     "execution_count": 4,
     "metadata": {},
     "output_type": "execute_result"
    }
   ],
   "source": [
    "from numpy.lib.stride_tricks import sliding_window_view\n",
    "self=pandopt_df.rolling(2)\n",
    "sliding_window_view(self._idf.to_numpy(), self.window, axis=0)[-1,0,0]\n"
   ]
  },
  {
   "cell_type": "code",
   "execution_count": 5,
   "id": "c5da5bd4-eabc-4c07-9666-ce9aafe73573",
   "metadata": {},
   "outputs": [
    {
     "data": {
      "text/plain": [
       "             A         B         C         D\n",
       "0    -1.085795  1.223690 -0.896859 -0.316160\n",
       "1    -0.588821  2.678801 -0.424583  0.398860\n",
       "2    -0.810787  0.273830  0.058327  0.593663\n",
       "3    -0.212191 -0.828349  1.012565  2.053436\n",
       "4    -1.491896  1.577871  1.190520 -0.398499\n",
       "...        ...       ...       ...       ...\n",
       "9995 -0.948150  0.367751 -0.539043 -1.019177\n",
       "9996  1.066134 -0.504768  0.465407 -0.556233\n",
       "9997 -2.179440 -0.951600  1.804575  1.004407\n",
       "9998  2.004951  0.753959  0.396773 -0.145489\n",
       "9999  0.541939 -0.075123  0.177560  1.169983\n",
       "\n",
       "[10000 rows x 4 columns]"
      ]
     },
     "execution_count": 5,
     "metadata": {},
     "output_type": "execute_result"
    }
   ],
   "source": [
    "pandopt_df"
   ]
  },
  {
   "cell_type": "code",
   "execution_count": 4,
   "id": "0d0cd823-b750-4f45-a532-0dfb79e9344b",
   "metadata": {},
   "outputs": [
    {
     "name": "stdout",
     "output_type": "stream",
     "text": [
      "1 False fidD3_to_D2_FalseD3_to_D2_False49995000agg_sum\n",
      "(10000, 4) (10, 1) (10000, 1)\n"
     ]
    },
    {
     "data": {
      "text/plain": [
       "(             0\n",
       " 0    -0.133653\n",
       " 1     1.602568\n",
       " 2     2.591749\n",
       " 3     2.197273\n",
       " 4    -0.397659\n",
       " ...        ...\n",
       " 9995 -0.541186\n",
       " 9996  0.627719\n",
       " 9997  0.983645\n",
       " 9998  0.660891\n",
       " 9999 -3.413658\n",
       " \n",
       " [10000 rows x 1 columns],\n",
       " 0      -0.133653\n",
       " 1       1.602568\n",
       " 2       2.591749\n",
       " 3       2.197273\n",
       " 4      -0.397659\n",
       "           ...   \n",
       " 9995   -0.541186\n",
       " 9996    0.627719\n",
       " 9997    0.983645\n",
       " 9998    0.660891\n",
       " 9999   -3.413658\n",
       " Length: 10000, dtype: float32)"
      ]
     },
     "execution_count": 4,
     "metadata": {},
     "output_type": "execute_result"
    }
   ],
   "source": [
    "pandopt_df.apply(agg_sum, axis=1), pandas_df.apply(agg_sum, axis=1)"
   ]
  },
  {
   "cell_type": "code",
   "execution_count": 5,
   "id": "04bb8df4-7888-44b4-ab18-590676de0fb6",
   "metadata": {},
   "outputs": [
    {
     "name": "stdout",
     "output_type": "stream",
     "text": [
      "0 False fidD3_to_D2_FalseD3_to_D2_FalseABCDagg_sum\n",
      "(4, 10000) (3, 1) (4, 1)\n"
     ]
    },
    {
     "data": {
      "text/plain": [
       "(            0\n",
       " A   71.124428\n",
       " B   17.681725\n",
       " C  142.122681\n",
       " D   49.475143,\n",
       " A     71.124413\n",
       " B     17.681728\n",
       " C    142.122620\n",
       " D     49.475113\n",
       " dtype: float32)"
      ]
     },
     "execution_count": 5,
     "metadata": {},
     "output_type": "execute_result"
    }
   ],
   "source": [
    "pandopt_df.apply(agg_sum, axis=0), pandas_df.apply(agg_sum, axis=0)"
   ]
  },
  {
   "cell_type": "code",
   "execution_count": 6,
   "id": "107cb42e-6c78-4351-a865-8efa5df77023",
   "metadata": {},
   "outputs": [
    {
     "name": "stdout",
     "output_type": "stream",
     "text": [
      "0 True fidD3_to_D2_TrueD3_to_D2_FalseABCDagg_sum\n",
      "(9976, 25, 4) (34, 4) (9976, 4)\n"
     ]
    },
    {
     "data": {
      "text/plain": [
       "(             A         B         C         D\n",
       " 24   -1.810552  0.529814  5.850923  3.157982\n",
       " 25    1.793020  6.805947  2.929333 -3.694774\n",
       " 26    5.453939  3.928572 -2.477421  1.767415\n",
       " 27    0.886278 -2.602606  1.246723  5.001317\n",
       " 28   -2.311397  0.811541  3.961298  1.378178\n",
       " ...        ...       ...       ...       ...\n",
       " 9995  1.162086  1.900003 -4.262682  4.577627\n",
       " 9996  2.853628 -5.362487  2.879831  1.991213\n",
       " 9997 -4.728848  1.645613  2.093932  3.259487\n",
       " 9998  2.038964  2.664794  3.370551 -3.117125\n",
       " 9999  0.688753  1.629583 -5.683341  4.045975\n",
       " \n",
       " [9976 rows x 4 columns],\n",
       "              A         B         C         D\n",
       " 0          NaN       NaN       NaN       NaN\n",
       " 1          NaN       NaN       NaN       NaN\n",
       " 2          NaN       NaN       NaN       NaN\n",
       " 3          NaN       NaN       NaN       NaN\n",
       " 4          NaN       NaN       NaN       NaN\n",
       " ...        ...       ...       ...       ...\n",
       " 9995 -1.285863 -0.991730  4.718940  0.935687\n",
       " 9996 -0.826392  0.018687  3.292290 -0.122399\n",
       " 9997  0.194070  0.518326  1.526473  0.031314\n",
       " 9998  2.498870  0.087310  4.332323 -1.961319\n",
       " 9999  4.315579 -3.738416  3.122828 -3.019023\n",
       " \n",
       " [10000 rows x 4 columns])"
      ]
     },
     "execution_count": 6,
     "metadata": {},
     "output_type": "execute_result"
    }
   ],
   "source": [
    "pandopt_df.rolling(25).apply(agg_sum), pandas_df.rolling(25).apply(agg_sum)"
   ]
  },
  {
   "cell_type": "code",
   "execution_count": 7,
   "id": "acc17a98-8502-480f-a12c-ba1f659d6769",
   "metadata": {},
   "outputs": [
    {
     "data": {
      "text/html": [
       "<div>\n",
       "<style scoped>\n",
       "    .dataframe tbody tr th:only-of-type {\n",
       "        vertical-align: middle;\n",
       "    }\n",
       "\n",
       "    .dataframe tbody tr th {\n",
       "        vertical-align: top;\n",
       "    }\n",
       "\n",
       "    .dataframe thead th {\n",
       "        text-align: right;\n",
       "    }\n",
       "</style>\n",
       "<table border=\"1\" class=\"dataframe\">\n",
       "  <thead>\n",
       "    <tr style=\"text-align: right;\">\n",
       "      <th></th>\n",
       "      <th>A</th>\n",
       "      <th>B</th>\n",
       "      <th>C</th>\n",
       "      <th>D</th>\n",
       "    </tr>\n",
       "  </thead>\n",
       "  <tbody>\n",
       "    <tr>\n",
       "      <th>0</th>\n",
       "      <td>NaN</td>\n",
       "      <td>NaN</td>\n",
       "      <td>NaN</td>\n",
       "      <td>NaN</td>\n",
       "    </tr>\n",
       "    <tr>\n",
       "      <th>1</th>\n",
       "      <td>NaN</td>\n",
       "      <td>NaN</td>\n",
       "      <td>NaN</td>\n",
       "      <td>NaN</td>\n",
       "    </tr>\n",
       "    <tr>\n",
       "      <th>2</th>\n",
       "      <td>NaN</td>\n",
       "      <td>NaN</td>\n",
       "      <td>NaN</td>\n",
       "      <td>NaN</td>\n",
       "    </tr>\n",
       "    <tr>\n",
       "      <th>3</th>\n",
       "      <td>NaN</td>\n",
       "      <td>NaN</td>\n",
       "      <td>NaN</td>\n",
       "      <td>NaN</td>\n",
       "    </tr>\n",
       "    <tr>\n",
       "      <th>4</th>\n",
       "      <td>NaN</td>\n",
       "      <td>NaN</td>\n",
       "      <td>NaN</td>\n",
       "      <td>NaN</td>\n",
       "    </tr>\n",
       "    <tr>\n",
       "      <th>...</th>\n",
       "      <td>...</td>\n",
       "      <td>...</td>\n",
       "      <td>...</td>\n",
       "      <td>...</td>\n",
       "    </tr>\n",
       "    <tr>\n",
       "      <th>9995</th>\n",
       "      <td>-1.285863</td>\n",
       "      <td>-0.991730</td>\n",
       "      <td>4.718940</td>\n",
       "      <td>0.935687</td>\n",
       "    </tr>\n",
       "    <tr>\n",
       "      <th>9996</th>\n",
       "      <td>-0.826392</td>\n",
       "      <td>0.018687</td>\n",
       "      <td>3.292290</td>\n",
       "      <td>-0.122399</td>\n",
       "    </tr>\n",
       "    <tr>\n",
       "      <th>9997</th>\n",
       "      <td>0.194070</td>\n",
       "      <td>0.518326</td>\n",
       "      <td>1.526473</td>\n",
       "      <td>0.031314</td>\n",
       "    </tr>\n",
       "    <tr>\n",
       "      <th>9998</th>\n",
       "      <td>2.498870</td>\n",
       "      <td>0.087310</td>\n",
       "      <td>4.332323</td>\n",
       "      <td>-1.961319</td>\n",
       "    </tr>\n",
       "    <tr>\n",
       "      <th>9999</th>\n",
       "      <td>4.315579</td>\n",
       "      <td>-3.738416</td>\n",
       "      <td>3.122828</td>\n",
       "      <td>-3.019023</td>\n",
       "    </tr>\n",
       "  </tbody>\n",
       "</table>\n",
       "<p>10000 rows × 4 columns</p>\n",
       "</div>"
      ],
      "text/plain": [
       "             A         B         C         D\n",
       "0          NaN       NaN       NaN       NaN\n",
       "1          NaN       NaN       NaN       NaN\n",
       "2          NaN       NaN       NaN       NaN\n",
       "3          NaN       NaN       NaN       NaN\n",
       "4          NaN       NaN       NaN       NaN\n",
       "...        ...       ...       ...       ...\n",
       "9995 -1.285863 -0.991730  4.718940  0.935687\n",
       "9996 -0.826392  0.018687  3.292290 -0.122399\n",
       "9997  0.194070  0.518326  1.526473  0.031314\n",
       "9998  2.498870  0.087310  4.332323 -1.961319\n",
       "9999  4.315579 -3.738416  3.122828 -3.019023\n",
       "\n",
       "[10000 rows x 4 columns]"
      ]
     },
     "execution_count": 7,
     "metadata": {},
     "output_type": "execute_result"
    }
   ],
   "source": [
    "pandas_df.rolling(25).apply(agg_sum)"
   ]
  },
  {
   "cell_type": "code",
   "execution_count": 8,
   "id": "547ab8d1-39af-4189-8312-368a9528306e",
   "metadata": {},
   "outputs": [
    {
     "name": "stdout",
     "output_type": "stream",
     "text": [
      "0 True fidD3_to_D2_TrueD3_to_D2_FalseABCDagg_sum\n",
      "(9976, 25, 4) (34, 4) (9976, 4)\n"
     ]
    },
    {
     "data": {
      "text/plain": [
       "             A         B         C         D\n",
       "24   -1.810552  0.529814  5.850923  3.157982\n",
       "25    1.793020  6.805947  2.929333 -3.694774\n",
       "26    5.453939  3.928572 -2.477421  1.767415\n",
       "27    0.886278 -2.602606  1.246723  5.001317\n",
       "28   -2.311397  0.811541  3.961298  1.378178\n",
       "...        ...       ...       ...       ...\n",
       "9995  1.162086  1.900003 -4.262682  4.577627\n",
       "9996  2.853628 -5.362487  2.879831  1.991213\n",
       "9997 -4.728848  1.645613  2.093932  3.259487\n",
       "9998  2.038964  2.664794  3.370551 -3.117125\n",
       "9999  0.688753  1.629583 -5.683341  4.045975\n",
       "\n",
       "[9976 rows x 4 columns]"
      ]
     },
     "execution_count": 8,
     "metadata": {},
     "output_type": "execute_result"
    }
   ],
   "source": [
    "pandopt_df.rolling(25).apply(agg_sum)"
   ]
  },
  {
   "cell_type": "code",
   "execution_count": 9,
   "id": "19a488ef-8962-4174-9224-6e1bd365644f",
   "metadata": {},
   "outputs": [
    {
     "data": {
      "text/plain": [
       "           0\n",
       "A  75.558098\n",
       "B  74.328766\n",
       "C  30.660330\n",
       "D -61.681072"
      ]
     },
     "execution_count": 9,
     "metadata": {},
     "output_type": "execute_result"
    }
   ],
   "source": [
    "result=np.array([[ 75.55809784],\n",
    " [ 74.32876587],\n",
    " [ 30.66032982],\n",
    " [-61.68107224]])\n",
    "new_index= None\n",
    "new_columns = ['A', 'B', 'C', 'D']\n",
    "pandopt(result, index=new_columns, columns=None)"
   ]
  },
  {
   "cell_type": "code",
   "execution_count": null,
   "id": "8b104067-7dcb-4506-a630-555338069bc3",
   "metadata": {},
   "outputs": [],
   "source": []
  },
  {
   "cell_type": "code",
   "execution_count": 10,
   "id": "34a6a0c6-86bd-4023-b5b0-42df13b9671c",
   "metadata": {},
   "outputs": [
    {
     "name": "stdout",
     "output_type": "stream",
     "text": [
      "1 True fidD3_to_D2_TrueD3_to_D2_TrueTrueagg_sum\n",
      "(9976, 25, 4) (34, 1) (9976, 1)\n"
     ]
    },
    {
     "data": {
      "text/plain": [
       "             0\n",
       "24    7.728168\n",
       "25    7.833527\n",
       "26    8.672508\n",
       "27    4.531712\n",
       "28    3.839619\n",
       "...        ...\n",
       "9995  3.377035\n",
       "9996  2.362187\n",
       "9997  2.270183\n",
       "9998  4.957183\n",
       "9999  0.680968\n",
       "\n",
       "[9976 rows x 1 columns]"
      ]
     },
     "execution_count": 10,
     "metadata": {},
     "output_type": "execute_result"
    }
   ],
   "source": [
    "pandopt_df.rolling(25).apply(agg_sum, axis=1)"
   ]
  },
  {
   "cell_type": "code",
   "execution_count": 11,
   "id": "9ba13919-ebda-4c5d-b0c3-cb63455ab3f0",
   "metadata": {},
   "outputs": [
    {
     "name": "stderr",
     "output_type": "stream",
     "text": [
      "\n",
      "KeyboardInterrupt\n",
      "\n"
     ]
    }
   ],
   "source": [
    "pandas_df.rolling(25).apply(agg_sum)"
   ]
  },
  {
   "cell_type": "code",
   "execution_count": null,
   "id": "8ce44839-92c1-4259-941d-5fe68e765cce",
   "metadata": {
    "scrolled": true
   },
   "outputs": [],
   "source": [
    "def agg_sum(z):\n",
    "    return np.sum(z)\n",
    "    \n",
    "for ten_exponant in range(4,10):\n",
    "    dfsize=int(10**ten_exponant)\n",
    "    print(f'testing 1e{ten_exponant}')\n",
    "    pandas_df = pd.DataFrame(np.random.randn(dfsize, 4), columns=['A', 'B', 'C', 'D']).astype(np.float32)\n",
    "    pandopt_df = pandopt(pandas_df)\n",
    "    if ten_exponant < 6:\n",
    "        t1=time.time()\n",
    "        a = pandas_df.agg(agg_sum, axis=1).rolling(25).apply(agg_sum)\n",
    "        print('pandas apply: ', time.time() - t1)\n",
    "    \n",
    "    t1=time.time()\n",
    "    a2 = pandas_df.sum(axis=1).rolling(25).sum()\n",
    "    print('pandas sum: ', time.time() - t1)\n",
    "    t1=time.time()\n",
    "\n",
    "    array = pandas_df.to_numpy()\n",
    "    t1=time.time()\n",
    "    a2 = pandas_df.sum(axis=1).rolling(25).sum()\n",
    "    print('numpy sum: ', time.time() - t1)\n",
    "    t1=time.time()\n",
    "\n",
    "    b = pandopt_df.rolling(25).apply(agg_sum, axis=1)\n",
    "    print('pandopt apply: ', time.time() - t1)\n",
    "    t1=time.time()\n"
   ]
  },
  {
   "cell_type": "code",
   "execution_count": null,
   "id": "609e7cbc-276c-4012-87a4-d3cbba032eea",
   "metadata": {},
   "outputs": [],
   "source": []
  },
  {
   "cell_type": "code",
   "execution_count": null,
   "id": "1f277ba8-0324-44a4-9346-f831c0a87682",
   "metadata": {},
   "outputs": [],
   "source": [
    "\n",
    "for ten_exponant in range(4,10):\n",
    "    dfsize=int(10**ten_exponant)\n",
    "    print(f'testing 1e{ten_exponant}')\n",
    "\n",
    "    pandas_df = pd.DataFrame(np.random.randn(dfsize, 4), columns=['A', 'B', 'C', 'D']).astype(np.float32)\n",
    "    pandopt_df = pandopt(pandas_df)\n",
    "    t1=time.time()\n",
    "    a2 = pandas_df.rolling(25).sum()\n",
    "    print('pandas: ', time.time() - t1)\n",
    "    t1=time.time()\n",
    "    b = pandopt_df.rolling(25).apply(agg_sum, axis=1)\n",
    "    print('pandopt: ', time.time() - t1)\n",
    "    print(np.sum(a2.dropna().values), np.sum(b.values))\n",
    "    print()"
   ]
  },
  {
   "cell_type": "code",
   "execution_count": null,
   "id": "f4888658-698e-4a93-bb63-b4146745001a",
   "metadata": {},
   "outputs": [],
   "source": [
    "pandopt_df = pandopt(pandas_df)\n",
    "\n",
    "%time a = pandas_df.rolling(25).apply(agg_sum)\n",
    "%time a2 = pandas_df.rolling(25).sum()\n",
    "%time b = pandopt_df.rolling(25).apply(agg_sum, axis=1)\n",
    "\n",
    "print(np.sum(a.dropna().values), np.sum(a2.dropna().values), np.sum(b.values))"
   ]
  },
  {
   "cell_type": "code",
   "execution_count": null,
   "id": "69884965-27bc-43e3-afde-a7d5103c511a",
   "metadata": {},
   "outputs": [],
   "source": [
    "pandopt_df.rolling(25).apply(agg_sum, axis=2)"
   ]
  },
  {
   "cell_type": "code",
   "execution_count": null,
   "id": "3e32dd15-7e52-4ace-ba9c-b898aed81e0f",
   "metadata": {},
   "outputs": [],
   "source": [
    "pandas_df = pd.DataFrame(np.random.randn(1000, 4), columns=['A', 'B', 'C', 'D']).astype(np.float32)\n",
    "pandopt_df = pandopt(pandas_df)\n",
    "\n",
    "%time b = pandopt_df.rolling(25).apply(agg_sum, axis=1)\n",
    "%time c = pandopt_df.rolling(25).apply(agg_sum, axis=0)\n"
   ]
  },
  {
   "cell_type": "code",
   "execution_count": null,
   "id": "00e5000a-0355-4837-a036-59cf766ac6ac",
   "metadata": {},
   "outputs": [],
   "source": [
    "b, c"
   ]
  },
  {
   "cell_type": "code",
   "execution_count": null,
   "id": "879b84a2-9cac-4e6c-8fe7-4f7bd91bef4c",
   "metadata": {},
   "outputs": [],
   "source": [
    "pandopt_df.__class__._compiled_func"
   ]
  },
  {
   "cell_type": "code",
   "execution_count": null,
   "id": "3ef2372e-ae51-4678-bf88-cccc9b1d1f62",
   "metadata": {},
   "outputs": [],
   "source": [
    "from numpy.lib.stride_tricks import sliding_window_view\n",
    "self=pandopt_df.rolling(25)\n",
    "data = sliding_window_view(self._idf.to_numpy(), self.window, axis=0)\n",
    "data[:,].reshape((data.shape[0], data.shape[2], data.shape[1])).shape\n"
   ]
  },
  {
   "cell_type": "code",
   "execution_count": null,
   "id": "b525db7c-f7fd-4e0d-91b3-63d62282ae78",
   "metadata": {},
   "outputs": [],
   "source": [
    "pandas_df = pd.DataFrame(np.random.randn(1000, 4), columns=['A', 'B', 'C', 'D']).astype(np.float32)\n",
    "pandopt_df = pandopt(pandas_df)\n",
    "\n",
    "%time a = pandas_df.agg(agg_sum, axis=1).rolling(25).apply(agg_sum)\n",
    "%time a2 = pandas_df.sum(axis=1).rolling(25).sum()\n",
    "%time b = pandopt_df.rolling(25).apply(agg_sum, axis=0)\n",
    "\n",
    "print(np.sum(a.dropna().values), np.sum(a2.dropna().values), np.sum(b.values))"
   ]
  },
  {
   "cell_type": "code",
   "execution_count": null,
   "id": "5374c408-3d7d-4e8f-9e04-7f4f556b9e8b",
   "metadata": {},
   "outputs": [],
   "source": [
    "pandopt._compiled_func"
   ]
  },
  {
   "cell_type": "code",
   "execution_count": null,
   "id": "d15b1a09-2ea6-4fdf-904e-e05157d51158",
   "metadata": {
    "scrolled": true
   },
   "outputs": [],
   "source": [
    "\n",
    "def measure_performance(df, func, window_size=3):\n",
    "    try:\n",
    "        if type(df)==pandopt:\n",
    "            operation = functools.partial(df.rolling(window=window_size).apply, func, axis = 0,raw=True)\n",
    "        else:\n",
    "            operation = functools.partial(df.rolling(window=window_size).apply, func, raw=True)\n",
    "        start_time = timeit.default_timer()\n",
    "        result = operation()\n",
    "        elapsed_time = timeit.default_timer() - start_time\n",
    "        return np.sum(result.dropna().values), elapsed_time, None\n",
    "    except Exception as e:\n",
    "        return None, None, str(e)\n",
    "\n",
    "def run_tests(data_size, agg_funcs):\n",
    "    results = {}\n",
    "    total_tests = (data_size - 1) * len(agg_funcs) \n",
    "    progress_bar = tqdm.tqdm(total=total_tests, desc=\"Running Tests\", ncols=100)\n",
    "\n",
    "    for test_num in range(1, data_size):\n",
    "        df_size = int(10**test_num)\n",
    "        for func in agg_funcs:\n",
    "            for test_iter in range(15):\n",
    "                pandas_df = pd.DataFrame(np.random.randn(df_size, 4), columns=['A', 'B', 'C', 'D']).astype(np.float32)\n",
    "                pandopt_df = pandopt(pandas_df)\n",
    "                pandas_checksum, pandas_time, pandas_error = measure_performance(pandas_df, func)\n",
    "                pandopt_checksum, pandopt_time, pandopt_error = measure_performance(pandopt_df, func)\n",
    "\n",
    "                key = f\"Size: 10^{test_num}, Func: {func.__name__}, Test: {test_iter}\"\n",
    "                results[key] = {\n",
    "                    \"Pandas Time (s)\": pandas_time,\n",
    "                    \"Pandopt Time (s)\": pandopt_time,\n",
    "                    \"Checksum Pandas\": pandas_checksum,\n",
    "                    \"Checksum Pandopt\": pandopt_checksum,\n",
    "                    \"Pandas Error\": pandas_error,\n",
    "                    \"Pandopt Error\": pandopt_error\n",
    "                }\n",
    "\n",
    "            progress_bar.update(1)\n",
    "\n",
    "    progress_bar.close()\n",
    "    return pd.DataFrame.from_dict(results, orient='index')\n",
    "\n",
    "agg_functions = [agg_sum, agg_mean, agg_max, agg_min, agg_std]\n",
    "\n",
    "results_df = run_tests(data_size=5, agg_funcs=agg_functions)\n",
    "results_df"
   ]
  },
  {
   "cell_type": "code",
   "execution_count": null,
   "id": "e25bbcce-f201-47e8-8701-7ad7c8c1a89e",
   "metadata": {},
   "outputs": [],
   "source": [
    "results_df['time reduction'] = results_df[\"Pandopt Time (s)\"] / results_df[\"Pandas Time (s)\"] - 1\n",
    "results_df['performance multiplicator'] = results_df[\"Pandas Time (s)\"] / results_df[\"Pandopt Time (s)\"] - 1\n",
    "results_df"
   ]
  },
  {
   "cell_type": "code",
   "execution_count": null,
   "id": "4dd3df65-ddb5-4e78-87e4-268694748e17",
   "metadata": {},
   "outputs": [],
   "source": [
    "results_df.to_csv('benchmark.csv')\n",
    "results_df"
   ]
  },
  {
   "cell_type": "code",
   "execution_count": null,
   "id": "4ec21d7e-f19a-4ed7-a415-dce7f5ae1712",
   "metadata": {},
   "outputs": [],
   "source": [
    "measure_performance(pandas_df, agg_mean, 5)"
   ]
  },
  {
   "cell_type": "code",
   "execution_count": null,
   "id": "d94abd32-bfa7-4982-abaa-2b68318cb2f6",
   "metadata": {},
   "outputs": [],
   "source": []
  },
  {
   "cell_type": "code",
   "execution_count": null,
   "id": "f1cb73e3-127c-4e90-8447-e21677c8782b",
   "metadata": {},
   "outputs": [],
   "source": []
  },
  {
   "cell_type": "code",
   "execution_count": null,
   "id": "4eb83f6e-3828-4f14-99fe-be65c4d907c6",
   "metadata": {},
   "outputs": [],
   "source": []
  },
  {
   "cell_type": "code",
   "execution_count": null,
   "id": "d5f5ec0b-9e3d-4929-8058-7c4f223e92e5",
   "metadata": {},
   "outputs": [],
   "source": [
    "pandopt_df"
   ]
  },
  {
   "cell_type": "code",
   "execution_count": null,
   "id": "fcff3b6b-0180-4a8d-a3ad-6c3d198972ca",
   "metadata": {},
   "outputs": [],
   "source": [
    "pandopt_df.rolling(25)._idf._compiled_func['fid4950agg_sum']['_vectorized'](data)"
   ]
  },
  {
   "cell_type": "code",
   "execution_count": null,
   "id": "c033d201-42b2-4269-8e46-b0943223d19e",
   "metadata": {},
   "outputs": [],
   "source": [
    "results_df['performance multiplicator'].dropna()\n"
   ]
  }
 ],
 "metadata": {
  "kernelspec": {
   "display_name": "Python 3 (ipykernel)",
   "language": "python",
   "name": "python3"
  },
  "language_info": {
   "codemirror_mode": {
    "name": "ipython",
    "version": 3
   },
   "file_extension": ".py",
   "mimetype": "text/x-python",
   "name": "python",
   "nbconvert_exporter": "python",
   "pygments_lexer": "ipython3",
   "version": "3.12.2"
  }
 },
 "nbformat": 4,
 "nbformat_minor": 5
}
