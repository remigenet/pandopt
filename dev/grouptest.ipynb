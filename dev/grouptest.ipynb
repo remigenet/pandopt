{
 "cells": [
  {
   "cell_type": "code",
   "execution_count": 1,
   "id": "8df405ae-c670-4841-89d1-1a2e78b575a7",
   "metadata": {},
   "outputs": [],
   "source": [
    "import pandas as pd\n",
    "import pandopt as pdo\n",
    "import numpy as np\n",
    "import numba as nb\n",
    "import time\n",
    "\n",
    "njit=nb.jit(parallel=True, fastmath=True, forceinline=True, looplift=True, inline='always', target_backend='host', no_cfunc_wrapper=True, no_rewrites=True ,nopython=True, nogil=True)\n",
    "\n",
    "df = pdo.DataFrame(np.random.randn(100_000_000, 4), columns=['A', 'B', 'C', 'D'])#.astype(np.float32)\n",
    "df['E'] = np.random.randint(0, 250, 100_000_000, dtype=np.int16)\n"
   ]
  },
  {
   "cell_type": "code",
   "execution_count": 2,
   "id": "95ed63a5-d096-4e0d-834b-ecaaf59d1351",
   "metadata": {},
   "outputs": [
    {
     "name": "stdout",
     "output_type": "stream",
     "text": [
      "pandas classic\n",
      "2.37 s ± 11.7 ms per loop (mean ± std. dev. of 7 runs, 1 loop each)\n"
     ]
    },
    {
     "data": {
      "text/plain": [
       "(250, 8)"
      ]
     },
     "execution_count": 2,
     "metadata": {},
     "output_type": "execute_result"
    }
   ],
   "source": [
    "# Define the column-function mapping with custom functions@nb.jit\n",
    "def jcustom_sum(array):\n",
    "    return np.sum(array)\n",
    "\n",
    "def jcustom_mean(array):\n",
    "    return np.mean(array)\n",
    "\n",
    "def jcustom_mix(array):\n",
    "    return np.mix(array)\n",
    "    \n",
    "def jcustom_max(array):\n",
    "    return np.max(array)\n",
    "    \n",
    "    \n",
    "col_func_map = {\n",
    "    'A': ['sum', 'mean'],\n",
    "    'B': ['max', 'min'],\n",
    "    'C': ['sum', 'mean'],\n",
    "    'D': ['max', 'min'],\n",
    "}\n",
    "\n",
    "print('pandas classic')\n",
    "%timeit df.to_pandas().groupby('E').aggregate(col_func_map)\n",
    "res=df.to_pandas().groupby('E').aggregate(col_func_map)\n",
    "res.shape"
   ]
  },
  {
   "cell_type": "code",
   "execution_count": 11,
   "id": "50434b91-fac4-4415-9311-84e0e7e09d97",
   "metadata": {},
   "outputs": [
    {
     "name": "stdout",
     "output_type": "stream",
     "text": [
      "1.5 s ± 11.6 ms per loop (mean ± std. dev. of 7 runs, 1 loop each)\n"
     ]
    },
    {
     "data": {
      "text/plain": [
       "(250, 8)"
      ]
     },
     "execution_count": 11,
     "metadata": {},
     "output_type": "execute_result"
    }
   ],
   "source": [
    "%timeit res=df.to_pandas().groupby('E').aggregate(col_func_map, engine='numba', engine_kwargs=dict(parallel=True, fastmath=True, forceinline=True, looplift=True, inline='always', target_backend='host', nopython=True, nogil=True))\n",
    "res=df.to_pandas().groupby('E').aggregate(col_func_map)\n",
    "res.shape"
   ]
  },
  {
   "cell_type": "code",
   "execution_count": 3,
   "id": "57bcc788-99bd-4aab-83d5-155c073de600",
   "metadata": {},
   "outputs": [
    {
     "ename": "KeyError",
     "evalue": "\"['y', 'x'] not in index\"",
     "output_type": "error",
     "traceback": [
      "\u001b[0;31m---------------------------------------------------------------------------\u001b[0m",
      "\u001b[0;31mKeyError\u001b[0m                                  Traceback (most recent call last)",
      "Cell \u001b[0;32mIn[3], line 36\u001b[0m\n\u001b[1;32m     29\u001b[0m     res_ga_njit \u001b[38;5;241m=\u001b[39m df[[by, \u001b[38;5;124m'\u001b[39m\u001b[38;5;124mgrpid\u001b[39m\u001b[38;5;124m'\u001b[39m]]\u001b[38;5;241m.\u001b[39mdrop_duplicates()\u001b[38;5;241m.\u001b[39mmerge(\n\u001b[1;32m     30\u001b[0m         pd\u001b[38;5;241m.\u001b[39mDataFrame(resarr, columns\u001b[38;5;241m=\u001b[39m[\u001b[38;5;124m'\u001b[39m\u001b[38;5;124mgrpid\u001b[39m\u001b[38;5;124m'\u001b[39m, \u001b[38;5;124m'\u001b[39m\u001b[38;5;124mconst\u001b[39m\u001b[38;5;124m'\u001b[39m, \u001b[38;5;124m'\u001b[39m\u001b[38;5;124mx\u001b[39m\u001b[38;5;124m'\u001b[39m]), \n\u001b[1;32m     31\u001b[0m         on\u001b[38;5;241m=\u001b[39m\u001b[38;5;124m'\u001b[39m\u001b[38;5;124mgrpid\u001b[39m\u001b[38;5;124m'\u001b[39m, \n\u001b[1;32m     32\u001b[0m         how\u001b[38;5;241m=\u001b[39m\u001b[38;5;124m'\u001b[39m\u001b[38;5;124mleft\u001b[39m\u001b[38;5;124m'\u001b[39m\n\u001b[1;32m     33\u001b[0m     )\u001b[38;5;241m.\u001b[39mset_index([by])\u001b[38;5;241m.\u001b[39mdrop(columns\u001b[38;5;241m=\u001b[39m[\u001b[38;5;124m'\u001b[39m\u001b[38;5;124mgrpid\u001b[39m\u001b[38;5;124m'\u001b[39m])\n\u001b[1;32m     34\u001b[0m     \u001b[38;5;28;01mreturn\u001b[39;00m res_ga_njit\n\u001b[0;32m---> 36\u001b[0m \u001b[43mgrp\u001b[49m\u001b[43m(\u001b[49m\u001b[43mdf\u001b[49m\u001b[43m,\u001b[49m\u001b[43m \u001b[49m\u001b[38;5;124;43m'\u001b[39;49m\u001b[38;5;124;43mE\u001b[39;49m\u001b[38;5;124;43m'\u001b[39;49m\u001b[43m,\u001b[49m\u001b[43m \u001b[49m\u001b[43mjcustom_mean\u001b[49m\u001b[43m)\u001b[49m\n",
      "Cell \u001b[0;32mIn[3], line 28\u001b[0m, in \u001b[0;36mgrp\u001b[0;34m(df, by, func)\u001b[0m\n\u001b[1;32m     24\u001b[0m         istart \u001b[38;5;241m=\u001b[39m iend\n\u001b[1;32m     25\u001b[0m     \u001b[38;5;28;01mreturn\u001b[39;00m reslist\n\u001b[0;32m---> 28\u001b[0m resarr \u001b[38;5;241m=\u001b[39m groupby_apply_njit(\u001b[43mdf\u001b[49m\u001b[43m[\u001b[49m\u001b[43m[\u001b[49m\u001b[38;5;124;43m'\u001b[39;49m\u001b[38;5;124;43mgrpid\u001b[39;49m\u001b[38;5;124;43m'\u001b[39;49m\u001b[43m,\u001b[49m\u001b[43m \u001b[49m\u001b[38;5;124;43m'\u001b[39;49m\u001b[38;5;124;43my\u001b[39;49m\u001b[38;5;124;43m'\u001b[39;49m\u001b[43m,\u001b[49m\u001b[43m \u001b[49m\u001b[38;5;124;43m'\u001b[39;49m\u001b[38;5;124;43mx\u001b[39;49m\u001b[38;5;124;43m'\u001b[39;49m\u001b[43m]\u001b[49m\u001b[43m]\u001b[49m\u001b[38;5;241m.\u001b[39mto_numpy(), func)\n\u001b[1;32m     29\u001b[0m res_ga_njit \u001b[38;5;241m=\u001b[39m df[[by, \u001b[38;5;124m'\u001b[39m\u001b[38;5;124mgrpid\u001b[39m\u001b[38;5;124m'\u001b[39m]]\u001b[38;5;241m.\u001b[39mdrop_duplicates()\u001b[38;5;241m.\u001b[39mmerge(\n\u001b[1;32m     30\u001b[0m     pd\u001b[38;5;241m.\u001b[39mDataFrame(resarr, columns\u001b[38;5;241m=\u001b[39m[\u001b[38;5;124m'\u001b[39m\u001b[38;5;124mgrpid\u001b[39m\u001b[38;5;124m'\u001b[39m, \u001b[38;5;124m'\u001b[39m\u001b[38;5;124mconst\u001b[39m\u001b[38;5;124m'\u001b[39m, \u001b[38;5;124m'\u001b[39m\u001b[38;5;124mx\u001b[39m\u001b[38;5;124m'\u001b[39m]), \n\u001b[1;32m     31\u001b[0m     on\u001b[38;5;241m=\u001b[39m\u001b[38;5;124m'\u001b[39m\u001b[38;5;124mgrpid\u001b[39m\u001b[38;5;124m'\u001b[39m, \n\u001b[1;32m     32\u001b[0m     how\u001b[38;5;241m=\u001b[39m\u001b[38;5;124m'\u001b[39m\u001b[38;5;124mleft\u001b[39m\u001b[38;5;124m'\u001b[39m\n\u001b[1;32m     33\u001b[0m )\u001b[38;5;241m.\u001b[39mset_index([by])\u001b[38;5;241m.\u001b[39mdrop(columns\u001b[38;5;241m=\u001b[39m[\u001b[38;5;124m'\u001b[39m\u001b[38;5;124mgrpid\u001b[39m\u001b[38;5;124m'\u001b[39m])\n\u001b[1;32m     34\u001b[0m \u001b[38;5;28;01mreturn\u001b[39;00m res_ga_njit\n",
      "File \u001b[0;32m~/.pyenv/versions/3.12.1/lib/python3.12/site-packages/pandas/core/frame.py:4096\u001b[0m, in \u001b[0;36mDataFrame.__getitem__\u001b[0;34m(self, key)\u001b[0m\n\u001b[1;32m   4094\u001b[0m     \u001b[38;5;28;01mif\u001b[39;00m is_iterator(key):\n\u001b[1;32m   4095\u001b[0m         key \u001b[38;5;241m=\u001b[39m \u001b[38;5;28mlist\u001b[39m(key)\n\u001b[0;32m-> 4096\u001b[0m     indexer \u001b[38;5;241m=\u001b[39m \u001b[38;5;28;43mself\u001b[39;49m\u001b[38;5;241;43m.\u001b[39;49m\u001b[43mcolumns\u001b[49m\u001b[38;5;241;43m.\u001b[39;49m\u001b[43m_get_indexer_strict\u001b[49m\u001b[43m(\u001b[49m\u001b[43mkey\u001b[49m\u001b[43m,\u001b[49m\u001b[43m \u001b[49m\u001b[38;5;124;43m\"\u001b[39;49m\u001b[38;5;124;43mcolumns\u001b[39;49m\u001b[38;5;124;43m\"\u001b[39;49m\u001b[43m)\u001b[49m[\u001b[38;5;241m1\u001b[39m]\n\u001b[1;32m   4098\u001b[0m \u001b[38;5;66;03m# take() does not accept boolean indexers\u001b[39;00m\n\u001b[1;32m   4099\u001b[0m \u001b[38;5;28;01mif\u001b[39;00m \u001b[38;5;28mgetattr\u001b[39m(indexer, \u001b[38;5;124m\"\u001b[39m\u001b[38;5;124mdtype\u001b[39m\u001b[38;5;124m\"\u001b[39m, \u001b[38;5;28;01mNone\u001b[39;00m) \u001b[38;5;241m==\u001b[39m \u001b[38;5;28mbool\u001b[39m:\n",
      "File \u001b[0;32m~/.pyenv/versions/3.12.1/lib/python3.12/site-packages/pandas/core/indexes/base.py:6199\u001b[0m, in \u001b[0;36mIndex._get_indexer_strict\u001b[0;34m(self, key, axis_name)\u001b[0m\n\u001b[1;32m   6196\u001b[0m \u001b[38;5;28;01melse\u001b[39;00m:\n\u001b[1;32m   6197\u001b[0m     keyarr, indexer, new_indexer \u001b[38;5;241m=\u001b[39m \u001b[38;5;28mself\u001b[39m\u001b[38;5;241m.\u001b[39m_reindex_non_unique(keyarr)\n\u001b[0;32m-> 6199\u001b[0m \u001b[38;5;28;43mself\u001b[39;49m\u001b[38;5;241;43m.\u001b[39;49m\u001b[43m_raise_if_missing\u001b[49m\u001b[43m(\u001b[49m\u001b[43mkeyarr\u001b[49m\u001b[43m,\u001b[49m\u001b[43m \u001b[49m\u001b[43mindexer\u001b[49m\u001b[43m,\u001b[49m\u001b[43m \u001b[49m\u001b[43maxis_name\u001b[49m\u001b[43m)\u001b[49m\n\u001b[1;32m   6201\u001b[0m keyarr \u001b[38;5;241m=\u001b[39m \u001b[38;5;28mself\u001b[39m\u001b[38;5;241m.\u001b[39mtake(indexer)\n\u001b[1;32m   6202\u001b[0m \u001b[38;5;28;01mif\u001b[39;00m \u001b[38;5;28misinstance\u001b[39m(key, Index):\n\u001b[1;32m   6203\u001b[0m     \u001b[38;5;66;03m# GH 42790 - Preserve name from an Index\u001b[39;00m\n",
      "File \u001b[0;32m~/.pyenv/versions/3.12.1/lib/python3.12/site-packages/pandas/core/indexes/base.py:6251\u001b[0m, in \u001b[0;36mIndex._raise_if_missing\u001b[0;34m(self, key, indexer, axis_name)\u001b[0m\n\u001b[1;32m   6248\u001b[0m     \u001b[38;5;28;01mraise\u001b[39;00m \u001b[38;5;167;01mKeyError\u001b[39;00m(\u001b[38;5;124mf\u001b[39m\u001b[38;5;124m\"\u001b[39m\u001b[38;5;124mNone of [\u001b[39m\u001b[38;5;132;01m{\u001b[39;00mkey\u001b[38;5;132;01m}\u001b[39;00m\u001b[38;5;124m] are in the [\u001b[39m\u001b[38;5;132;01m{\u001b[39;00maxis_name\u001b[38;5;132;01m}\u001b[39;00m\u001b[38;5;124m]\u001b[39m\u001b[38;5;124m\"\u001b[39m)\n\u001b[1;32m   6250\u001b[0m not_found \u001b[38;5;241m=\u001b[39m \u001b[38;5;28mlist\u001b[39m(ensure_index(key)[missing_mask\u001b[38;5;241m.\u001b[39mnonzero()[\u001b[38;5;241m0\u001b[39m]]\u001b[38;5;241m.\u001b[39munique())\n\u001b[0;32m-> 6251\u001b[0m \u001b[38;5;28;01mraise\u001b[39;00m \u001b[38;5;167;01mKeyError\u001b[39;00m(\u001b[38;5;124mf\u001b[39m\u001b[38;5;124m\"\u001b[39m\u001b[38;5;132;01m{\u001b[39;00mnot_found\u001b[38;5;132;01m}\u001b[39;00m\u001b[38;5;124m not in index\u001b[39m\u001b[38;5;124m\"\u001b[39m)\n",
      "\u001b[0;31mKeyError\u001b[0m: \"['y', 'x'] not in index\""
     ]
    }
   ],
   "source": [
    "@nb.njit\n",
    "def jcustom_mean(array):\n",
    "    return np.mean(array)\n",
    "    \n",
    "def grp(df, by, func):\n",
    "    df['grpid'] = df.groupby([by]).ngroup()\n",
    "    @njit\n",
    "    def groupby_apply_njit(data, func):\n",
    "        \"\"\"The first column of data is group id. The second is y and the third is x.\"\"\"\n",
    "        ngroups = int(data[-1,0])+1   # Number of groups\n",
    "        nrows = data.shape[0]    # Number of rows\n",
    "        reslist = []\n",
    "        istart = 0\n",
    "        for k in range(ngroups):\n",
    "            # Find start and end rows of the group\n",
    "            # (istart point to the start and iend-1 point to the end\n",
    "            iend = istart + 1\n",
    "            while iend < nrows and data[iend-1,0] == data[iend,0]:\n",
    "                iend += 1\n",
    "            # Apply the function to the numpy array in the group\n",
    "            res = func(data[istart:iend,1:])\n",
    "            reslist.append(np.hstack((np.array([k]), res)))\n",
    "            # Move to the next group\n",
    "            istart = iend\n",
    "        return reslist\n",
    "\n",
    "    \n",
    "    resarr = groupby_apply_njit(df[['grpid', 'y', 'x']].to_numpy(), func)\n",
    "    res_ga_njit = df[[by, 'grpid']].drop_duplicates().merge(\n",
    "        pd.DataFrame(resarr, columns=['grpid', 'const', 'x']), \n",
    "        on='grpid', \n",
    "        how='left'\n",
    "    ).set_index([by]).drop(columns=['grpid'])\n",
    "    return res_ga_njit\n",
    "\n",
    "grp(df, 'E', jcustom_mean)"
   ]
  },
  {
   "cell_type": "code",
   "execution_count": 7,
   "id": "63819fac-aa50-40fe-a945-4ae32fecbcaf",
   "metadata": {},
   "outputs": [
    {
     "name": "stdout",
     "output_type": "stream",
     "text": [
      "1.932863473892212\n",
      "0.00020647048950195312\n",
      "5.722116708755493\n",
      "1.7335107326507568\n",
      "0.0001888275146484375\n",
      "1.1779735088348389\n",
      "1.7515480518341064\n",
      "0.00016236305236816406\n",
      "1.1637158393859863\n",
      "1.7893457412719727\n",
      "0.00016450881958007812\n",
      "1.2380762100219727\n",
      "1.7665760517120361\n",
      "0.00017142295837402344\n",
      "1.1544365882873535\n",
      "1.768754005432129\n",
      "0.0001709461212158203\n",
      "1.1515378952026367\n",
      "1.768615961074829\n",
      "0.00017261505126953125\n",
      "1.1625056266784668\n",
      "1.7636134624481201\n",
      "0.0001685619354248047\n",
      "1.1485049724578857\n",
      "3.17 s ± 38.2 ms per loop (mean ± std. dev. of 7 runs, 1 loop each)\n"
     ]
    }
   ],
   "source": [
    "import functools\n",
    "\n",
    "@nb.jit#(parallel=True, fastmath=True, forceinline=True, looplift=True, inline='always', target_backend='host', no_cfunc_wrapper=True, no_rewrites=True ,nopython=True, nogil=True)\n",
    "def jcustom_sum(array):\n",
    "    return np.sum(array)\n",
    "\n",
    "@nb.jit#(parallel=True, fastmath=True, forceinline=True, looplift=True, inline='always', target_backend='host', no_cfunc_wrapper=True, no_rewrites=True ,nopython=True, nogil=True)\n",
    "def jcustom_mean(array):\n",
    "    return np.mean(array)\n",
    "\n",
    "@nb.jit#(parallel=True, fastmath=True, forceinline=True, looplift=True, inline='always', target_backend='host', no_cfunc_wrapper=True, no_rewrites=True ,nopython=True, nogil=True)\n",
    "def jcustom_max(array):\n",
    "    return np.max(array)\n",
    "\n",
    "@nb.jit#(parallel=True, fastmath=True, forceinline=True, looplift=True, inline='always', target_backend='host', no_cfunc_wrapper=True, no_rewrites=True ,nopython=True, nogil=True)\n",
    "def jcustom_min(array):\n",
    "    return np.min(array)\n",
    "\n",
    "@nb.jit(parallel=True, fastmath=True, forceinline=True, looplift=True, inline='always', target_backend='host', no_cfunc_wrapper=True, no_rewrites=True ,nopython=True, nogil=True)\n",
    "def reorder(_tmp_array, rawarray, groups):\n",
    "    n = len(groups)\n",
    "    farray = np.zeros(len(groups) + 1, dtype=np.int64)\n",
    "    c = 0\n",
    "    for j in range(n): #dont put nb.prange here --> counter c wont work \n",
    "        m = len(groups[j])\n",
    "        for i in nb.prange(m):\n",
    "            _tmp_array[c+i] = rawarray[groups[j][i]]\n",
    "        c += m\n",
    "        farray[j + 1] = c\n",
    "    return farray\n",
    "\n",
    "\n",
    "def apply(funcs):\n",
    "    m=len(funcs)\n",
    "    ffunc = f\"\"\"\n",
    "@njit\n",
    "def wapply(_tmp_array, result_array, group_sep):\n",
    "    n = len(group_sep) \n",
    "    c = 0\n",
    "    for j in nb.prange(n):\n",
    "        select = _tmp_array[group_sep[j]:group_sep[j+1]]\n",
    "{'\\n'.join(f'        result_array[j, {j}]={funcs[j]}(select)' for j in range(m))}\n",
    "        \"\"\"\n",
    "    exec(ffunc, globals())\n",
    "    return globals()['wapply']\n",
    "\n",
    "\n",
    "# Define the column-function mapping with custom functions\n",
    "col_func_map = {\n",
    "    ('A',): [jcustom_sum, jcustom_mean],\n",
    "    ('B',): [jcustom_max, jcustom_min],\n",
    "    ('C',): [jcustom_sum, jcustom_mean],\n",
    "    ('D',): [jcustom_max, jcustom_min],\n",
    "}\n",
    "\n",
    "\n",
    "def aggregate(df, by, col_func_map):\n",
    "    name = by+functools.reduce(lambda x,y: x[0]+y[0], col_func_map.keys())\n",
    "    ucols = [key for keys in col_func_map.keys() for key in keys]\n",
    "    t1 = time.time()\n",
    "    groups = [g.values for g in df.groupby('E', sort=False).groups.values()]\n",
    "    array = df[ucols].to_numpy()    \n",
    "    pdtype = {}\n",
    "    sfuncs = []\n",
    "    scols = []\n",
    "    print(time.time()-t1)\n",
    "    t1 = time.time()\n",
    "    dtypes = df.dtypes.to_dict()\n",
    "    for cols, func_list in col_func_map.items():\n",
    "        col_idx = [df.colname_to_colnum[col] for col in cols]\n",
    "        dtype = set(dtypes[col] for col in cols)\n",
    "        if len(dtype) > 1:\n",
    "            raise ValueError\n",
    "        dtype=dtype.pop()\n",
    "        scols, sfuncs=pdtype.get(dtype, [[], []])\n",
    "        for func in func_list:\n",
    "            scols.append(col_idx)\n",
    "            sfuncs.append(func.__qualname__)\n",
    "        pdtype[dtype] = [scols, sfuncs]\n",
    "    print(time.time()-t1)\n",
    "    t1 = time.time()\n",
    "    for dtype, (scols, sfuncs_name) in pdtype.items():\n",
    "        # Getting unique columns to avoid repetition\n",
    "        unique_cols = set(col for sublist in scols for col in sublist)\n",
    "        n, k = len(array), len(unique_cols)\n",
    "        # Create a temporary array for contiguous memory\n",
    "        _tmp_array = np.zeros((n, k), dtype=dtype, order='C')\n",
    "        result_array = np.zeros((len(groups), len(sfuncs_name)), dtype=dtype, order='C')\n",
    "        group_sep = reorder(_tmp_array, rawarray=array, groups=groups)\n",
    "        if name not in compiled_groupby:\n",
    "            compiled_groupby[name] = apply(sfuncs_name)\n",
    "        compiled_groupby[name](_tmp_array, result_array, group_sep)\n",
    "    print(time.time()-t1)\n",
    "    t1 = time.time()\n",
    "    return result_array\n",
    "\n",
    "%timeit aggregate(df, 'E', col_func_map)\n",
    "res=aggregate(df, 'E', col_func_map)\n",
    "res.shape"
   ]
  },
  {
   "cell_type": "code",
   "execution_count": 11,
   "id": "ec0a6265-166e-498b-82bd-b69e2392a85a",
   "metadata": {},
   "outputs": [
    {
     "data": {
      "text/plain": [
       "(250, 8)"
      ]
     },
     "execution_count": 11,
     "metadata": {},
     "output_type": "execute_result"
    }
   ],
   "source": []
  },
  {
   "cell_type": "code",
   "execution_count": null,
   "id": "8f9d485f-a370-4015-b472-8d68b6cf2c43",
   "metadata": {},
   "outputs": [],
   "source": []
  },
  {
   "cell_type": "code",
   "execution_count": 9,
   "id": "c3b99a44-f695-4861-9068-e38a226451c0",
   "metadata": {},
   "outputs": [
    {
     "name": "stdout",
     "output_type": "stream",
     "text": [
      "3.16 s ± 18.5 ms per loop (mean ± std. dev. of 7 runs, 1 loop each)\n"
     ]
    }
   ],
   "source": [
    "import functools\n",
    "\n",
    "@nb.jit(parallel=True, fastmath=True, forceinline=True, looplift=True, inline='always', target_backend='host', no_cfunc_wrapper=True, no_rewrites=True ,nopython=True, nogil=True)\n",
    "def jcustom_sum(array):\n",
    "    return np.sum(array)\n",
    "\n",
    "@nb.jit(parallel=True, fastmath=True, forceinline=True, looplift=True, inline='always', target_backend='host', no_cfunc_wrapper=True, no_rewrites=True ,nopython=True, nogil=True)\n",
    "def jcustom_mean(array):\n",
    "    return np.mean(array)\n",
    "\n",
    "@nb.jit(parallel=True, fastmath=True, forceinline=True, looplift=True, inline='always', target_backend='host', no_cfunc_wrapper=True, no_rewrites=True ,nopython=True, nogil=True)\n",
    "def jcustom_max(array):\n",
    "    return np.max(array)\n",
    "\n",
    "@nb.jit(parallel=True, fastmath=True, forceinline=True, looplift=True, inline='always', target_backend='host', no_cfunc_wrapper=True, no_rewrites=True ,nopython=True, nogil=True)\n",
    "def jcustom_min(array):\n",
    "    return np.min(array)\n",
    "\n",
    "@nb.jit(parallel=True, fastmath=True, forceinline=True, looplift=True, inline='always', target_backend='host', no_cfunc_wrapper=True, no_rewrites=True ,nopython=True, nogil=True)\n",
    "def reordernew(_tmp_array, rawarray, groups):\n",
    "    n = len(groups)\n",
    "    farray = np.zeros(len(groups) + 1, dtype=np.int64)\n",
    "    c = 0\n",
    "    for j in range(n): #dont put nb.prange here --> counter c wont work \n",
    "        m = len(groups[j])\n",
    "        for i in nb.prange(m):\n",
    "            _tmp_array[c+i] = rawarray[groups[j][i]]\n",
    "        c += m\n",
    "        farray[j + 1] = c\n",
    "    return farray\n",
    "\n",
    "\n",
    "def apply(funcs):\n",
    "    m=len(funcs)\n",
    "    ffunc = f\"\"\"\n",
    "@njit\n",
    "def wapply(_tmp_array, result_array, group_sep):\n",
    "    n = len(group_sep) \n",
    "    c = 0\n",
    "    for j in nb.prange(n):\n",
    "        select = _tmp_array[group_sep[j]:group_sep[j+1]]\n",
    "{'\\n'.join(f'        result_array[j, {j}]={funcs[j]}(select)' for j in range(m))}\n",
    "        \"\"\"\n",
    "    exec(ffunc, globals())\n",
    "    return globals()['wapply']\n",
    "\n",
    "\n",
    "# Define the column-function mapping with custom functions\n",
    "col_func_map = {\n",
    "    ('A',): [jcustom_sum, jcustom_mean],\n",
    "    ('B',): [jcustom_max, jcustom_min],\n",
    "    ('C',): [jcustom_sum, jcustom_mean],\n",
    "    ('D',): [jcustom_max, jcustom_min],\n",
    "}\n",
    "\n",
    "compiled_groupby = {}\n",
    "\n",
    "def aggregate(df, by, col_func_map):\n",
    "    name = by+functools.reduce(lambda x,y: x[0]+y[0], col_func_map.keys())\n",
    "    ucols = [key for keys in col_func_map.keys() for key in keys]\n",
    "    groups = list(map(lambda x : x.values, df.groupby('E', sort=False).groups.values()))\n",
    "    array = df[ucols].to_numpy()    \n",
    "    pdtype = {}\n",
    "    sfuncs = []\n",
    "    scols = []\n",
    "    dtypes = df.dtypes.to_dict()\n",
    "    for cols, func_list in col_func_map.items():\n",
    "        col_idx = [df.colname_to_colnum[col] for col in cols]\n",
    "        dtype = set(dtypes[col] for col in cols)\n",
    "        if len(dtype) > 1:\n",
    "            raise ValueError\n",
    "        dtype=dtype.pop()\n",
    "        scols, sfuncs=pdtype.get(dtype, [[], []])\n",
    "        for func in func_list:\n",
    "            scols.append(col_idx)\n",
    "            sfuncs.append(func.__qualname__)\n",
    "        pdtype[dtype] = [scols, sfuncs]\n",
    "    t1c=time.time()\n",
    "    for dtype, (scols, sfuncs_name) in pdtype.items():\n",
    "        # Getting unique columns to avoid repetition\n",
    "        unique_cols = set(col for sublist in scols for col in sublist)\n",
    "        n, k = len(array), len(unique_cols)\n",
    "        # Create a temporary array for contiguous memory\n",
    "        _tmp_array = np.zeros((n, k), dtype=dtype, order='C')\n",
    "        result_array = np.zeros((len(groups), len(sfuncs_name)), dtype=dtype, order='F')\n",
    "        group_sep = reordernew(_tmp_array, rawarray=array, groups=groups)\n",
    "        if name not in compiled_groupby:\n",
    "            compiled_groupby[name] = apply(sfuncs_name)\n",
    "        compiled_groupby[name](_tmp_array, result_array, group_sep)\n",
    "    return result_array\n",
    "\n",
    "%timeit aggregate(df, 'E', col_func_map)"
   ]
  },
  {
   "cell_type": "code",
   "execution_count": 6,
   "id": "6bd9eb57-6d52-4751-bec8-93e862b6d331",
   "metadata": {},
   "outputs": [
    {
     "name": "stdout",
     "output_type": "stream",
     "text": [
      "1.61 s ± 11 ms per loop (mean ± std. dev. of 7 runs, 1 loop each)\n",
      "1.57 s ± 27.2 ms per loop (mean ± std. dev. of 7 runs, 1 loop each)\n"
     ]
    }
   ],
   "source": [
    "%timeit groups = np.unique(df['E'].to_numpy().copy(order='C'))\n",
    "%timeit groups = np.unique(df['E'].to_numpy().copy(order='F'))"
   ]
  },
  {
   "cell_type": "code",
   "execution_count": 7,
   "id": "460861c2-6cc9-4024-902e-dae34f5129fb",
   "metadata": {},
   "outputs": [
    {
     "name": "stdout",
     "output_type": "stream",
     "text": [
      "2.28 s ± 15.4 ms per loop (mean ± std. dev. of 7 runs, 1 loop each)\n",
      "2.33 s ± 32.5 ms per loop (mean ± std. dev. of 7 runs, 1 loop each)\n"
     ]
    }
   ],
   "source": [
    "%timeit groups = np.argsort(df['E'].to_numpy().copy(order='C'))\n",
    "%timeit groups = np.argsort(df['E'].to_numpy().copy(order='F'))"
   ]
  },
  {
   "cell_type": "code",
   "execution_count": 8,
   "id": "640d3c60-af26-46e6-b479-80eba135b42a",
   "metadata": {},
   "outputs": [
    {
     "name": "stdout",
     "output_type": "stream",
     "text": [
      "1.51 s ± 7.5 ms per loop (mean ± std. dev. of 7 runs, 1 loop each)\n",
      "1.51 s ± 6.57 ms per loop (mean ± std. dev. of 7 runs, 1 loop each)\n"
     ]
    }
   ],
   "source": [
    "%timeit groups = np.sort(df['E'].to_numpy().copy(order='C'))\n",
    "%timeit groups = np.sort(df['E'].to_numpy().copy(order='F'))"
   ]
  },
  {
   "cell_type": "code",
   "execution_count": 10,
   "id": "7738bf7e-3bb8-4eeb-823a-e2a639ecec98",
   "metadata": {},
   "outputs": [
    {
     "name": "stdout",
     "output_type": "stream",
     "text": [
      "1.4 s ± 8.21 ms per loop (mean ± std. dev. of 7 runs, 1 loop each)\n",
      "1.29 s ± 11.4 ms per loop (mean ± std. dev. of 7 runs, 1 loop each)\n"
     ]
    }
   ],
   "source": [
    "%timeit groups = [g.values for g in df.groupby('E').groups.values()]\n",
    "%timeit groups = [g.values for g in df.groupby('E', sort=False).groups.values()]"
   ]
  },
  {
   "cell_type": "code",
   "execution_count": 14,
   "id": "2f3b3079-ef1d-441e-b68e-f6a1ac55eabb",
   "metadata": {},
   "outputs": [
    {
     "name": "stdout",
     "output_type": "stream",
     "text": [
      "1.31 s ± 7.84 ms per loop (mean ± std. dev. of 7 runs, 1 loop each)\n"
     ]
    }
   ],
   "source": [
    "%timeit groups = list(map(lambda x : x.values, df.groupby('E', sort=False).groups.values()))"
   ]
  },
  {
   "cell_type": "code",
   "execution_count": 16,
   "id": "3c3594ad-9a14-4d20-86b5-02f8da4c9cf4",
   "metadata": {},
   "outputs": [
    {
     "name": "stdout",
     "output_type": "stream",
     "text": [
      "3.34 s ± 21.2 ms per loop (mean ± std. dev. of 7 runs, 1 loop each)\n"
     ]
    }
   ],
   "source": [
    "%%timeit\n",
    "group_idx = np.ascontiguousarray(df['E'].to_numpy().copy(order='C'))\n",
    "sortidx = np.argsort(group_idx, kind=\"mergesort\")"
   ]
  },
  {
   "cell_type": "code",
   "execution_count": 17,
   "id": "055b9a18-daf0-4496-94bd-3def87aca8ac",
   "metadata": {},
   "outputs": [
    {
     "name": "stdout",
     "output_type": "stream",
     "text": [
      "3.35 s ± 19.8 ms per loop (mean ± std. dev. of 7 runs, 1 loop each)\n"
     ]
    }
   ],
   "source": [
    "%%timeit\n",
    "group_idx = np.ascontiguousarray(df['E'].to_numpy().copy(order='F'))\n",
    "sortidx = np.argsort(group_idx, kind=\"mergesort\")"
   ]
  },
  {
   "cell_type": "code",
   "execution_count": 10,
   "id": "5ed1b564-c70f-47c9-a36e-89544b7f4103",
   "metadata": {},
   "outputs": [
    {
     "data": {
      "text/plain": [
       "[(slice(12, 99999983, None),),\n",
       " (slice(2, 99999995, None),),\n",
       " (slice(6, 99999999, None),),\n",
       " (slice(0, 100000000, None),),\n",
       " (slice(97, 99999959, None),)]"
      ]
     },
     "execution_count": 10,
     "metadata": {},
     "output_type": "execute_result"
    }
   ],
   "source": [
    "import scipy\n",
    "%timeit scipy.ndimage.find_objects(df['E'].to_numpy())"
   ]
  },
  {
   "cell_type": "code",
   "execution_count": null,
   "id": "5cb707a9-e900-472a-bf70-c045ab2c0519",
   "metadata": {},
   "outputs": [],
   "source": [
    "roup_idx = np.ascontiguousarray(group_idx)\n",
    "\n",
    "sortidx = np.argsort(group_idx, kind=\"mergesort\")\n",
    "self._jitfunc(sortidx, group_idx, a, ret)"
   ]
  },
  {
   "cell_type": "code",
   "execution_count": 15,
   "id": "73e852b4-616e-46db-b93d-b2561c9bb425",
   "metadata": {},
   "outputs": [
    {
     "name": "stdout",
     "output_type": "stream",
     "text": [
      "3.35 s ± 34.1 ms per loop (mean ± std. dev. of 7 runs, 1 loop each)\n"
     ]
    }
   ],
   "source": [
    "%%timeit\n",
    "group_idx = np.ascontiguousarray(df['E'].to_numpy().copy(order='C'))\n",
    "sortidx = np.argsort(group_idx, kind=\"mergesort\")"
   ]
  },
  {
   "cell_type": "code",
   "execution_count": 38,
   "id": "ea08d0d3-46fb-4eae-85f2-d4515300b8bc",
   "metadata": {},
   "outputs": [],
   "source": []
  },
  {
   "cell_type": "code",
   "execution_count": 40,
   "id": "43b0c5f8-09b2-46ba-8f92-778be4191891",
   "metadata": {},
   "outputs": [
    {
     "ename": "SyntaxError",
     "evalue": "invalid syntax (1481586267.py, line 1)",
     "output_type": "error",
     "traceback": [
      "\u001b[0;36m  Cell \u001b[0;32mIn[40], line 1\u001b[0;36m\u001b[0m\n\u001b[0;31m    [for item in uniq]\u001b[0m\n\u001b[0m     ^\u001b[0m\n\u001b[0;31mSyntaxError\u001b[0m\u001b[0;31m:\u001b[0m invalid syntax\n"
     ]
    }
   ],
   "source": [
    "@nb.jit(parallel=True, fastmath=True, forceinline=True, looplift=True, inline='always', target_backend='host', no_cfunc_wrapper=True, no_rewrites=True ,nopython=True, nogil=True)\n",
    "def reordernew(_tmp_array, rawarray, arr, uniq):\n",
    "    n = len(uniq)\n",
    "    farray = np.zeros(len(groups) + 1, dtype=np.int32)\n",
    "    c = 0\n",
    "    for j in range(n): #dont put nb.prange here --> counter c wont work \n",
    "        m = len(groups[j])\n",
    "        for i in nb.prange(m):\n",
    "            _tmp_array[c+i] = rawarray[groups[j][i]]\n",
    "        c += m\n",
    "        farray[j + 1] = c\n",
    "    return farray\n",
    "\n",
    "\n",
    "def apply(funcs):\n",
    "    m=len(funcs)\n",
    "    ffunc = f\"\"\"\n",
    "@njit\n",
    "def wapply(_tmp_array, result_array, group_sep):\n",
    "    n = len(group_sep) \n",
    "    c = 0\n",
    "    for j in nb.prange(n):\n",
    "        select = _tmp_array[group_sep[j]:group_sep[j+1]]\n",
    "{'\\n'.join(f'        result_array[j, {j}]={funcs[j]}(select)' for j in range(m))}\n",
    "        \"\"\"\n",
    "    exec(ffunc, globals())\n",
    "    return globals()['wapply']\n"
   ]
  },
  {
   "cell_type": "code",
   "execution_count": 46,
   "id": "5322b4ba-f78e-4d98-81c1-fecc836f733c",
   "metadata": {},
   "outputs": [
    {
     "data": {
      "text/plain": [
       "(<pyarrow.lib.Int64Array object at 0x7f5c7bfdf100>\n",
       " [\n",
       "   5,\n",
       "   5,\n",
       "   5,\n",
       "   5,\n",
       "   5,\n",
       "   5,\n",
       "   5,\n",
       "   5,\n",
       "   5,\n",
       "   5,\n",
       "   ...\n",
       "   25,\n",
       "   25,\n",
       "   25,\n",
       "   25,\n",
       "   25,\n",
       "   25,\n",
       "   25,\n",
       "   25,\n",
       "   25,\n",
       "   25\n",
       " ],\n",
       " <pyarrow.lib.Int64Array object at 0x7f5c83312d40>\n",
       " [\n",
       "   5,\n",
       "   10,\n",
       "   15,\n",
       "   20,\n",
       "   25\n",
       " ])"
      ]
     },
     "execution_count": 46,
     "metadata": {},
     "output_type": "execute_result"
    }
   ],
   "source": [
    "arr,uniq"
   ]
  },
  {
   "cell_type": "code",
   "execution_count": 86,
   "id": "c242eccd-5530-4283-8aca-d42f84a92999",
   "metadata": {},
   "outputs": [
    {
     "ename": "TypingError",
     "evalue": "Failed in nopython mode pipeline (step: nopython frontend)\nNo implementation of function Function(<built-in function setitem>) found for signature:\n \n >>> setitem(readonly array(int64, 1d, C), Literal[int](0), int64)\n \nThere are 16 candidate implementations:\n      - Of which 14 did not match due to:\n      Overload of function 'setitem': File: <numerous>: Line N/A.\n        With argument(s): '(readonly array(int64, 1d, C), int64, int64)':\n       No match.\n      - Of which 2 did not match due to:\n      Overload in function 'SetItemBuffer.generic': File: numba/core/typing/arraydecl.py: Line 219.\n        With argument(s): '(readonly array(int64, 1d, C), int64, int64)':\n       Rejected as the implementation raised a specific error:\n         NumbaTypeError: Cannot modify readonly array of type: readonly array(int64, 1d, C)\n  raised from /home/remi/.pyenv/versions/3.12.2/lib/python3.12/site-packages/numba/core/typing/arraydecl.py:226\n\nDuring: typing of setitem at /tmp/ipykernel_613237/198987023.py (12)\n\nFile \"../../../../tmp/ipykernel_613237/198987023.py\", line 12:\n<source missing, REPL/exec in use?>\n",
     "output_type": "error",
     "traceback": [
      "\u001b[0;31m---------------------------------------------------------------------------\u001b[0m",
      "\u001b[0;31mTypingError\u001b[0m                               Traceback (most recent call last)",
      "Cell \u001b[0;32mIn[86], line 43\u001b[0m\n\u001b[1;32m     41\u001b[0m result_array \u001b[38;5;241m=\u001b[39m np\u001b[38;5;241m.\u001b[39mzeros((\u001b[38;5;28mlen\u001b[39m(groups), \u001b[38;5;28mlen\u001b[39m(sfuncs_name)), dtype\u001b[38;5;241m=\u001b[39mdtype, order\u001b[38;5;241m=\u001b[39m\u001b[38;5;124m'\u001b[39m\u001b[38;5;124mF\u001b[39m\u001b[38;5;124m'\u001b[39m)\n\u001b[1;32m     42\u001b[0m _tmp_array \u001b[38;5;241m=\u001b[39m np\u001b[38;5;241m.\u001b[39mzeros((n, k), dtype\u001b[38;5;241m=\u001b[39mdtype, order\u001b[38;5;241m=\u001b[39m\u001b[38;5;124m'\u001b[39m\u001b[38;5;124mC\u001b[39m\u001b[38;5;124m'\u001b[39m)\n\u001b[0;32m---> 43\u001b[0m group_sep \u001b[38;5;241m=\u001b[39m \u001b[43mreorder\u001b[49m\u001b[43m(\u001b[49m\u001b[43m_tmp_array\u001b[49m\u001b[43m \u001b[49m\u001b[38;5;241;43m=\u001b[39;49m\u001b[43m \u001b[49m\u001b[43m_tmp_array\u001b[49m\u001b[43m,\u001b[49m\u001b[43m \u001b[49m\u001b[43mrawarray\u001b[49m\u001b[38;5;241;43m=\u001b[39;49m\u001b[43marray\u001b[49m\u001b[43m,\u001b[49m\u001b[43m \u001b[49m\u001b[43marr\u001b[49m\u001b[38;5;241;43m=\u001b[39;49m\u001b[43marr\u001b[49m\u001b[38;5;241;43m.\u001b[39;49m\u001b[43mto_numpy\u001b[49m\u001b[43m(\u001b[49m\u001b[43m)\u001b[49m\u001b[43m,\u001b[49m\u001b[43m \u001b[49m\u001b[43muniq\u001b[49m\u001b[38;5;241;43m=\u001b[39;49m\u001b[43muniq\u001b[49m\u001b[38;5;241;43m.\u001b[39;49m\u001b[43mto_numpy\u001b[49m\u001b[43m(\u001b[49m\u001b[43m)\u001b[49m\u001b[43m,\u001b[49m\u001b[43m \u001b[49m\u001b[43mdtype\u001b[49m\u001b[38;5;241;43m=\u001b[39;49m\u001b[43mdtype\u001b[49m\u001b[43m)\u001b[49m\n\u001b[1;32m     44\u001b[0m \u001b[38;5;28;01mif\u001b[39;00m name \u001b[38;5;129;01mnot\u001b[39;00m \u001b[38;5;129;01min\u001b[39;00m compiled_groupby:\n\u001b[1;32m     45\u001b[0m     compiled_groupby[name] \u001b[38;5;241m=\u001b[39m apply(sfuncs_name)\n",
      "File \u001b[0;32m~/.pyenv/versions/3.12.2/lib/python3.12/site-packages/numba/core/dispatcher.py:468\u001b[0m, in \u001b[0;36m_DispatcherBase._compile_for_args\u001b[0;34m(self, *args, **kws)\u001b[0m\n\u001b[1;32m    464\u001b[0m         msg \u001b[38;5;241m=\u001b[39m (\u001b[38;5;124mf\u001b[39m\u001b[38;5;124m\"\u001b[39m\u001b[38;5;132;01m{\u001b[39;00m\u001b[38;5;28mstr\u001b[39m(e)\u001b[38;5;241m.\u001b[39mrstrip()\u001b[38;5;132;01m}\u001b[39;00m\u001b[38;5;124m \u001b[39m\u001b[38;5;130;01m\\n\u001b[39;00m\u001b[38;5;130;01m\\n\u001b[39;00m\u001b[38;5;124mThis error may have been caused \u001b[39m\u001b[38;5;124m\"\u001b[39m\n\u001b[1;32m    465\u001b[0m                \u001b[38;5;124mf\u001b[39m\u001b[38;5;124m\"\u001b[39m\u001b[38;5;124mby the following argument(s):\u001b[39m\u001b[38;5;130;01m\\n\u001b[39;00m\u001b[38;5;132;01m{\u001b[39;00margs_str\u001b[38;5;132;01m}\u001b[39;00m\u001b[38;5;130;01m\\n\u001b[39;00m\u001b[38;5;124m\"\u001b[39m)\n\u001b[1;32m    466\u001b[0m         e\u001b[38;5;241m.\u001b[39mpatch_message(msg)\n\u001b[0;32m--> 468\u001b[0m     \u001b[43merror_rewrite\u001b[49m\u001b[43m(\u001b[49m\u001b[43me\u001b[49m\u001b[43m,\u001b[49m\u001b[43m \u001b[49m\u001b[38;5;124;43m'\u001b[39;49m\u001b[38;5;124;43mtyping\u001b[39;49m\u001b[38;5;124;43m'\u001b[39;49m\u001b[43m)\u001b[49m\n\u001b[1;32m    469\u001b[0m \u001b[38;5;28;01mexcept\u001b[39;00m errors\u001b[38;5;241m.\u001b[39mUnsupportedError \u001b[38;5;28;01mas\u001b[39;00m e:\n\u001b[1;32m    470\u001b[0m     \u001b[38;5;66;03m# Something unsupported is present in the user code, add help info\u001b[39;00m\n\u001b[1;32m    471\u001b[0m     error_rewrite(e, \u001b[38;5;124m'\u001b[39m\u001b[38;5;124munsupported_error\u001b[39m\u001b[38;5;124m'\u001b[39m)\n",
      "File \u001b[0;32m~/.pyenv/versions/3.12.2/lib/python3.12/site-packages/numba/core/dispatcher.py:409\u001b[0m, in \u001b[0;36m_DispatcherBase._compile_for_args.<locals>.error_rewrite\u001b[0;34m(e, issue_type)\u001b[0m\n\u001b[1;32m    407\u001b[0m     \u001b[38;5;28;01mraise\u001b[39;00m e\n\u001b[1;32m    408\u001b[0m \u001b[38;5;28;01melse\u001b[39;00m:\n\u001b[0;32m--> 409\u001b[0m     \u001b[38;5;28;01mraise\u001b[39;00m e\u001b[38;5;241m.\u001b[39mwith_traceback(\u001b[38;5;28;01mNone\u001b[39;00m)\n",
      "\u001b[0;31mTypingError\u001b[0m: Failed in nopython mode pipeline (step: nopython frontend)\nNo implementation of function Function(<built-in function setitem>) found for signature:\n \n >>> setitem(readonly array(int64, 1d, C), Literal[int](0), int64)\n \nThere are 16 candidate implementations:\n      - Of which 14 did not match due to:\n      Overload of function 'setitem': File: <numerous>: Line N/A.\n        With argument(s): '(readonly array(int64, 1d, C), int64, int64)':\n       No match.\n      - Of which 2 did not match due to:\n      Overload in function 'SetItemBuffer.generic': File: numba/core/typing/arraydecl.py: Line 219.\n        With argument(s): '(readonly array(int64, 1d, C), int64, int64)':\n       Rejected as the implementation raised a specific error:\n         NumbaTypeError: Cannot modify readonly array of type: readonly array(int64, 1d, C)\n  raised from /home/remi/.pyenv/versions/3.12.2/lib/python3.12/site-packages/numba/core/typing/arraydecl.py:226\n\nDuring: typing of setitem at /tmp/ipykernel_613237/198987023.py (12)\n\nFile \"../../../../tmp/ipykernel_613237/198987023.py\", line 12:\n<source missing, REPL/exec in use?>\n"
     ]
    }
   ],
   "source": [
    "import pyarrow as pa\n",
    "\n",
    "@nb.jit(parallel=True, fastmath=True, forceinline=True, looplift=True, inline='always', target_backend='host', no_cfunc_wrapper=True, no_rewrites=True ,nopython=True, nogil=True)\n",
    "def reorder(_tmp_array, rawarray, arr, uniq, dtype):\n",
    "    n = len(arr)\n",
    "    m = _tmp_array.shape[1]\n",
    "    c = 0    \n",
    "    for j in range(1, n): #dont put nb.prange here --> counter c wont work\n",
    "        for i in nb.prange(m):\n",
    "            _tmp_array[0, i] = rawarray[c, i]\n",
    "        if arr[j-1]!=arr[j]:\n",
    "            uniq[c] = j\n",
    "\n",
    "arr = pa.array(df['E'].to_numpy()*5).sort()\n",
    "uniq = arr.unique()\n",
    "\n",
    "ucols = [key for keys in col_func_map.keys() for key in keys]\n",
    "array = df[ucols].to_numpy()    \n",
    "pdtype = {}\n",
    "sfuncs = []\n",
    "scols = []\n",
    "dtypes = df.dtypes.to_dict()\n",
    "for cols, func_list in col_func_map.items():\n",
    "    col_idx = [df.colname_to_colnum[col] for col in cols]\n",
    "    dtype = set(dtypes[col] for col in cols)\n",
    "    if len(dtype) > 1:\n",
    "        raise ValueError\n",
    "    dtype=dtype.pop()\n",
    "    scols, sfuncs=pdtype.get(dtype, [[], []])\n",
    "    for func in func_list:\n",
    "        scols.append(col_idx)\n",
    "        sfuncs.append(func.__qualname__)\n",
    "    pdtype[dtype] = [scols, sfuncs]\n",
    "    \n",
    "t1c=time.time()\n",
    "for dtype, (scols, sfuncs_name) in pdtype.items():\n",
    "    # Getting unique columns to avoid repetition\n",
    "    unique_cols = set(col for sublist in scols for col in sublist)\n",
    "    n, k = len(array), len(unique_cols)\n",
    "    # Create a temporary array for contiguous memory\n",
    "    result_array = np.zeros((len(groups), len(sfuncs_name)), dtype=dtype, order='F')\n",
    "    _tmp_array = np.zeros((n, k), dtype=dtype, order='C')\n",
    "    group_sep = reorder(_tmp_array = _tmp_array, rawarray=array, arr=arr.to_numpy(), uniq=uniq.to_numpy(), dtype=dtype)\n",
    "    if name not in compiled_groupby:\n",
    "        compiled_groupby[name] = apply(sfuncs_name)\n",
    "    #compiled_groupby[name](_tmp_array, result_array, group_sep)\n",
    "#result_array"
   ]
  },
  {
   "cell_type": "code",
   "execution_count": null,
   "id": "6aa2084a-2e6d-4f37-8fc9-45019afa048c",
   "metadata": {},
   "outputs": [],
   "source": []
  },
  {
   "cell_type": "code",
   "execution_count": 64,
   "id": "f6c898f2-6290-4aa6-b6c5-2fb112f9f3a3",
   "metadata": {},
   "outputs": [
    {
     "ename": "TypeError",
     "evalue": "'numpy.int64' object is not iterable",
     "output_type": "error",
     "traceback": [
      "\u001b[0;31m---------------------------------------------------------------------------\u001b[0m",
      "\u001b[0;31mTypeError\u001b[0m                                 Traceback (most recent call last)",
      "Cell \u001b[0;32mIn[64], line 2\u001b[0m\n\u001b[1;32m      1\u001b[0m \u001b[38;5;28;01mimport\u001b[39;00m \u001b[38;5;21;01mpyarrow\u001b[39;00m \u001b[38;5;28;01mas\u001b[39;00m \u001b[38;5;21;01mpa\u001b[39;00m\n\u001b[0;32m----> 2\u001b[0m \u001b[43mpa\u001b[49m\u001b[38;5;241;43m.\u001b[39;49m\u001b[43mchunked_array\u001b[49m\u001b[43m(\u001b[49m\u001b[43mdf\u001b[49m\u001b[43m[\u001b[49m\u001b[38;5;124;43m'\u001b[39;49m\u001b[38;5;124;43mE\u001b[39;49m\u001b[38;5;124;43m'\u001b[39;49m\u001b[43m]\u001b[49m\u001b[38;5;241;43m.\u001b[39;49m\u001b[43mto_numpy\u001b[49m\u001b[43m(\u001b[49m\u001b[43m)\u001b[49m\u001b[43m)\u001b[49m\n\u001b[1;32m      3\u001b[0m get_ipython()\u001b[38;5;241m.\u001b[39mrun_line_magic(\u001b[38;5;124m'\u001b[39m\u001b[38;5;124mtimeit\u001b[39m\u001b[38;5;124m'\u001b[39m, \u001b[38;5;124m'\u001b[39m\u001b[38;5;124mgroups = [g for g in df.groupby(level=0).groups]\u001b[39m\u001b[38;5;124m'\u001b[39m)\n",
      "File \u001b[0;32m~/.pyenv/versions/3.12.2/lib/python3.12/site-packages/pyarrow/table.pxi:1381\u001b[0m, in \u001b[0;36mpyarrow.lib.chunked_array\u001b[0;34m()\u001b[0m\n",
      "File \u001b[0;32m~/.pyenv/versions/3.12.2/lib/python3.12/site-packages/pyarrow/array.pxi:344\u001b[0m, in \u001b[0;36mpyarrow.lib.array\u001b[0;34m()\u001b[0m\n",
      "File \u001b[0;32m~/.pyenv/versions/3.12.2/lib/python3.12/site-packages/pyarrow/array.pxi:42\u001b[0m, in \u001b[0;36mpyarrow.lib._sequence_to_array\u001b[0;34m()\u001b[0m\n",
      "File \u001b[0;32m~/.pyenv/versions/3.12.2/lib/python3.12/site-packages/pyarrow/error.pxi:154\u001b[0m, in \u001b[0;36mpyarrow.lib.pyarrow_internal_check_status\u001b[0;34m()\u001b[0m\n",
      "File \u001b[0;32m~/.pyenv/versions/3.12.2/lib/python3.12/site-packages/pyarrow/types.pxi:88\u001b[0m, in \u001b[0;36mpyarrow.lib._datatype_to_pep3118\u001b[0;34m()\u001b[0m\n",
      "\u001b[0;31mTypeError\u001b[0m: 'numpy.int64' object is not iterable"
     ]
    }
   ],
   "source": [
    "import pyarrow as pa\n",
    "pa.chunked_array(df['E'].to_numpy())\n",
    "%timeit groups = [g for g in df.groupby(level=0).groups]"
   ]
  },
  {
   "cell_type": "code",
   "execution_count": 101,
   "id": "93287a6d-5a61-4726-bd35-b9c6586556a4",
   "metadata": {},
   "outputs": [],
   "source": [
    "import pyarrow as pa\n",
    "import pandas as pd\n",
    "n_legs = pa.array([2, 4, 5, 100])\n",
    "animals = pa.array([\"Flamingo\", \"Horse\", \"Brittle stars\", \"Centipede\"])\n",
    "names = [\"n_legs\", \"animals\"]"
   ]
  },
  {
   "cell_type": "code",
   "execution_count": 98,
   "id": "d4d0063e-1ffc-4cf0-9957-0e4c11030965",
   "metadata": {},
   "outputs": [],
   "source": [
    "df = pd.DataFrame({'year': [2020, 2022, 2019, 2021],\n",
    "                   'n_legs': [2, 4, 5, 100],\n",
    "                   'animals': [\"Flamingo\", \"Horse\", \"Brittle stars\", \"Centipede\"]})"
   ]
  },
  {
   "cell_type": "code",
   "execution_count": 102,
   "id": "f8ba2b56-b846-4055-8aa9-aee7a4a8a219",
   "metadata": {},
   "outputs": [],
   "source": [
    "my_schema = pa.schema([\n",
    "    pa.field('n_legs', pa.int64()),\n",
    "    pa.field('animals', pa.string())],\n",
    "    metadata={\"n_legs\": \"Number of legs per animal\"})"
   ]
  },
  {
   "cell_type": "code",
   "execution_count": 100,
   "id": "9517fb56-b9ec-44fe-861c-f72d57ffe0f4",
   "metadata": {},
   "outputs": [],
   "source": [
    "n_legs = pa.chunked_array([[2, 2, 4], [4, 5, 100]])\n",
    "animals = pa.chunked_array([[\"Flamingo\", \"Parrot\", \"Dog\"], [\"Horse\", \"Brittle stars\", \"Centipede\"]])\n",
    "table = pa.table([n_legs, animals], names=names)"
   ]
  },
  {
   "cell_type": "code",
   "execution_count": null,
   "id": "cb4df139-454a-4350-b5b5-c5ca14527ab3",
   "metadata": {},
   "outputs": [],
   "source": []
  },
  {
   "cell_type": "code",
   "execution_count": null,
   "id": "ff216fd8-91d7-4cd5-aec2-c6fd01c5076b",
   "metadata": {},
   "outputs": [],
   "source": []
  },
  {
   "cell_type": "code",
   "execution_count": null,
   "id": "7899601d-1e47-4f0c-99ca-50e244cb9f33",
   "metadata": {},
   "outputs": [],
   "source": [
    "\n",
    "@nb.jit(parallel=True, fastmath=True, forceinline=True, looplift=True, inline='always', target_backend='host', no_cfunc_wrapper=True, no_rewrites=True ,nopython=True, nogil=True)\n",
    "def reordernew(_tmp_array, rawarray, groups):\n",
    "    n = len(groups)\n",
    "    farray = np.zeros(len(groups) + 1, dtype=np.int64)\n",
    "    c = 0\n",
    "    for j in range(n): #dont put nb.prange here --> counter c wont work \n",
    "        m = len(groups[j])\n",
    "        for i in nb.prange(m):\n",
    "            _tmp_array[c+i] = rawarray[groups[j][i]]\n",
    "        c += m\n",
    "        farray[j + 1] = c\n",
    "    return farray\n",
    "\n",
    "\n",
    "def apply(funcs):\n",
    "    m=len(funcs)\n",
    "    ffunc = f\"\"\"\n",
    "@njit\n",
    "def wapply(_tmp_array, result_array, group_sep):\n",
    "    n = len(group_sep) \n",
    "    c = 0\n",
    "    for j in nb.prange(n):\n",
    "        select = _tmp_array[group_sep[j]:group_sep[j+1]]\n",
    "{'\\n'.join(f'        result_array[j, {j}]={funcs[j]}(select)' for j in range(m))}\n",
    "        \"\"\"\n",
    "    exec(ffunc, globals())\n",
    "    return globals()['wapply']\n",
    "\n",
    "\n",
    "# Define the column-function mapping with custom functions\n",
    "col_func_map = {\n",
    "    ('A',): [jcustom_sum, jcustom_mean],\n",
    "    ('B',): [jcustom_max, jcustom_min],\n",
    "    ('C',): [jcustom_sum, jcustom_mean],\n",
    "    ('D',): [jcustom_max, jcustom_min],\n",
    "}\n",
    "\n",
    "compiled_groupby = {}\n",
    "\n",
    "def aggregate(df, by, col_func_map):\n",
    "    name = by+functools.reduce(lambda x,y: x[0]+y[0], col_func_map.keys())\n",
    "    ucols = [key for keys in col_func_map.keys() for key in keys]\n",
    "    groups = list(map(lambda x : x.to_numpy(), df.groupby(by).groups.values()))\n",
    "    array = df[ucols].to_numpy()    \n",
    "    pdtype = {}\n",
    "    sfuncs = []\n",
    "    scols = []\n",
    "    dtypes = df.dtypes.to_dict()\n",
    "    for cols, func_list in col_func_map.items():\n",
    "        col_idx = [df.colname_to_colnum[col] for col in cols]\n",
    "        dtype = set(dtypes[col] for col in cols)\n",
    "        if len(dtype) > 1:\n",
    "            raise ValueError\n",
    "        dtype=dtype.pop()\n",
    "        scols, sfuncs=pdtype.get(dtype, [[], []])\n",
    "        for func in func_list:\n",
    "            scols.append(col_idx)\n",
    "            sfuncs.append(func.__qualname__)\n",
    "        pdtype[dtype] = [scols, sfuncs]\n",
    "    t1c=time.time()\n",
    "    for dtype, (scols, sfuncs_name) in pdtype.items():\n",
    "        # Getting unique columns to avoid repetition\n",
    "        unique_cols = set(col for sublist in scols for col in sublist)\n",
    "        n, k = len(array), len(unique_cols)\n",
    "        # Create a temporary array for contiguous memory\n",
    "        _tmp_array = np.zeros((n, k), dtype=dtype, order='C')\n",
    "        result_array = np.zeros((len(groups), len(sfuncs_name)), dtype=dtype, order='F')\n",
    "        group_sep = reordernew(_tmp_array, rawarray=array, groups=groups)\n",
    "        if name not in compiled_groupby:\n",
    "            compiled_groupby[name] = apply(sfuncs_name)\n",
    "        compiled_groupby[name](_tmp_array, result_array, group_sep)\n",
    "    return result_array\n",
    "\n",
    "%timeit aggregate(df, 'E', col_func_map)"
   ]
  },
  {
   "cell_type": "code",
   "execution_count": null,
   "id": "636aba8b-52d9-4bd8-8300-72695922c40f",
   "metadata": {},
   "outputs": [],
   "source": [
    "# Define the column-function mapping with custom functions@nb.jit\n",
    "def jcustom_sum(array):\n",
    "    return np.sum(array)\n",
    "\n",
    "def jcustom_mean(array):\n",
    "    return np.mean(array)\n",
    "\n",
    "def jcustom_max(array):\n",
    "    return np.max(array)\n",
    "    \n",
    "col_func_map = {\n",
    "    'A': [jcustom_sum, jcustom_mean],\n",
    "    'B': [jcustom_max],\n",
    "}\n",
    "print('pandas classic')\n",
    "%timeit df.to_pandas().groupby('E').aggregate(col_func_map)\n",
    "\n",
    "\n",
    "@njit\n",
    "def jcustom_sum(array):\n",
    "    return np.sum(array)\n",
    "\n",
    "@njit\n",
    "def jcustom_mean(array):\n",
    "    return np.mean(array)\n",
    "\n",
    "@njit\n",
    "def jcustom_max(array):\n",
    "    return np.max(array)\n",
    "\n",
    "@njit\n",
    "def reorder(_tmp_array, rawarray, groups):\n",
    "    n = len(groups)\n",
    "    farray = np.zeros(len(groups) + 1, dtype=np.int64)\n",
    "    c = 0\n",
    "    for j in range(n): #dont put nb.prange here --> counter c wont work \n",
    "        m = len(groups[j])\n",
    "        for i in nb.prange(m):\n",
    "            _tmp_array[c+i] = rawarray[groups[j][i]]\n",
    "        c += m\n",
    "        farray[j + 1] = c\n",
    "    return farray\n",
    "\n",
    "\n",
    "\n",
    "def apply(funcs):\n",
    "    m=len(funcs)\n",
    "    ffunc = f\"\"\"\n",
    "@njit\n",
    "def wapply(_tmp_array, result_array, group_sep):\n",
    "    n = len(group_sep) \n",
    "    c = 0\n",
    "    for j in nb.prange(n):\n",
    "        select = _tmp_array[group_sep[j]:group_sep[j+1]]\n",
    "{'\\n'.join(f'        result_array[j, {j}]={funcs[j]}(select)' for j in range(m))}\n",
    "        \"\"\"\n",
    "    exec(ffunc, globals())\n",
    "    return globals()['wapply']\n",
    "\n",
    "\n",
    "# Define the column-function mapping with custom functions\n",
    "col_func_map = {\n",
    "    ('A',): [jcustom_sum, jcustom_mean],\n",
    "    ('B',): [jcustom_max],\n",
    "}\n",
    "\n",
    "compiled_groupby = {}\n",
    "\n",
    "def aggregate(df, col_func_map, name):\n",
    "    t1=time.time()\n",
    "    ucols = [key for keys in col_func_map.keys() for key in keys]\n",
    "    \n",
    "    groups = np.unique(df['E'].to_numpy(),return_inverse=True)\n",
    "    array = df[ucols].to_numpy()\n",
    "    t1=time.time()\n",
    "    pdtype = {}\n",
    "    sfuncs = []\n",
    "    scols = []\n",
    "    dtypes = df.dtypes.to_dict()\n",
    "    for cols, func_list in col_func_map.items():\n",
    "        col_idx = [df.colname_to_colnum[col] for col in cols]\n",
    "        dtype = set(dtypes[col] for col in cols)\n",
    "        if len(dtype) > 1:\n",
    "            raise ValueError\n",
    "        dtype=dtype.pop()\n",
    "        scols, sfuncs=pdtype.get(dtype, [[], []])\n",
    "        for func in func_list:\n",
    "            scols.append(col_idx)\n",
    "            sfuncs.append(func.__qualname__)\n",
    "        pdtype[dtype] = [scols, sfuncs]\n",
    "    \n",
    "    for dtype, (scols, sfuncs_name) in pdtype.items():\n",
    "        # Getting unique columns to avoid repetition\n",
    "        unique_cols = set(col for sublist in scols for col in sublist)\n",
    "        n, k = len(array), len(unique_cols)\n",
    "        \n",
    "        # Create a temporary array for contiguous memory\n",
    "        _tmp_array = np.zeros((n, k), dtype=dtype, order='C')\n",
    "        result_array = np.zeros((len(groups), len(sfuncs_name)), dtype=dtype, order='F')\n",
    "        t2=time.time()\n",
    "        group_sep = reorder(_tmp_array, rawarray=array[:, list(unique_cols)], groups=groups)\n",
    "        t3=time.time()\n",
    "        if name not in compiled_groupby:\n",
    "            compiled_groupby[name] = apply(sfuncs_name)\n",
    "        compiled_groupby[name](_tmp_array, result_array, group_sep)\n",
    "    t4=time.time()\n",
    "    print(t2-t1, t3-t2, t4-t3)\n",
    "    return result_array\n",
    "\n",
    "name = \"cacaoweb3\"\n",
    "%timeit aggregate(df, col_func_map, name)"
   ]
  },
  {
   "cell_type": "code",
   "execution_count": 38,
   "id": "79505e93-c0d9-46c8-a707-a8f1608eaec8",
   "metadata": {},
   "outputs": [
    {
     "name": "stdout",
     "output_type": "stream",
     "text": [
      "569 ms ± 2.42 ms per loop (mean ± std. dev. of 7 runs, 1 loop each)\n",
      "203 ms ± 359 µs per loop (mean ± std. dev. of 7 runs, 1 loop each)\n"
     ]
    }
   ],
   "source": [
    "\n",
    "%timeit groups = np.unique(df['E'].to_numpy(),return_inverse=True)\n",
    "%timeit groups = df.groupby('E').groups.values()"
   ]
  },
  {
   "cell_type": "code",
   "execution_count": 41,
   "id": "cd605d09-0d65-4dbc-892b-11fc8cebb7e2",
   "metadata": {},
   "outputs": [
    {
     "ename": "TypeError",
     "evalue": "'dict_values' object is not subscriptable",
     "output_type": "error",
     "traceback": [
      "\u001b[0;31m---------------------------------------------------------------------------\u001b[0m",
      "\u001b[0;31mTypeError\u001b[0m                                 Traceback (most recent call last)",
      "Cell \u001b[0;32mIn[41], line 2\u001b[0m\n\u001b[1;32m      1\u001b[0m groups \u001b[38;5;241m=\u001b[39m df\u001b[38;5;241m.\u001b[39mgroupby(\u001b[38;5;124m'\u001b[39m\u001b[38;5;124mE\u001b[39m\u001b[38;5;124m'\u001b[39m)\u001b[38;5;241m.\u001b[39mgroups\u001b[38;5;241m.\u001b[39mvalues()\n\u001b[0;32m----> 2\u001b[0m \u001b[43mgroups\u001b[49m\u001b[43m[\u001b[49m\u001b[38;5;241;43m0\u001b[39;49m\u001b[43m]\u001b[49m\n",
      "\u001b[0;31mTypeError\u001b[0m: 'dict_values' object is not subscriptable"
     ]
    }
   ],
   "source": [
    "groups = df.groupby('E').groups.values()\n"
   ]
  },
  {
   "cell_type": "code",
   "execution_count": 29,
   "id": "5d7d43cc-fbfb-4a1b-9da8-251514fe8fa3",
   "metadata": {},
   "outputs": [],
   "source": [
    "_, g1 = np.unique(np.ravel_multi_index((arr_slice:=df[['E']].values).T,arr_slice.max(0)+1),return_inverse=True)\n",
    "g2 = np.unique(df['E'].values,return_inverse=True)"
   ]
  },
  {
   "cell_type": "code",
   "execution_count": 31,
   "id": "1a0a31d1-1fc8-4bf1-825d-e9b943e297a4",
   "metadata": {},
   "outputs": [
    {
     "data": {
      "text/plain": [
       "array([2, 3, 3, ..., 3, 2, 2])"
      ]
     },
     "execution_count": 31,
     "metadata": {},
     "output_type": "execute_result"
    }
   ],
   "source": [
    "g"
   ]
  },
  {
   "cell_type": "code",
   "execution_count": 27,
   "id": "0eb3033e-b5e0-4063-bb8f-bda06457af9a",
   "metadata": {},
   "outputs": [
    {
     "ename": "TypeError",
     "evalue": "unique() got an unexpected keyword argument 'lidx'",
     "output_type": "error",
     "traceback": [
      "\u001b[0;31m---------------------------------------------------------------------------\u001b[0m",
      "\u001b[0;31mTypeError\u001b[0m                                 Traceback (most recent call last)",
      "Cell \u001b[0;32mIn[27], line 1\u001b[0m\n\u001b[0;32m----> 1\u001b[0m \u001b[43mget_ipython\u001b[49m\u001b[43m(\u001b[49m\u001b[43m)\u001b[49m\u001b[38;5;241;43m.\u001b[39;49m\u001b[43mrun_line_magic\u001b[49m\u001b[43m(\u001b[49m\u001b[38;5;124;43m'\u001b[39;49m\u001b[38;5;124;43mtimeit\u001b[39;49m\u001b[38;5;124;43m'\u001b[39;49m\u001b[43m,\u001b[49m\u001b[43m \u001b[49m\u001b[38;5;124;43m'\u001b[39;49m\u001b[38;5;124;43mgroups = np.unique(lidx = np.ravel_multi_index(arr_slice.T,arr_slice.max(0)+1),return_inverse=True)\u001b[39;49m\u001b[38;5;124;43m'\u001b[39;49m\u001b[43m)\u001b[49m\n\u001b[1;32m      2\u001b[0m get_ipython()\u001b[38;5;241m.\u001b[39mrun_line_magic(\u001b[38;5;124m'\u001b[39m\u001b[38;5;124mtimeit\u001b[39m\u001b[38;5;124m'\u001b[39m, \u001b[38;5;124m\"\u001b[39m\u001b[38;5;124mgroups = np.unique(df[\u001b[39m\u001b[38;5;124m'\u001b[39m\u001b[38;5;124mE\u001b[39m\u001b[38;5;124m'\u001b[39m\u001b[38;5;124m].values,return_inverse=True)\u001b[39m\u001b[38;5;124m\"\u001b[39m)\n",
      "File \u001b[0;32m~/.pyenv/versions/3.12.1/lib/python3.12/site-packages/IPython/core/interactiveshell.py:2456\u001b[0m, in \u001b[0;36mInteractiveShell.run_line_magic\u001b[0;34m(self, magic_name, line, _stack_depth)\u001b[0m\n\u001b[1;32m   2454\u001b[0m     kwargs[\u001b[38;5;124m'\u001b[39m\u001b[38;5;124mlocal_ns\u001b[39m\u001b[38;5;124m'\u001b[39m] \u001b[38;5;241m=\u001b[39m \u001b[38;5;28mself\u001b[39m\u001b[38;5;241m.\u001b[39mget_local_scope(stack_depth)\n\u001b[1;32m   2455\u001b[0m \u001b[38;5;28;01mwith\u001b[39;00m \u001b[38;5;28mself\u001b[39m\u001b[38;5;241m.\u001b[39mbuiltin_trap:\n\u001b[0;32m-> 2456\u001b[0m     result \u001b[38;5;241m=\u001b[39m \u001b[43mfn\u001b[49m\u001b[43m(\u001b[49m\u001b[38;5;241;43m*\u001b[39;49m\u001b[43margs\u001b[49m\u001b[43m,\u001b[49m\u001b[43m \u001b[49m\u001b[38;5;241;43m*\u001b[39;49m\u001b[38;5;241;43m*\u001b[39;49m\u001b[43mkwargs\u001b[49m\u001b[43m)\u001b[49m\n\u001b[1;32m   2458\u001b[0m \u001b[38;5;66;03m# The code below prevents the output from being displayed\u001b[39;00m\n\u001b[1;32m   2459\u001b[0m \u001b[38;5;66;03m# when using magics with decorator @output_can_be_silenced\u001b[39;00m\n\u001b[1;32m   2460\u001b[0m \u001b[38;5;66;03m# when the last Python token in the expression is a ';'.\u001b[39;00m\n\u001b[1;32m   2461\u001b[0m \u001b[38;5;28;01mif\u001b[39;00m \u001b[38;5;28mgetattr\u001b[39m(fn, magic\u001b[38;5;241m.\u001b[39mMAGIC_OUTPUT_CAN_BE_SILENCED, \u001b[38;5;28;01mFalse\u001b[39;00m):\n",
      "File \u001b[0;32m~/.pyenv/versions/3.12.1/lib/python3.12/site-packages/IPython/core/magics/execution.py:1185\u001b[0m, in \u001b[0;36mExecutionMagics.timeit\u001b[0;34m(self, line, cell, local_ns)\u001b[0m\n\u001b[1;32m   1183\u001b[0m \u001b[38;5;28;01mfor\u001b[39;00m index \u001b[38;5;129;01min\u001b[39;00m \u001b[38;5;28mrange\u001b[39m(\u001b[38;5;241m0\u001b[39m, \u001b[38;5;241m10\u001b[39m):\n\u001b[1;32m   1184\u001b[0m     number \u001b[38;5;241m=\u001b[39m \u001b[38;5;241m10\u001b[39m \u001b[38;5;241m*\u001b[39m\u001b[38;5;241m*\u001b[39m index\n\u001b[0;32m-> 1185\u001b[0m     time_number \u001b[38;5;241m=\u001b[39m \u001b[43mtimer\u001b[49m\u001b[38;5;241;43m.\u001b[39;49m\u001b[43mtimeit\u001b[49m\u001b[43m(\u001b[49m\u001b[43mnumber\u001b[49m\u001b[43m)\u001b[49m\n\u001b[1;32m   1186\u001b[0m     \u001b[38;5;28;01mif\u001b[39;00m time_number \u001b[38;5;241m>\u001b[39m\u001b[38;5;241m=\u001b[39m \u001b[38;5;241m0.2\u001b[39m:\n\u001b[1;32m   1187\u001b[0m         \u001b[38;5;28;01mbreak\u001b[39;00m\n",
      "File \u001b[0;32m~/.pyenv/versions/3.12.1/lib/python3.12/site-packages/IPython/core/magics/execution.py:173\u001b[0m, in \u001b[0;36mTimer.timeit\u001b[0;34m(self, number)\u001b[0m\n\u001b[1;32m    171\u001b[0m gc\u001b[38;5;241m.\u001b[39mdisable()\n\u001b[1;32m    172\u001b[0m \u001b[38;5;28;01mtry\u001b[39;00m:\n\u001b[0;32m--> 173\u001b[0m     timing \u001b[38;5;241m=\u001b[39m \u001b[38;5;28;43mself\u001b[39;49m\u001b[38;5;241;43m.\u001b[39;49m\u001b[43minner\u001b[49m\u001b[43m(\u001b[49m\u001b[43mit\u001b[49m\u001b[43m,\u001b[49m\u001b[43m \u001b[49m\u001b[38;5;28;43mself\u001b[39;49m\u001b[38;5;241;43m.\u001b[39;49m\u001b[43mtimer\u001b[49m\u001b[43m)\u001b[49m\n\u001b[1;32m    174\u001b[0m \u001b[38;5;28;01mfinally\u001b[39;00m:\n\u001b[1;32m    175\u001b[0m     \u001b[38;5;28;01mif\u001b[39;00m gcold:\n",
      "File \u001b[0;32m<magic-timeit>:1\u001b[0m, in \u001b[0;36minner\u001b[0;34m(_it, _timer)\u001b[0m\n",
      "\u001b[0;31mTypeError\u001b[0m: unique() got an unexpected keyword argument 'lidx'"
     ]
    }
   ],
   "source": [
    "\n",
    "%timeit groups = np.unique(np.ravel_multi_index(arr_slice.T,arr_slice.max(0)+1),return_inverse=True)\n",
    "%timeit groups = np.unique(df['E'].values,return_inverse=True)\n"
   ]
  },
  {
   "cell_type": "code",
   "execution_count": null,
   "id": "1d16efe6-28ac-4112-a07f-4fcf029933f9",
   "metadata": {},
   "outputs": [],
   "source": [
    "group.get_group(1)"
   ]
  },
  {
   "cell_type": "code",
   "execution_count": 19,
   "id": "1b7e633d-41cb-499b-b7b4-3d940ad317a8",
   "metadata": {},
   "outputs": [
    {
     "data": {
      "text/plain": [
       "5"
      ]
     },
     "execution_count": 19,
     "metadata": {},
     "output_type": "execute_result"
    }
   ],
   "source": [
    "a = set((5,))\n",
    "a = a.pop()\n",
    "a"
   ]
  },
  {
   "cell_type": "code",
   "execution_count": 11,
   "id": "bb9c9dfe-871d-4b0e-86ef-039dca311769",
   "metadata": {},
   "outputs": [
    {
     "data": {
      "text/plain": [
       "['A', 'B']"
      ]
     },
     "execution_count": 11,
     "metadata": {},
     "output_type": "execute_result"
    }
   ],
   "source": [
    "t1=time.time()\n",
    "\n",
    "groups = [group.to_numpy() for group in df.groupby('E').groups.values()]\n",
    "\n",
    "pdtype = {}\n",
    "sfuncs = []\n",
    "scols = []\n",
    "for cols, func_list in col_func_map.items():\n",
    "    col_idx = [df.columns.get_loc(col) for col in cols]\n",
    "    dtype = df.dtypes.loc[list(cols)]\n",
    "    if dtype.nunique() > 1:\n",
    "        raise ValueError\n",
    "    dtype=dtype.iloc[0]\n",
    "    scols, sfuncs=pdtype.get(dtype, [[], []])\n",
    "    for func in func_list:\n",
    "        scols.append(col_idx)\n",
    "        sfuncs.append(func)\n",
    "    pdtype[dtype] = [scols, sfuncs]\n",
    "\n",
    "t1b=time.time()\n"
   ]
  },
  {
   "cell_type": "code",
   "execution_count": 3,
   "id": "5bf6ef41-da1f-4036-b3e8-9b15a48c3f5f",
   "metadata": {},
   "outputs": [
    {
     "ename": "KeyError",
     "evalue": "(0, 1)",
     "output_type": "error",
     "traceback": [
      "\u001b[0;31m---------------------------------------------------------------------------\u001b[0m",
      "\u001b[0;31mKeyError\u001b[0m                                  Traceback (most recent call last)",
      "File \u001b[0;32m~/.pyenv/versions/3.12.1/lib/python3.12/site-packages/pandas/core/indexes/base.py:3802\u001b[0m, in \u001b[0;36mIndex.get_loc\u001b[0;34m(self, key)\u001b[0m\n\u001b[1;32m   3801\u001b[0m \u001b[38;5;28;01mtry\u001b[39;00m:\n\u001b[0;32m-> 3802\u001b[0m     \u001b[38;5;28;01mreturn\u001b[39;00m \u001b[38;5;28;43mself\u001b[39;49m\u001b[38;5;241;43m.\u001b[39;49m\u001b[43m_engine\u001b[49m\u001b[38;5;241;43m.\u001b[39;49m\u001b[43mget_loc\u001b[49m\u001b[43m(\u001b[49m\u001b[43mcasted_key\u001b[49m\u001b[43m)\u001b[49m\n\u001b[1;32m   3803\u001b[0m \u001b[38;5;28;01mexcept\u001b[39;00m \u001b[38;5;167;01mKeyError\u001b[39;00m \u001b[38;5;28;01mas\u001b[39;00m err:\n",
      "File \u001b[0;32mindex.pyx:153\u001b[0m, in \u001b[0;36mpandas._libs.index.IndexEngine.get_loc\u001b[0;34m()\u001b[0m\n",
      "File \u001b[0;32mindex.pyx:182\u001b[0m, in \u001b[0;36mpandas._libs.index.IndexEngine.get_loc\u001b[0;34m()\u001b[0m\n",
      "File \u001b[0;32mpandas/_libs/hashtable_class_helper.pxi:7081\u001b[0m, in \u001b[0;36mpandas._libs.hashtable.PyObjectHashTable.get_item\u001b[0;34m()\u001b[0m\n",
      "File \u001b[0;32mpandas/_libs/hashtable_class_helper.pxi:7089\u001b[0m, in \u001b[0;36mpandas._libs.hashtable.PyObjectHashTable.get_item\u001b[0;34m()\u001b[0m\n",
      "\u001b[0;31mKeyError\u001b[0m: (0, 1)",
      "\nThe above exception was the direct cause of the following exception:\n",
      "\u001b[0;31mKeyError\u001b[0m                                  Traceback (most recent call last)",
      "Cell \u001b[0;32mIn[3], line 43\u001b[0m\n\u001b[1;32m     40\u001b[0m     \u001b[38;5;28;01mreturn\u001b[39;00m result_array\n\u001b[1;32m     42\u001b[0m name \u001b[38;5;241m=\u001b[39m \u001b[38;5;124m\"\u001b[39m\u001b[38;5;124mcacaoweb\u001b[39m\u001b[38;5;124m\"\u001b[39m\n\u001b[0;32m---> 43\u001b[0m \u001b[43mget_ipython\u001b[49m\u001b[43m(\u001b[49m\u001b[43m)\u001b[49m\u001b[38;5;241;43m.\u001b[39;49m\u001b[43mrun_line_magic\u001b[49m\u001b[43m(\u001b[49m\u001b[38;5;124;43m'\u001b[39;49m\u001b[38;5;124;43mtimeit\u001b[39;49m\u001b[38;5;124;43m'\u001b[39;49m\u001b[43m,\u001b[49m\u001b[43m \u001b[49m\u001b[38;5;124;43m'\u001b[39;49m\u001b[38;5;124;43maggregate(df, col_func_map, name)\u001b[39;49m\u001b[38;5;124;43m'\u001b[39;49m\u001b[43m)\u001b[49m\n",
      "File \u001b[0;32m~/.pyenv/versions/3.12.1/lib/python3.12/site-packages/IPython/core/interactiveshell.py:2456\u001b[0m, in \u001b[0;36mInteractiveShell.run_line_magic\u001b[0;34m(self, magic_name, line, _stack_depth)\u001b[0m\n\u001b[1;32m   2454\u001b[0m     kwargs[\u001b[38;5;124m'\u001b[39m\u001b[38;5;124mlocal_ns\u001b[39m\u001b[38;5;124m'\u001b[39m] \u001b[38;5;241m=\u001b[39m \u001b[38;5;28mself\u001b[39m\u001b[38;5;241m.\u001b[39mget_local_scope(stack_depth)\n\u001b[1;32m   2455\u001b[0m \u001b[38;5;28;01mwith\u001b[39;00m \u001b[38;5;28mself\u001b[39m\u001b[38;5;241m.\u001b[39mbuiltin_trap:\n\u001b[0;32m-> 2456\u001b[0m     result \u001b[38;5;241m=\u001b[39m \u001b[43mfn\u001b[49m\u001b[43m(\u001b[49m\u001b[38;5;241;43m*\u001b[39;49m\u001b[43margs\u001b[49m\u001b[43m,\u001b[49m\u001b[43m \u001b[49m\u001b[38;5;241;43m*\u001b[39;49m\u001b[38;5;241;43m*\u001b[39;49m\u001b[43mkwargs\u001b[49m\u001b[43m)\u001b[49m\n\u001b[1;32m   2458\u001b[0m \u001b[38;5;66;03m# The code below prevents the output from being displayed\u001b[39;00m\n\u001b[1;32m   2459\u001b[0m \u001b[38;5;66;03m# when using magics with decorator @output_can_be_silenced\u001b[39;00m\n\u001b[1;32m   2460\u001b[0m \u001b[38;5;66;03m# when the last Python token in the expression is a ';'.\u001b[39;00m\n\u001b[1;32m   2461\u001b[0m \u001b[38;5;28;01mif\u001b[39;00m \u001b[38;5;28mgetattr\u001b[39m(fn, magic\u001b[38;5;241m.\u001b[39mMAGIC_OUTPUT_CAN_BE_SILENCED, \u001b[38;5;28;01mFalse\u001b[39;00m):\n",
      "File \u001b[0;32m~/.pyenv/versions/3.12.1/lib/python3.12/site-packages/IPython/core/magics/execution.py:1185\u001b[0m, in \u001b[0;36mExecutionMagics.timeit\u001b[0;34m(self, line, cell, local_ns)\u001b[0m\n\u001b[1;32m   1183\u001b[0m \u001b[38;5;28;01mfor\u001b[39;00m index \u001b[38;5;129;01min\u001b[39;00m \u001b[38;5;28mrange\u001b[39m(\u001b[38;5;241m0\u001b[39m, \u001b[38;5;241m10\u001b[39m):\n\u001b[1;32m   1184\u001b[0m     number \u001b[38;5;241m=\u001b[39m \u001b[38;5;241m10\u001b[39m \u001b[38;5;241m*\u001b[39m\u001b[38;5;241m*\u001b[39m index\n\u001b[0;32m-> 1185\u001b[0m     time_number \u001b[38;5;241m=\u001b[39m \u001b[43mtimer\u001b[49m\u001b[38;5;241;43m.\u001b[39;49m\u001b[43mtimeit\u001b[49m\u001b[43m(\u001b[49m\u001b[43mnumber\u001b[49m\u001b[43m)\u001b[49m\n\u001b[1;32m   1186\u001b[0m     \u001b[38;5;28;01mif\u001b[39;00m time_number \u001b[38;5;241m>\u001b[39m\u001b[38;5;241m=\u001b[39m \u001b[38;5;241m0.2\u001b[39m:\n\u001b[1;32m   1187\u001b[0m         \u001b[38;5;28;01mbreak\u001b[39;00m\n",
      "File \u001b[0;32m~/.pyenv/versions/3.12.1/lib/python3.12/site-packages/IPython/core/magics/execution.py:173\u001b[0m, in \u001b[0;36mTimer.timeit\u001b[0;34m(self, number)\u001b[0m\n\u001b[1;32m    171\u001b[0m gc\u001b[38;5;241m.\u001b[39mdisable()\n\u001b[1;32m    172\u001b[0m \u001b[38;5;28;01mtry\u001b[39;00m:\n\u001b[0;32m--> 173\u001b[0m     timing \u001b[38;5;241m=\u001b[39m \u001b[38;5;28;43mself\u001b[39;49m\u001b[38;5;241;43m.\u001b[39;49m\u001b[43minner\u001b[49m\u001b[43m(\u001b[49m\u001b[43mit\u001b[49m\u001b[43m,\u001b[49m\u001b[43m \u001b[49m\u001b[38;5;28;43mself\u001b[39;49m\u001b[38;5;241;43m.\u001b[39;49m\u001b[43mtimer\u001b[49m\u001b[43m)\u001b[49m\n\u001b[1;32m    174\u001b[0m \u001b[38;5;28;01mfinally\u001b[39;00m:\n\u001b[1;32m    175\u001b[0m     \u001b[38;5;28;01mif\u001b[39;00m gcold:\n",
      "File \u001b[0;32m<magic-timeit>:1\u001b[0m, in \u001b[0;36minner\u001b[0;34m(_it, _timer)\u001b[0m\n",
      "Cell \u001b[0;32mIn[3], line 26\u001b[0m, in \u001b[0;36maggregate\u001b[0;34m(df, col_func_map, name)\u001b[0m\n\u001b[1;32m     23\u001b[0m \u001b[38;5;28;01mfor\u001b[39;00m dtype, (scols, sfuncs) \u001b[38;5;129;01min\u001b[39;00m pdtype\u001b[38;5;241m.\u001b[39mitems():\n\u001b[1;32m     24\u001b[0m     \u001b[38;5;66;03m# Getting unique columns to avoid repetition\u001b[39;00m\n\u001b[1;32m     25\u001b[0m     unique_cols \u001b[38;5;241m=\u001b[39m \u001b[38;5;28mtuple\u001b[39m(\u001b[38;5;28mset\u001b[39m(col \u001b[38;5;28;01mfor\u001b[39;00m sublist \u001b[38;5;129;01min\u001b[39;00m scols \u001b[38;5;28;01mfor\u001b[39;00m col \u001b[38;5;129;01min\u001b[39;00m sublist))\n\u001b[0;32m---> 26\u001b[0m     array \u001b[38;5;241m=\u001b[39m \u001b[43mdf\u001b[49m\u001b[43m[\u001b[49m\u001b[43munique_cols\u001b[49m\u001b[43m]\u001b[49m\u001b[38;5;241m.\u001b[39mto_numpy()\n\u001b[1;32m     27\u001b[0m     n, k \u001b[38;5;241m=\u001b[39m \u001b[38;5;28mlen\u001b[39m(array), \u001b[38;5;28mlen\u001b[39m(unique_cols)\n\u001b[1;32m     29\u001b[0m     \u001b[38;5;66;03m# Create a temporary array for contiguous memory\u001b[39;00m\n",
      "File \u001b[0;32m~/.pyenv/versions/3.12.1/lib/python3.12/site-packages/pandas/core/frame.py:4090\u001b[0m, in \u001b[0;36mDataFrame.__getitem__\u001b[0;34m(self, key)\u001b[0m\n\u001b[1;32m   4088\u001b[0m \u001b[38;5;28;01mif\u001b[39;00m \u001b[38;5;28mself\u001b[39m\u001b[38;5;241m.\u001b[39mcolumns\u001b[38;5;241m.\u001b[39mnlevels \u001b[38;5;241m>\u001b[39m \u001b[38;5;241m1\u001b[39m:\n\u001b[1;32m   4089\u001b[0m     \u001b[38;5;28;01mreturn\u001b[39;00m \u001b[38;5;28mself\u001b[39m\u001b[38;5;241m.\u001b[39m_getitem_multilevel(key)\n\u001b[0;32m-> 4090\u001b[0m indexer \u001b[38;5;241m=\u001b[39m \u001b[38;5;28;43mself\u001b[39;49m\u001b[38;5;241;43m.\u001b[39;49m\u001b[43mcolumns\u001b[49m\u001b[38;5;241;43m.\u001b[39;49m\u001b[43mget_loc\u001b[49m\u001b[43m(\u001b[49m\u001b[43mkey\u001b[49m\u001b[43m)\u001b[49m\n\u001b[1;32m   4091\u001b[0m \u001b[38;5;28;01mif\u001b[39;00m is_integer(indexer):\n\u001b[1;32m   4092\u001b[0m     indexer \u001b[38;5;241m=\u001b[39m [indexer]\n",
      "File \u001b[0;32m~/.pyenv/versions/3.12.1/lib/python3.12/site-packages/pandas/core/indexes/base.py:3809\u001b[0m, in \u001b[0;36mIndex.get_loc\u001b[0;34m(self, key)\u001b[0m\n\u001b[1;32m   3804\u001b[0m     \u001b[38;5;28;01mif\u001b[39;00m \u001b[38;5;28misinstance\u001b[39m(casted_key, \u001b[38;5;28mslice\u001b[39m) \u001b[38;5;129;01mor\u001b[39;00m (\n\u001b[1;32m   3805\u001b[0m         \u001b[38;5;28misinstance\u001b[39m(casted_key, abc\u001b[38;5;241m.\u001b[39mIterable)\n\u001b[1;32m   3806\u001b[0m         \u001b[38;5;129;01mand\u001b[39;00m \u001b[38;5;28many\u001b[39m(\u001b[38;5;28misinstance\u001b[39m(x, \u001b[38;5;28mslice\u001b[39m) \u001b[38;5;28;01mfor\u001b[39;00m x \u001b[38;5;129;01min\u001b[39;00m casted_key)\n\u001b[1;32m   3807\u001b[0m     ):\n\u001b[1;32m   3808\u001b[0m         \u001b[38;5;28;01mraise\u001b[39;00m InvalidIndexError(key)\n\u001b[0;32m-> 3809\u001b[0m     \u001b[38;5;28;01mraise\u001b[39;00m \u001b[38;5;167;01mKeyError\u001b[39;00m(key) \u001b[38;5;28;01mfrom\u001b[39;00m \u001b[38;5;21;01merr\u001b[39;00m\n\u001b[1;32m   3810\u001b[0m \u001b[38;5;28;01mexcept\u001b[39;00m \u001b[38;5;167;01mTypeError\u001b[39;00m:\n\u001b[1;32m   3811\u001b[0m     \u001b[38;5;66;03m# If we have a listlike key, _check_indexing_error will raise\u001b[39;00m\n\u001b[1;32m   3812\u001b[0m     \u001b[38;5;66;03m#  InvalidIndexError. Otherwise we fall through and re-raise\u001b[39;00m\n\u001b[1;32m   3813\u001b[0m     \u001b[38;5;66;03m#  the TypeError.\u001b[39;00m\n\u001b[1;32m   3814\u001b[0m     \u001b[38;5;28mself\u001b[39m\u001b[38;5;241m.\u001b[39m_check_indexing_error(key)\n",
      "\u001b[0;31mKeyError\u001b[0m: (0, 1)"
     ]
    }
   ],
   "source": [
    "\n",
    "def aggregate(df, col_func_map, name):\n",
    "    t1=time.time()\n",
    "    \n",
    "    groups = [group.to_numpy() for group in df.groupby('E').groups.values()]\n",
    "    \n",
    "    pdtype = {}\n",
    "    sfuncs = []\n",
    "    scols = []\n",
    "    for cols, func_list in col_func_map.items():\n",
    "        col_idx = [df.columns.get_loc(col) for col in cols]\n",
    "        dtype = df.dtypes.loc[list(cols)]\n",
    "        if dtype.nunique() > 1:\n",
    "            raise ValueError\n",
    "        dtype=dtype.iloc[0]\n",
    "        scols, sfuncs=pdtype.get(dtype, [[], []])\n",
    "        for func in func_list:\n",
    "            scols.append(col_idx)\n",
    "            sfuncs.append(func)\n",
    "        pdtype[dtype] = [scols, sfuncs]\n",
    "    \n",
    "    t1b=time.time()\n",
    "    \n",
    "    for dtype, (scols, sfuncs) in pdtype.items():\n",
    "        # Getting unique columns to avoid repetition\n",
    "        unique_cols = tuple(set(col for sublist in scols for col in sublist))\n",
    "        array = df[unique_cols].to_numpy()\n",
    "        n, k = len(array), len(unique_cols)\n",
    "        \n",
    "        # Create a temporary array for contiguous memory\n",
    "        _tmp_array = np.zeros((n, k), dtype=dtype, order='C')\n",
    "        result_array = np.zeros((len(groups), len(sfuncs)), dtype=dtype, order='C')\n",
    "        t2=time.time()\n",
    "        group_sep = reorder(_tmp_array, rawarray=array[:, list(unique_cols)], groups=groups)\n",
    "        t3=time.time()\n",
    "        if name not in compiled_groupby:\n",
    "            compiled_groupby[name] = apply(sfuncs)\n",
    "        compiled_groupby[name](_tmp_array, result_array, group_sep)\n",
    "    t4=time.time()\n",
    "    print(t1b-t1, t2-t1b, t3-t2, t4-t3)\n",
    "    return result_array\n",
    "\n",
    "name = \"cacaoweb\"\n",
    "%timeit aggregate(df, col_func_map, name)"
   ]
  },
  {
   "cell_type": "code",
   "execution_count": 3,
   "id": "efbb6925-764b-44a8-9dc5-863e2f44d070",
   "metadata": {},
   "outputs": [
    {
     "data": {
      "text/plain": [
       "             A         B         C         D  E\n",
       "79   -2.038734 -1.232376 -0.380578  0.448743  1\n",
       "123  -2.493969 -0.799089  1.182274 -0.606533  1\n",
       "191  -2.406897  1.235835  0.950062 -0.704273  1\n",
       "195  -2.093371  0.762015 -1.655454  0.327814  1\n",
       "209  -2.661153  0.904761 -0.809708  0.480497  1\n",
       "...        ...       ...       ...       ... ..\n",
       "9776 -2.321040 -1.319001  0.628674 -0.288920  1\n",
       "9813 -2.896840 -0.671568  0.288008  0.974226  1\n",
       "9831 -2.493081 -1.314321 -1.240508 -1.174425  1\n",
       "9948 -2.731723 -0.321066  1.050955 -0.551725  1\n",
       "9949 -2.094642  0.042306 -0.306481  0.117431  1\n",
       "\n",
       "[241 rows x 5 columns]"
      ]
     },
     "execution_count": 3,
     "metadata": {},
     "output_type": "execute_result"
    }
   ],
   "source": [
    "import pandopt as pdo\n",
    "import pandas as pd\n",
    "import numpy as np\n",
    "dfa=pd.DataFrame(np.random.randn(10000, 4), columns=['A', 'B', 'C', 'D'])\n",
    "dfa['E'] = dfa['A'].apply(lambda x: 1 if x <-2 else 2 if x <-1 else 3 if x<0 else 4 if x<2 else 5)\n",
    "dfa.loc[dfa.groupby('E').groups[1],:]"
   ]
  },
  {
   "cell_type": "code",
   "execution_count": 4,
   "id": "ec1b2f66-31b4-4ff1-bf4e-52a04fb790a1",
   "metadata": {},
   "outputs": [
    {
     "name": "stdout",
     "output_type": "stream",
     "text": [
      "A\n",
      "E\n"
     ]
    }
   ],
   "source": [
    "df = pdo.DataFrame(np.random.randn(10000, 4), columns=['A', 'B', 'C', 'D'])#.astype(np.float32)\n",
    "df['E'] = df['A'].apply(lambda x: 1 if x <-2 else 2 if x <-1 else 3 if x<0 else 4 if x<2 else 5)\n",
    "groups = df.groupby('E').groups"
   ]
  },
  {
   "cell_type": "code",
   "execution_count": null,
   "id": "c9b9bbd0-7759-4380-9441-11f444d9fa44",
   "metadata": {},
   "outputs": [],
   "source": [
    "{[col_names]: [funcs], ...}\n"
   ]
  },
  {
   "cell_type": "code",
   "execution_count": null,
   "id": "e79dfd47-2953-420e-9514-1b74d72df78a",
   "metadata": {},
   "outputs": [],
   "source": [
    "def slice(array, func):\n",
    "    ...\n",
    "\n",
    "def optigroup(array, slices, jitfuncs):\n",
    "    ...    \n",
    "\n",
    "def group_result(array, groups, funcs):\n",
    "    result = np.empty((len(groups), len(funcs)))\n",
    "    "
   ]
  },
  {
   "cell_type": "code",
   "execution_count": 5,
   "id": "98e9dff0-24ed-48f5-aef0-497b4f409346",
   "metadata": {},
   "outputs": [
    {
     "name": "stdout",
     "output_type": "stream",
     "text": [
      "A\n",
      "['A', 'B', 'C', 'D']\n",
      "E\n",
      "31.4 ms ± 1.01 ms per loop (mean ± std. dev. of 7 runs, 1 loop each)\n"
     ]
    },
    {
     "ename": "TypingError",
     "evalue": "Failed in nopython mode pipeline (step: nopython frontend)\nUntyped global name 'prange': Cannot determine Numba type of <class 'numba.core.ir.UndefinedType'>\n\nFile \"../../../../tmp/ipykernel_1473150/657794856.py\", line 21:\n<source missing, REPL/exec in use?>\n\n'prange' looks like a Numba internal function, has it been imported (i.e. 'from numba import prange')?\n",
     "output_type": "error",
     "traceback": [
      "\u001b[0;31m---------------------------------------------------------------------------\u001b[0m",
      "\u001b[0;31mTypingError\u001b[0m                               Traceback (most recent call last)",
      "Cell \u001b[0;32mIn[5], line 43\u001b[0m\n\u001b[1;32m     40\u001b[0m jit_agg_mean \u001b[38;5;241m=\u001b[39m njit(agg_mean)\n\u001b[1;32m     42\u001b[0m get_ipython()\u001b[38;5;241m.\u001b[39mrun_line_magic(\u001b[38;5;124m'\u001b[39m\u001b[38;5;124mtimeit\u001b[39m\u001b[38;5;124m'\u001b[39m, \u001b[38;5;124m'\u001b[39m\u001b[38;5;124mresults = optigroup(array, groups, [jit_agg_sum, jit_agg_mean])\u001b[39m\u001b[38;5;124m'\u001b[39m)\n\u001b[0;32m---> 43\u001b[0m \u001b[43mget_ipython\u001b[49m\u001b[43m(\u001b[49m\u001b[43m)\u001b[49m\u001b[38;5;241;43m.\u001b[39;49m\u001b[43mrun_line_magic\u001b[49m\u001b[43m(\u001b[49m\u001b[38;5;124;43m'\u001b[39;49m\u001b[38;5;124;43mtimeit\u001b[39;49m\u001b[38;5;124;43m'\u001b[39;49m\u001b[43m,\u001b[49m\u001b[43m \u001b[49m\u001b[38;5;124;43m'\u001b[39;49m\u001b[38;5;124;43mparallel_results = group_result(array, groups, jit_agg_sum, jit_agg_mean)\u001b[39;49m\u001b[38;5;124;43m'\u001b[39;49m\u001b[43m)\u001b[49m\n",
      "File \u001b[0;32m~/.pyenv/versions/3.12.1/lib/python3.12/site-packages/IPython/core/interactiveshell.py:2456\u001b[0m, in \u001b[0;36mInteractiveShell.run_line_magic\u001b[0;34m(self, magic_name, line, _stack_depth)\u001b[0m\n\u001b[1;32m   2454\u001b[0m     kwargs[\u001b[38;5;124m'\u001b[39m\u001b[38;5;124mlocal_ns\u001b[39m\u001b[38;5;124m'\u001b[39m] \u001b[38;5;241m=\u001b[39m \u001b[38;5;28mself\u001b[39m\u001b[38;5;241m.\u001b[39mget_local_scope(stack_depth)\n\u001b[1;32m   2455\u001b[0m \u001b[38;5;28;01mwith\u001b[39;00m \u001b[38;5;28mself\u001b[39m\u001b[38;5;241m.\u001b[39mbuiltin_trap:\n\u001b[0;32m-> 2456\u001b[0m     result \u001b[38;5;241m=\u001b[39m \u001b[43mfn\u001b[49m\u001b[43m(\u001b[49m\u001b[38;5;241;43m*\u001b[39;49m\u001b[43margs\u001b[49m\u001b[43m,\u001b[49m\u001b[43m \u001b[49m\u001b[38;5;241;43m*\u001b[39;49m\u001b[38;5;241;43m*\u001b[39;49m\u001b[43mkwargs\u001b[49m\u001b[43m)\u001b[49m\n\u001b[1;32m   2458\u001b[0m \u001b[38;5;66;03m# The code below prevents the output from being displayed\u001b[39;00m\n\u001b[1;32m   2459\u001b[0m \u001b[38;5;66;03m# when using magics with decorator @output_can_be_silenced\u001b[39;00m\n\u001b[1;32m   2460\u001b[0m \u001b[38;5;66;03m# when the last Python token in the expression is a ';'.\u001b[39;00m\n\u001b[1;32m   2461\u001b[0m \u001b[38;5;28;01mif\u001b[39;00m \u001b[38;5;28mgetattr\u001b[39m(fn, magic\u001b[38;5;241m.\u001b[39mMAGIC_OUTPUT_CAN_BE_SILENCED, \u001b[38;5;28;01mFalse\u001b[39;00m):\n",
      "File \u001b[0;32m~/.pyenv/versions/3.12.1/lib/python3.12/site-packages/IPython/core/magics/execution.py:1185\u001b[0m, in \u001b[0;36mExecutionMagics.timeit\u001b[0;34m(self, line, cell, local_ns)\u001b[0m\n\u001b[1;32m   1183\u001b[0m \u001b[38;5;28;01mfor\u001b[39;00m index \u001b[38;5;129;01min\u001b[39;00m \u001b[38;5;28mrange\u001b[39m(\u001b[38;5;241m0\u001b[39m, \u001b[38;5;241m10\u001b[39m):\n\u001b[1;32m   1184\u001b[0m     number \u001b[38;5;241m=\u001b[39m \u001b[38;5;241m10\u001b[39m \u001b[38;5;241m*\u001b[39m\u001b[38;5;241m*\u001b[39m index\n\u001b[0;32m-> 1185\u001b[0m     time_number \u001b[38;5;241m=\u001b[39m \u001b[43mtimer\u001b[49m\u001b[38;5;241;43m.\u001b[39;49m\u001b[43mtimeit\u001b[49m\u001b[43m(\u001b[49m\u001b[43mnumber\u001b[49m\u001b[43m)\u001b[49m\n\u001b[1;32m   1186\u001b[0m     \u001b[38;5;28;01mif\u001b[39;00m time_number \u001b[38;5;241m>\u001b[39m\u001b[38;5;241m=\u001b[39m \u001b[38;5;241m0.2\u001b[39m:\n\u001b[1;32m   1187\u001b[0m         \u001b[38;5;28;01mbreak\u001b[39;00m\n",
      "File \u001b[0;32m~/.pyenv/versions/3.12.1/lib/python3.12/site-packages/IPython/core/magics/execution.py:173\u001b[0m, in \u001b[0;36mTimer.timeit\u001b[0;34m(self, number)\u001b[0m\n\u001b[1;32m    171\u001b[0m gc\u001b[38;5;241m.\u001b[39mdisable()\n\u001b[1;32m    172\u001b[0m \u001b[38;5;28;01mtry\u001b[39;00m:\n\u001b[0;32m--> 173\u001b[0m     timing \u001b[38;5;241m=\u001b[39m \u001b[38;5;28;43mself\u001b[39;49m\u001b[38;5;241;43m.\u001b[39;49m\u001b[43minner\u001b[49m\u001b[43m(\u001b[49m\u001b[43mit\u001b[49m\u001b[43m,\u001b[49m\u001b[43m \u001b[49m\u001b[38;5;28;43mself\u001b[39;49m\u001b[38;5;241;43m.\u001b[39;49m\u001b[43mtimer\u001b[49m\u001b[43m)\u001b[49m\n\u001b[1;32m    174\u001b[0m \u001b[38;5;28;01mfinally\u001b[39;00m:\n\u001b[1;32m    175\u001b[0m     \u001b[38;5;28;01mif\u001b[39;00m gcold:\n",
      "File \u001b[0;32m<magic-timeit>:1\u001b[0m, in \u001b[0;36minner\u001b[0;34m(_it, _timer)\u001b[0m\n",
      "File \u001b[0;32m~/.pyenv/versions/3.12.1/lib/python3.12/site-packages/numba/core/dispatcher.py:468\u001b[0m, in \u001b[0;36m_DispatcherBase._compile_for_args\u001b[0;34m(self, *args, **kws)\u001b[0m\n\u001b[1;32m    464\u001b[0m         msg \u001b[38;5;241m=\u001b[39m (\u001b[38;5;124mf\u001b[39m\u001b[38;5;124m\"\u001b[39m\u001b[38;5;132;01m{\u001b[39;00m\u001b[38;5;28mstr\u001b[39m(e)\u001b[38;5;241m.\u001b[39mrstrip()\u001b[38;5;132;01m}\u001b[39;00m\u001b[38;5;124m \u001b[39m\u001b[38;5;130;01m\\n\u001b[39;00m\u001b[38;5;130;01m\\n\u001b[39;00m\u001b[38;5;124mThis error may have been caused \u001b[39m\u001b[38;5;124m\"\u001b[39m\n\u001b[1;32m    465\u001b[0m                \u001b[38;5;124mf\u001b[39m\u001b[38;5;124m\"\u001b[39m\u001b[38;5;124mby the following argument(s):\u001b[39m\u001b[38;5;130;01m\\n\u001b[39;00m\u001b[38;5;132;01m{\u001b[39;00margs_str\u001b[38;5;132;01m}\u001b[39;00m\u001b[38;5;130;01m\\n\u001b[39;00m\u001b[38;5;124m\"\u001b[39m)\n\u001b[1;32m    466\u001b[0m         e\u001b[38;5;241m.\u001b[39mpatch_message(msg)\n\u001b[0;32m--> 468\u001b[0m     \u001b[43merror_rewrite\u001b[49m\u001b[43m(\u001b[49m\u001b[43me\u001b[49m\u001b[43m,\u001b[49m\u001b[43m \u001b[49m\u001b[38;5;124;43m'\u001b[39;49m\u001b[38;5;124;43mtyping\u001b[39;49m\u001b[38;5;124;43m'\u001b[39;49m\u001b[43m)\u001b[49m\n\u001b[1;32m    469\u001b[0m \u001b[38;5;28;01mexcept\u001b[39;00m errors\u001b[38;5;241m.\u001b[39mUnsupportedError \u001b[38;5;28;01mas\u001b[39;00m e:\n\u001b[1;32m    470\u001b[0m     \u001b[38;5;66;03m# Something unsupported is present in the user code, add help info\u001b[39;00m\n\u001b[1;32m    471\u001b[0m     error_rewrite(e, \u001b[38;5;124m'\u001b[39m\u001b[38;5;124munsupported_error\u001b[39m\u001b[38;5;124m'\u001b[39m)\n",
      "File \u001b[0;32m~/.pyenv/versions/3.12.1/lib/python3.12/site-packages/numba/core/dispatcher.py:409\u001b[0m, in \u001b[0;36m_DispatcherBase._compile_for_args.<locals>.error_rewrite\u001b[0;34m(e, issue_type)\u001b[0m\n\u001b[1;32m    407\u001b[0m     \u001b[38;5;28;01mraise\u001b[39;00m e\n\u001b[1;32m    408\u001b[0m \u001b[38;5;28;01melse\u001b[39;00m:\n\u001b[0;32m--> 409\u001b[0m     \u001b[38;5;28;01mraise\u001b[39;00m e\u001b[38;5;241m.\u001b[39mwith_traceback(\u001b[38;5;28;01mNone\u001b[39;00m)\n",
      "\u001b[0;31mTypingError\u001b[0m: Failed in nopython mode pipeline (step: nopython frontend)\nUntyped global name 'prange': Cannot determine Numba type of <class 'numba.core.ir.UndefinedType'>\n\nFile \"../../../../tmp/ipykernel_1473150/657794856.py\", line 21:\n<source missing, REPL/exec in use?>\n\n'prange' looks like a Numba internal function, has it been imported (i.e. 'from numba import prange')?\n"
     ]
    }
   ],
   "source": [
    "import numpy as np\n",
    "import numba as nb\n",
    "\n",
    "# This function slices the array based on the provided indices\n",
    "def slice(array, indices):\n",
    "    return array[indices]\n",
    "\n",
    "# This function organizes the array slices and functions\n",
    "def optigroup(array, slices, jitfuncs):\n",
    "    results = []\n",
    "    for indices in slices:\n",
    "        group = slice(array, indices)\n",
    "        group_results = [func(group) for func in jitfuncs]\n",
    "        results.append(group_results)\n",
    "    return results\n",
    "\n",
    "\n",
    "@nb.jit(parallel=True, fastmath=True, forceinline=True, looplift=True, inline='always', target_backend='host', no_cfunc_wrapper=True, no_rewrites=True ,nopython=True, nogil=True)\n",
    "def group_result(array, groups, agg_sum, agg_mean):\n",
    "    result = np.empty((len(groups), 2))  # Assuming 2 functions: agg_sum and agg_mean\n",
    "    for i in prange(len(groups)):\n",
    "        group_array = array[groups[i]]\n",
    "        result[i, 0] = agg_sum(group_array)  # Apply agg_sum\n",
    "        result[i, 1] = agg_mean(group_array)  # Apply agg_mean\n",
    "    return result\n",
    "    \n",
    "def agg_sum(x):\n",
    "    return np.sum(x)\n",
    "\n",
    "def agg_mean(x):\n",
    "    return np.mean(x)\n",
    "\n",
    "njit=nb.jit(parallel=True, fastmath=True, forceinline=True, looplift=True, inline='always', target_backend='host', no_cfunc_wrapper=True, no_rewrites=True ,nopython=True, nogil=True)\n",
    "# Example usage:\n",
    "df = pdo.DataFrame(np.random.randn(1000000, 4), columns=['A', 'B', 'C', 'D'])#.astype(np.float32)\n",
    "df['E'] = df['A'].apply(lambda x: 1 if x <-2 else 2 if x <-1 else 3 if x<0 else 4 if x<2 else 5)\n",
    "array = df[['A', 'B', 'C', 'D']].to_numpy()\n",
    "groups = [group.to_numpy() for group in df.groupby('E').groups.values()]\n",
    "jit_agg_sum = njit(agg_sum)\n",
    "jit_agg_mean = njit(agg_mean)\n",
    "\n",
    "%timeit results = optigroup(array, groups, [jit_agg_sum, jit_agg_mean])\n",
    "%timeit parallel_results = group_result(array, groups, jit_agg_sum, jit_agg_mean)\n"
   ]
  },
  {
   "cell_type": "code",
   "execution_count": null,
   "id": "d614ffc1-394e-4ba0-9dc7-e63d93b57254",
   "metadata": {},
   "outputs": [],
   "source": [
    "array = df[['A']].to_numpy()\n",
    "groups = [group.to_numpy() for group in df.groupby('E').groups.values()]\n",
    "jit_agg_sum = njit(agg_sum)\n",
    "jit_agg_mean = njit(agg_mean)\n",
    "\n",
    "%timeit results = optigroup(array, groups, [jit_agg_sum, jit_agg_mean])\n",
    "%timeit parallel_results = group_result(array, groups, jit_agg_sum, jit_agg_mean)"
   ]
  },
  {
   "cell_type": "code",
   "execution_count": 35,
   "id": "5434dce7-150f-41a7-a38b-31e928e06a47",
   "metadata": {},
   "outputs": [
    {
     "name": "stdout",
     "output_type": "stream",
     "text": [
      "11.7 ms ± 117 µs per loop (mean ± std. dev. of 7 runs, 100 loops each)\n"
     ]
    }
   ],
   "source": [
    "dfa=df.to_pandas()\n",
    "%timeit dfa.groupby('E')[['A']].aggregate(['mean', 'sum'])"
   ]
  },
  {
   "cell_type": "code",
   "execution_count": 138,
   "id": "2a526a89-abea-4c18-bb89-465a59f38f3e",
   "metadata": {},
   "outputs": [
    {
     "ename": "TypeError",
     "evalue": "tuple expected at most 1 argument, got 2",
     "output_type": "error",
     "traceback": [
      "\u001b[0;31m---------------------------------------------------------------------------\u001b[0m",
      "\u001b[0;31mTypeError\u001b[0m                                 Traceback (most recent call last)",
      "Cell \u001b[0;32mIn[138], line 1\u001b[0m\n\u001b[0;32m----> 1\u001b[0m array[\u001b[38;5;28mtuple\u001b[39m((\u001b[38;5;28mlist\u001b[39m(groups[\u001b[38;5;241m0\u001b[39m]), \u001b[38;5;28;43mtuple\u001b[39;49m\u001b[43m(\u001b[49m\u001b[38;5;241;43m0\u001b[39;49m\u001b[43m,\u001b[49m\u001b[38;5;241;43m1\u001b[39;49m\u001b[43m)\u001b[49m))]\n",
      "\u001b[0;31mTypeError\u001b[0m: tuple expected at most 1 argument, got 2"
     ]
    }
   ],
   "source": [
    "array[tuple((list(groups[0]), tuple(0,1)))]"
   ]
  },
  {
   "cell_type": "code",
   "execution_count": 153,
   "id": "2d09f506-321a-47be-b49b-3f64ee822cb6",
   "metadata": {},
   "outputs": [
    {
     "ename": "SyntaxError",
     "evalue": "iterable unpacking cannot be used in comprehension (1991996339.py, line 1)",
     "output_type": "error",
     "traceback": [
      "\u001b[0;36m  Cell \u001b[0;32mIn[153], line 1\u001b[0;36m\u001b[0m\n\u001b[0;31m    set(*sc if type(sc)==list else sc for sc in scalcs)\u001b[0m\n\u001b[0m        ^\u001b[0m\n\u001b[0;31mSyntaxError\u001b[0m\u001b[0;31m:\u001b[0m iterable unpacking cannot be used in comprehension\n"
     ]
    }
   ],
   "source": [
    "set(*sc if type(sc)==list else sc for sc in scalcs)"
   ]
  },
  {
   "cell_type": "code",
   "execution_count": 104,
   "id": "d0ff3904-28d5-43ee-ad52-ff9b366dd8f6",
   "metadata": {},
   "outputs": [
    {
     "name": "stdout",
     "output_type": "stream",
     "text": [
      "A\n",
      "['A', 'B', 'C', 'D']\n",
      "E\n",
      "[[-5.41751697e+04 -1.18982627e+00  4.05851440e+00]\n",
      " [-1.87652056e+05 -6.92238659e-01  4.43131352e+00]\n",
      " [-1.56867612e+05 -2.29648842e-01  4.72470058e+00]\n",
      " [ 3.45192172e+05  3.61610746e-01  4.64376796e+00]\n",
      " [ 5.41531045e+04  1.18455474e+00  4.57548134e+00]]\n"
     ]
    }
   ],
   "source": [
    "\n",
    "@nb.jit\n",
    "def jcustom_sum(array):\n",
    "    return np.sum(array)\n",
    "\n",
    "@nb.jit\n",
    "def jcustom_mean(array):\n",
    "    return np.mean(array)\n",
    "\n",
    "@nb.jit\n",
    "def jcustom_max(array):\n",
    "    return np.max(array)\n",
    "\n",
    "@nb.jit(nopython=True, parallel=True)\n",
    "def reorder(_tmp_array, rawarray, groups):\n",
    "    n = len(groups)\n",
    "    farray = np.zeros(len(groups) + 1, dtype=np.int64)\n",
    "    c = 0\n",
    "    for j in range(n): #dont put nb.prange here --> counter c wont work \n",
    "        m = len(groups[j])\n",
    "        for i in nb.prange(m):\n",
    "            _tmp_array[c+i] = rawarray[groups[j][i]]\n",
    "        c += m\n",
    "        farray[j + 1] = c\n",
    "    return farray\n",
    "\n",
    "\n",
    "\n",
    "def apply(funcs):\n",
    "    m=len(sfuncs)\n",
    "    ffunc = f\"\"\"\n",
    "@nb.jit(nopython=True, parallel=True)\n",
    "def wapply(_tmp_array, result_array, group_sep):\n",
    "    n = len(group_sep) \n",
    "    c = 0\n",
    "    for j in nb.prange(n):\n",
    "        select = _tmp_array[group_sep[j]:group_sep[j+1]]\n",
    "{'\\n'.join(f'        result_array[j, {j}]={sfuncs[j].__qualname__}(select)' for j in range(m))}\n",
    "        \"\"\"\n",
    "    exec(ffunc, globals())\n",
    "    return globals()['wapply']\n",
    "\n",
    "\n",
    "# Define the column-function mapping with custom functions\n",
    "col_func_map = {\n",
    "    ('A',): [jcustom_sum, jcustom_mean],\n",
    "    ('B',): [jcustom_max],\n",
    "}\n",
    "\n",
    "df = pdo.DataFrame(np.random.randn(1000000, 4), columns=['A', 'B', 'C', 'D'])#.astype(np.float32)\n",
    "df['E'] = df['A'].apply(lambda x: 1 if x <-2 else 2 if x <-1 else 3 if x<0 else 4 if x<2 else 5)\n",
    "array = df[['A', 'B', 'C', 'D']].to_numpy()\n",
    "groups = [group.to_numpy() for group in df.groupby('E').groups.values()]\n",
    "\n",
    "pdtype = {}\n",
    "sfuncs = []\n",
    "scols = []\n",
    "for cols, func_list in col_func_map.items():\n",
    "    col_idx = [df.columns.get_loc(col) for col in cols]\n",
    "    dtype = df.dtypes.loc[list(cols)]\n",
    "    if dtype.nunique() > 1:\n",
    "        raise ValueError\n",
    "    dtype=dtype.iloc[0]\n",
    "    scols, sfuncs=pdtype.get(dtype, [[], []])\n",
    "    for func in func_list:\n",
    "        scols.append(col_idx)\n",
    "        sfuncs.append(func)\n",
    "    pdtype[dtype] = [scols, sfuncs]\n",
    "\n",
    "\n",
    "\n",
    "for dtype, (scols, sfuncs) in pdtype.items():\n",
    "    # Getting unique columns to avoid repetition\n",
    "    unique_cols = set(col for sublist in scols for col in sublist)\n",
    "    n, k = len(array), len(unique_cols)\n",
    "    \n",
    "    # Create a temporary array for contiguous memory\n",
    "    _tmp_array = np.zeros((n, k), dtype=dtype, order='C')\n",
    "    result_array = np.zeros((len(groups), len(sfuncs)), dtype=dtype, order='F')\n",
    "    group_sep = reorder(_tmp_array, rawarray=array[:, list(unique_cols)], groups=groups)\n",
    "    apply(sfuncs)(_tmp_array, result_array, group_sep)\n",
    "    # Assuming 'groups' is a list of indices for each group\n",
    "    \n",
    "print(result_array)\n",
    "\n"
   ]
  },
  {
   "cell_type": "code",
   "execution_count": 124,
   "id": "03c8dba2-6d96-46a8-9b0c-61fb96e6a588",
   "metadata": {},
   "outputs": [
    {
     "name": "stdout",
     "output_type": "stream",
     "text": [
      "A\n",
      "pandas classic\n",
      "53.3 ms ± 203 µs per loop (mean ± std. dev. of 7 runs, 10 loops each)\n",
      "['A', 'B', 'C', 'D']\n",
      "E\n",
      "['A', 'B', 'C', 'D']\n",
      "E\n",
      "['A', 'B', 'C', 'D']\n",
      "E\n",
      "['A', 'B', 'C', 'D']\n",
      "E\n",
      "['A', 'B', 'C', 'D']\n",
      "E\n",
      "['A', 'B', 'C', 'D']\n",
      "E\n",
      "['A', 'B', 'C', 'D']\n",
      "E\n",
      "['A', 'B', 'C', 'D']\n",
      "E\n",
      "36 ms ± 2.96 ms per loop (mean ± std. dev. of 7 runs, 1 loop each)\n"
     ]
    }
   ],
   "source": []
  },
  {
   "cell_type": "code",
   "execution_count": null,
   "id": "8d5c8f36-784c-489d-988a-3bc98655c6a7",
   "metadata": {},
   "outputs": [],
   "source": [
    "\n"
   ]
  },
  {
   "cell_type": "code",
   "execution_count": null,
   "id": "2ba1da47-6586-4576-81bf-0d09810e7fa5",
   "metadata": {},
   "outputs": [],
   "source": [
    "@nb.jit\n",
    "def jcustom_sum(array):\n",
    "    return np.sum(array)\n",
    "\n",
    "@nb.jit\n",
    "def jcustom_mean(array):\n",
    "    return np.mean(array)\n",
    "\n",
    "@nb.jit\n",
    "def jcustom_max(array):\n",
    "    return np.max(array)\n",
    "\n",
    "@nb.jit(nopython=True, parallel=True)\n",
    "def reorder(_tmp_array, rawarray, groups):\n",
    "    n = len(groups)\n",
    "    farray = np.zeros(len(groups) + 1, dtype=np.int64)\n",
    "    c = 0\n",
    "    for j in range(n): #dont put nb.prange here --> counter c wont work \n",
    "        m = len(groups[j])\n",
    "        for i in nb.prange(m):\n",
    "            _tmp_array[c+i] = rawarray[groups[j][i]]\n",
    "        c += m\n",
    "        farray[j + 1] = c\n",
    "    return farray\n",
    "\n",
    "\n",
    "\n",
    "def apply(funcs):\n",
    "    m=len(sfuncs)\n",
    "    ffunc = f\"\"\"\n",
    "@nb.jit(nopython=True, parallel=True)\n",
    "def wapply(_tmp_array, result_array, group_sep):\n",
    "    n = len(group_sep) \n",
    "    c = 0\n",
    "    for j in nb.prange(n):\n",
    "        select = _tmp_array[group_sep[j]:group_sep[j+1]]\n",
    "{'\\n'.join(f'        result_array[j, {j}]={sfuncs[j].__qualname__}(select)' for j in range(m))}\n",
    "        \"\"\"\n",
    "    exec(ffunc, globals())\n",
    "    return globals()['wapply']\n",
    "\n",
    "\n",
    "# Define the column-function mapping with custom functions\n",
    "col_func_map = {\n",
    "    ('A',): [jcustom_sum, jcustom_mean],\n",
    "    ('B',): [jcustom_max],\n",
    "}\n",
    "\n",
    "df = pdo.DataFrame(np.random.randn(1000000, 4), columns=['A', 'B', 'C', 'D'])#.astype(np.float32)\n",
    "df['E'] = df['A'].apply(lambda x: 1 if x <-2 else 2 if x <-1 else 3 if x<0 else 4 if x<2 else 5)\n",
    "array = df[['A', 'B', 'C', 'D']].to_numpy()\n",
    "groups = [group.to_numpy() for group in df.groupby('E').groups.values()]\n",
    "\n",
    "pdtype = {}\n",
    "sfuncs = []\n",
    "scols = []\n",
    "for cols, func_list in col_func_map.items():\n",
    "    col_idx = [df.columns.get_loc(col) for col in cols]\n",
    "    dtype = df.dtypes.loc[list(cols)]\n",
    "    if dtype.nunique() > 1:\n",
    "        raise ValueError\n",
    "    dtype=dtype.iloc[0]\n",
    "    scols, sfuncs=pdtype.get(dtype, [[], []])\n",
    "    for func in func_list:\n",
    "        scols.append(col_idx)\n",
    "        sfuncs.append(func)\n",
    "    pdtype[dtype] = [scols, sfuncs]\n",
    "\n",
    "\n",
    "\n",
    "for dtype, (scols, sfuncs) in pdtype.items():\n",
    "    # Getting unique columns to avoid repetition\n",
    "    unique_cols = set(col for sublist in scols for col in sublist)\n",
    "    n, k = len(array), len(unique_cols)\n",
    "    \n",
    "    # Create a temporary array for contiguous memory\n",
    "    _tmp_array = np.zeros((n, k), dtype=dtype, order='C')\n",
    "    result_array = np.zeros((len(groups), len(sfuncs)), dtype=dtype, order='F')\n",
    "    group_sep = reorder(_tmp_array, rawarray=array[:, list(unique_cols)], groups=groups)\n",
    "    apply(sfuncs)(_tmp_array, result_array, group_sep)\n",
    "    # Assuming 'groups' is a list of indices for each group\n",
    "    \n",
    "print(result_array)"
   ]
  },
  {
   "cell_type": "code",
   "execution_count": 28,
   "id": "ee1b6b43-6880-48a9-94c7-e3ea1d4b11fc",
   "metadata": {},
   "outputs": [
    {
     "data": {
      "text/plain": [
       "'jcustom_sum'"
      ]
     },
     "execution_count": 28,
     "metadata": {},
     "output_type": "execute_result"
    }
   ],
   "source": [
    "@nb.jit(nopython=True, parallel=True)\n",
    "def apply(_tmp_array, result_array, group_sep, func_keys):\n",
    "    n = len(group_sep) - 1\n",
    "    m = len(func_keys)\n",
    "    for j in nb.prange(n):\n",
    "        select = _tmp_array[group_sep[j]:group_sep[j+1]]\n",
    "        for k in nb.prange(m):\n",
    "            func_key = func_keys[k]\n",
    "            result_array[j, k] = func_dict[func_key](select)"
   ]
  },
  {
   "cell_type": "code",
   "execution_count": 86,
   "id": "9062cf0d-30a4-4554-adda-385965ddfeb3",
   "metadata": {},
   "outputs": [
    {
     "name": "stdout",
     "output_type": "stream",
     "text": [
      "[[-1.10320418e+02 -4.83119852e-03  4.38267714e+00]\n",
      " [ 2.00368725e+02  1.46943138e-03  4.13991635e+00]\n",
      " [ 0.00000000e+00  0.00000000e+00  0.00000000e+00]\n",
      " [ 0.00000000e+00  0.00000000e+00  0.00000000e+00]\n",
      " [ 0.00000000e+00  0.00000000e+00  0.00000000e+00]]\n"
     ]
    },
    {
     "data": {
      "text/plain": [
       "array([[-1.10320418e+02, -4.83119852e-03,  4.38267714e+00],\n",
       "       [ 2.00368725e+02,  1.46943138e-03,  4.13991635e+00],\n",
       "       [ 0.00000000e+00,  0.00000000e+00,  0.00000000e+00],\n",
       "       [ 0.00000000e+00,  0.00000000e+00,  0.00000000e+00],\n",
       "       [ 0.00000000e+00,  0.00000000e+00,  0.00000000e+00]])"
      ]
     },
     "execution_count": 86,
     "metadata": {},
     "output_type": "execute_result"
    }
   ],
   "source": [
    "m=len(sfuncs)\n",
    "ffunc = f\"\"\"\n",
    "@nb.jit(nopython=True, parallel=True)\n",
    "def wapply(_tmp_array, result_array, group_sep):\n",
    "    n = len(group_sep) \n",
    "    c = 0\n",
    "    for j in nb.prange(n):\n",
    "        select = _tmp_array[group_sep[j]:group_sep[j+1]]\n",
    "{'\\n'.join(f'        result_array[j, {j}]={sfuncs[j]}(select)' for j in range(m))}\n",
    "        \"\"\"\n",
    "\n",
    "print(result_array)\n",
    "exec(ffunc, globals())\n",
    "globals()['wapply'](_tmp_array, result_array, group_sep)\n",
    "result_array"
   ]
  },
  {
   "cell_type": "code",
   "execution_count": 87,
   "id": "3d2cdf46-7def-464a-815f-f585a10611a7",
   "metadata": {},
   "outputs": [
    {
     "data": {
      "text/plain": [
       "array([[0.],\n",
       "       [0.],\n",
       "       [0.],\n",
       "       ...,\n",
       "       [0.],\n",
       "       [0.],\n",
       "       [0.]])"
      ]
     },
     "execution_count": 87,
     "metadata": {},
     "output_type": "execute_result"
    }
   ],
   "source": [
    "_tmp_array"
   ]
  },
  {
   "cell_type": "code",
   "execution_count": 76,
   "id": "30d202b3-4164-45d4-95f0-b6d15736ffe0",
   "metadata": {},
   "outputs": [
    {
     "name": "stdout",
     "output_type": "stream",
     "text": [
      "0 0 22835 [[-0.31432851]\n",
      " [ 2.45626533]\n",
      " [ 0.15953227]\n",
      " ...\n",
      " [-2.39505003]\n",
      " [ 1.31338695]\n",
      " [-0.03802477]]\n",
      "1 22835 159193 [[ 0.20105452]\n",
      " [ 0.06233486]\n",
      " [-1.05581198]\n",
      " ...\n",
      " [ 0.        ]\n",
      " [ 0.        ]\n",
      " [ 0.        ]]\n",
      "2 159193 500937 [[0.]\n",
      " [0.]\n",
      " [0.]\n",
      " ...\n",
      " [0.]\n",
      " [0.]\n",
      " [0.]]\n",
      "3 500937 977327 [[0.]\n",
      " [0.]\n",
      " [0.]\n",
      " ...\n",
      " [0.]\n",
      " [0.]\n",
      " [0.]]\n",
      "4 977327 1000000 [[0.]\n",
      " [0.]\n",
      " [0.]\n",
      " ...\n",
      " [0.]\n",
      " [0.]\n",
      " [0.]]\n"
     ]
    }
   ],
   "source": [
    "def wapply(result_array, _tmp_array, group_sep):\n",
    "    n = len(group_sep) - 1\n",
    "    c = 0\n",
    "    for j in nb.prange(n):\n",
    "        select = _tmp_array[group_sep[j]:group_sep[j+1]]\n",
    "        print(j,group_sep[j], group_sep[j+1], select)\n",
    "        result_array[:, 0]=jcustom_sum(select)\n",
    "        result_array[:, 1]=jcustom_mean(select)\n",
    "        result_array[:, 2]=jcustom_max(select)\n",
    "\n",
    "wapply(result_array, _tmp_array, group_sep)"
   ]
  },
  {
   "cell_type": "code",
   "execution_count": 54,
   "id": "70f84bc0-dc71-4621-87a2-a7b2f9957043",
   "metadata": {},
   "outputs": [
    {
     "data": {
      "text/plain": [
       "[array([    12,     82,    124, ..., 999906, 999964, 999998]),\n",
       " array([     1,      2,      3, ..., 999996, 999997, 999999]),\n",
       " array([     4,      5,     10, ..., 999987, 999990, 999995]),\n",
       " array([     0,      6,      8, ..., 999992, 999993, 999994]),\n",
       " array([    72,    129,    148, ..., 999598, 999629, 999862])]"
      ]
     },
     "execution_count": 54,
     "metadata": {},
     "output_type": "execute_result"
    }
   ],
   "source": [
    "groups"
   ]
  },
  {
   "cell_type": "code",
   "execution_count": 73,
   "id": "b3c75b59-c560-4d07-86b4-e5040da5570e",
   "metadata": {},
   "outputs": [
    {
     "name": "stdout",
     "output_type": "stream",
     "text": [
      "[      0   22835  159193  500937  977327 1000000]\n"
     ]
    }
   ],
   "source": [
    "\n",
    "@nb.jit\n",
    "def jcustom_sum(array):\n",
    "    return np.sum(array)\n",
    "\n",
    "@nb.jit\n",
    "def jcustom_mean(array):\n",
    "    return np.mean(array)\n",
    "\n",
    "@nb.jit\n",
    "def jcustom_max(array):\n",
    "    return np.max(array)\n",
    "\n",
    "@nb.jit(nopython=True, parallel=True)\n",
    "def reorder(_tmp_array, rawarray, groups):\n",
    "    n = len(groups)\n",
    "    farray = np.zeros(len(groups) + 1, dtype=np.int64)\n",
    "    c = 0\n",
    "    for j in range(n): #dont put nb.prange here --> counter c wont work \n",
    "        m = len(groups[j])\n",
    "        for i in nb.prange(m):\n",
    "            _tmp_array[c] = rawarray[groups[j][i]]\n",
    "            c += 1\n",
    "        farray[j + 1] = c\n",
    "    return farray\n",
    "\n",
    "\n",
    "# Dictionary of JIT-compiled functions\n",
    "func_dict = {\n",
    "    'sum': jcustom_sum,\n",
    "    'mean': jcustom_mean,\n",
    "    'max': jcustom_max\n",
    "}\n",
    "\n",
    "@nb.jit(nopython=True, parallel=True)\n",
    "def apply(_tmp_array, result_array, group_sep, func_keys):\n",
    "    n = len(group_sep) - 1\n",
    "    m = len(func_keys)\n",
    "    for j in nb.prange(n):\n",
    "        select = _tmp_array[group_sep[j]:group_sep[j+1]]\n",
    "        for k in nb.prange(m):\n",
    "            func_key = func_keys[k]\n",
    "            result_array[j, k] = func_dict[func_key](select)\n",
    "\n",
    "\n",
    "\n",
    "pdtype = {}\n",
    "sfuncs = []\n",
    "scols = []\n",
    "for cols, func_list in col_func_map.items():\n",
    "    # Your existing code to get col_idx and dtype\n",
    "    scols, sfuncs = pdtype.get(dtype, [[], []])\n",
    "    for func in func_list:\n",
    "        scols.append(col_idx)\n",
    "        sfuncs.append(func.__name__)  # Append the function name as a string\n",
    "    pdtype[dtype] = [scols, sfuncs]\n",
    "\n",
    "for dtype, (scols, sfuncs) in pdtype.items():\n",
    "    # Getting unique columns to avoid repetition\n",
    "    unique_cols = set(col for sublist in scols for col in sublist)\n",
    "    n, k = len(array), len(unique_cols)\n",
    "    \n",
    "    # Create a temporary array for contiguous memory\n",
    "    _tmp_array = np.zeros((n, k), dtype=dtype, order='C')\n",
    "    result_array = np.zeros((len(groups), len(sfuncs)), dtype=dtype, order='F')\n",
    "    group_sep = reorder(_tmp_array, rawarray=array[:, list(unique_cols)], groups=groups)\n",
    "    print(group_sep)\n",
    "    apply(_tmp_array, result_array, group_sep, sfuncs)\n",
    "    # Your existing result handling code\n"
   ]
  },
  {
   "cell_type": "code",
   "execution_count": 79,
   "id": "6cf3fa04-bfa7-4e42-a694-8419606a91c3",
   "metadata": {},
   "outputs": [
    {
     "data": {
      "text/plain": [
       "{dtype('float64'): [[[1], [1], [1]],\n",
       "  ['jcustom_sum', 'jcustom_mean', 'jcustom_max']]}"
      ]
     },
     "execution_count": 79,
     "metadata": {},
     "output_type": "execute_result"
    }
   ],
   "source": [
    "pdtype"
   ]
  },
  {
   "cell_type": "code",
   "execution_count": 12,
   "id": "e0d247e6-a11c-45d6-9672-bdb1cb463838",
   "metadata": {},
   "outputs": [
    {
     "ename": "KeyError",
     "evalue": "'Can only index numba types with slices with no start or stop, got (slice(None, None, 10000), slice(None, 4, None)).'",
     "output_type": "error",
     "traceback": [
      "\u001b[0;31m---------------------------------------------------------------------------\u001b[0m",
      "\u001b[0;31mKeyError\u001b[0m                                  Traceback (most recent call last)",
      "Cell \u001b[0;32mIn[12], line 5\u001b[0m\n\u001b[1;32m      3\u001b[0m \u001b[38;5;28;01mimport\u001b[39;00m \u001b[38;5;21;01mnumba\u001b[39;00m \u001b[38;5;28;01mas\u001b[39;00m \u001b[38;5;21;01mnb\u001b[39;00m\n\u001b[1;32m      4\u001b[0m x \u001b[38;5;241m=\u001b[39m np\u001b[38;5;241m.\u001b[39mzeros((\u001b[38;5;241m10000\u001b[39m, \u001b[38;5;241m4\u001b[39m), dtype\u001b[38;5;241m=\u001b[39mnp\u001b[38;5;241m.\u001b[39mfloat32, order\u001b[38;5;241m=\u001b[39m\u001b[38;5;124m'\u001b[39m\u001b[38;5;124mF\u001b[39m\u001b[38;5;124m'\u001b[39m)\n\u001b[0;32m----> 5\u001b[0m x \u001b[38;5;241m=\u001b[39m \u001b[43mnb\u001b[49m\u001b[38;5;241;43m.\u001b[39;49m\u001b[43mfloat32\u001b[49m\u001b[43m[\u001b[49m\u001b[43m:\u001b[49m\u001b[43m:\u001b[49m\u001b[38;5;241;43m10000\u001b[39;49m\u001b[43m,\u001b[49m\u001b[43m:\u001b[49m\u001b[38;5;241;43m4\u001b[39;49m\u001b[43m]\u001b[49m\n",
      "File \u001b[0;32m~/.pyenv/versions/3.12.1/lib/python3.12/site-packages/numba/core/types/abstract.py:189\u001b[0m, in \u001b[0;36mType.__getitem__\u001b[0;34m(self, args)\u001b[0m\n\u001b[1;32m    185\u001b[0m \u001b[38;5;250m\u001b[39m\u001b[38;5;124;03m\"\"\"\u001b[39;00m\n\u001b[1;32m    186\u001b[0m \u001b[38;5;124;03mReturn an array of this type.\u001b[39;00m\n\u001b[1;32m    187\u001b[0m \u001b[38;5;124;03m\"\"\"\u001b[39;00m\n\u001b[1;32m    188\u001b[0m \u001b[38;5;28;01mfrom\u001b[39;00m \u001b[38;5;21;01mnumba\u001b[39;00m\u001b[38;5;21;01m.\u001b[39;00m\u001b[38;5;21;01mcore\u001b[39;00m\u001b[38;5;21;01m.\u001b[39;00m\u001b[38;5;21;01mtypes\u001b[39;00m \u001b[38;5;28;01mimport\u001b[39;00m Array\n\u001b[0;32m--> 189\u001b[0m ndim, layout \u001b[38;5;241m=\u001b[39m \u001b[38;5;28;43mself\u001b[39;49m\u001b[38;5;241;43m.\u001b[39;49m\u001b[43m_determine_array_spec\u001b[49m\u001b[43m(\u001b[49m\u001b[43margs\u001b[49m\u001b[43m)\u001b[49m\n\u001b[1;32m    190\u001b[0m \u001b[38;5;28;01mreturn\u001b[39;00m Array(dtype\u001b[38;5;241m=\u001b[39m\u001b[38;5;28mself\u001b[39m, ndim\u001b[38;5;241m=\u001b[39mndim, layout\u001b[38;5;241m=\u001b[39mlayout)\n",
      "File \u001b[0;32m~/.pyenv/versions/3.12.1/lib/python3.12/site-packages/numba/core/types/abstract.py:214\u001b[0m, in \u001b[0;36mType._determine_array_spec\u001b[0;34m(self, args)\u001b[0m\n\u001b[1;32m    211\u001b[0m         layout \u001b[38;5;241m=\u001b[39m \u001b[38;5;124m'\u001b[39m\u001b[38;5;124mA\u001b[39m\u001b[38;5;124m'\u001b[39m\n\u001b[1;32m    212\u001b[0m \u001b[38;5;28;01melse\u001b[39;00m:\n\u001b[1;32m    213\u001b[0m     \u001b[38;5;66;03m# Raise a KeyError to not be handled by collection constructors (e.g. list).\u001b[39;00m\n\u001b[0;32m--> 214\u001b[0m     \u001b[38;5;28;01mraise\u001b[39;00m \u001b[38;5;167;01mKeyError\u001b[39;00m(\u001b[38;5;124mf\u001b[39m\u001b[38;5;124m\"\u001b[39m\u001b[38;5;124mCan only index numba types with slices with no start or stop, got \u001b[39m\u001b[38;5;132;01m{\u001b[39;00margs\u001b[38;5;132;01m}\u001b[39;00m\u001b[38;5;124m.\u001b[39m\u001b[38;5;124m\"\u001b[39m)\n\u001b[1;32m    216\u001b[0m \u001b[38;5;28;01mreturn\u001b[39;00m ndim, layout\n",
      "\u001b[0;31mKeyError\u001b[0m: 'Can only index numba types with slices with no start or stop, got (slice(None, None, 10000), slice(None, 4, None)).'"
     ]
    }
   ],
   "source": [
    "import numpy as np\n",
    "import pandas as pd\n",
    "import numba as nb\n",
    "x = np.zeros((10000, 4), dtype=np.float32, order='F')\n",
    "\n"
   ]
  },
  {
   "cell_type": "code",
   "execution_count": 84,
   "id": "14a4c365-25f6-468a-a8a3-bea4d5e2adf9",
   "metadata": {},
   "outputs": [
    {
     "name": "stdout",
     "output_type": "stream",
     "text": [
      "A\n",
      "E\n"
     ]
    },
    {
     "ename": "TypingError",
     "evalue": "Failed in nopython mode pipeline (step: nopython frontend)\nNo implementation of function Function(<class 'enumerate'>) found for signature:\n \n >>> enumerate(int64)\n \nThere are 2 candidate implementations:\n  - Of which 2 did not match due to:\n  Overload of function 'enumerate': File: numba/core/typing/builtins.py: Line 1042.\n    With argument(s): '(int64)':\n   No match.\n\nDuring: resolving callee type: Function(<class 'enumerate'>)\nDuring: typing of call at /tmp/ipykernel_216863/2214971155.py (51)\n\n\nFile \"../../../../tmp/ipykernel_216863/2214971155.py\", line 51:\n<source missing, REPL/exec in use?>\n",
     "output_type": "error",
     "traceback": [
      "\u001b[0;31m---------------------------------------------------------------------------\u001b[0m",
      "\u001b[0;31mTypingError\u001b[0m                               Traceback (most recent call last)",
      "Cell \u001b[0;32mIn[84], line 108\u001b[0m\n\u001b[1;32m    106\u001b[0m array \u001b[38;5;241m=\u001b[39m array\u001b[38;5;241m.\u001b[39mastype(np\u001b[38;5;241m.\u001b[39mfloat32)\n\u001b[1;32m    107\u001b[0m \u001b[38;5;66;03m# Timing the operation\u001b[39;00m\n\u001b[0;32m--> 108\u001b[0m result \u001b[38;5;241m=\u001b[39m \u001b[43mgroup_result\u001b[49m\u001b[43m(\u001b[49m\u001b[43marray\u001b[49m\u001b[43m,\u001b[49m\u001b[43m \u001b[49m\u001b[43mgroups\u001b[49m\u001b[43m,\u001b[49m\u001b[43m \u001b[49m\u001b[43mcolumn_indices\u001b[49m\u001b[43m,\u001b[49m\u001b[43m \u001b[49m\u001b[43mfuncs\u001b[49m\u001b[43m)\u001b[49m\n",
      "File \u001b[0;32m~/.pyenv/versions/3.12.2/lib/python3.12/site-packages/numba/core/dispatcher.py:468\u001b[0m, in \u001b[0;36m_DispatcherBase._compile_for_args\u001b[0;34m(self, *args, **kws)\u001b[0m\n\u001b[1;32m    464\u001b[0m         msg \u001b[38;5;241m=\u001b[39m (\u001b[38;5;124mf\u001b[39m\u001b[38;5;124m\"\u001b[39m\u001b[38;5;132;01m{\u001b[39;00m\u001b[38;5;28mstr\u001b[39m(e)\u001b[38;5;241m.\u001b[39mrstrip()\u001b[38;5;132;01m}\u001b[39;00m\u001b[38;5;124m \u001b[39m\u001b[38;5;130;01m\\n\u001b[39;00m\u001b[38;5;130;01m\\n\u001b[39;00m\u001b[38;5;124mThis error may have been caused \u001b[39m\u001b[38;5;124m\"\u001b[39m\n\u001b[1;32m    465\u001b[0m                \u001b[38;5;124mf\u001b[39m\u001b[38;5;124m\"\u001b[39m\u001b[38;5;124mby the following argument(s):\u001b[39m\u001b[38;5;130;01m\\n\u001b[39;00m\u001b[38;5;132;01m{\u001b[39;00margs_str\u001b[38;5;132;01m}\u001b[39;00m\u001b[38;5;130;01m\\n\u001b[39;00m\u001b[38;5;124m\"\u001b[39m)\n\u001b[1;32m    466\u001b[0m         e\u001b[38;5;241m.\u001b[39mpatch_message(msg)\n\u001b[0;32m--> 468\u001b[0m     \u001b[43merror_rewrite\u001b[49m\u001b[43m(\u001b[49m\u001b[43me\u001b[49m\u001b[43m,\u001b[49m\u001b[43m \u001b[49m\u001b[38;5;124;43m'\u001b[39;49m\u001b[38;5;124;43mtyping\u001b[39;49m\u001b[38;5;124;43m'\u001b[39;49m\u001b[43m)\u001b[49m\n\u001b[1;32m    469\u001b[0m \u001b[38;5;28;01mexcept\u001b[39;00m errors\u001b[38;5;241m.\u001b[39mUnsupportedError \u001b[38;5;28;01mas\u001b[39;00m e:\n\u001b[1;32m    470\u001b[0m     \u001b[38;5;66;03m# Something unsupported is present in the user code, add help info\u001b[39;00m\n\u001b[1;32m    471\u001b[0m     error_rewrite(e, \u001b[38;5;124m'\u001b[39m\u001b[38;5;124munsupported_error\u001b[39m\u001b[38;5;124m'\u001b[39m)\n",
      "File \u001b[0;32m~/.pyenv/versions/3.12.2/lib/python3.12/site-packages/numba/core/dispatcher.py:409\u001b[0m, in \u001b[0;36m_DispatcherBase._compile_for_args.<locals>.error_rewrite\u001b[0;34m(e, issue_type)\u001b[0m\n\u001b[1;32m    407\u001b[0m     \u001b[38;5;28;01mraise\u001b[39;00m e\n\u001b[1;32m    408\u001b[0m \u001b[38;5;28;01melse\u001b[39;00m:\n\u001b[0;32m--> 409\u001b[0m     \u001b[38;5;28;01mraise\u001b[39;00m e\u001b[38;5;241m.\u001b[39mwith_traceback(\u001b[38;5;28;01mNone\u001b[39;00m)\n",
      "\u001b[0;31mTypingError\u001b[0m: Failed in nopython mode pipeline (step: nopython frontend)\nNo implementation of function Function(<class 'enumerate'>) found for signature:\n \n >>> enumerate(int64)\n \nThere are 2 candidate implementations:\n  - Of which 2 did not match due to:\n  Overload of function 'enumerate': File: numba/core/typing/builtins.py: Line 1042.\n    With argument(s): '(int64)':\n   No match.\n\nDuring: resolving callee type: Function(<class 'enumerate'>)\nDuring: typing of call at /tmp/ipykernel_216863/2214971155.py (51)\n\n\nFile \"../../../../tmp/ipykernel_216863/2214971155.py\", line 51:\n<source missing, REPL/exec in use?>\n"
     ]
    }
   ],
   "source": [
    "import numpy as np\n",
    "import pandas as pd\n",
    "import numba as nb\n",
    "\n",
    "# Helper function to slice the array based on provided indices\n",
    "def slice(array, indices):\n",
    "    return array[indices]\n",
    "\n",
    "@nb.jit(nb.types.float32(nb.types.float32[:]), nopython=True)\n",
    "def jcustom_sum(array):\n",
    "    return np.sum(array)\n",
    "\n",
    "@nb.jit(nb.types.float32(nb.types.float32[:]), nopython=True)\n",
    "def jcustom_mean(array):\n",
    "    return np.mean(array)\n",
    "\n",
    "@nb.jit(nb.types.float32(nb.types.float32[:]), nopython=True)\n",
    "def jcustom_max(array):\n",
    "    return np.max(array)\n",
    "\n",
    "col_func_map = {\n",
    "    'A': [jcustom_sum, jcustom_mean],\n",
    "    'B': [jcustom_max],\n",
    "    ('A', 'B'): ['max']\n",
    "    # Add more mappings as needed\n",
    "}\n",
    "\n",
    "# Define a single aggregation function with a flag\n",
    "@nb.jit(nb.types.float32(nb.types.float32[:], nb.types.unicode_type), nopython=True)\n",
    "def aggregate(array, operation):\n",
    "    if operation == 0:\n",
    "        return jcustom_sum(array)\n",
    "    elif operation == 1:\n",
    "        return jcustom_mean(array)\n",
    "    elif operation == 2:\n",
    "        return jcustom_max(array)\n",
    "    # Add more operations as needed\n",
    "    else:\n",
    "        raise ValueError(\"Unsupported operation\")\n",
    "\n",
    "\n",
    "# Modified group_result to handle multiple columns and functions\n",
    "@nb.njit(parallel=True)\n",
    "def group_result(array, groups, column_indices):\n",
    "    num_groups = len(groups)\n",
    "    num_funcs = len(funcs)\n",
    "    result = np.empty((num_groups, len(column_indices) * num_funcs)).astype(np.float32)\n",
    "\n",
    "    for j, col_idx in enumerate(column_indices):\n",
    "        trunc_col = array[:, col_idx]\n",
    "        for k, func in enumerate(funcs[j]):\n",
    "            for i, gidx in enumerate(num_groups):\n",
    "                result_idx = j * num_funcs + k\n",
    "                result[i, result_idx] = aggregate(trunc_col[gidx], func)\n",
    "\n",
    "    return result\n",
    "\n",
    "# Example usage:\n",
    "df = pd.DataFrame(np.random.randn(100000, 4), columns=['A', 'B', 'C', 'D']).astype(np.float32)\n",
    "df['E'] = df['A'].apply(lambda x: 1 if x < -2 else 2 if x < -1 else 3 if x < 0 else 4 if x < 2 else 5)\n",
    "array = df.to_numpy()\n",
    "\n",
    "# Group indices\n",
    "groups = [group.to_numpy() for group in df.groupby('E').groups.values()]\n",
    "\n",
    "# Define the column-function mapping with custom functions\n",
    "col_func_map = {\n",
    "    'A': [jcustom_sum, jcustom_mean],\n",
    "    'B': [jcustom_max]\n",
    "    # Add more mappings as needed\n",
    "}\n",
    "\n",
    "# Define the column-function mapping with custom functions\n",
    "col_func_map = {\n",
    "    'A': ['max', 'mean'],\n",
    "    'B': ['sum']\n",
    "    # Add more mappings as needed\n",
    "}\n",
    "\n",
    "# Prepare column indices and functions for JIT\n",
    "column_indices = []\n",
    "funcs = []\n",
    "\n",
    "for col, func_list in col_func_map.items():\n",
    "    col_idx = np.int8(df.columns.get_loc(col))\n",
    "    column_indices.append(col_idx)\n",
    "    # jit_funcs = [nb.jit(f) for f in func_list]\n",
    "    funcs.append(func_list)\n",
    "\n",
    "# Execute the computation\n",
    "# result = group_result(array, groups, column_indices, funcs)\n",
    "array = array.astype(np.float32)\n",
    "# Timing the operation\n",
    "result = group_result(array, groups, column_indices, funcs)\n"
   ]
  },
  {
   "cell_type": "code",
   "execution_count": 77,
   "id": "90b090d7-eefc-4e41-9807-0e2c64023b1b",
   "metadata": {},
   "outputs": [
    {
     "data": {
      "text/plain": [
       "[0, 1]"
      ]
     },
     "execution_count": 77,
     "metadata": {},
     "output_type": "execute_result"
    }
   ],
   "source": [
    "import numpy as np\n",
    "import pandas as pd\n",
    "import numba as nb\n",
    "\n",
    "\n",
    "@nb.jit(nb.types.float32(nb.types.float32[:]), nopython=True)\n",
    "def jcustom_sum(array):\n",
    "    return np.sum(array)\n",
    "\n",
    "@nb.jit(nb.types.float32(nb.types.float32[:]), nopython=True)\n",
    "def jcustom_mean(array):\n",
    "    return np.mean(array)\n",
    "\n",
    "@nb.jit(nb.types.float32(nb.types.float32[:]), nopython=True)\n",
    "def jcustom_max(array):\n",
    "    return np.max(array)\n",
    "\n"
   ]
  },
  {
   "cell_type": "code",
   "execution_count": null,
   "id": "496f1cc2-a6fc-42bf-b7b6-5046d4723e08",
   "metadata": {},
   "outputs": [],
   "source": [
    "def agg_sum(x):\n",
    "    return np.sum(x)\n",
    "\n",
    "\n",
    "df.apply(agg_sum, axis=0)"
   ]
  },
  {
   "cell_type": "code",
   "execution_count": null,
   "id": "97f37502-8684-462a-9b14-4a7627cd4389",
   "metadata": {},
   "outputs": [],
   "source": [
    "df.apply(lambda x: np.sum(x))"
   ]
  },
  {
   "cell_type": "code",
   "execution_count": null,
   "id": "680e4790-7d37-4265-94d1-188bf29748d1",
   "metadata": {},
   "outputs": [],
   "source": [
    "df.apply(lambda x: np.sum(x))"
   ]
  },
  {
   "cell_type": "code",
   "execution_count": null,
   "id": "34de29fe-4003-48e0-b991-db9d7a6f2404",
   "metadata": {},
   "outputs": [],
   "source": [
    "df.groupby('A').apply(agg_sum)"
   ]
  },
  {
   "cell_type": "code",
   "execution_count": null,
   "id": "bf0ff474-ceb5-4342-a56b-840676c2f05c",
   "metadata": {},
   "outputs": [],
   "source": [
    "df = pdo.DataFrame(np.random.randn(10000, 4), columns=['A', 'B', 'C', 'D'])#.astype(np.float32)\n",
    "type(df)"
   ]
  },
  {
   "cell_type": "code",
   "execution_count": null,
   "id": "0627c2e9-4a3b-424a-8950-7690375b3039",
   "metadata": {},
   "outputs": [],
   "source": [
    "type(df[['A', 'B']])"
   ]
  },
  {
   "cell_type": "code",
   "execution_count": null,
   "id": "bbf7789c-ebed-4016-815e-a02be7757ec5",
   "metadata": {},
   "outputs": [],
   "source": [
    "df.dtypes"
   ]
  },
  {
   "cell_type": "code",
   "execution_count": null,
   "id": "c641ba57-fe58-4c15-a7c7-932f442ec444",
   "metadata": {},
   "outputs": [],
   "source": [
    "print(type(df), type(df[['A']]))\n",
    "type(df.apply(np.sum))"
   ]
  },
  {
   "cell_type": "code",
   "execution_count": null,
   "id": "281832f6-2e95-4326-a1b9-0ad74de153b6",
   "metadata": {},
   "outputs": [],
   "source": [
    "def qqq(x):\n",
    "    return np.sum(x)\n",
    "\n",
    "def zzz(x):\n",
    "    return x[\"A\"]\n",
    "\n",
    "df.apply(zzz, axis=1)\n",
    "\n",
    "#df[['A', 'B']].apply(apb, axis=1)\n"
   ]
  },
  {
   "cell_type": "code",
   "execution_count": null,
   "id": "b71487f7-b4d5-42e9-a7e5-4e7f271c0c41",
   "metadata": {},
   "outputs": [],
   "source": []
  },
  {
   "cell_type": "code",
   "execution_count": null,
   "id": "8c08e300-f50c-4631-b2a0-1b51ac51979f",
   "metadata": {},
   "outputs": [],
   "source": [
    "    arr_slice = df[['Client', 'Month']].values\n",
    "    lidx = np.ravel_multi_index(arr_slice.T,arr_slice.max(0)+1)\n",
    "    unq,unqtags,counts = np.unique(lidx,return_inverse=True,return_counts=True)\n",
    "    df[\"Nbcontrats\"] = counts[unqtags]"
   ]
  },
  {
   "cell_type": "code",
   "execution_count": null,
   "id": "cae88fe2-910e-43dd-9cb1-f1510de552b9",
   "metadata": {},
   "outputs": [],
   "source": [
    "df=pa,das"
   ]
  },
  {
   "cell_type": "code",
   "execution_count": null,
   "id": "7d665b66-4544-486f-8be4-786c91824212",
   "metadata": {},
   "outputs": [],
   "source": [
    "    arr_slice = df[['Client', 'Month']].values\n",
    "    lidx = np.ravel_multi_index(arr_slice.T,arr_slice.max(0)+1)\n",
    "    unq,unqtags,counts = np.unique(lidx,return_inverse=True,return_counts=True)\n",
    "    df[\"Nbcontrats\"] = counts[unqtags]"
   ]
  }
 ],
 "metadata": {
  "kernelspec": {
   "display_name": "Python 3 (ipykernel)",
   "language": "python",
   "name": "python3"
  },
  "language_info": {
   "codemirror_mode": {
    "name": "ipython",
    "version": 3
   },
   "file_extension": ".py",
   "mimetype": "text/x-python",
   "name": "python",
   "nbconvert_exporter": "python",
   "pygments_lexer": "ipython3",
   "version": "3.12.1"
  }
 },
 "nbformat": 4,
 "nbformat_minor": 5
}
