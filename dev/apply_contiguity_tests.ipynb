{
 "cells": [
  {
   "cell_type": "code",
   "execution_count": 103,
   "id": "ebb5a4e2-6a5a-4f8f-872a-b1574fc033a7",
   "metadata": {},
   "outputs": [
    {
     "name": "stdout",
     "output_type": "stream",
     "text": [
      "614 µs ± 195 µs per loop (mean ± std. dev. of 7 runs, 1 loop each)\n"
     ]
    }
   ],
   "source": [
    "import numpy as np\n",
    "import numba as nb\n",
    "import pandas as pd\n",
    "arr = np.random.randn(1000000,3)\n",
    "\n",
    "@nb.jit(fastmath=True, forceinline=True, looplift=True, inline='always', target_backend='host', no_cfunc_wrapper=True, no_rewrites=True ,nopython=True, nogil=True)\n",
    "def temporary(z):\n",
    "    return (z[0] + z[2])/ z[1]\n",
    "\n",
    "@nb.jit(fastmath=True, forceinline=True, looplift=True, inline='always', target_backend='host', no_cfunc_wrapper=True, no_rewrites=True ,nopython=True, nogil=True)\n",
    "def temporarysum(z):\n",
    "    return np.sum(z)\n",
    "    \n",
    "@nb.jit(fastmath=True, forceinline=True, looplift=True, inline='always', target_backend='host', no_cfunc_wrapper=True, no_rewrites=True ,nopython=True, nogil=True, parallel = True)\n",
    "def func_int_identifier_loop(Z):\n",
    "    n = Z.shape[0]\n",
    "    res = np.zeros((n, 1))\n",
    "    for i in nb.prange(n):\n",
    "        res[i, 0] = temporarysum(Z[i, :])\n",
    "    return res\n",
    "\n",
    "%timeit func_int_identifier_loop(arr)"
   ]
  },
  {
   "cell_type": "code",
   "execution_count": 2,
   "id": "7c36b1e1-9b9a-4893-aec7-654318e1976b",
   "metadata": {},
   "outputs": [
    {
     "name": "stdout",
     "output_type": "stream",
     "text": [
      "686 µs ± 192 µs per loop (mean ± std. dev. of 7 runs, 1 loop each)\n"
     ]
    }
   ],
   "source": [
    "@nb.jit(nopython=True, nogil=True)\n",
    "def temporaryD(z):\n",
    "    return (z[0] + z[2])/ z[1]\n",
    "    \n",
    "@nb.jit(fastmath=True, forceinline=True, looplift=True, inline='always', target_backend='host', no_cfunc_wrapper=True, no_rewrites=True ,nopython=True, nogil=True, parallel = True)\n",
    "def func_int_identifier_loopD(Z):\n",
    "    n = Z.shape[0]\n",
    "    res = np.zeros((n, 1))\n",
    "    for i in nb.prange(n):\n",
    "        res[i, 0] = temporaryD(Z[i, :])\n",
    "    return res\n",
    "\n",
    "%timeit func_int_identifier_loopD(arr)"
   ]
  },
  {
   "cell_type": "code",
   "execution_count": 3,
   "id": "7895657c-001c-449c-9066-276046b1ff3a",
   "metadata": {},
   "outputs": [
    {
     "name": "stdout",
     "output_type": "stream",
     "text": [
      "1.34 ms ± 8.45 µs per loop (mean ± std. dev. of 7 runs, 1,000 loops each)\n"
     ]
    }
   ],
   "source": [
    "@nb.jit(fastmath=True, forceinline=True, looplift=True, inline='always', target_backend='host', no_cfunc_wrapper=True, no_rewrites=True ,nopython=True, nogil=True, parallel = True)\n",
    "def temporaryE(z):\n",
    "    return (z[0] + z[2])/ z[1]\n",
    "    \n",
    "@nb.jit(nopython=True, nogil=True)\n",
    "def func_int_identifier_loopE(Z):\n",
    "    n = Z.shape[0]\n",
    "    res = np.zeros((n, 1))\n",
    "    for i in nb.prange(n):\n",
    "        res[i, 0] = temporaryE(Z[i, :])\n",
    "    return res\n",
    "\n",
    "%timeit func_int_identifier_loopE(arr)"
   ]
  },
  {
   "cell_type": "code",
   "execution_count": 4,
   "id": "95379b01-da07-4542-b9a0-1a91d4704850",
   "metadata": {},
   "outputs": [
    {
     "name": "stdout",
     "output_type": "stream",
     "text": [
      "1.06 ms ± 43.7 µs per loop (mean ± std. dev. of 7 runs, 1,000 loops each)\n"
     ]
    }
   ],
   "source": [
    "from numba import vectorize, float64\n",
    "\n",
    "@vectorize([float64(float64, float64, float64)])\n",
    "def vectorized_function(x, y, z):\n",
    "    return (x + z) / y\n",
    "\n",
    "%timeit vectorized_function(arr[:,0], arr[:,1], arr[:,2])\n"
   ]
  },
  {
   "cell_type": "code",
   "execution_count": 5,
   "id": "03a3c04c-147b-416a-8f27-676a6236519c",
   "metadata": {},
   "outputs": [],
   "source": [
    "import numpy as np\n",
    "import numba as nb\n",
    "\n",
    "arr = np.random.randn(1000000,3)\n",
    "\n"
   ]
  },
  {
   "cell_type": "code",
   "execution_count": 42,
   "id": "9d3c9c99-ded7-4dac-965b-e526d8048ec7",
   "metadata": {},
   "outputs": [
    {
     "name": "stdout",
     "output_type": "stream",
     "text": [
      "422 µs ± 12.7 µs per loop (mean ± std. dev. of 7 runs, 1,000 loops each)\n"
     ]
    }
   ],
   "source": [
    "%timeit np.sum(arr)"
   ]
  },
  {
   "cell_type": "code",
   "execution_count": 7,
   "id": "03e696d9-48ff-42b4-b3f3-febe291844d5",
   "metadata": {},
   "outputs": [
    {
     "name": "stdout",
     "output_type": "stream",
     "text": [
      "460 µs ± 17 µs per loop (mean ± std. dev. of 7 runs, 1,000 loops each)\n"
     ]
    }
   ],
   "source": [
    "%timeit np.sum(arr.T)"
   ]
  },
  {
   "cell_type": "code",
   "execution_count": 8,
   "id": "7f1d60d3-aa7b-4ac4-b0da-f47c4e2c162a",
   "metadata": {},
   "outputs": [
    {
     "name": "stdout",
     "output_type": "stream",
     "text": [
      "1.71 ms ± 6.43 µs per loop (mean ± std. dev. of 7 runs, 1,000 loops each)\n",
      "1.72 ms ± 23 µs per loop (mean ± std. dev. of 7 runs, 1,000 loops each)\n"
     ]
    }
   ],
   "source": [
    "arr = np.random.randn(1000000,3)\n",
    "x=arr.copy(order='F')\n",
    "%timeit np.sum(x.copy(order='F'))\n",
    "x=arr.copy(order='C')\n",
    "%timeit np.sum(x.copy(order='C'))\n"
   ]
  },
  {
   "cell_type": "code",
   "execution_count": 9,
   "id": "d64b5104-c7f6-4f6c-9a4e-3106b58c7d2d",
   "metadata": {},
   "outputs": [
    {
     "name": "stdout",
     "output_type": "stream",
     "text": [
      "2.09 ms ± 97.7 µs per loop (mean ± std. dev. of 7 runs, 100 loops each)\n",
      "14.4 ms ± 24.6 µs per loop (mean ± std. dev. of 7 runs, 100 loops each)\n"
     ]
    }
   ],
   "source": [
    "arr = np.random.randn(1000000,3)\n",
    "x=arr.copy(order='F')\n",
    "%timeit np.sum(x.copy(order='F'), axis = 1)\n",
    "x=arr.copy(order='C')\n",
    "%timeit np.sum(x.copy(order='C'), axis = 1)"
   ]
  },
  {
   "cell_type": "code",
   "execution_count": 10,
   "id": "0878eefc-36d3-4b63-8246-8903c33f56cf",
   "metadata": {},
   "outputs": [
    {
     "name": "stdout",
     "output_type": "stream",
     "text": [
      "2.48 µs ± 61.4 ns per loop (mean ± std. dev. of 7 runs, 100,000 loops each)\n",
      "2.78 µs ± 53.1 ns per loop (mean ± std. dev. of 7 runs, 100,000 loops each)\n",
      "2.47 µs ± 48.6 ns per loop (mean ± std. dev. of 7 runs, 100,000 loops each)\n",
      "2.79 µs ± 17.9 ns per loop (mean ± std. dev. of 7 runs, 100,000 loops each)\n",
      "\n",
      "\n",
      "2.72 µs ± 11.3 ns per loop (mean ± std. dev. of 7 runs, 100,000 loops each)\n",
      "2.96 µs ± 19.6 ns per loop (mean ± std. dev. of 7 runs, 100,000 loops each)\n",
      "2.6 µs ± 15.1 ns per loop (mean ± std. dev. of 7 runs, 100,000 loops each)\n",
      "2.99 µs ± 16.2 ns per loop (mean ± std. dev. of 7 runs, 100,000 loops each)\n",
      "\n",
      "\n",
      "4.12 µs ± 15.4 ns per loop (mean ± std. dev. of 7 runs, 100,000 loops each)\n",
      "3.37 µs ± 16.3 ns per loop (mean ± std. dev. of 7 runs, 100,000 loops each)\n",
      "2.81 µs ± 17.8 ns per loop (mean ± std. dev. of 7 runs, 100,000 loops each)\n",
      "4.68 µs ± 20.9 ns per loop (mean ± std. dev. of 7 runs, 100,000 loops each)\n",
      "\n",
      "\n",
      "17 µs ± 8.95 ns per loop (mean ± std. dev. of 7 runs, 100,000 loops each)\n",
      "5.78 µs ± 27.8 ns per loop (mean ± std. dev. of 7 runs, 100,000 loops each)\n",
      "3.71 µs ± 21.7 ns per loop (mean ± std. dev. of 7 runs, 100,000 loops each)\n",
      "19.8 µs ± 19.2 ns per loop (mean ± std. dev. of 7 runs, 100,000 loops each)\n",
      "\n",
      "\n",
      "145 µs ± 128 ns per loop (mean ± std. dev. of 7 runs, 10,000 loops each)\n",
      "30.1 µs ± 829 ns per loop (mean ± std. dev. of 7 runs, 10,000 loops each)\n",
      "12.3 µs ± 97.6 ns per loop (mean ± std. dev. of 7 runs, 100,000 loops each)\n",
      "172 µs ± 189 ns per loop (mean ± std. dev. of 7 runs, 10,000 loops each)\n",
      "\n",
      "\n",
      "1.47 ms ± 681 ns per loop (mean ± std. dev. of 7 runs, 1,000 loops each)\n",
      "834 µs ± 8.39 µs per loop (mean ± std. dev. of 7 runs, 1,000 loops each)\n",
      "194 µs ± 110 ns per loop (mean ± std. dev. of 7 runs, 10,000 loops each)\n",
      "2.22 ms ± 13.6 µs per loop (mean ± std. dev. of 7 runs, 100 loops each)\n",
      "\n",
      "\n",
      "14.8 ms ± 32.5 µs per loop (mean ± std. dev. of 7 runs, 100 loops each)\n",
      "5.23 ms ± 218 µs per loop (mean ± std. dev. of 7 runs, 100 loops each)\n",
      "1.71 ms ± 8.79 µs per loop (mean ± std. dev. of 7 runs, 1,000 loops each)\n",
      "17.4 ms ± 11 µs per loop (mean ± std. dev. of 7 runs, 100 loops each)\n",
      "\n",
      "\n",
      "169 ms ± 334 µs per loop (mean ± std. dev. of 7 runs, 10 loops each)\n",
      "96.5 ms ± 1.35 ms per loop (mean ± std. dev. of 7 runs, 10 loops each)\n",
      "33.8 ms ± 630 µs per loop (mean ± std. dev. of 7 runs, 10 loops each)\n",
      "207 ms ± 2.5 ms per loop (mean ± std. dev. of 7 runs, 1 loop each)\n",
      "\n",
      "\n",
      "1.68 s ± 10.2 ms per loop (mean ± std. dev. of 7 runs, 1 loop each)\n",
      "934 ms ± 13.1 ms per loop (mean ± std. dev. of 7 runs, 1 loop each)\n",
      "329 ms ± 6.57 ms per loop (mean ± std. dev. of 7 runs, 1 loop each)\n",
      "2.02 s ± 22.4 ms per loop (mean ± std. dev. of 7 runs, 1 loop each)\n",
      "\n",
      "\n",
      "16.7 s ± 50.5 ms per loop (mean ± std. dev. of 7 runs, 1 loop each)\n",
      "9.19 s ± 241 ms per loop (mean ± std. dev. of 7 runs, 1 loop each)\n",
      "3.22 s ± 5.64 ms per loop (mean ± std. dev. of 7 runs, 1 loop each)\n",
      "19.9 s ± 51.2 ms per loop (mean ± std. dev. of 7 runs, 1 loop each)\n",
      "\n",
      "\n"
     ]
    }
   ],
   "source": [
    "for k in range(10):\n",
    "    arr = np.random.randn(int(10**k),5)\n",
    "    \n",
    "    x=arr.copy(order='C')\n",
    "    %timeit np.sum(x, axis = 1)\n",
    "    x=arr.copy(order='C')\n",
    "    %timeit np.sum(x.copy(order='F'), axis = 1)\n",
    "    \n",
    "    \n",
    "    x=arr.copy(order='F')\n",
    "    %timeit np.sum(x, axis = 0)\n",
    "    x=arr.copy(order='F')\n",
    "    %timeit np.sum(x.copy(order='C'), axis = 0)\n",
    "    \n",
    "    print()\n",
    "    print()"
   ]
  },
  {
   "cell_type": "code",
   "execution_count": 43,
   "id": "ac0f710a-96e8-40e5-bcfd-dbbd57a5a119",
   "metadata": {},
   "outputs": [
    {
     "data": {
      "text/plain": [
       "array([[-0.57280297],\n",
       "       [ 1.46045317],\n",
       "       [ 1.27275171]])"
      ]
     },
     "execution_count": 43,
     "metadata": {},
     "output_type": "execute_result"
    }
   ],
   "source": [
    "arr = np.random.randn(int(10**1),3)\n",
    "\n",
    "x=arr.copy(order='C')\n",
    "func_int_identifier_loop(x.T.copy(order='F'))\n",
    "#func_int_identifier_loop(x.copy(order='F'))"
   ]
  },
  {
   "cell_type": "code",
   "execution_count": 39,
   "id": "81e7e313-1dfc-46cc-83c7-abaff038ecf6",
   "metadata": {},
   "outputs": [
    {
     "data": {
      "text/plain": [
       "array([[ 1.14503651,  0.44101358,  0.76099434],\n",
       "       [ 1.52688392, -0.35970674, -2.20340554],\n",
       "       [-0.51794687, -0.34889599, -1.13465599],\n",
       "       ...,\n",
       "       [-0.33717176,  0.75993405, -1.31054421],\n",
       "       [-0.87156672,  0.71320783,  1.07239225],\n",
       "       [-0.17289965, -0.06576006,  0.63412154]])"
      ]
     },
     "execution_count": 39,
     "metadata": {},
     "output_type": "execute_result"
    }
   ],
   "source": [
    "x"
   ]
  },
  {
   "cell_type": "code",
   "execution_count": 46,
   "id": "204960d3-234d-4468-bc19-b0c2767dc11b",
   "metadata": {},
   "outputs": [
    {
     "data": {
      "text/plain": [
       "array([[0.],\n",
       "       [0.],\n",
       "       [0.],\n",
       "       [0.],\n",
       "       [0.],\n",
       "       [0.],\n",
       "       [0.],\n",
       "       [0.],\n",
       "       [0.],\n",
       "       [0.]])"
      ]
     },
     "execution_count": 46,
     "metadata": {},
     "output_type": "execute_result"
    }
   ],
   "source": [
    "np.sum(x, axis=1).reshape(-1,1) - func_int_identifier_loop(x)"
   ]
  },
  {
   "cell_type": "code",
   "execution_count": 45,
   "id": "79b1d65d-519f-4830-98f0-f9f0d904c6ee",
   "metadata": {},
   "outputs": [
    {
     "data": {
      "text/plain": [
       "array([[-1.14945893],\n",
       "       [-2.42084956],\n",
       "       [ 1.63433516],\n",
       "       [-1.03034721],\n",
       "       [ 1.40409159],\n",
       "       [ 1.92513534],\n",
       "       [ 0.46273955],\n",
       "       [-0.48655743],\n",
       "       [ 2.12282142],\n",
       "       [-0.30150803]])"
      ]
     },
     "execution_count": 45,
     "metadata": {},
     "output_type": "execute_result"
    }
   ],
   "source": [
    "func_int_identifier_loop(x)"
   ]
  },
  {
   "cell_type": "code",
   "execution_count": 116,
   "id": "05ac1564-f669-46da-8882-2ac46dfb54fc",
   "metadata": {},
   "outputs": [
    {
     "name": "stdout",
     "output_type": "stream",
     "text": [
      "Sum of column over F-contiguous array\n",
      "numba base 20.4 ms ± 1.74 ms per loop (mean ± std. dev. of 7 runs, 1 loop each)\n",
      "numba type initialized returned array 13.1 ms ± 555 µs per loop (mean ± std. dev. of 7 runs, 1 loop each)\n",
      "numba type initialized returned empty array 10.5 ms ± 343 µs per loop (mean ± std. dev. of 7 runs, 1 loop each)\n",
      "numpy sum 14.5 ms ± 85.5 µs per loop (mean ± std. dev. of 7 runs, 100 loops each)\n",
      "numpy copied for contiguity37.4 ms ± 445 µs per loop (mean ± std. dev. of 7 runs, 10 loops each)\n",
      "numba giving an output array F-contiguous 7.45 ms ± 102 µs per loop (mean ± std. dev. of 7 runs, 100 loops each)\n",
      "numba giving an output array C-contiguous 7.46 ms ± 83.3 µs per loop (mean ± std. dev. of 7 runs, 100 loops each)\n",
      "\n",
      "Sum of column over C-contiguous array\n",
      "numba base 19.5 ms ± 438 µs per loop (mean ± std. dev. of 7 runs, 1 loop each)\n",
      "numba type initialized returned array 13.6 ms ± 493 µs per loop (mean ± std. dev. of 7 runs, 1 loop each)\n",
      "numba type initialized returned empty array 10.6 ms ± 610 µs per loop (mean ± std. dev. of 7 runs, 1 loop each)\n",
      "numpy sum 152 ms ± 360 µs per loop (mean ± std. dev. of 7 runs, 10 loops each)\n",
      "numpy copied for contiguity 68.6 ms ± 321 µs per loop (mean ± std. dev. of 7 runs, 10 loops each)\n",
      "numba giving an output array F-contiguous 7.12 ms ± 91 µs per loop (mean ± std. dev. of 7 runs, 100 loops each)\n",
      "numba giving an output array C-contiguous 7.14 ms ± 156 µs per loop (mean ± std. dev. of 7 runs, 100 loops each)\n"
     ]
    }
   ],
   "source": [
    "@nb.jit(nopython=True, fastmath=True, forceinline=True, looplift=True, inline='always', target_backend='host', no_rewrites=True, nogil=True, parallel=True)\n",
    "def temporarysum(z):\n",
    "    return np.sum(z)\n",
    "    \n",
    "@nb.jit(nopython=True, nogil=True, parallel = True, fastmath=True, looplift=True, inline='always', target_backend='host', no_rewrites=True)\n",
    "def func_int_identifier_loop(Z):\n",
    "    n = Z.shape[0]\n",
    "    res = np.zeros((n, 1))\n",
    "    for i in nb.prange(n):\n",
    "        res[i, 0] = temporarysum(Z[i, :])\n",
    "    return res\n",
    "\n",
    "@nb.jit(nopython=True, nogil=True, parallel = True, fastmath=True, looplift=True, inline='always', target_backend='host', no_rewrites=True)\n",
    "def func_int_identifier_loop_dtype(Z):\n",
    "    n = Z.shape[0]\n",
    "    res = np.zeros((n, 1), dtype=np.float32)\n",
    "    for i in nb.prange(n):\n",
    "        res[i, 0] = temporarysum(Z[i, :])\n",
    "    return res\n",
    "\n",
    "@nb.jit(nopython=True, nogil=True, parallel = True, fastmath=True, looplift=True, inline='always', target_backend='host', no_rewrites=True)\n",
    "def func_int_identifier_loop_empty(Z):\n",
    "    n = Z.shape[0]\n",
    "    res = np.empty((n, 1), dtype=np.float32)\n",
    "    for i in nb.prange(n):\n",
    "        res[i, 0] = temporarysum(Z[i, :])\n",
    "    return res\n",
    "\n",
    "\n",
    "\n",
    "\n",
    "@nb.jit(nb.float32[:](nb.float32[:,:], nb.float32[:,:]), nopython=True, nogil=True, parallel = True,fastmath=True, looplift=True, target_backend='host', inline='always')\n",
    "def func_int_identifier_loopK(Z, res):\n",
    "    n = Z.shape[0]\n",
    "    for i in nb.prange(n):\n",
    "        res[i, 0] = temporarysum(Z[i, :])\n",
    "    return res[:n, 0]\n",
    "\n",
    "arr = np.random.randn(10_00_000,5)\n",
    "resF = np.zeros(tuple(s * 2 for s in arr.shape)).astype(np.float32).copy(order='F')\n",
    "resC = resF.copy(order='F')\n",
    "\n",
    "print('division of column over F-contiguous array')\n",
    "x=arr.astype(np.float32).copy(order='F')\n",
    "print('numba base', end=' ')\n",
    "%timeit func_int_identifier_loop(x)\n",
    "print('numba type initialized returned array', end=' ')\n",
    "%timeit func_int_identifier_loop_dtype(x)\n",
    "print('numba type initialized returned empty array', end=' ')\n",
    "%timeit func_int_identifier_loop_empty(x)\n",
    "print('numpy sum', end=' ')\n",
    "%timeit np.sum(x, axis=1)\n",
    "print('numpy copied for contiguity', end='')\n",
    "%timeit np.sum(x.copy(order='F'), axis=1)\n",
    "print('numba giving an output array F-contiguous', end=' ')\n",
    "%timeit func_int_identifier_loopK(x, resF)\n",
    "print('numba giving an output array C-contiguous', end=' ')\n",
    "%timeit func_int_identifier_loopK(x, resC)\n",
    "\n",
    "print()\n",
    "print('division of column over C-contiguous array')\n",
    "x=arr.astype(np.float32).copy(order='C')\n",
    "print('numba base', end=' ')\n",
    "%timeit func_int_identifier_loop(x)\n",
    "print('numba type initialized returned array', end=' ')\n",
    "%timeit func_int_identifier_loop_dtype(x)\n",
    "print('numba type initialized returned empty array', end=' ')\n",
    "%timeit func_int_identifier_loop_empty(x)\n",
    "print('numpy sum', end=' ')\n",
    "%timeit np.sum(x, axis=1)\n",
    "print('numpy copied for contiguity', end=' ')\n",
    "%timeit np.sum(x.copy(order='F'), axis=1)\n",
    "print('numba giving an output array F-contiguous', end=' ')\n",
    "%timeit func_int_identifier_loopK(x, resF)\n",
    "print('numba giving an output array C-contiguous', end=' ')\n",
    "%timeit func_int_identifier_loopK(x, resC)"
   ]
  },
  {
   "cell_type": "code",
   "execution_count": null,
   "id": "5a19ae2f-2ac4-4325-9301-f4fb3b8bfbac",
   "metadata": {},
   "outputs": [],
   "source": []
  },
  {
   "cell_type": "code",
   "execution_count": 183,
   "id": "9f684a77-1645-44ec-a454-ec91042ea1bb",
   "metadata": {},
   "outputs": [
    {
     "name": "stdout",
     "output_type": "stream",
     "text": [
      "22.3 ms ± 163 µs per loop (mean ± std. dev. of 7 runs, 10 loops each)\n",
      "7.48 ms ± 56.5 µs per loop (mean ± std. dev. of 7 runs, 100 loops each)\n"
     ]
    }
   ],
   "source": [
    "import numpy as np\n",
    "import numba as nb\n",
    "\n",
    "@nb.guvectorize([(nb.float32[:, :], nb.float32[:])], '(n,k)->(n)', nopython=True)\n",
    "def summatrix(computed_matrix, result_array):\n",
    "    for i in range(computed_matrix.shape[0]):\n",
    "        sum_ = 0.0\n",
    "        for j in nb.prange(computed_matrix.shape[1]):\n",
    "            sum_ += computed_matrix[i, j]\n",
    "        result_array[i] = sum_\n",
    "        \n",
    "%timeit summatrix(x)\n",
    "%timeit np.sum(x)"
   ]
  },
  {
   "cell_type": "code",
   "execution_count": 198,
   "id": "b07b1e39-fe37-4ae3-93dc-2dcc349a6e24",
   "metadata": {},
   "outputs": [
    {
     "ename": "TypingError",
     "evalue": "Failed in nopython mode pipeline (step: nopython frontend)\nNo implementation of function Function(<numba._DUFunc 'sumarray'>) found for signature:\n \n >>> sumarray(array(float32, 1d, A))\n \nThere are 2 candidate implementations:\n  - Of which 2 did not match due to:\n  Overload in function 'DUFunc._type_me': File: numba/np/ufunc/dufunc.py: Line 606.\n    With argument(s): '(array(float32, 1d, A))':\n   Rejected as the implementation raised a specific error:\n     TypingError: Failed in nopython mode pipeline (step: nopython frontend)\n   Unknown attribute 'shape' of type float32\n   \n   File \"../../../../../tmp/ipykernel_6532/3226392303.py\", line 7:\n   <source missing, REPL/exec in use?>\n   \n   During: typing of get attribute at /tmp/ipykernel_6532/3226392303.py (7)\n   \n   File \"../../../../../tmp/ipykernel_6532/3226392303.py\", line 7:\n   <source missing, REPL/exec in use?>\n\n  raised from /home/remi/.pyenv/versions/3.12.1/lib/python3.12/site-packages/numba/core/typeinfer.py:1091\n\nDuring: resolving callee type: Function(<numba._DUFunc 'sumarray'>)\nDuring: typing of call at /tmp/ipykernel_6532/3226392303.py (14)\n\n\nFile \"../../../../../tmp/ipykernel_6532/3226392303.py\", line 14:\n<source missing, REPL/exec in use?>\n",
     "output_type": "error",
     "traceback": [
      "\u001b[0;31m---------------------------------------------------------------------------\u001b[0m",
      "\u001b[0;31mTypingError\u001b[0m                               Traceback (most recent call last)",
      "Cell \u001b[0;32mIn[198], line 11\u001b[0m\n\u001b[1;32m      8\u001b[0m         result_value \u001b[38;5;241m+\u001b[39m\u001b[38;5;241m=\u001b[39m computed_array[i]\n\u001b[1;32m      9\u001b[0m     \u001b[38;5;28;01mreturn\u001b[39;00m result_value\n\u001b[0;32m---> 11\u001b[0m \u001b[38;5;129;43m@nb\u001b[39;49m\u001b[38;5;241;43m.\u001b[39;49m\u001b[43mjit\u001b[49m\u001b[43m(\u001b[49m\u001b[43mnb\u001b[49m\u001b[38;5;241;43m.\u001b[39;49m\u001b[43mfloat32\u001b[49m\u001b[43m[\u001b[49m\u001b[43m:\u001b[49m\u001b[43m]\u001b[49m\u001b[43m(\u001b[49m\u001b[43mnb\u001b[49m\u001b[38;5;241;43m.\u001b[39;49m\u001b[43mfloat32\u001b[49m\u001b[43m[\u001b[49m\u001b[43m:\u001b[49m\u001b[43m,\u001b[49m\u001b[43m:\u001b[49m\u001b[43m]\u001b[49m\u001b[43m,\u001b[49m\u001b[43m \u001b[49m\u001b[43mnb\u001b[49m\u001b[38;5;241;43m.\u001b[39;49m\u001b[43mfloat32\u001b[49m\u001b[43m[\u001b[49m\u001b[43m:\u001b[49m\u001b[43m]\u001b[49m\u001b[43m)\u001b[49m\u001b[43m)\u001b[49m\n\u001b[1;32m     12\u001b[0m \u001b[38;5;28;43;01mdef\u001b[39;49;00m\u001b[43m \u001b[49m\u001b[38;5;21;43msummatrix\u001b[39;49m\u001b[43m(\u001b[49m\u001b[43mcomputed_matrix\u001b[49m\u001b[43m,\u001b[49m\u001b[43m \u001b[49m\u001b[43mresult_array\u001b[49m\u001b[43m)\u001b[49m\u001b[43m:\u001b[49m\n\u001b[1;32m     13\u001b[0m \u001b[43m    \u001b[49m\u001b[38;5;28;43;01mfor\u001b[39;49;00m\u001b[43m \u001b[49m\u001b[43mi\u001b[49m\u001b[43m \u001b[49m\u001b[38;5;129;43;01min\u001b[39;49;00m\u001b[43m \u001b[49m\u001b[38;5;28;43mrange\u001b[39;49m\u001b[43m(\u001b[49m\u001b[43mcomputed_matrix\u001b[49m\u001b[38;5;241;43m.\u001b[39;49m\u001b[43mshape\u001b[49m\u001b[43m[\u001b[49m\u001b[38;5;241;43m0\u001b[39;49m\u001b[43m]\u001b[49m\u001b[43m)\u001b[49m\u001b[43m:\u001b[49m\n\u001b[1;32m     14\u001b[0m \u001b[43m        \u001b[49m\u001b[43mresult_array\u001b[49m\u001b[43m[\u001b[49m\u001b[43mi\u001b[49m\u001b[43m]\u001b[49m\u001b[43m \u001b[49m\u001b[38;5;241;43m=\u001b[39;49m\u001b[43m \u001b[49m\u001b[43msumarray\u001b[49m\u001b[43m(\u001b[49m\u001b[43mcomputed_matrix\u001b[49m\u001b[43m[\u001b[49m\u001b[43mi\u001b[49m\u001b[43m,\u001b[49m\u001b[43m \u001b[49m\u001b[43m:\u001b[49m\u001b[43m]\u001b[49m\u001b[43m)\u001b[49m\n",
      "File \u001b[0;32m~/.pyenv/versions/3.12.1/lib/python3.12/site-packages/numba/core/decorators.py:236\u001b[0m, in \u001b[0;36m_jit.<locals>.wrapper\u001b[0;34m(func)\u001b[0m\n\u001b[1;32m    234\u001b[0m     \u001b[38;5;28;01mwith\u001b[39;00m typeinfer\u001b[38;5;241m.\u001b[39mregister_dispatcher(disp):\n\u001b[1;32m    235\u001b[0m         \u001b[38;5;28;01mfor\u001b[39;00m sig \u001b[38;5;129;01min\u001b[39;00m sigs:\n\u001b[0;32m--> 236\u001b[0m             \u001b[43mdisp\u001b[49m\u001b[38;5;241;43m.\u001b[39;49m\u001b[43mcompile\u001b[49m\u001b[43m(\u001b[49m\u001b[43msig\u001b[49m\u001b[43m)\u001b[49m\n\u001b[1;32m    237\u001b[0m         disp\u001b[38;5;241m.\u001b[39mdisable_compile()\n\u001b[1;32m    238\u001b[0m \u001b[38;5;28;01mreturn\u001b[39;00m disp\n",
      "File \u001b[0;32m~/.pyenv/versions/3.12.1/lib/python3.12/site-packages/numba/core/dispatcher.py:957\u001b[0m, in \u001b[0;36mDispatcher.compile\u001b[0;34m(self, sig)\u001b[0m\n\u001b[1;32m    955\u001b[0m \u001b[38;5;28;01mwith\u001b[39;00m ev\u001b[38;5;241m.\u001b[39mtrigger_event(\u001b[38;5;124m\"\u001b[39m\u001b[38;5;124mnumba:compile\u001b[39m\u001b[38;5;124m\"\u001b[39m, data\u001b[38;5;241m=\u001b[39mev_details):\n\u001b[1;32m    956\u001b[0m     \u001b[38;5;28;01mtry\u001b[39;00m:\n\u001b[0;32m--> 957\u001b[0m         cres \u001b[38;5;241m=\u001b[39m \u001b[38;5;28;43mself\u001b[39;49m\u001b[38;5;241;43m.\u001b[39;49m\u001b[43m_compiler\u001b[49m\u001b[38;5;241;43m.\u001b[39;49m\u001b[43mcompile\u001b[49m\u001b[43m(\u001b[49m\u001b[43margs\u001b[49m\u001b[43m,\u001b[49m\u001b[43m \u001b[49m\u001b[43mreturn_type\u001b[49m\u001b[43m)\u001b[49m\n\u001b[1;32m    958\u001b[0m     \u001b[38;5;28;01mexcept\u001b[39;00m errors\u001b[38;5;241m.\u001b[39mForceLiteralArg \u001b[38;5;28;01mas\u001b[39;00m e:\n\u001b[1;32m    959\u001b[0m         \u001b[38;5;28;01mdef\u001b[39;00m \u001b[38;5;21mfolded\u001b[39m(args, kws):\n",
      "File \u001b[0;32m~/.pyenv/versions/3.12.1/lib/python3.12/site-packages/numba/core/dispatcher.py:129\u001b[0m, in \u001b[0;36m_FunctionCompiler.compile\u001b[0;34m(self, args, return_type)\u001b[0m\n\u001b[1;32m    127\u001b[0m     \u001b[38;5;28;01mreturn\u001b[39;00m retval\n\u001b[1;32m    128\u001b[0m \u001b[38;5;28;01melse\u001b[39;00m:\n\u001b[0;32m--> 129\u001b[0m     \u001b[38;5;28;01mraise\u001b[39;00m retval\n",
      "File \u001b[0;32m~/.pyenv/versions/3.12.1/lib/python3.12/site-packages/numba/core/dispatcher.py:139\u001b[0m, in \u001b[0;36m_FunctionCompiler._compile_cached\u001b[0;34m(self, args, return_type)\u001b[0m\n\u001b[1;32m    136\u001b[0m     \u001b[38;5;28;01mpass\u001b[39;00m\n\u001b[1;32m    138\u001b[0m \u001b[38;5;28;01mtry\u001b[39;00m:\n\u001b[0;32m--> 139\u001b[0m     retval \u001b[38;5;241m=\u001b[39m \u001b[38;5;28;43mself\u001b[39;49m\u001b[38;5;241;43m.\u001b[39;49m\u001b[43m_compile_core\u001b[49m\u001b[43m(\u001b[49m\u001b[43margs\u001b[49m\u001b[43m,\u001b[49m\u001b[43m \u001b[49m\u001b[43mreturn_type\u001b[49m\u001b[43m)\u001b[49m\n\u001b[1;32m    140\u001b[0m \u001b[38;5;28;01mexcept\u001b[39;00m errors\u001b[38;5;241m.\u001b[39mTypingError \u001b[38;5;28;01mas\u001b[39;00m e:\n\u001b[1;32m    141\u001b[0m     \u001b[38;5;28mself\u001b[39m\u001b[38;5;241m.\u001b[39m_failed_cache[key] \u001b[38;5;241m=\u001b[39m e\n",
      "File \u001b[0;32m~/.pyenv/versions/3.12.1/lib/python3.12/site-packages/numba/core/dispatcher.py:152\u001b[0m, in \u001b[0;36m_FunctionCompiler._compile_core\u001b[0;34m(self, args, return_type)\u001b[0m\n\u001b[1;32m    149\u001b[0m flags \u001b[38;5;241m=\u001b[39m \u001b[38;5;28mself\u001b[39m\u001b[38;5;241m.\u001b[39m_customize_flags(flags)\n\u001b[1;32m    151\u001b[0m impl \u001b[38;5;241m=\u001b[39m \u001b[38;5;28mself\u001b[39m\u001b[38;5;241m.\u001b[39m_get_implementation(args, {})\n\u001b[0;32m--> 152\u001b[0m cres \u001b[38;5;241m=\u001b[39m \u001b[43mcompiler\u001b[49m\u001b[38;5;241;43m.\u001b[39;49m\u001b[43mcompile_extra\u001b[49m\u001b[43m(\u001b[49m\u001b[38;5;28;43mself\u001b[39;49m\u001b[38;5;241;43m.\u001b[39;49m\u001b[43mtargetdescr\u001b[49m\u001b[38;5;241;43m.\u001b[39;49m\u001b[43mtyping_context\u001b[49m\u001b[43m,\u001b[49m\n\u001b[1;32m    153\u001b[0m \u001b[43m                              \u001b[49m\u001b[38;5;28;43mself\u001b[39;49m\u001b[38;5;241;43m.\u001b[39;49m\u001b[43mtargetdescr\u001b[49m\u001b[38;5;241;43m.\u001b[39;49m\u001b[43mtarget_context\u001b[49m\u001b[43m,\u001b[49m\n\u001b[1;32m    154\u001b[0m \u001b[43m                              \u001b[49m\u001b[43mimpl\u001b[49m\u001b[43m,\u001b[49m\n\u001b[1;32m    155\u001b[0m \u001b[43m                              \u001b[49m\u001b[43margs\u001b[49m\u001b[38;5;241;43m=\u001b[39;49m\u001b[43margs\u001b[49m\u001b[43m,\u001b[49m\u001b[43m \u001b[49m\u001b[43mreturn_type\u001b[49m\u001b[38;5;241;43m=\u001b[39;49m\u001b[43mreturn_type\u001b[49m\u001b[43m,\u001b[49m\n\u001b[1;32m    156\u001b[0m \u001b[43m                              \u001b[49m\u001b[43mflags\u001b[49m\u001b[38;5;241;43m=\u001b[39;49m\u001b[43mflags\u001b[49m\u001b[43m,\u001b[49m\u001b[43m \u001b[49m\u001b[38;5;28;43mlocals\u001b[39;49m\u001b[38;5;241;43m=\u001b[39;49m\u001b[38;5;28;43mself\u001b[39;49m\u001b[38;5;241;43m.\u001b[39;49m\u001b[43mlocals\u001b[49m\u001b[43m,\u001b[49m\n\u001b[1;32m    157\u001b[0m \u001b[43m                              \u001b[49m\u001b[43mpipeline_class\u001b[49m\u001b[38;5;241;43m=\u001b[39;49m\u001b[38;5;28;43mself\u001b[39;49m\u001b[38;5;241;43m.\u001b[39;49m\u001b[43mpipeline_class\u001b[49m\u001b[43m)\u001b[49m\n\u001b[1;32m    158\u001b[0m \u001b[38;5;66;03m# Check typing error if object mode is used\u001b[39;00m\n\u001b[1;32m    159\u001b[0m \u001b[38;5;28;01mif\u001b[39;00m cres\u001b[38;5;241m.\u001b[39mtyping_error \u001b[38;5;129;01mis\u001b[39;00m \u001b[38;5;129;01mnot\u001b[39;00m \u001b[38;5;28;01mNone\u001b[39;00m \u001b[38;5;129;01mand\u001b[39;00m \u001b[38;5;129;01mnot\u001b[39;00m flags\u001b[38;5;241m.\u001b[39menable_pyobject:\n",
      "File \u001b[0;32m~/.pyenv/versions/3.12.1/lib/python3.12/site-packages/numba/core/compiler.py:751\u001b[0m, in \u001b[0;36mcompile_extra\u001b[0;34m(typingctx, targetctx, func, args, return_type, flags, locals, library, pipeline_class)\u001b[0m\n\u001b[1;32m    727\u001b[0m \u001b[38;5;250m\u001b[39m\u001b[38;5;124;03m\"\"\"Compiler entry point\u001b[39;00m\n\u001b[1;32m    728\u001b[0m \n\u001b[1;32m    729\u001b[0m \u001b[38;5;124;03mParameter\u001b[39;00m\n\u001b[0;32m   (...)\u001b[0m\n\u001b[1;32m    747\u001b[0m \u001b[38;5;124;03m    compiler pipeline\u001b[39;00m\n\u001b[1;32m    748\u001b[0m \u001b[38;5;124;03m\"\"\"\u001b[39;00m\n\u001b[1;32m    749\u001b[0m pipeline \u001b[38;5;241m=\u001b[39m pipeline_class(typingctx, targetctx, library,\n\u001b[1;32m    750\u001b[0m                           args, return_type, flags, \u001b[38;5;28mlocals\u001b[39m)\n\u001b[0;32m--> 751\u001b[0m \u001b[38;5;28;01mreturn\u001b[39;00m \u001b[43mpipeline\u001b[49m\u001b[38;5;241;43m.\u001b[39;49m\u001b[43mcompile_extra\u001b[49m\u001b[43m(\u001b[49m\u001b[43mfunc\u001b[49m\u001b[43m)\u001b[49m\n",
      "File \u001b[0;32m~/.pyenv/versions/3.12.1/lib/python3.12/site-packages/numba/core/compiler.py:445\u001b[0m, in \u001b[0;36mCompilerBase.compile_extra\u001b[0;34m(self, func)\u001b[0m\n\u001b[1;32m    443\u001b[0m \u001b[38;5;28mself\u001b[39m\u001b[38;5;241m.\u001b[39mstate\u001b[38;5;241m.\u001b[39mlifted \u001b[38;5;241m=\u001b[39m ()\n\u001b[1;32m    444\u001b[0m \u001b[38;5;28mself\u001b[39m\u001b[38;5;241m.\u001b[39mstate\u001b[38;5;241m.\u001b[39mlifted_from \u001b[38;5;241m=\u001b[39m \u001b[38;5;28;01mNone\u001b[39;00m\n\u001b[0;32m--> 445\u001b[0m \u001b[38;5;28;01mreturn\u001b[39;00m \u001b[38;5;28;43mself\u001b[39;49m\u001b[38;5;241;43m.\u001b[39;49m\u001b[43m_compile_bytecode\u001b[49m\u001b[43m(\u001b[49m\u001b[43m)\u001b[49m\n",
      "File \u001b[0;32m~/.pyenv/versions/3.12.1/lib/python3.12/site-packages/numba/core/compiler.py:513\u001b[0m, in \u001b[0;36mCompilerBase._compile_bytecode\u001b[0;34m(self)\u001b[0m\n\u001b[1;32m    509\u001b[0m \u001b[38;5;250m\u001b[39m\u001b[38;5;124;03m\"\"\"\u001b[39;00m\n\u001b[1;32m    510\u001b[0m \u001b[38;5;124;03mPopulate and run pipeline for bytecode input\u001b[39;00m\n\u001b[1;32m    511\u001b[0m \u001b[38;5;124;03m\"\"\"\u001b[39;00m\n\u001b[1;32m    512\u001b[0m \u001b[38;5;28;01massert\u001b[39;00m \u001b[38;5;28mself\u001b[39m\u001b[38;5;241m.\u001b[39mstate\u001b[38;5;241m.\u001b[39mfunc_ir \u001b[38;5;129;01mis\u001b[39;00m \u001b[38;5;28;01mNone\u001b[39;00m\n\u001b[0;32m--> 513\u001b[0m \u001b[38;5;28;01mreturn\u001b[39;00m \u001b[38;5;28;43mself\u001b[39;49m\u001b[38;5;241;43m.\u001b[39;49m\u001b[43m_compile_core\u001b[49m\u001b[43m(\u001b[49m\u001b[43m)\u001b[49m\n",
      "File \u001b[0;32m~/.pyenv/versions/3.12.1/lib/python3.12/site-packages/numba/core/compiler.py:492\u001b[0m, in \u001b[0;36mCompilerBase._compile_core\u001b[0;34m(self)\u001b[0m\n\u001b[1;32m    490\u001b[0m         \u001b[38;5;28mself\u001b[39m\u001b[38;5;241m.\u001b[39mstate\u001b[38;5;241m.\u001b[39mstatus\u001b[38;5;241m.\u001b[39mfail_reason \u001b[38;5;241m=\u001b[39m e\n\u001b[1;32m    491\u001b[0m         \u001b[38;5;28;01mif\u001b[39;00m is_final_pipeline:\n\u001b[0;32m--> 492\u001b[0m             \u001b[38;5;28;01mraise\u001b[39;00m e\n\u001b[1;32m    493\u001b[0m \u001b[38;5;28;01melse\u001b[39;00m:\n\u001b[1;32m    494\u001b[0m     \u001b[38;5;28;01mraise\u001b[39;00m CompilerError(\u001b[38;5;124m\"\u001b[39m\u001b[38;5;124mAll available pipelines exhausted\u001b[39m\u001b[38;5;124m\"\u001b[39m)\n",
      "File \u001b[0;32m~/.pyenv/versions/3.12.1/lib/python3.12/site-packages/numba/core/compiler.py:479\u001b[0m, in \u001b[0;36mCompilerBase._compile_core\u001b[0;34m(self)\u001b[0m\n\u001b[1;32m    477\u001b[0m res \u001b[38;5;241m=\u001b[39m \u001b[38;5;28;01mNone\u001b[39;00m\n\u001b[1;32m    478\u001b[0m \u001b[38;5;28;01mtry\u001b[39;00m:\n\u001b[0;32m--> 479\u001b[0m     \u001b[43mpm\u001b[49m\u001b[38;5;241;43m.\u001b[39;49m\u001b[43mrun\u001b[49m\u001b[43m(\u001b[49m\u001b[38;5;28;43mself\u001b[39;49m\u001b[38;5;241;43m.\u001b[39;49m\u001b[43mstate\u001b[49m\u001b[43m)\u001b[49m\n\u001b[1;32m    480\u001b[0m     \u001b[38;5;28;01mif\u001b[39;00m \u001b[38;5;28mself\u001b[39m\u001b[38;5;241m.\u001b[39mstate\u001b[38;5;241m.\u001b[39mcr \u001b[38;5;129;01mis\u001b[39;00m \u001b[38;5;129;01mnot\u001b[39;00m \u001b[38;5;28;01mNone\u001b[39;00m:\n\u001b[1;32m    481\u001b[0m         \u001b[38;5;28;01mbreak\u001b[39;00m\n",
      "File \u001b[0;32m~/.pyenv/versions/3.12.1/lib/python3.12/site-packages/numba/core/compiler_machinery.py:368\u001b[0m, in \u001b[0;36mPassManager.run\u001b[0;34m(self, state)\u001b[0m\n\u001b[1;32m    365\u001b[0m msg \u001b[38;5;241m=\u001b[39m \u001b[38;5;124m\"\u001b[39m\u001b[38;5;124mFailed in \u001b[39m\u001b[38;5;132;01m%s\u001b[39;00m\u001b[38;5;124m mode pipeline (step: \u001b[39m\u001b[38;5;132;01m%s\u001b[39;00m\u001b[38;5;124m)\u001b[39m\u001b[38;5;124m\"\u001b[39m \u001b[38;5;241m%\u001b[39m \\\n\u001b[1;32m    366\u001b[0m     (\u001b[38;5;28mself\u001b[39m\u001b[38;5;241m.\u001b[39mpipeline_name, pass_desc)\n\u001b[1;32m    367\u001b[0m patched_exception \u001b[38;5;241m=\u001b[39m \u001b[38;5;28mself\u001b[39m\u001b[38;5;241m.\u001b[39m_patch_error(msg, e)\n\u001b[0;32m--> 368\u001b[0m \u001b[38;5;28;01mraise\u001b[39;00m patched_exception\n",
      "File \u001b[0;32m~/.pyenv/versions/3.12.1/lib/python3.12/site-packages/numba/core/compiler_machinery.py:356\u001b[0m, in \u001b[0;36mPassManager.run\u001b[0;34m(self, state)\u001b[0m\n\u001b[1;32m    354\u001b[0m pass_inst \u001b[38;5;241m=\u001b[39m _pass_registry\u001b[38;5;241m.\u001b[39mget(pss)\u001b[38;5;241m.\u001b[39mpass_inst\n\u001b[1;32m    355\u001b[0m \u001b[38;5;28;01mif\u001b[39;00m \u001b[38;5;28misinstance\u001b[39m(pass_inst, CompilerPass):\n\u001b[0;32m--> 356\u001b[0m     \u001b[38;5;28;43mself\u001b[39;49m\u001b[38;5;241;43m.\u001b[39;49m\u001b[43m_runPass\u001b[49m\u001b[43m(\u001b[49m\u001b[43midx\u001b[49m\u001b[43m,\u001b[49m\u001b[43m \u001b[49m\u001b[43mpass_inst\u001b[49m\u001b[43m,\u001b[49m\u001b[43m \u001b[49m\u001b[43mstate\u001b[49m\u001b[43m)\u001b[49m\n\u001b[1;32m    357\u001b[0m \u001b[38;5;28;01melse\u001b[39;00m:\n\u001b[1;32m    358\u001b[0m     \u001b[38;5;28;01mraise\u001b[39;00m \u001b[38;5;167;01mBaseException\u001b[39;00m(\u001b[38;5;124m\"\u001b[39m\u001b[38;5;124mLegacy pass in use\u001b[39m\u001b[38;5;124m\"\u001b[39m)\n",
      "File \u001b[0;32m~/.pyenv/versions/3.12.1/lib/python3.12/site-packages/numba/core/compiler_lock.py:35\u001b[0m, in \u001b[0;36m_CompilerLock.__call__.<locals>._acquire_compile_lock\u001b[0;34m(*args, **kwargs)\u001b[0m\n\u001b[1;32m     32\u001b[0m \u001b[38;5;129m@functools\u001b[39m\u001b[38;5;241m.\u001b[39mwraps(func)\n\u001b[1;32m     33\u001b[0m \u001b[38;5;28;01mdef\u001b[39;00m \u001b[38;5;21m_acquire_compile_lock\u001b[39m(\u001b[38;5;241m*\u001b[39margs, \u001b[38;5;241m*\u001b[39m\u001b[38;5;241m*\u001b[39mkwargs):\n\u001b[1;32m     34\u001b[0m     \u001b[38;5;28;01mwith\u001b[39;00m \u001b[38;5;28mself\u001b[39m:\n\u001b[0;32m---> 35\u001b[0m         \u001b[38;5;28;01mreturn\u001b[39;00m \u001b[43mfunc\u001b[49m\u001b[43m(\u001b[49m\u001b[38;5;241;43m*\u001b[39;49m\u001b[43margs\u001b[49m\u001b[43m,\u001b[49m\u001b[43m \u001b[49m\u001b[38;5;241;43m*\u001b[39;49m\u001b[38;5;241;43m*\u001b[39;49m\u001b[43mkwargs\u001b[49m\u001b[43m)\u001b[49m\n",
      "File \u001b[0;32m~/.pyenv/versions/3.12.1/lib/python3.12/site-packages/numba/core/compiler_machinery.py:311\u001b[0m, in \u001b[0;36mPassManager._runPass\u001b[0;34m(self, index, pss, internal_state)\u001b[0m\n\u001b[1;32m    309\u001b[0m     mutated \u001b[38;5;241m|\u001b[39m\u001b[38;5;241m=\u001b[39m check(pss\u001b[38;5;241m.\u001b[39mrun_initialization, internal_state)\n\u001b[1;32m    310\u001b[0m \u001b[38;5;28;01mwith\u001b[39;00m SimpleTimer() \u001b[38;5;28;01mas\u001b[39;00m pass_time:\n\u001b[0;32m--> 311\u001b[0m     mutated \u001b[38;5;241m|\u001b[39m\u001b[38;5;241m=\u001b[39m \u001b[43mcheck\u001b[49m\u001b[43m(\u001b[49m\u001b[43mpss\u001b[49m\u001b[38;5;241;43m.\u001b[39;49m\u001b[43mrun_pass\u001b[49m\u001b[43m,\u001b[49m\u001b[43m \u001b[49m\u001b[43minternal_state\u001b[49m\u001b[43m)\u001b[49m\n\u001b[1;32m    312\u001b[0m \u001b[38;5;28;01mwith\u001b[39;00m SimpleTimer() \u001b[38;5;28;01mas\u001b[39;00m finalize_time:\n\u001b[1;32m    313\u001b[0m     mutated \u001b[38;5;241m|\u001b[39m\u001b[38;5;241m=\u001b[39m check(pss\u001b[38;5;241m.\u001b[39mrun_finalizer, internal_state)\n",
      "File \u001b[0;32m~/.pyenv/versions/3.12.1/lib/python3.12/site-packages/numba/core/compiler_machinery.py:273\u001b[0m, in \u001b[0;36mPassManager._runPass.<locals>.check\u001b[0;34m(func, compiler_state)\u001b[0m\n\u001b[1;32m    272\u001b[0m \u001b[38;5;28;01mdef\u001b[39;00m \u001b[38;5;21mcheck\u001b[39m(func, compiler_state):\n\u001b[0;32m--> 273\u001b[0m     mangled \u001b[38;5;241m=\u001b[39m \u001b[43mfunc\u001b[49m\u001b[43m(\u001b[49m\u001b[43mcompiler_state\u001b[49m\u001b[43m)\u001b[49m\n\u001b[1;32m    274\u001b[0m     \u001b[38;5;28;01mif\u001b[39;00m mangled \u001b[38;5;129;01mnot\u001b[39;00m \u001b[38;5;129;01min\u001b[39;00m (\u001b[38;5;28;01mTrue\u001b[39;00m, \u001b[38;5;28;01mFalse\u001b[39;00m):\n\u001b[1;32m    275\u001b[0m         msg \u001b[38;5;241m=\u001b[39m (\u001b[38;5;124m\"\u001b[39m\u001b[38;5;124mCompilerPass implementations should return True/False. \u001b[39m\u001b[38;5;124m\"\u001b[39m\n\u001b[1;32m    276\u001b[0m                \u001b[38;5;124m\"\u001b[39m\u001b[38;5;124mCompilerPass with name \u001b[39m\u001b[38;5;124m'\u001b[39m\u001b[38;5;132;01m%s\u001b[39;00m\u001b[38;5;124m'\u001b[39m\u001b[38;5;124m did not.\u001b[39m\u001b[38;5;124m\"\u001b[39m)\n",
      "File \u001b[0;32m~/.pyenv/versions/3.12.1/lib/python3.12/site-packages/numba/core/typed_passes.py:112\u001b[0m, in \u001b[0;36mBaseTypeInference.run_pass\u001b[0;34m(self, state)\u001b[0m\n\u001b[1;32m    106\u001b[0m \u001b[38;5;250m\u001b[39m\u001b[38;5;124;03m\"\"\"\u001b[39;00m\n\u001b[1;32m    107\u001b[0m \u001b[38;5;124;03mType inference and legalization\u001b[39;00m\n\u001b[1;32m    108\u001b[0m \u001b[38;5;124;03m\"\"\"\u001b[39;00m\n\u001b[1;32m    109\u001b[0m \u001b[38;5;28;01mwith\u001b[39;00m fallback_context(state, \u001b[38;5;124m'\u001b[39m\u001b[38;5;124mFunction \u001b[39m\u001b[38;5;124m\"\u001b[39m\u001b[38;5;132;01m%s\u001b[39;00m\u001b[38;5;124m\"\u001b[39m\u001b[38;5;124m failed type inference\u001b[39m\u001b[38;5;124m'\u001b[39m\n\u001b[1;32m    110\u001b[0m                       \u001b[38;5;241m%\u001b[39m (state\u001b[38;5;241m.\u001b[39mfunc_id\u001b[38;5;241m.\u001b[39mfunc_name,)):\n\u001b[1;32m    111\u001b[0m     \u001b[38;5;66;03m# Type inference\u001b[39;00m\n\u001b[0;32m--> 112\u001b[0m     typemap, return_type, calltypes, errs \u001b[38;5;241m=\u001b[39m \u001b[43mtype_inference_stage\u001b[49m\u001b[43m(\u001b[49m\n\u001b[1;32m    113\u001b[0m \u001b[43m        \u001b[49m\u001b[43mstate\u001b[49m\u001b[38;5;241;43m.\u001b[39;49m\u001b[43mtypingctx\u001b[49m\u001b[43m,\u001b[49m\n\u001b[1;32m    114\u001b[0m \u001b[43m        \u001b[49m\u001b[43mstate\u001b[49m\u001b[38;5;241;43m.\u001b[39;49m\u001b[43mtargetctx\u001b[49m\u001b[43m,\u001b[49m\n\u001b[1;32m    115\u001b[0m \u001b[43m        \u001b[49m\u001b[43mstate\u001b[49m\u001b[38;5;241;43m.\u001b[39;49m\u001b[43mfunc_ir\u001b[49m\u001b[43m,\u001b[49m\n\u001b[1;32m    116\u001b[0m \u001b[43m        \u001b[49m\u001b[43mstate\u001b[49m\u001b[38;5;241;43m.\u001b[39;49m\u001b[43margs\u001b[49m\u001b[43m,\u001b[49m\n\u001b[1;32m    117\u001b[0m \u001b[43m        \u001b[49m\u001b[43mstate\u001b[49m\u001b[38;5;241;43m.\u001b[39;49m\u001b[43mreturn_type\u001b[49m\u001b[43m,\u001b[49m\n\u001b[1;32m    118\u001b[0m \u001b[43m        \u001b[49m\u001b[43mstate\u001b[49m\u001b[38;5;241;43m.\u001b[39;49m\u001b[43mlocals\u001b[49m\u001b[43m,\u001b[49m\n\u001b[1;32m    119\u001b[0m \u001b[43m        \u001b[49m\u001b[43mraise_errors\u001b[49m\u001b[38;5;241;43m=\u001b[39;49m\u001b[38;5;28;43mself\u001b[39;49m\u001b[38;5;241;43m.\u001b[39;49m\u001b[43m_raise_errors\u001b[49m\u001b[43m)\u001b[49m\n\u001b[1;32m    120\u001b[0m     state\u001b[38;5;241m.\u001b[39mtypemap \u001b[38;5;241m=\u001b[39m typemap\n\u001b[1;32m    121\u001b[0m     \u001b[38;5;66;03m# save errors in case of partial typing\u001b[39;00m\n",
      "File \u001b[0;32m~/.pyenv/versions/3.12.1/lib/python3.12/site-packages/numba/core/typed_passes.py:93\u001b[0m, in \u001b[0;36mtype_inference_stage\u001b[0;34m(typingctx, targetctx, interp, args, return_type, locals, raise_errors)\u001b[0m\n\u001b[1;32m     91\u001b[0m     infer\u001b[38;5;241m.\u001b[39mbuild_constraint()\n\u001b[1;32m     92\u001b[0m     \u001b[38;5;66;03m# return errors in case of partial typing\u001b[39;00m\n\u001b[0;32m---> 93\u001b[0m     errs \u001b[38;5;241m=\u001b[39m \u001b[43minfer\u001b[49m\u001b[38;5;241;43m.\u001b[39;49m\u001b[43mpropagate\u001b[49m\u001b[43m(\u001b[49m\u001b[43mraise_errors\u001b[49m\u001b[38;5;241;43m=\u001b[39;49m\u001b[43mraise_errors\u001b[49m\u001b[43m)\u001b[49m\n\u001b[1;32m     94\u001b[0m     typemap, restype, calltypes \u001b[38;5;241m=\u001b[39m infer\u001b[38;5;241m.\u001b[39munify(raise_errors\u001b[38;5;241m=\u001b[39mraise_errors)\n\u001b[1;32m     96\u001b[0m \u001b[38;5;28;01mreturn\u001b[39;00m _TypingResults(typemap, restype, calltypes, errs)\n",
      "File \u001b[0;32m~/.pyenv/versions/3.12.1/lib/python3.12/site-packages/numba/core/typeinfer.py:1091\u001b[0m, in \u001b[0;36mTypeInferer.propagate\u001b[0;34m(self, raise_errors)\u001b[0m\n\u001b[1;32m   1088\u001b[0m force_lit_args \u001b[38;5;241m=\u001b[39m [e \u001b[38;5;28;01mfor\u001b[39;00m e \u001b[38;5;129;01min\u001b[39;00m errors\n\u001b[1;32m   1089\u001b[0m                   \u001b[38;5;28;01mif\u001b[39;00m \u001b[38;5;28misinstance\u001b[39m(e, ForceLiteralArg)]\n\u001b[1;32m   1090\u001b[0m \u001b[38;5;28;01mif\u001b[39;00m \u001b[38;5;129;01mnot\u001b[39;00m force_lit_args:\n\u001b[0;32m-> 1091\u001b[0m     \u001b[38;5;28;01mraise\u001b[39;00m errors[\u001b[38;5;241m0\u001b[39m]\n\u001b[1;32m   1092\u001b[0m \u001b[38;5;28;01melse\u001b[39;00m:\n\u001b[1;32m   1093\u001b[0m     \u001b[38;5;28;01mraise\u001b[39;00m reduce(operator\u001b[38;5;241m.\u001b[39mor_, force_lit_args)\n",
      "\u001b[0;31mTypingError\u001b[0m: Failed in nopython mode pipeline (step: nopython frontend)\nNo implementation of function Function(<numba._DUFunc 'sumarray'>) found for signature:\n \n >>> sumarray(array(float32, 1d, A))\n \nThere are 2 candidate implementations:\n  - Of which 2 did not match due to:\n  Overload in function 'DUFunc._type_me': File: numba/np/ufunc/dufunc.py: Line 606.\n    With argument(s): '(array(float32, 1d, A))':\n   Rejected as the implementation raised a specific error:\n     TypingError: Failed in nopython mode pipeline (step: nopython frontend)\n   Unknown attribute 'shape' of type float32\n   \n   File \"../../../../../tmp/ipykernel_6532/3226392303.py\", line 7:\n   <source missing, REPL/exec in use?>\n   \n   During: typing of get attribute at /tmp/ipykernel_6532/3226392303.py (7)\n   \n   File \"../../../../../tmp/ipykernel_6532/3226392303.py\", line 7:\n   <source missing, REPL/exec in use?>\n\n  raised from /home/remi/.pyenv/versions/3.12.1/lib/python3.12/site-packages/numba/core/typeinfer.py:1091\n\nDuring: resolving callee type: Function(<numba._DUFunc 'sumarray'>)\nDuring: typing of call at /tmp/ipykernel_6532/3226392303.py (14)\n\n\nFile \"../../../../../tmp/ipykernel_6532/3226392303.py\", line 14:\n<source missing, REPL/exec in use?>\n"
     ]
    }
   ],
   "source": [
    "import numpy as np\n",
    "import numba as nb\n",
    "\n",
    "@nb.vectorize#([(nb.float32[:])], '(n)->()', nopython=True)\n",
    "def sumarray(computed_array):\n",
    "    result_value = 0.0\n",
    "    for i in range(computed_array.shape[0]):\n",
    "        result_value += computed_array[i]\n",
    "    return result_value\n",
    "\n",
    "@nb.jit(nb.float32[:](nb.float32[:,:], nb.float32[:,:]), nopython=True)\n",
    "def summatrix(computed_matrix, result_array):\n",
    "    for i in range(computed_matrix.shape[0]):\n",
    "        result_array[i] = sumarray(computed_matrix[i, :])\n"
   ]
  },
  {
   "cell_type": "code",
   "execution_count": 176,
   "id": "2e5aa53f-66dd-4889-afbc-2fadb8d7415d",
   "metadata": {},
   "outputs": [
    {
     "ename": "TypingError",
     "evalue": "Failed in nopython mode pipeline (step: nopython frontend)\nUntyped global name 'sumarray': Cannot determine Numba type of <class 'numba.np.ufunc.gufunc.GUFunc'>\n\nFile \"../../../../../tmp/ipykernel_6532/2071512261.py\", line 9:\n<source missing, REPL/exec in use?>\n",
     "output_type": "error",
     "traceback": [
      "\u001b[0;31m---------------------------------------------------------------------------\u001b[0m",
      "\u001b[0;31mTypingError\u001b[0m                               Traceback (most recent call last)",
      "Cell \u001b[0;32mIn[176], line 6\u001b[0m\n\u001b[1;32m      3\u001b[0m     \u001b[38;5;28;01mfor\u001b[39;00m i \u001b[38;5;129;01min\u001b[39;00m \u001b[38;5;28mrange\u001b[39m(computed_array\u001b[38;5;241m.\u001b[39mshape[\u001b[38;5;241m0\u001b[39m]):\n\u001b[1;32m      4\u001b[0m         result_value \u001b[38;5;241m+\u001b[39m\u001b[38;5;241m=\u001b[39m computed_array[i]\n\u001b[0;32m----> 6\u001b[0m \u001b[38;5;129;43m@nb\u001b[39;49m\u001b[38;5;241;43m.\u001b[39;49m\u001b[43mguvectorize\u001b[49m\u001b[43m(\u001b[49m\u001b[43m[\u001b[49m\u001b[43m(\u001b[49m\u001b[43mnb\u001b[49m\u001b[38;5;241;43m.\u001b[39;49m\u001b[43mfloat32\u001b[49m\u001b[43m[\u001b[49m\u001b[43m:\u001b[49m\u001b[43m,\u001b[49m\u001b[43m:\u001b[49m\u001b[43m]\u001b[49m\u001b[43m,\u001b[49m\u001b[43m \u001b[49m\u001b[43mnb\u001b[49m\u001b[38;5;241;43m.\u001b[39;49m\u001b[43mfloat32\u001b[49m\u001b[43m[\u001b[49m\u001b[43m:\u001b[49m\u001b[43m,\u001b[49m\u001b[43m:\u001b[49m\u001b[43m]\u001b[49m\u001b[43m)\u001b[49m\u001b[43m]\u001b[49m\u001b[43m,\u001b[49m\u001b[43m \u001b[49m\u001b[38;5;124;43m'\u001b[39;49m\u001b[38;5;124;43m(n,k)->(n,)\u001b[39;49m\u001b[38;5;124;43m'\u001b[39;49m\u001b[43m)\u001b[49m\n\u001b[1;32m      7\u001b[0m \u001b[38;5;28;43;01mdef\u001b[39;49;00m\u001b[43m \u001b[49m\u001b[38;5;21;43msummatrix\u001b[39;49m\u001b[43m(\u001b[49m\u001b[43mcomputed_matrix\u001b[49m\u001b[43m,\u001b[49m\u001b[43m \u001b[49m\u001b[43mresult_array\u001b[49m\u001b[43m)\u001b[49m\u001b[43m:\u001b[49m\n\u001b[1;32m      8\u001b[0m \u001b[43m    \u001b[49m\u001b[38;5;28;43;01mfor\u001b[39;49;00m\u001b[43m \u001b[49m\u001b[43mi\u001b[49m\u001b[43m \u001b[49m\u001b[38;5;129;43;01min\u001b[39;49;00m\u001b[43m \u001b[49m\u001b[43mnb\u001b[49m\u001b[38;5;241;43m.\u001b[39;49m\u001b[43mprange\u001b[49m\u001b[43m(\u001b[49m\u001b[43mcomputed_matrix\u001b[49m\u001b[38;5;241;43m.\u001b[39;49m\u001b[43mshape\u001b[49m\u001b[43m[\u001b[49m\u001b[38;5;241;43m0\u001b[39;49m\u001b[43m]\u001b[49m\u001b[43m)\u001b[49m\u001b[43m:\u001b[49m\n\u001b[1;32m      9\u001b[0m \u001b[43m        \u001b[49m\u001b[43msumarray\u001b[49m\u001b[43m(\u001b[49m\u001b[43mcomputed_matrix\u001b[49m\u001b[43m[\u001b[49m\u001b[43mi\u001b[49m\u001b[43m,\u001b[49m\u001b[43m \u001b[49m\u001b[43m:\u001b[49m\u001b[43m]\u001b[49m\u001b[43m,\u001b[49m\u001b[43m \u001b[49m\u001b[43mresult_array\u001b[49m\u001b[43m[\u001b[49m\u001b[43mi\u001b[49m\u001b[43m]\u001b[49m\u001b[43m)\u001b[49m\n",
      "File \u001b[0;32m~/.pyenv/versions/3.12.1/lib/python3.12/site-packages/numba/np/ufunc/decorators.py:203\u001b[0m, in \u001b[0;36mguvectorize.<locals>.wrap\u001b[0;34m(func)\u001b[0m\n\u001b[1;32m    201\u001b[0m guvec \u001b[38;5;241m=\u001b[39m GUVectorize(func, signature, \u001b[38;5;241m*\u001b[39m\u001b[38;5;241m*\u001b[39mkwargs)\n\u001b[1;32m    202\u001b[0m \u001b[38;5;28;01mfor\u001b[39;00m fty \u001b[38;5;129;01min\u001b[39;00m ftylist:\n\u001b[0;32m--> 203\u001b[0m     \u001b[43mguvec\u001b[49m\u001b[38;5;241;43m.\u001b[39;49m\u001b[43madd\u001b[49m\u001b[43m(\u001b[49m\u001b[43mfty\u001b[49m\u001b[43m)\u001b[49m\n\u001b[1;32m    204\u001b[0m \u001b[38;5;28;01mif\u001b[39;00m \u001b[38;5;28mlen\u001b[39m(ftylist) \u001b[38;5;241m>\u001b[39m \u001b[38;5;241m0\u001b[39m:\n\u001b[1;32m    205\u001b[0m     guvec\u001b[38;5;241m.\u001b[39mdisable_compile()\n",
      "File \u001b[0;32m~/.pyenv/versions/3.12.1/lib/python3.12/site-packages/numba/np/ufunc/gufunc.py:64\u001b[0m, in \u001b[0;36mGUFunc.add\u001b[0;34m(self, fty)\u001b[0m\n\u001b[1;32m     63\u001b[0m \u001b[38;5;28;01mdef\u001b[39;00m \u001b[38;5;21madd\u001b[39m(\u001b[38;5;28mself\u001b[39m, fty):\n\u001b[0;32m---> 64\u001b[0m     \u001b[38;5;28;43mself\u001b[39;49m\u001b[38;5;241;43m.\u001b[39;49m\u001b[43mgufunc_builder\u001b[49m\u001b[38;5;241;43m.\u001b[39;49m\u001b[43madd\u001b[49m\u001b[43m(\u001b[49m\u001b[43mfty\u001b[49m\u001b[43m)\u001b[49m\n",
      "File \u001b[0;32m~/.pyenv/versions/3.12.1/lib/python3.12/site-packages/numba/np/ufunc/ufuncbuilder.py:258\u001b[0m, in \u001b[0;36m_BaseUFuncBuilder.add\u001b[0;34m(self, sig)\u001b[0m\n\u001b[1;32m    256\u001b[0m \u001b[38;5;28;01melse\u001b[39;00m:\n\u001b[1;32m    257\u001b[0m     targetoptions \u001b[38;5;241m=\u001b[39m \u001b[38;5;28mself\u001b[39m\u001b[38;5;241m.\u001b[39mnb_func\u001b[38;5;241m.\u001b[39mtargetoptions\n\u001b[0;32m--> 258\u001b[0m cres, args, return_type \u001b[38;5;241m=\u001b[39m \u001b[43m_compile_element_wise_function\u001b[49m\u001b[43m(\u001b[49m\n\u001b[1;32m    259\u001b[0m \u001b[43m    \u001b[49m\u001b[38;5;28;43mself\u001b[39;49m\u001b[38;5;241;43m.\u001b[39;49m\u001b[43mnb_func\u001b[49m\u001b[43m,\u001b[49m\u001b[43m \u001b[49m\u001b[43mtargetoptions\u001b[49m\u001b[43m,\u001b[49m\u001b[43m \u001b[49m\u001b[43msig\u001b[49m\u001b[43m)\u001b[49m\n\u001b[1;32m    260\u001b[0m sig \u001b[38;5;241m=\u001b[39m \u001b[38;5;28mself\u001b[39m\u001b[38;5;241m.\u001b[39m_finalize_signature(cres, args, return_type)\n\u001b[1;32m    261\u001b[0m \u001b[38;5;28mself\u001b[39m\u001b[38;5;241m.\u001b[39m_sigs\u001b[38;5;241m.\u001b[39mappend(sig)\n",
      "File \u001b[0;32m~/.pyenv/versions/3.12.1/lib/python3.12/site-packages/numba/np/ufunc/ufuncbuilder.py:176\u001b[0m, in \u001b[0;36m_compile_element_wise_function\u001b[0;34m(nb_func, targetoptions, sig)\u001b[0m\n\u001b[1;32m    173\u001b[0m \u001b[38;5;28;01mdef\u001b[39;00m \u001b[38;5;21m_compile_element_wise_function\u001b[39m(nb_func, targetoptions, sig):\n\u001b[1;32m    174\u001b[0m     \u001b[38;5;66;03m# Do compilation\u001b[39;00m\n\u001b[1;32m    175\u001b[0m     \u001b[38;5;66;03m# Return CompileResult to test\u001b[39;00m\n\u001b[0;32m--> 176\u001b[0m     cres \u001b[38;5;241m=\u001b[39m \u001b[43mnb_func\u001b[49m\u001b[38;5;241;43m.\u001b[39;49m\u001b[43mcompile\u001b[49m\u001b[43m(\u001b[49m\u001b[43msig\u001b[49m\u001b[43m,\u001b[49m\u001b[43m \u001b[49m\u001b[38;5;241;43m*\u001b[39;49m\u001b[38;5;241;43m*\u001b[39;49m\u001b[43mtargetoptions\u001b[49m\u001b[43m)\u001b[49m\n\u001b[1;32m    177\u001b[0m     args, return_type \u001b[38;5;241m=\u001b[39m sigutils\u001b[38;5;241m.\u001b[39mnormalize_signature(sig)\n\u001b[1;32m    178\u001b[0m     \u001b[38;5;28;01mreturn\u001b[39;00m cres, args, return_type\n",
      "File \u001b[0;32m~/.pyenv/versions/3.12.1/lib/python3.12/site-packages/numba/np/ufunc/ufuncbuilder.py:124\u001b[0m, in \u001b[0;36mUFuncDispatcher.compile\u001b[0;34m(self, sig, locals, **targetoptions)\u001b[0m\n\u001b[1;32m    119\u001b[0m \u001b[38;5;66;03m# Disable loop lifting\u001b[39;00m\n\u001b[1;32m    120\u001b[0m \u001b[38;5;66;03m# The feature requires a real\u001b[39;00m\n\u001b[1;32m    121\u001b[0m \u001b[38;5;66;03m#  python function\u001b[39;00m\n\u001b[1;32m    122\u001b[0m flags\u001b[38;5;241m.\u001b[39menable_looplift \u001b[38;5;241m=\u001b[39m \u001b[38;5;28;01mFalse\u001b[39;00m\n\u001b[0;32m--> 124\u001b[0m \u001b[38;5;28;01mreturn\u001b[39;00m \u001b[38;5;28;43mself\u001b[39;49m\u001b[38;5;241;43m.\u001b[39;49m\u001b[43m_compile_core\u001b[49m\u001b[43m(\u001b[49m\u001b[43msig\u001b[49m\u001b[43m,\u001b[49m\u001b[43m \u001b[49m\u001b[43mflags\u001b[49m\u001b[43m,\u001b[49m\u001b[43m \u001b[49m\u001b[38;5;28;43mlocals\u001b[39;49m\u001b[43m)\u001b[49m\n",
      "File \u001b[0;32m~/.pyenv/versions/3.12.1/lib/python3.12/site-packages/numba/np/ufunc/ufuncbuilder.py:157\u001b[0m, in \u001b[0;36mUFuncDispatcher._compile_core\u001b[0;34m(self, sig, flags, locals)\u001b[0m\n\u001b[1;32m    155\u001b[0m \u001b[38;5;66;03m# Compile\u001b[39;00m\n\u001b[1;32m    156\u001b[0m args, return_type \u001b[38;5;241m=\u001b[39m sigutils\u001b[38;5;241m.\u001b[39mnormalize_signature(sig)\n\u001b[0;32m--> 157\u001b[0m cres \u001b[38;5;241m=\u001b[39m \u001b[43mcompiler\u001b[49m\u001b[38;5;241;43m.\u001b[39;49m\u001b[43mcompile_extra\u001b[49m\u001b[43m(\u001b[49m\u001b[43mtypingctx\u001b[49m\u001b[43m,\u001b[49m\u001b[43m \u001b[49m\u001b[43mtargetctx\u001b[49m\u001b[43m,\u001b[49m\n\u001b[1;32m    158\u001b[0m \u001b[43m                              \u001b[49m\u001b[38;5;28;43mself\u001b[39;49m\u001b[38;5;241;43m.\u001b[39;49m\u001b[43mpy_func\u001b[49m\u001b[43m,\u001b[49m\u001b[43m \u001b[49m\u001b[43margs\u001b[49m\u001b[38;5;241;43m=\u001b[39;49m\u001b[43margs\u001b[49m\u001b[43m,\u001b[49m\n\u001b[1;32m    159\u001b[0m \u001b[43m                              \u001b[49m\u001b[43mreturn_type\u001b[49m\u001b[38;5;241;43m=\u001b[39;49m\u001b[43mreturn_type\u001b[49m\u001b[43m,\u001b[49m\n\u001b[1;32m    160\u001b[0m \u001b[43m                              \u001b[49m\u001b[43mflags\u001b[49m\u001b[38;5;241;43m=\u001b[39;49m\u001b[43mflags\u001b[49m\u001b[43m,\u001b[49m\u001b[43m \u001b[49m\u001b[38;5;28;43mlocals\u001b[39;49m\u001b[38;5;241;43m=\u001b[39;49m\u001b[38;5;28;43mlocals\u001b[39;49m\u001b[43m)\u001b[49m\n\u001b[1;32m    162\u001b[0m \u001b[38;5;66;03m# cache lookup failed before so safe to save\u001b[39;00m\n\u001b[1;32m    163\u001b[0m \u001b[38;5;28mself\u001b[39m\u001b[38;5;241m.\u001b[39mcache\u001b[38;5;241m.\u001b[39msave_overload(sig, cres)\n",
      "File \u001b[0;32m~/.pyenv/versions/3.12.1/lib/python3.12/site-packages/numba/core/compiler.py:751\u001b[0m, in \u001b[0;36mcompile_extra\u001b[0;34m(typingctx, targetctx, func, args, return_type, flags, locals, library, pipeline_class)\u001b[0m\n\u001b[1;32m    727\u001b[0m \u001b[38;5;250m\u001b[39m\u001b[38;5;124;03m\"\"\"Compiler entry point\u001b[39;00m\n\u001b[1;32m    728\u001b[0m \n\u001b[1;32m    729\u001b[0m \u001b[38;5;124;03mParameter\u001b[39;00m\n\u001b[0;32m   (...)\u001b[0m\n\u001b[1;32m    747\u001b[0m \u001b[38;5;124;03m    compiler pipeline\u001b[39;00m\n\u001b[1;32m    748\u001b[0m \u001b[38;5;124;03m\"\"\"\u001b[39;00m\n\u001b[1;32m    749\u001b[0m pipeline \u001b[38;5;241m=\u001b[39m pipeline_class(typingctx, targetctx, library,\n\u001b[1;32m    750\u001b[0m                           args, return_type, flags, \u001b[38;5;28mlocals\u001b[39m)\n\u001b[0;32m--> 751\u001b[0m \u001b[38;5;28;01mreturn\u001b[39;00m \u001b[43mpipeline\u001b[49m\u001b[38;5;241;43m.\u001b[39;49m\u001b[43mcompile_extra\u001b[49m\u001b[43m(\u001b[49m\u001b[43mfunc\u001b[49m\u001b[43m)\u001b[49m\n",
      "File \u001b[0;32m~/.pyenv/versions/3.12.1/lib/python3.12/site-packages/numba/core/compiler.py:445\u001b[0m, in \u001b[0;36mCompilerBase.compile_extra\u001b[0;34m(self, func)\u001b[0m\n\u001b[1;32m    443\u001b[0m \u001b[38;5;28mself\u001b[39m\u001b[38;5;241m.\u001b[39mstate\u001b[38;5;241m.\u001b[39mlifted \u001b[38;5;241m=\u001b[39m ()\n\u001b[1;32m    444\u001b[0m \u001b[38;5;28mself\u001b[39m\u001b[38;5;241m.\u001b[39mstate\u001b[38;5;241m.\u001b[39mlifted_from \u001b[38;5;241m=\u001b[39m \u001b[38;5;28;01mNone\u001b[39;00m\n\u001b[0;32m--> 445\u001b[0m \u001b[38;5;28;01mreturn\u001b[39;00m \u001b[38;5;28;43mself\u001b[39;49m\u001b[38;5;241;43m.\u001b[39;49m\u001b[43m_compile_bytecode\u001b[49m\u001b[43m(\u001b[49m\u001b[43m)\u001b[49m\n",
      "File \u001b[0;32m~/.pyenv/versions/3.12.1/lib/python3.12/site-packages/numba/core/compiler.py:513\u001b[0m, in \u001b[0;36mCompilerBase._compile_bytecode\u001b[0;34m(self)\u001b[0m\n\u001b[1;32m    509\u001b[0m \u001b[38;5;250m\u001b[39m\u001b[38;5;124;03m\"\"\"\u001b[39;00m\n\u001b[1;32m    510\u001b[0m \u001b[38;5;124;03mPopulate and run pipeline for bytecode input\u001b[39;00m\n\u001b[1;32m    511\u001b[0m \u001b[38;5;124;03m\"\"\"\u001b[39;00m\n\u001b[1;32m    512\u001b[0m \u001b[38;5;28;01massert\u001b[39;00m \u001b[38;5;28mself\u001b[39m\u001b[38;5;241m.\u001b[39mstate\u001b[38;5;241m.\u001b[39mfunc_ir \u001b[38;5;129;01mis\u001b[39;00m \u001b[38;5;28;01mNone\u001b[39;00m\n\u001b[0;32m--> 513\u001b[0m \u001b[38;5;28;01mreturn\u001b[39;00m \u001b[38;5;28;43mself\u001b[39;49m\u001b[38;5;241;43m.\u001b[39;49m\u001b[43m_compile_core\u001b[49m\u001b[43m(\u001b[49m\u001b[43m)\u001b[49m\n",
      "File \u001b[0;32m~/.pyenv/versions/3.12.1/lib/python3.12/site-packages/numba/core/compiler.py:492\u001b[0m, in \u001b[0;36mCompilerBase._compile_core\u001b[0;34m(self)\u001b[0m\n\u001b[1;32m    490\u001b[0m         \u001b[38;5;28mself\u001b[39m\u001b[38;5;241m.\u001b[39mstate\u001b[38;5;241m.\u001b[39mstatus\u001b[38;5;241m.\u001b[39mfail_reason \u001b[38;5;241m=\u001b[39m e\n\u001b[1;32m    491\u001b[0m         \u001b[38;5;28;01mif\u001b[39;00m is_final_pipeline:\n\u001b[0;32m--> 492\u001b[0m             \u001b[38;5;28;01mraise\u001b[39;00m e\n\u001b[1;32m    493\u001b[0m \u001b[38;5;28;01melse\u001b[39;00m:\n\u001b[1;32m    494\u001b[0m     \u001b[38;5;28;01mraise\u001b[39;00m CompilerError(\u001b[38;5;124m\"\u001b[39m\u001b[38;5;124mAll available pipelines exhausted\u001b[39m\u001b[38;5;124m\"\u001b[39m)\n",
      "File \u001b[0;32m~/.pyenv/versions/3.12.1/lib/python3.12/site-packages/numba/core/compiler.py:479\u001b[0m, in \u001b[0;36mCompilerBase._compile_core\u001b[0;34m(self)\u001b[0m\n\u001b[1;32m    477\u001b[0m res \u001b[38;5;241m=\u001b[39m \u001b[38;5;28;01mNone\u001b[39;00m\n\u001b[1;32m    478\u001b[0m \u001b[38;5;28;01mtry\u001b[39;00m:\n\u001b[0;32m--> 479\u001b[0m     \u001b[43mpm\u001b[49m\u001b[38;5;241;43m.\u001b[39;49m\u001b[43mrun\u001b[49m\u001b[43m(\u001b[49m\u001b[38;5;28;43mself\u001b[39;49m\u001b[38;5;241;43m.\u001b[39;49m\u001b[43mstate\u001b[49m\u001b[43m)\u001b[49m\n\u001b[1;32m    480\u001b[0m     \u001b[38;5;28;01mif\u001b[39;00m \u001b[38;5;28mself\u001b[39m\u001b[38;5;241m.\u001b[39mstate\u001b[38;5;241m.\u001b[39mcr \u001b[38;5;129;01mis\u001b[39;00m \u001b[38;5;129;01mnot\u001b[39;00m \u001b[38;5;28;01mNone\u001b[39;00m:\n\u001b[1;32m    481\u001b[0m         \u001b[38;5;28;01mbreak\u001b[39;00m\n",
      "File \u001b[0;32m~/.pyenv/versions/3.12.1/lib/python3.12/site-packages/numba/core/compiler_machinery.py:368\u001b[0m, in \u001b[0;36mPassManager.run\u001b[0;34m(self, state)\u001b[0m\n\u001b[1;32m    365\u001b[0m msg \u001b[38;5;241m=\u001b[39m \u001b[38;5;124m\"\u001b[39m\u001b[38;5;124mFailed in \u001b[39m\u001b[38;5;132;01m%s\u001b[39;00m\u001b[38;5;124m mode pipeline (step: \u001b[39m\u001b[38;5;132;01m%s\u001b[39;00m\u001b[38;5;124m)\u001b[39m\u001b[38;5;124m\"\u001b[39m \u001b[38;5;241m%\u001b[39m \\\n\u001b[1;32m    366\u001b[0m     (\u001b[38;5;28mself\u001b[39m\u001b[38;5;241m.\u001b[39mpipeline_name, pass_desc)\n\u001b[1;32m    367\u001b[0m patched_exception \u001b[38;5;241m=\u001b[39m \u001b[38;5;28mself\u001b[39m\u001b[38;5;241m.\u001b[39m_patch_error(msg, e)\n\u001b[0;32m--> 368\u001b[0m \u001b[38;5;28;01mraise\u001b[39;00m patched_exception\n",
      "File \u001b[0;32m~/.pyenv/versions/3.12.1/lib/python3.12/site-packages/numba/core/compiler_machinery.py:356\u001b[0m, in \u001b[0;36mPassManager.run\u001b[0;34m(self, state)\u001b[0m\n\u001b[1;32m    354\u001b[0m pass_inst \u001b[38;5;241m=\u001b[39m _pass_registry\u001b[38;5;241m.\u001b[39mget(pss)\u001b[38;5;241m.\u001b[39mpass_inst\n\u001b[1;32m    355\u001b[0m \u001b[38;5;28;01mif\u001b[39;00m \u001b[38;5;28misinstance\u001b[39m(pass_inst, CompilerPass):\n\u001b[0;32m--> 356\u001b[0m     \u001b[38;5;28;43mself\u001b[39;49m\u001b[38;5;241;43m.\u001b[39;49m\u001b[43m_runPass\u001b[49m\u001b[43m(\u001b[49m\u001b[43midx\u001b[49m\u001b[43m,\u001b[49m\u001b[43m \u001b[49m\u001b[43mpass_inst\u001b[49m\u001b[43m,\u001b[49m\u001b[43m \u001b[49m\u001b[43mstate\u001b[49m\u001b[43m)\u001b[49m\n\u001b[1;32m    357\u001b[0m \u001b[38;5;28;01melse\u001b[39;00m:\n\u001b[1;32m    358\u001b[0m     \u001b[38;5;28;01mraise\u001b[39;00m \u001b[38;5;167;01mBaseException\u001b[39;00m(\u001b[38;5;124m\"\u001b[39m\u001b[38;5;124mLegacy pass in use\u001b[39m\u001b[38;5;124m\"\u001b[39m)\n",
      "File \u001b[0;32m~/.pyenv/versions/3.12.1/lib/python3.12/site-packages/numba/core/compiler_lock.py:35\u001b[0m, in \u001b[0;36m_CompilerLock.__call__.<locals>._acquire_compile_lock\u001b[0;34m(*args, **kwargs)\u001b[0m\n\u001b[1;32m     32\u001b[0m \u001b[38;5;129m@functools\u001b[39m\u001b[38;5;241m.\u001b[39mwraps(func)\n\u001b[1;32m     33\u001b[0m \u001b[38;5;28;01mdef\u001b[39;00m \u001b[38;5;21m_acquire_compile_lock\u001b[39m(\u001b[38;5;241m*\u001b[39margs, \u001b[38;5;241m*\u001b[39m\u001b[38;5;241m*\u001b[39mkwargs):\n\u001b[1;32m     34\u001b[0m     \u001b[38;5;28;01mwith\u001b[39;00m \u001b[38;5;28mself\u001b[39m:\n\u001b[0;32m---> 35\u001b[0m         \u001b[38;5;28;01mreturn\u001b[39;00m \u001b[43mfunc\u001b[49m\u001b[43m(\u001b[49m\u001b[38;5;241;43m*\u001b[39;49m\u001b[43margs\u001b[49m\u001b[43m,\u001b[49m\u001b[43m \u001b[49m\u001b[38;5;241;43m*\u001b[39;49m\u001b[38;5;241;43m*\u001b[39;49m\u001b[43mkwargs\u001b[49m\u001b[43m)\u001b[49m\n",
      "File \u001b[0;32m~/.pyenv/versions/3.12.1/lib/python3.12/site-packages/numba/core/compiler_machinery.py:311\u001b[0m, in \u001b[0;36mPassManager._runPass\u001b[0;34m(self, index, pss, internal_state)\u001b[0m\n\u001b[1;32m    309\u001b[0m     mutated \u001b[38;5;241m|\u001b[39m\u001b[38;5;241m=\u001b[39m check(pss\u001b[38;5;241m.\u001b[39mrun_initialization, internal_state)\n\u001b[1;32m    310\u001b[0m \u001b[38;5;28;01mwith\u001b[39;00m SimpleTimer() \u001b[38;5;28;01mas\u001b[39;00m pass_time:\n\u001b[0;32m--> 311\u001b[0m     mutated \u001b[38;5;241m|\u001b[39m\u001b[38;5;241m=\u001b[39m \u001b[43mcheck\u001b[49m\u001b[43m(\u001b[49m\u001b[43mpss\u001b[49m\u001b[38;5;241;43m.\u001b[39;49m\u001b[43mrun_pass\u001b[49m\u001b[43m,\u001b[49m\u001b[43m \u001b[49m\u001b[43minternal_state\u001b[49m\u001b[43m)\u001b[49m\n\u001b[1;32m    312\u001b[0m \u001b[38;5;28;01mwith\u001b[39;00m SimpleTimer() \u001b[38;5;28;01mas\u001b[39;00m finalize_time:\n\u001b[1;32m    313\u001b[0m     mutated \u001b[38;5;241m|\u001b[39m\u001b[38;5;241m=\u001b[39m check(pss\u001b[38;5;241m.\u001b[39mrun_finalizer, internal_state)\n",
      "File \u001b[0;32m~/.pyenv/versions/3.12.1/lib/python3.12/site-packages/numba/core/compiler_machinery.py:273\u001b[0m, in \u001b[0;36mPassManager._runPass.<locals>.check\u001b[0;34m(func, compiler_state)\u001b[0m\n\u001b[1;32m    272\u001b[0m \u001b[38;5;28;01mdef\u001b[39;00m \u001b[38;5;21mcheck\u001b[39m(func, compiler_state):\n\u001b[0;32m--> 273\u001b[0m     mangled \u001b[38;5;241m=\u001b[39m \u001b[43mfunc\u001b[49m\u001b[43m(\u001b[49m\u001b[43mcompiler_state\u001b[49m\u001b[43m)\u001b[49m\n\u001b[1;32m    274\u001b[0m     \u001b[38;5;28;01mif\u001b[39;00m mangled \u001b[38;5;129;01mnot\u001b[39;00m \u001b[38;5;129;01min\u001b[39;00m (\u001b[38;5;28;01mTrue\u001b[39;00m, \u001b[38;5;28;01mFalse\u001b[39;00m):\n\u001b[1;32m    275\u001b[0m         msg \u001b[38;5;241m=\u001b[39m (\u001b[38;5;124m\"\u001b[39m\u001b[38;5;124mCompilerPass implementations should return True/False. \u001b[39m\u001b[38;5;124m\"\u001b[39m\n\u001b[1;32m    276\u001b[0m                \u001b[38;5;124m\"\u001b[39m\u001b[38;5;124mCompilerPass with name \u001b[39m\u001b[38;5;124m'\u001b[39m\u001b[38;5;132;01m%s\u001b[39;00m\u001b[38;5;124m'\u001b[39m\u001b[38;5;124m did not.\u001b[39m\u001b[38;5;124m\"\u001b[39m)\n",
      "File \u001b[0;32m~/.pyenv/versions/3.12.1/lib/python3.12/site-packages/numba/core/typed_passes.py:112\u001b[0m, in \u001b[0;36mBaseTypeInference.run_pass\u001b[0;34m(self, state)\u001b[0m\n\u001b[1;32m    106\u001b[0m \u001b[38;5;250m\u001b[39m\u001b[38;5;124;03m\"\"\"\u001b[39;00m\n\u001b[1;32m    107\u001b[0m \u001b[38;5;124;03mType inference and legalization\u001b[39;00m\n\u001b[1;32m    108\u001b[0m \u001b[38;5;124;03m\"\"\"\u001b[39;00m\n\u001b[1;32m    109\u001b[0m \u001b[38;5;28;01mwith\u001b[39;00m fallback_context(state, \u001b[38;5;124m'\u001b[39m\u001b[38;5;124mFunction \u001b[39m\u001b[38;5;124m\"\u001b[39m\u001b[38;5;132;01m%s\u001b[39;00m\u001b[38;5;124m\"\u001b[39m\u001b[38;5;124m failed type inference\u001b[39m\u001b[38;5;124m'\u001b[39m\n\u001b[1;32m    110\u001b[0m                       \u001b[38;5;241m%\u001b[39m (state\u001b[38;5;241m.\u001b[39mfunc_id\u001b[38;5;241m.\u001b[39mfunc_name,)):\n\u001b[1;32m    111\u001b[0m     \u001b[38;5;66;03m# Type inference\u001b[39;00m\n\u001b[0;32m--> 112\u001b[0m     typemap, return_type, calltypes, errs \u001b[38;5;241m=\u001b[39m \u001b[43mtype_inference_stage\u001b[49m\u001b[43m(\u001b[49m\n\u001b[1;32m    113\u001b[0m \u001b[43m        \u001b[49m\u001b[43mstate\u001b[49m\u001b[38;5;241;43m.\u001b[39;49m\u001b[43mtypingctx\u001b[49m\u001b[43m,\u001b[49m\n\u001b[1;32m    114\u001b[0m \u001b[43m        \u001b[49m\u001b[43mstate\u001b[49m\u001b[38;5;241;43m.\u001b[39;49m\u001b[43mtargetctx\u001b[49m\u001b[43m,\u001b[49m\n\u001b[1;32m    115\u001b[0m \u001b[43m        \u001b[49m\u001b[43mstate\u001b[49m\u001b[38;5;241;43m.\u001b[39;49m\u001b[43mfunc_ir\u001b[49m\u001b[43m,\u001b[49m\n\u001b[1;32m    116\u001b[0m \u001b[43m        \u001b[49m\u001b[43mstate\u001b[49m\u001b[38;5;241;43m.\u001b[39;49m\u001b[43margs\u001b[49m\u001b[43m,\u001b[49m\n\u001b[1;32m    117\u001b[0m \u001b[43m        \u001b[49m\u001b[43mstate\u001b[49m\u001b[38;5;241;43m.\u001b[39;49m\u001b[43mreturn_type\u001b[49m\u001b[43m,\u001b[49m\n\u001b[1;32m    118\u001b[0m \u001b[43m        \u001b[49m\u001b[43mstate\u001b[49m\u001b[38;5;241;43m.\u001b[39;49m\u001b[43mlocals\u001b[49m\u001b[43m,\u001b[49m\n\u001b[1;32m    119\u001b[0m \u001b[43m        \u001b[49m\u001b[43mraise_errors\u001b[49m\u001b[38;5;241;43m=\u001b[39;49m\u001b[38;5;28;43mself\u001b[39;49m\u001b[38;5;241;43m.\u001b[39;49m\u001b[43m_raise_errors\u001b[49m\u001b[43m)\u001b[49m\n\u001b[1;32m    120\u001b[0m     state\u001b[38;5;241m.\u001b[39mtypemap \u001b[38;5;241m=\u001b[39m typemap\n\u001b[1;32m    121\u001b[0m     \u001b[38;5;66;03m# save errors in case of partial typing\u001b[39;00m\n",
      "File \u001b[0;32m~/.pyenv/versions/3.12.1/lib/python3.12/site-packages/numba/core/typed_passes.py:91\u001b[0m, in \u001b[0;36mtype_inference_stage\u001b[0;34m(typingctx, targetctx, interp, args, return_type, locals, raise_errors)\u001b[0m\n\u001b[1;32m     88\u001b[0m \u001b[38;5;28;01mfor\u001b[39;00m k, v \u001b[38;5;129;01min\u001b[39;00m \u001b[38;5;28mlocals\u001b[39m\u001b[38;5;241m.\u001b[39mitems():\n\u001b[1;32m     89\u001b[0m     infer\u001b[38;5;241m.\u001b[39mseed_type(k, v)\n\u001b[0;32m---> 91\u001b[0m \u001b[43minfer\u001b[49m\u001b[38;5;241;43m.\u001b[39;49m\u001b[43mbuild_constraint\u001b[49m\u001b[43m(\u001b[49m\u001b[43m)\u001b[49m\n\u001b[1;32m     92\u001b[0m \u001b[38;5;66;03m# return errors in case of partial typing\u001b[39;00m\n\u001b[1;32m     93\u001b[0m errs \u001b[38;5;241m=\u001b[39m infer\u001b[38;5;241m.\u001b[39mpropagate(raise_errors\u001b[38;5;241m=\u001b[39mraise_errors)\n",
      "File \u001b[0;32m~/.pyenv/versions/3.12.1/lib/python3.12/site-packages/numba/core/typeinfer.py:1044\u001b[0m, in \u001b[0;36mTypeInferer.build_constraint\u001b[0;34m(self)\u001b[0m\n\u001b[1;32m   1042\u001b[0m \u001b[38;5;28;01mfor\u001b[39;00m blk \u001b[38;5;129;01min\u001b[39;00m \u001b[38;5;28mself\u001b[39m\u001b[38;5;241m.\u001b[39mblocks\u001b[38;5;241m.\u001b[39mvalues():\n\u001b[1;32m   1043\u001b[0m     \u001b[38;5;28;01mfor\u001b[39;00m inst \u001b[38;5;129;01min\u001b[39;00m blk\u001b[38;5;241m.\u001b[39mbody:\n\u001b[0;32m-> 1044\u001b[0m         \u001b[38;5;28;43mself\u001b[39;49m\u001b[38;5;241;43m.\u001b[39;49m\u001b[43mconstrain_statement\u001b[49m\u001b[43m(\u001b[49m\u001b[43minst\u001b[49m\u001b[43m)\u001b[49m\n",
      "File \u001b[0;32m~/.pyenv/versions/3.12.1/lib/python3.12/site-packages/numba/core/typeinfer.py:1406\u001b[0m, in \u001b[0;36mTypeInferer.constrain_statement\u001b[0;34m(self, inst)\u001b[0m\n\u001b[1;32m   1404\u001b[0m \u001b[38;5;28;01mdef\u001b[39;00m \u001b[38;5;21mconstrain_statement\u001b[39m(\u001b[38;5;28mself\u001b[39m, inst):\n\u001b[1;32m   1405\u001b[0m     \u001b[38;5;28;01mif\u001b[39;00m \u001b[38;5;28misinstance\u001b[39m(inst, ir\u001b[38;5;241m.\u001b[39mAssign):\n\u001b[0;32m-> 1406\u001b[0m         \u001b[38;5;28;43mself\u001b[39;49m\u001b[38;5;241;43m.\u001b[39;49m\u001b[43mtypeof_assign\u001b[49m\u001b[43m(\u001b[49m\u001b[43minst\u001b[49m\u001b[43m)\u001b[49m\n\u001b[1;32m   1407\u001b[0m     \u001b[38;5;28;01melif\u001b[39;00m \u001b[38;5;28misinstance\u001b[39m(inst, ir\u001b[38;5;241m.\u001b[39mSetItem):\n\u001b[1;32m   1408\u001b[0m         \u001b[38;5;28mself\u001b[39m\u001b[38;5;241m.\u001b[39mtypeof_setitem(inst)\n",
      "File \u001b[0;32m~/.pyenv/versions/3.12.1/lib/python3.12/site-packages/numba/core/typeinfer.py:1481\u001b[0m, in \u001b[0;36mTypeInferer.typeof_assign\u001b[0;34m(self, inst)\u001b[0m\n\u001b[1;32m   1478\u001b[0m     \u001b[38;5;28mself\u001b[39m\u001b[38;5;241m.\u001b[39mconstraints\u001b[38;5;241m.\u001b[39mappend(Propagate(dst\u001b[38;5;241m=\u001b[39minst\u001b[38;5;241m.\u001b[39mtarget\u001b[38;5;241m.\u001b[39mname,\n\u001b[1;32m   1479\u001b[0m                                       src\u001b[38;5;241m=\u001b[39mvalue\u001b[38;5;241m.\u001b[39mname, loc\u001b[38;5;241m=\u001b[39minst\u001b[38;5;241m.\u001b[39mloc))\n\u001b[1;32m   1480\u001b[0m \u001b[38;5;28;01melif\u001b[39;00m \u001b[38;5;28misinstance\u001b[39m(value, (ir\u001b[38;5;241m.\u001b[39mGlobal, ir\u001b[38;5;241m.\u001b[39mFreeVar)):\n\u001b[0;32m-> 1481\u001b[0m     \u001b[38;5;28;43mself\u001b[39;49m\u001b[38;5;241;43m.\u001b[39;49m\u001b[43mtypeof_global\u001b[49m\u001b[43m(\u001b[49m\u001b[43minst\u001b[49m\u001b[43m,\u001b[49m\u001b[43m \u001b[49m\u001b[43minst\u001b[49m\u001b[38;5;241;43m.\u001b[39;49m\u001b[43mtarget\u001b[49m\u001b[43m,\u001b[49m\u001b[43m \u001b[49m\u001b[43mvalue\u001b[49m\u001b[43m)\u001b[49m\n\u001b[1;32m   1482\u001b[0m \u001b[38;5;28;01melif\u001b[39;00m \u001b[38;5;28misinstance\u001b[39m(value, ir\u001b[38;5;241m.\u001b[39mArg):\n\u001b[1;32m   1483\u001b[0m     \u001b[38;5;28mself\u001b[39m\u001b[38;5;241m.\u001b[39mtypeof_arg(inst, inst\u001b[38;5;241m.\u001b[39mtarget, value)\n",
      "File \u001b[0;32m~/.pyenv/versions/3.12.1/lib/python3.12/site-packages/numba/core/typeinfer.py:1581\u001b[0m, in \u001b[0;36mTypeInferer.typeof_global\u001b[0;34m(self, inst, target, gvar)\u001b[0m\n\u001b[1;32m   1579\u001b[0m \u001b[38;5;28;01mdef\u001b[39;00m \u001b[38;5;21mtypeof_global\u001b[39m(\u001b[38;5;28mself\u001b[39m, inst, target, gvar):\n\u001b[1;32m   1580\u001b[0m     \u001b[38;5;28;01mtry\u001b[39;00m:\n\u001b[0;32m-> 1581\u001b[0m         typ \u001b[38;5;241m=\u001b[39m \u001b[38;5;28;43mself\u001b[39;49m\u001b[38;5;241;43m.\u001b[39;49m\u001b[43mresolve_value_type\u001b[49m\u001b[43m(\u001b[49m\u001b[43minst\u001b[49m\u001b[43m,\u001b[49m\u001b[43m \u001b[49m\u001b[43mgvar\u001b[49m\u001b[38;5;241;43m.\u001b[39;49m\u001b[43mvalue\u001b[49m\u001b[43m)\u001b[49m\n\u001b[1;32m   1582\u001b[0m     \u001b[38;5;28;01mexcept\u001b[39;00m TypingError \u001b[38;5;28;01mas\u001b[39;00m e:\n\u001b[1;32m   1583\u001b[0m         \u001b[38;5;28;01mif\u001b[39;00m (gvar\u001b[38;5;241m.\u001b[39mname \u001b[38;5;241m==\u001b[39m \u001b[38;5;28mself\u001b[39m\u001b[38;5;241m.\u001b[39mfunc_id\u001b[38;5;241m.\u001b[39mfunc_name\n\u001b[1;32m   1584\u001b[0m                 \u001b[38;5;129;01mand\u001b[39;00m gvar\u001b[38;5;241m.\u001b[39mname \u001b[38;5;129;01min\u001b[39;00m _temporary_dispatcher_map):\n\u001b[1;32m   1585\u001b[0m             \u001b[38;5;66;03m# Self-recursion case where the dispatcher is not (yet?) known\u001b[39;00m\n\u001b[1;32m   1586\u001b[0m             \u001b[38;5;66;03m# as a global variable\u001b[39;00m\n",
      "File \u001b[0;32m~/.pyenv/versions/3.12.1/lib/python3.12/site-packages/numba/core/typeinfer.py:1502\u001b[0m, in \u001b[0;36mTypeInferer.resolve_value_type\u001b[0;34m(self, inst, val)\u001b[0m\n\u001b[1;32m   1500\u001b[0m \u001b[38;5;28;01mexcept\u001b[39;00m \u001b[38;5;167;01mValueError\u001b[39;00m \u001b[38;5;28;01mas\u001b[39;00m e:\n\u001b[1;32m   1501\u001b[0m     msg \u001b[38;5;241m=\u001b[39m \u001b[38;5;28mstr\u001b[39m(e)\n\u001b[0;32m-> 1502\u001b[0m \u001b[38;5;28;01mraise\u001b[39;00m TypingError(msg, loc\u001b[38;5;241m=\u001b[39minst\u001b[38;5;241m.\u001b[39mloc)\n",
      "\u001b[0;31mTypingError\u001b[0m: Failed in nopython mode pipeline (step: nopython frontend)\nUntyped global name 'sumarray': Cannot determine Numba type of <class 'numba.np.ufunc.gufunc.GUFunc'>\n\nFile \"../../../../../tmp/ipykernel_6532/2071512261.py\", line 9:\n<source missing, REPL/exec in use?>\n"
     ]
    }
   ],
   "source": [
    "@nb.guvectorize([(nb.float32[:], nb.float32)], '(n)->()')\n",
    "def sumarray(computed_array, result_value):\n",
    "    for i in range(computed_array.shape[0]):\n",
    "        result_value += computed_array[i]\n",
    "\n",
    "@nb.guvectorize([(nb.float32[:,:], nb.float32[:,:])], '(n,k)->(n,)')\n",
    "def summatrix(computed_matrix, result_array):\n",
    "    for i in nb.prange(computed_matrix.shape[0]):\n",
    "        sumarray(computed_matrix[i, :], result_array[i])\n",
    "\n",
    "\n"
   ]
  },
  {
   "cell_type": "code",
   "execution_count": 164,
   "id": "b7dc6d10-b9de-456a-9b41-1b771204a086",
   "metadata": {},
   "outputs": [
    {
     "data": {
      "text/plain": [
       "array([[-2.8405788,  2.519    , -0.5060638, -0.998097 ,  2.14208  ]],\n",
       "      dtype=float32)"
      ]
     },
     "execution_count": 164,
     "metadata": {},
     "output_type": "execute_result"
    }
   ],
   "source": [
    "x[tuple((0, None))]"
   ]
  },
  {
   "cell_type": "code",
   "execution_count": 158,
   "id": "6c73e28f-f95e-471c-a700-fde1e851b3db",
   "metadata": {},
   "outputs": [
    {
     "ename": "TypingError",
     "evalue": "Failed in nopython mode pipeline (step: nopython frontend)\nNo implementation of function Function(<function sum at 0x7f358812ade0>) found for signature:\n \n >>> sum(float32)\n \nThere are 2 candidate implementations:\n      - Of which 2 did not match due to:\n      Overload of function 'sum': File: numba/core/typing/npydecl.py: Line 373.\n        With argument(s): '(float32)':\n       No match.\n\nDuring: resolving callee type: Function(<function sum at 0x7f358812ade0>)\nDuring: typing of call at /tmp/ipykernel_6532/4278288295.py (3)\n\n\nFile \"../../../../../tmp/ipykernel_6532/4278288295.py\", line 3:\n<source missing, REPL/exec in use?>\n",
     "output_type": "error",
     "traceback": [
      "\u001b[0;31m---------------------------------------------------------------------------\u001b[0m",
      "\u001b[0;31mTypingError\u001b[0m                               Traceback (most recent call last)",
      "Cell \u001b[0;32mIn[158], line 2\u001b[0m\n\u001b[1;32m      1\u001b[0m \u001b[38;5;66;03m# @nb.guvectorize((nb.float32[:,:], nb.float32[:,:]))\u001b[39;00m\n\u001b[0;32m----> 2\u001b[0m \u001b[38;5;129;43m@nb\u001b[39;49m\u001b[38;5;241;43m.\u001b[39;49m\u001b[43mguvectorize\u001b[49m\u001b[43m(\u001b[49m\u001b[43m[\u001b[49m\u001b[43m(\u001b[49m\u001b[43mnb\u001b[49m\u001b[38;5;241;43m.\u001b[39;49m\u001b[43mfloat32\u001b[49m\u001b[43m[\u001b[49m\u001b[43m:\u001b[49m\u001b[43m,\u001b[49m\u001b[43m:\u001b[49m\u001b[43m]\u001b[49m\u001b[43m,\u001b[49m\u001b[43m \u001b[49m\u001b[43mnb\u001b[49m\u001b[38;5;241;43m.\u001b[39;49m\u001b[43mfloat32\u001b[49m\u001b[43m[\u001b[49m\u001b[43m:\u001b[49m\u001b[43m,\u001b[49m\u001b[43m:\u001b[49m\u001b[43m]\u001b[49m\u001b[43m)\u001b[49m\u001b[43m]\u001b[49m\u001b[43m,\u001b[49m\u001b[43m \u001b[49m\u001b[38;5;124;43m'\u001b[39;49m\u001b[38;5;124;43m(n,k)->(n)\u001b[39;49m\u001b[38;5;124;43m'\u001b[39;49m\u001b[43m)\u001b[49m\n\u001b[1;32m      3\u001b[0m \u001b[38;5;28;43;01mdef\u001b[39;49;00m\u001b[43m \u001b[49m\u001b[38;5;21;43mfunc_int_identifier_loopQQK\u001b[39;49m\u001b[43m(\u001b[49m\u001b[43mZ\u001b[49m\u001b[43m,\u001b[49m\u001b[43m \u001b[49m\u001b[43mres\u001b[49m\u001b[43m)\u001b[49m\u001b[43m:\u001b[49m\n\u001b[1;32m      4\u001b[0m \u001b[43m    \u001b[49m\u001b[43mn\u001b[49m\u001b[43m,\u001b[49m\u001b[43m \u001b[49m\u001b[43mk\u001b[49m\u001b[43m \u001b[49m\u001b[38;5;241;43m=\u001b[39;49m\u001b[43m \u001b[49m\u001b[43mZ\u001b[49m\u001b[38;5;241;43m.\u001b[39;49m\u001b[43mshape\u001b[49m\n\u001b[1;32m      5\u001b[0m \u001b[43m    \u001b[49m\u001b[38;5;28;43;01mfor\u001b[39;49;00m\u001b[43m \u001b[49m\u001b[43mi\u001b[49m\u001b[43m \u001b[49m\u001b[38;5;129;43;01min\u001b[39;49;00m\u001b[43m \u001b[49m\u001b[43mnb\u001b[49m\u001b[38;5;241;43m.\u001b[39;49m\u001b[43mprange\u001b[49m\u001b[43m(\u001b[49m\u001b[43mk\u001b[49m\u001b[43m)\u001b[49m\u001b[43m:\u001b[49m\n",
      "File \u001b[0;32m~/.pyenv/versions/3.12.1/lib/python3.12/site-packages/numba/np/ufunc/decorators.py:203\u001b[0m, in \u001b[0;36mguvectorize.<locals>.wrap\u001b[0;34m(func)\u001b[0m\n\u001b[1;32m    201\u001b[0m guvec \u001b[38;5;241m=\u001b[39m GUVectorize(func, signature, \u001b[38;5;241m*\u001b[39m\u001b[38;5;241m*\u001b[39mkwargs)\n\u001b[1;32m    202\u001b[0m \u001b[38;5;28;01mfor\u001b[39;00m fty \u001b[38;5;129;01min\u001b[39;00m ftylist:\n\u001b[0;32m--> 203\u001b[0m     \u001b[43mguvec\u001b[49m\u001b[38;5;241;43m.\u001b[39;49m\u001b[43madd\u001b[49m\u001b[43m(\u001b[49m\u001b[43mfty\u001b[49m\u001b[43m)\u001b[49m\n\u001b[1;32m    204\u001b[0m \u001b[38;5;28;01mif\u001b[39;00m \u001b[38;5;28mlen\u001b[39m(ftylist) \u001b[38;5;241m>\u001b[39m \u001b[38;5;241m0\u001b[39m:\n\u001b[1;32m    205\u001b[0m     guvec\u001b[38;5;241m.\u001b[39mdisable_compile()\n",
      "File \u001b[0;32m~/.pyenv/versions/3.12.1/lib/python3.12/site-packages/numba/np/ufunc/gufunc.py:64\u001b[0m, in \u001b[0;36mGUFunc.add\u001b[0;34m(self, fty)\u001b[0m\n\u001b[1;32m     63\u001b[0m \u001b[38;5;28;01mdef\u001b[39;00m \u001b[38;5;21madd\u001b[39m(\u001b[38;5;28mself\u001b[39m, fty):\n\u001b[0;32m---> 64\u001b[0m     \u001b[38;5;28;43mself\u001b[39;49m\u001b[38;5;241;43m.\u001b[39;49m\u001b[43mgufunc_builder\u001b[49m\u001b[38;5;241;43m.\u001b[39;49m\u001b[43madd\u001b[49m\u001b[43m(\u001b[49m\u001b[43mfty\u001b[49m\u001b[43m)\u001b[49m\n",
      "File \u001b[0;32m~/.pyenv/versions/3.12.1/lib/python3.12/site-packages/numba/np/ufunc/ufuncbuilder.py:258\u001b[0m, in \u001b[0;36m_BaseUFuncBuilder.add\u001b[0;34m(self, sig)\u001b[0m\n\u001b[1;32m    256\u001b[0m \u001b[38;5;28;01melse\u001b[39;00m:\n\u001b[1;32m    257\u001b[0m     targetoptions \u001b[38;5;241m=\u001b[39m \u001b[38;5;28mself\u001b[39m\u001b[38;5;241m.\u001b[39mnb_func\u001b[38;5;241m.\u001b[39mtargetoptions\n\u001b[0;32m--> 258\u001b[0m cres, args, return_type \u001b[38;5;241m=\u001b[39m \u001b[43m_compile_element_wise_function\u001b[49m\u001b[43m(\u001b[49m\n\u001b[1;32m    259\u001b[0m \u001b[43m    \u001b[49m\u001b[38;5;28;43mself\u001b[39;49m\u001b[38;5;241;43m.\u001b[39;49m\u001b[43mnb_func\u001b[49m\u001b[43m,\u001b[49m\u001b[43m \u001b[49m\u001b[43mtargetoptions\u001b[49m\u001b[43m,\u001b[49m\u001b[43m \u001b[49m\u001b[43msig\u001b[49m\u001b[43m)\u001b[49m\n\u001b[1;32m    260\u001b[0m sig \u001b[38;5;241m=\u001b[39m \u001b[38;5;28mself\u001b[39m\u001b[38;5;241m.\u001b[39m_finalize_signature(cres, args, return_type)\n\u001b[1;32m    261\u001b[0m \u001b[38;5;28mself\u001b[39m\u001b[38;5;241m.\u001b[39m_sigs\u001b[38;5;241m.\u001b[39mappend(sig)\n",
      "File \u001b[0;32m~/.pyenv/versions/3.12.1/lib/python3.12/site-packages/numba/np/ufunc/ufuncbuilder.py:176\u001b[0m, in \u001b[0;36m_compile_element_wise_function\u001b[0;34m(nb_func, targetoptions, sig)\u001b[0m\n\u001b[1;32m    173\u001b[0m \u001b[38;5;28;01mdef\u001b[39;00m \u001b[38;5;21m_compile_element_wise_function\u001b[39m(nb_func, targetoptions, sig):\n\u001b[1;32m    174\u001b[0m     \u001b[38;5;66;03m# Do compilation\u001b[39;00m\n\u001b[1;32m    175\u001b[0m     \u001b[38;5;66;03m# Return CompileResult to test\u001b[39;00m\n\u001b[0;32m--> 176\u001b[0m     cres \u001b[38;5;241m=\u001b[39m \u001b[43mnb_func\u001b[49m\u001b[38;5;241;43m.\u001b[39;49m\u001b[43mcompile\u001b[49m\u001b[43m(\u001b[49m\u001b[43msig\u001b[49m\u001b[43m,\u001b[49m\u001b[43m \u001b[49m\u001b[38;5;241;43m*\u001b[39;49m\u001b[38;5;241;43m*\u001b[39;49m\u001b[43mtargetoptions\u001b[49m\u001b[43m)\u001b[49m\n\u001b[1;32m    177\u001b[0m     args, return_type \u001b[38;5;241m=\u001b[39m sigutils\u001b[38;5;241m.\u001b[39mnormalize_signature(sig)\n\u001b[1;32m    178\u001b[0m     \u001b[38;5;28;01mreturn\u001b[39;00m cres, args, return_type\n",
      "File \u001b[0;32m~/.pyenv/versions/3.12.1/lib/python3.12/site-packages/numba/np/ufunc/ufuncbuilder.py:124\u001b[0m, in \u001b[0;36mUFuncDispatcher.compile\u001b[0;34m(self, sig, locals, **targetoptions)\u001b[0m\n\u001b[1;32m    119\u001b[0m \u001b[38;5;66;03m# Disable loop lifting\u001b[39;00m\n\u001b[1;32m    120\u001b[0m \u001b[38;5;66;03m# The feature requires a real\u001b[39;00m\n\u001b[1;32m    121\u001b[0m \u001b[38;5;66;03m#  python function\u001b[39;00m\n\u001b[1;32m    122\u001b[0m flags\u001b[38;5;241m.\u001b[39menable_looplift \u001b[38;5;241m=\u001b[39m \u001b[38;5;28;01mFalse\u001b[39;00m\n\u001b[0;32m--> 124\u001b[0m \u001b[38;5;28;01mreturn\u001b[39;00m \u001b[38;5;28;43mself\u001b[39;49m\u001b[38;5;241;43m.\u001b[39;49m\u001b[43m_compile_core\u001b[49m\u001b[43m(\u001b[49m\u001b[43msig\u001b[49m\u001b[43m,\u001b[49m\u001b[43m \u001b[49m\u001b[43mflags\u001b[49m\u001b[43m,\u001b[49m\u001b[43m \u001b[49m\u001b[38;5;28;43mlocals\u001b[39;49m\u001b[43m)\u001b[49m\n",
      "File \u001b[0;32m~/.pyenv/versions/3.12.1/lib/python3.12/site-packages/numba/np/ufunc/ufuncbuilder.py:157\u001b[0m, in \u001b[0;36mUFuncDispatcher._compile_core\u001b[0;34m(self, sig, flags, locals)\u001b[0m\n\u001b[1;32m    155\u001b[0m \u001b[38;5;66;03m# Compile\u001b[39;00m\n\u001b[1;32m    156\u001b[0m args, return_type \u001b[38;5;241m=\u001b[39m sigutils\u001b[38;5;241m.\u001b[39mnormalize_signature(sig)\n\u001b[0;32m--> 157\u001b[0m cres \u001b[38;5;241m=\u001b[39m \u001b[43mcompiler\u001b[49m\u001b[38;5;241;43m.\u001b[39;49m\u001b[43mcompile_extra\u001b[49m\u001b[43m(\u001b[49m\u001b[43mtypingctx\u001b[49m\u001b[43m,\u001b[49m\u001b[43m \u001b[49m\u001b[43mtargetctx\u001b[49m\u001b[43m,\u001b[49m\n\u001b[1;32m    158\u001b[0m \u001b[43m                              \u001b[49m\u001b[38;5;28;43mself\u001b[39;49m\u001b[38;5;241;43m.\u001b[39;49m\u001b[43mpy_func\u001b[49m\u001b[43m,\u001b[49m\u001b[43m \u001b[49m\u001b[43margs\u001b[49m\u001b[38;5;241;43m=\u001b[39;49m\u001b[43margs\u001b[49m\u001b[43m,\u001b[49m\n\u001b[1;32m    159\u001b[0m \u001b[43m                              \u001b[49m\u001b[43mreturn_type\u001b[49m\u001b[38;5;241;43m=\u001b[39;49m\u001b[43mreturn_type\u001b[49m\u001b[43m,\u001b[49m\n\u001b[1;32m    160\u001b[0m \u001b[43m                              \u001b[49m\u001b[43mflags\u001b[49m\u001b[38;5;241;43m=\u001b[39;49m\u001b[43mflags\u001b[49m\u001b[43m,\u001b[49m\u001b[43m \u001b[49m\u001b[38;5;28;43mlocals\u001b[39;49m\u001b[38;5;241;43m=\u001b[39;49m\u001b[38;5;28;43mlocals\u001b[39;49m\u001b[43m)\u001b[49m\n\u001b[1;32m    162\u001b[0m \u001b[38;5;66;03m# cache lookup failed before so safe to save\u001b[39;00m\n\u001b[1;32m    163\u001b[0m \u001b[38;5;28mself\u001b[39m\u001b[38;5;241m.\u001b[39mcache\u001b[38;5;241m.\u001b[39msave_overload(sig, cres)\n",
      "File \u001b[0;32m~/.pyenv/versions/3.12.1/lib/python3.12/site-packages/numba/core/compiler.py:751\u001b[0m, in \u001b[0;36mcompile_extra\u001b[0;34m(typingctx, targetctx, func, args, return_type, flags, locals, library, pipeline_class)\u001b[0m\n\u001b[1;32m    727\u001b[0m \u001b[38;5;250m\u001b[39m\u001b[38;5;124;03m\"\"\"Compiler entry point\u001b[39;00m\n\u001b[1;32m    728\u001b[0m \n\u001b[1;32m    729\u001b[0m \u001b[38;5;124;03mParameter\u001b[39;00m\n\u001b[0;32m   (...)\u001b[0m\n\u001b[1;32m    747\u001b[0m \u001b[38;5;124;03m    compiler pipeline\u001b[39;00m\n\u001b[1;32m    748\u001b[0m \u001b[38;5;124;03m\"\"\"\u001b[39;00m\n\u001b[1;32m    749\u001b[0m pipeline \u001b[38;5;241m=\u001b[39m pipeline_class(typingctx, targetctx, library,\n\u001b[1;32m    750\u001b[0m                           args, return_type, flags, \u001b[38;5;28mlocals\u001b[39m)\n\u001b[0;32m--> 751\u001b[0m \u001b[38;5;28;01mreturn\u001b[39;00m \u001b[43mpipeline\u001b[49m\u001b[38;5;241;43m.\u001b[39;49m\u001b[43mcompile_extra\u001b[49m\u001b[43m(\u001b[49m\u001b[43mfunc\u001b[49m\u001b[43m)\u001b[49m\n",
      "File \u001b[0;32m~/.pyenv/versions/3.12.1/lib/python3.12/site-packages/numba/core/compiler.py:445\u001b[0m, in \u001b[0;36mCompilerBase.compile_extra\u001b[0;34m(self, func)\u001b[0m\n\u001b[1;32m    443\u001b[0m \u001b[38;5;28mself\u001b[39m\u001b[38;5;241m.\u001b[39mstate\u001b[38;5;241m.\u001b[39mlifted \u001b[38;5;241m=\u001b[39m ()\n\u001b[1;32m    444\u001b[0m \u001b[38;5;28mself\u001b[39m\u001b[38;5;241m.\u001b[39mstate\u001b[38;5;241m.\u001b[39mlifted_from \u001b[38;5;241m=\u001b[39m \u001b[38;5;28;01mNone\u001b[39;00m\n\u001b[0;32m--> 445\u001b[0m \u001b[38;5;28;01mreturn\u001b[39;00m \u001b[38;5;28;43mself\u001b[39;49m\u001b[38;5;241;43m.\u001b[39;49m\u001b[43m_compile_bytecode\u001b[49m\u001b[43m(\u001b[49m\u001b[43m)\u001b[49m\n",
      "File \u001b[0;32m~/.pyenv/versions/3.12.1/lib/python3.12/site-packages/numba/core/compiler.py:513\u001b[0m, in \u001b[0;36mCompilerBase._compile_bytecode\u001b[0;34m(self)\u001b[0m\n\u001b[1;32m    509\u001b[0m \u001b[38;5;250m\u001b[39m\u001b[38;5;124;03m\"\"\"\u001b[39;00m\n\u001b[1;32m    510\u001b[0m \u001b[38;5;124;03mPopulate and run pipeline for bytecode input\u001b[39;00m\n\u001b[1;32m    511\u001b[0m \u001b[38;5;124;03m\"\"\"\u001b[39;00m\n\u001b[1;32m    512\u001b[0m \u001b[38;5;28;01massert\u001b[39;00m \u001b[38;5;28mself\u001b[39m\u001b[38;5;241m.\u001b[39mstate\u001b[38;5;241m.\u001b[39mfunc_ir \u001b[38;5;129;01mis\u001b[39;00m \u001b[38;5;28;01mNone\u001b[39;00m\n\u001b[0;32m--> 513\u001b[0m \u001b[38;5;28;01mreturn\u001b[39;00m \u001b[38;5;28;43mself\u001b[39;49m\u001b[38;5;241;43m.\u001b[39;49m\u001b[43m_compile_core\u001b[49m\u001b[43m(\u001b[49m\u001b[43m)\u001b[49m\n",
      "File \u001b[0;32m~/.pyenv/versions/3.12.1/lib/python3.12/site-packages/numba/core/compiler.py:492\u001b[0m, in \u001b[0;36mCompilerBase._compile_core\u001b[0;34m(self)\u001b[0m\n\u001b[1;32m    490\u001b[0m         \u001b[38;5;28mself\u001b[39m\u001b[38;5;241m.\u001b[39mstate\u001b[38;5;241m.\u001b[39mstatus\u001b[38;5;241m.\u001b[39mfail_reason \u001b[38;5;241m=\u001b[39m e\n\u001b[1;32m    491\u001b[0m         \u001b[38;5;28;01mif\u001b[39;00m is_final_pipeline:\n\u001b[0;32m--> 492\u001b[0m             \u001b[38;5;28;01mraise\u001b[39;00m e\n\u001b[1;32m    493\u001b[0m \u001b[38;5;28;01melse\u001b[39;00m:\n\u001b[1;32m    494\u001b[0m     \u001b[38;5;28;01mraise\u001b[39;00m CompilerError(\u001b[38;5;124m\"\u001b[39m\u001b[38;5;124mAll available pipelines exhausted\u001b[39m\u001b[38;5;124m\"\u001b[39m)\n",
      "File \u001b[0;32m~/.pyenv/versions/3.12.1/lib/python3.12/site-packages/numba/core/compiler.py:479\u001b[0m, in \u001b[0;36mCompilerBase._compile_core\u001b[0;34m(self)\u001b[0m\n\u001b[1;32m    477\u001b[0m res \u001b[38;5;241m=\u001b[39m \u001b[38;5;28;01mNone\u001b[39;00m\n\u001b[1;32m    478\u001b[0m \u001b[38;5;28;01mtry\u001b[39;00m:\n\u001b[0;32m--> 479\u001b[0m     \u001b[43mpm\u001b[49m\u001b[38;5;241;43m.\u001b[39;49m\u001b[43mrun\u001b[49m\u001b[43m(\u001b[49m\u001b[38;5;28;43mself\u001b[39;49m\u001b[38;5;241;43m.\u001b[39;49m\u001b[43mstate\u001b[49m\u001b[43m)\u001b[49m\n\u001b[1;32m    480\u001b[0m     \u001b[38;5;28;01mif\u001b[39;00m \u001b[38;5;28mself\u001b[39m\u001b[38;5;241m.\u001b[39mstate\u001b[38;5;241m.\u001b[39mcr \u001b[38;5;129;01mis\u001b[39;00m \u001b[38;5;129;01mnot\u001b[39;00m \u001b[38;5;28;01mNone\u001b[39;00m:\n\u001b[1;32m    481\u001b[0m         \u001b[38;5;28;01mbreak\u001b[39;00m\n",
      "File \u001b[0;32m~/.pyenv/versions/3.12.1/lib/python3.12/site-packages/numba/core/compiler_machinery.py:368\u001b[0m, in \u001b[0;36mPassManager.run\u001b[0;34m(self, state)\u001b[0m\n\u001b[1;32m    365\u001b[0m msg \u001b[38;5;241m=\u001b[39m \u001b[38;5;124m\"\u001b[39m\u001b[38;5;124mFailed in \u001b[39m\u001b[38;5;132;01m%s\u001b[39;00m\u001b[38;5;124m mode pipeline (step: \u001b[39m\u001b[38;5;132;01m%s\u001b[39;00m\u001b[38;5;124m)\u001b[39m\u001b[38;5;124m\"\u001b[39m \u001b[38;5;241m%\u001b[39m \\\n\u001b[1;32m    366\u001b[0m     (\u001b[38;5;28mself\u001b[39m\u001b[38;5;241m.\u001b[39mpipeline_name, pass_desc)\n\u001b[1;32m    367\u001b[0m patched_exception \u001b[38;5;241m=\u001b[39m \u001b[38;5;28mself\u001b[39m\u001b[38;5;241m.\u001b[39m_patch_error(msg, e)\n\u001b[0;32m--> 368\u001b[0m \u001b[38;5;28;01mraise\u001b[39;00m patched_exception\n",
      "File \u001b[0;32m~/.pyenv/versions/3.12.1/lib/python3.12/site-packages/numba/core/compiler_machinery.py:356\u001b[0m, in \u001b[0;36mPassManager.run\u001b[0;34m(self, state)\u001b[0m\n\u001b[1;32m    354\u001b[0m pass_inst \u001b[38;5;241m=\u001b[39m _pass_registry\u001b[38;5;241m.\u001b[39mget(pss)\u001b[38;5;241m.\u001b[39mpass_inst\n\u001b[1;32m    355\u001b[0m \u001b[38;5;28;01mif\u001b[39;00m \u001b[38;5;28misinstance\u001b[39m(pass_inst, CompilerPass):\n\u001b[0;32m--> 356\u001b[0m     \u001b[38;5;28;43mself\u001b[39;49m\u001b[38;5;241;43m.\u001b[39;49m\u001b[43m_runPass\u001b[49m\u001b[43m(\u001b[49m\u001b[43midx\u001b[49m\u001b[43m,\u001b[49m\u001b[43m \u001b[49m\u001b[43mpass_inst\u001b[49m\u001b[43m,\u001b[49m\u001b[43m \u001b[49m\u001b[43mstate\u001b[49m\u001b[43m)\u001b[49m\n\u001b[1;32m    357\u001b[0m \u001b[38;5;28;01melse\u001b[39;00m:\n\u001b[1;32m    358\u001b[0m     \u001b[38;5;28;01mraise\u001b[39;00m \u001b[38;5;167;01mBaseException\u001b[39;00m(\u001b[38;5;124m\"\u001b[39m\u001b[38;5;124mLegacy pass in use\u001b[39m\u001b[38;5;124m\"\u001b[39m)\n",
      "File \u001b[0;32m~/.pyenv/versions/3.12.1/lib/python3.12/site-packages/numba/core/compiler_lock.py:35\u001b[0m, in \u001b[0;36m_CompilerLock.__call__.<locals>._acquire_compile_lock\u001b[0;34m(*args, **kwargs)\u001b[0m\n\u001b[1;32m     32\u001b[0m \u001b[38;5;129m@functools\u001b[39m\u001b[38;5;241m.\u001b[39mwraps(func)\n\u001b[1;32m     33\u001b[0m \u001b[38;5;28;01mdef\u001b[39;00m \u001b[38;5;21m_acquire_compile_lock\u001b[39m(\u001b[38;5;241m*\u001b[39margs, \u001b[38;5;241m*\u001b[39m\u001b[38;5;241m*\u001b[39mkwargs):\n\u001b[1;32m     34\u001b[0m     \u001b[38;5;28;01mwith\u001b[39;00m \u001b[38;5;28mself\u001b[39m:\n\u001b[0;32m---> 35\u001b[0m         \u001b[38;5;28;01mreturn\u001b[39;00m \u001b[43mfunc\u001b[49m\u001b[43m(\u001b[49m\u001b[38;5;241;43m*\u001b[39;49m\u001b[43margs\u001b[49m\u001b[43m,\u001b[49m\u001b[43m \u001b[49m\u001b[38;5;241;43m*\u001b[39;49m\u001b[38;5;241;43m*\u001b[39;49m\u001b[43mkwargs\u001b[49m\u001b[43m)\u001b[49m\n",
      "File \u001b[0;32m~/.pyenv/versions/3.12.1/lib/python3.12/site-packages/numba/core/compiler_machinery.py:311\u001b[0m, in \u001b[0;36mPassManager._runPass\u001b[0;34m(self, index, pss, internal_state)\u001b[0m\n\u001b[1;32m    309\u001b[0m     mutated \u001b[38;5;241m|\u001b[39m\u001b[38;5;241m=\u001b[39m check(pss\u001b[38;5;241m.\u001b[39mrun_initialization, internal_state)\n\u001b[1;32m    310\u001b[0m \u001b[38;5;28;01mwith\u001b[39;00m SimpleTimer() \u001b[38;5;28;01mas\u001b[39;00m pass_time:\n\u001b[0;32m--> 311\u001b[0m     mutated \u001b[38;5;241m|\u001b[39m\u001b[38;5;241m=\u001b[39m \u001b[43mcheck\u001b[49m\u001b[43m(\u001b[49m\u001b[43mpss\u001b[49m\u001b[38;5;241;43m.\u001b[39;49m\u001b[43mrun_pass\u001b[49m\u001b[43m,\u001b[49m\u001b[43m \u001b[49m\u001b[43minternal_state\u001b[49m\u001b[43m)\u001b[49m\n\u001b[1;32m    312\u001b[0m \u001b[38;5;28;01mwith\u001b[39;00m SimpleTimer() \u001b[38;5;28;01mas\u001b[39;00m finalize_time:\n\u001b[1;32m    313\u001b[0m     mutated \u001b[38;5;241m|\u001b[39m\u001b[38;5;241m=\u001b[39m check(pss\u001b[38;5;241m.\u001b[39mrun_finalizer, internal_state)\n",
      "File \u001b[0;32m~/.pyenv/versions/3.12.1/lib/python3.12/site-packages/numba/core/compiler_machinery.py:273\u001b[0m, in \u001b[0;36mPassManager._runPass.<locals>.check\u001b[0;34m(func, compiler_state)\u001b[0m\n\u001b[1;32m    272\u001b[0m \u001b[38;5;28;01mdef\u001b[39;00m \u001b[38;5;21mcheck\u001b[39m(func, compiler_state):\n\u001b[0;32m--> 273\u001b[0m     mangled \u001b[38;5;241m=\u001b[39m \u001b[43mfunc\u001b[49m\u001b[43m(\u001b[49m\u001b[43mcompiler_state\u001b[49m\u001b[43m)\u001b[49m\n\u001b[1;32m    274\u001b[0m     \u001b[38;5;28;01mif\u001b[39;00m mangled \u001b[38;5;129;01mnot\u001b[39;00m \u001b[38;5;129;01min\u001b[39;00m (\u001b[38;5;28;01mTrue\u001b[39;00m, \u001b[38;5;28;01mFalse\u001b[39;00m):\n\u001b[1;32m    275\u001b[0m         msg \u001b[38;5;241m=\u001b[39m (\u001b[38;5;124m\"\u001b[39m\u001b[38;5;124mCompilerPass implementations should return True/False. \u001b[39m\u001b[38;5;124m\"\u001b[39m\n\u001b[1;32m    276\u001b[0m                \u001b[38;5;124m\"\u001b[39m\u001b[38;5;124mCompilerPass with name \u001b[39m\u001b[38;5;124m'\u001b[39m\u001b[38;5;132;01m%s\u001b[39;00m\u001b[38;5;124m'\u001b[39m\u001b[38;5;124m did not.\u001b[39m\u001b[38;5;124m\"\u001b[39m)\n",
      "File \u001b[0;32m~/.pyenv/versions/3.12.1/lib/python3.12/site-packages/numba/core/typed_passes.py:112\u001b[0m, in \u001b[0;36mBaseTypeInference.run_pass\u001b[0;34m(self, state)\u001b[0m\n\u001b[1;32m    106\u001b[0m \u001b[38;5;250m\u001b[39m\u001b[38;5;124;03m\"\"\"\u001b[39;00m\n\u001b[1;32m    107\u001b[0m \u001b[38;5;124;03mType inference and legalization\u001b[39;00m\n\u001b[1;32m    108\u001b[0m \u001b[38;5;124;03m\"\"\"\u001b[39;00m\n\u001b[1;32m    109\u001b[0m \u001b[38;5;28;01mwith\u001b[39;00m fallback_context(state, \u001b[38;5;124m'\u001b[39m\u001b[38;5;124mFunction \u001b[39m\u001b[38;5;124m\"\u001b[39m\u001b[38;5;132;01m%s\u001b[39;00m\u001b[38;5;124m\"\u001b[39m\u001b[38;5;124m failed type inference\u001b[39m\u001b[38;5;124m'\u001b[39m\n\u001b[1;32m    110\u001b[0m                       \u001b[38;5;241m%\u001b[39m (state\u001b[38;5;241m.\u001b[39mfunc_id\u001b[38;5;241m.\u001b[39mfunc_name,)):\n\u001b[1;32m    111\u001b[0m     \u001b[38;5;66;03m# Type inference\u001b[39;00m\n\u001b[0;32m--> 112\u001b[0m     typemap, return_type, calltypes, errs \u001b[38;5;241m=\u001b[39m \u001b[43mtype_inference_stage\u001b[49m\u001b[43m(\u001b[49m\n\u001b[1;32m    113\u001b[0m \u001b[43m        \u001b[49m\u001b[43mstate\u001b[49m\u001b[38;5;241;43m.\u001b[39;49m\u001b[43mtypingctx\u001b[49m\u001b[43m,\u001b[49m\n\u001b[1;32m    114\u001b[0m \u001b[43m        \u001b[49m\u001b[43mstate\u001b[49m\u001b[38;5;241;43m.\u001b[39;49m\u001b[43mtargetctx\u001b[49m\u001b[43m,\u001b[49m\n\u001b[1;32m    115\u001b[0m \u001b[43m        \u001b[49m\u001b[43mstate\u001b[49m\u001b[38;5;241;43m.\u001b[39;49m\u001b[43mfunc_ir\u001b[49m\u001b[43m,\u001b[49m\n\u001b[1;32m    116\u001b[0m \u001b[43m        \u001b[49m\u001b[43mstate\u001b[49m\u001b[38;5;241;43m.\u001b[39;49m\u001b[43margs\u001b[49m\u001b[43m,\u001b[49m\n\u001b[1;32m    117\u001b[0m \u001b[43m        \u001b[49m\u001b[43mstate\u001b[49m\u001b[38;5;241;43m.\u001b[39;49m\u001b[43mreturn_type\u001b[49m\u001b[43m,\u001b[49m\n\u001b[1;32m    118\u001b[0m \u001b[43m        \u001b[49m\u001b[43mstate\u001b[49m\u001b[38;5;241;43m.\u001b[39;49m\u001b[43mlocals\u001b[49m\u001b[43m,\u001b[49m\n\u001b[1;32m    119\u001b[0m \u001b[43m        \u001b[49m\u001b[43mraise_errors\u001b[49m\u001b[38;5;241;43m=\u001b[39;49m\u001b[38;5;28;43mself\u001b[39;49m\u001b[38;5;241;43m.\u001b[39;49m\u001b[43m_raise_errors\u001b[49m\u001b[43m)\u001b[49m\n\u001b[1;32m    120\u001b[0m     state\u001b[38;5;241m.\u001b[39mtypemap \u001b[38;5;241m=\u001b[39m typemap\n\u001b[1;32m    121\u001b[0m     \u001b[38;5;66;03m# save errors in case of partial typing\u001b[39;00m\n",
      "File \u001b[0;32m~/.pyenv/versions/3.12.1/lib/python3.12/site-packages/numba/core/typed_passes.py:93\u001b[0m, in \u001b[0;36mtype_inference_stage\u001b[0;34m(typingctx, targetctx, interp, args, return_type, locals, raise_errors)\u001b[0m\n\u001b[1;32m     91\u001b[0m     infer\u001b[38;5;241m.\u001b[39mbuild_constraint()\n\u001b[1;32m     92\u001b[0m     \u001b[38;5;66;03m# return errors in case of partial typing\u001b[39;00m\n\u001b[0;32m---> 93\u001b[0m     errs \u001b[38;5;241m=\u001b[39m \u001b[43minfer\u001b[49m\u001b[38;5;241;43m.\u001b[39;49m\u001b[43mpropagate\u001b[49m\u001b[43m(\u001b[49m\u001b[43mraise_errors\u001b[49m\u001b[38;5;241;43m=\u001b[39;49m\u001b[43mraise_errors\u001b[49m\u001b[43m)\u001b[49m\n\u001b[1;32m     94\u001b[0m     typemap, restype, calltypes \u001b[38;5;241m=\u001b[39m infer\u001b[38;5;241m.\u001b[39munify(raise_errors\u001b[38;5;241m=\u001b[39mraise_errors)\n\u001b[1;32m     96\u001b[0m \u001b[38;5;28;01mreturn\u001b[39;00m _TypingResults(typemap, restype, calltypes, errs)\n",
      "File \u001b[0;32m~/.pyenv/versions/3.12.1/lib/python3.12/site-packages/numba/core/typeinfer.py:1091\u001b[0m, in \u001b[0;36mTypeInferer.propagate\u001b[0;34m(self, raise_errors)\u001b[0m\n\u001b[1;32m   1088\u001b[0m force_lit_args \u001b[38;5;241m=\u001b[39m [e \u001b[38;5;28;01mfor\u001b[39;00m e \u001b[38;5;129;01min\u001b[39;00m errors\n\u001b[1;32m   1089\u001b[0m                   \u001b[38;5;28;01mif\u001b[39;00m \u001b[38;5;28misinstance\u001b[39m(e, ForceLiteralArg)]\n\u001b[1;32m   1090\u001b[0m \u001b[38;5;28;01mif\u001b[39;00m \u001b[38;5;129;01mnot\u001b[39;00m force_lit_args:\n\u001b[0;32m-> 1091\u001b[0m     \u001b[38;5;28;01mraise\u001b[39;00m errors[\u001b[38;5;241m0\u001b[39m]\n\u001b[1;32m   1092\u001b[0m \u001b[38;5;28;01melse\u001b[39;00m:\n\u001b[1;32m   1093\u001b[0m     \u001b[38;5;28;01mraise\u001b[39;00m reduce(operator\u001b[38;5;241m.\u001b[39mor_, force_lit_args)\n",
      "\u001b[0;31mTypingError\u001b[0m: Failed in nopython mode pipeline (step: nopython frontend)\nNo implementation of function Function(<function sum at 0x7f358812ade0>) found for signature:\n \n >>> sum(float32)\n \nThere are 2 candidate implementations:\n      - Of which 2 did not match due to:\n      Overload of function 'sum': File: numba/core/typing/npydecl.py: Line 373.\n        With argument(s): '(float32)':\n       No match.\n\nDuring: resolving callee type: Function(<function sum at 0x7f358812ade0>)\nDuring: typing of call at /tmp/ipykernel_6532/4278288295.py (3)\n\n\nFile \"../../../../../tmp/ipykernel_6532/4278288295.py\", line 3:\n<source missing, REPL/exec in use?>\n"
     ]
    }
   ],
   "source": [
    "\n",
    "# @nb.guvectorize((nb.float32[:,:], nb.float32[:,:]))\n",
    "@nb.guvectorize([(nb.float32[:,:], nb.float32[:,:])], '(n,k)->(n)')\n",
    "def func_int_identifier_loopQQK(Z, res):\n",
    "    n, k = Z.shape\n",
    "    for j in nb.prange(n):\n",
    "        res[i, 0] = temporarysum(Z[i, j])\n",
    "    # return res[:n, 0]\n",
    "\n",
    "arr = np.random.randn(10_00_000,5)\n",
    "resF = np.zeros(tuple(s * 2 for s in arr.shape)).astype(np.float32).copy(order='F')\n",
    "resC = resF.copy(order='F')\n",
    "x = arr.astype(np.float32).copy(order='F')\n",
    "print('numba giving an output array C-contiguous', end=' ')\n",
    "\n",
    "func_int_identifier_loopQQK(x, resC[:,0])"
   ]
  },
  {
   "cell_type": "code",
   "execution_count": 123,
   "id": "b1edf9b2-9935-49ed-b3c1-9dff04b2e8a5",
   "metadata": {},
   "outputs": [
    {
     "name": "stdout",
     "output_type": "stream",
     "text": [
      "84.6 ms ± 2.01 ms per loop (mean ± std. dev. of 7 runs, 10 loops each)\n"
     ]
    }
   ],
   "source": [
    "\n",
    "\n",
    "x_c=arr.astype(np.float32).copy(order='C')\n",
    "x_f=arr.astype(np.float32).copy(order='F')\n",
    "\n",
    "df = pd.DataFrame(x_c)\n",
    "df2= pd.DataFrame(x_f)\n",
    "\n",
    "\n",
    "# print('division of DataFrame creates over :')\n",
    "\n",
    "# %timeit df+df2\n",
    "# %timeit df.to_numpy()+df.to_numpy()\n",
    "# %timeit df.to_numpy().copy(order='C')+df2.to_numpy().copy(order='C')\n",
    "# %timeit df2.to_numpy()+df2.to_numpy()\n",
    "# %timeit df.to_numpy().copy(order='F')+df2.to_numpy().copy(order='F')\n",
    "# %timeit x_c+x_f\n",
    "# %timeit x_c+x_c\n",
    "# %timeit x_f+x_f\n",
    "\n",
    "\n",
    "    "
   ]
  },
  {
   "cell_type": "code",
   "execution_count": 144,
   "id": "a4e3edc5-78f4-470f-8506-8ebef678f27b",
   "metadata": {},
   "outputs": [
    {
     "name": "stdout",
     "output_type": "stream",
     "text": [
      "division of DataFrame creates over arrays with same contiguity 16.3 ms ± 132 µs per loop (mean ± std. dev. of 7 runs, 100 loops each)\n",
      "division of DataFrame creates over same arrays copies with different contiguity 26.3 ms ± 473 µs per loop (mean ± std. dev. of 7 runs, 10 loops each)\n",
      "division underlying numpy of DataFrame creates with same C-contiguity 16.1 ms ± 149 µs per loop (mean ± std. dev. of 7 runs, 100 loops each)\n",
      "division underlying numpy of DataFrame creates with different contiguity 149 ms ± 13.2 ms per loop (mean ± std. dev. of 7 runs, 10 loops each)\n",
      "division underlying numpy of DataFrame creates with different contiguity copied in C order 72 ms ± 652 µs per loop (mean ± std. dev. of 7 runs, 10 loops each)\n",
      "division underlying numpy of DataFrame creates with same F-contiguity 14.2 ms ± 136 µs per loop (mean ± std. dev. of 7 runs, 100 loops each)\n",
      "division underlying numpy of DataFrame creates with different contiguity copied in F order 49.4 ms ± 409 µs per loop (mean ± std. dev. of 7 runs, 10 loops each)\n",
      "division of numpy array with himself 13.7 ms ± 48.2 µs per loop (mean ± std. dev. of 7 runs, 100 loops each)\n",
      "division of raw numpy arrays with different contiguity 145 ms ± 5.45 ms per loop (mean ± std. dev. of 7 runs, 10 loops each)\n",
      "division of raw numpy arrays with same C-contiguity 16.1 ms ± 84.8 µs per loop (mean ± std. dev. of 7 runs, 100 loops each)\n",
      "division of raw numpy arrays with same F-contiguity 13.8 ms ± 45.1 µs per loop (mean ± std. dev. of 7 runs, 100 loops each)\n",
      "using numba mdivision over to numpy of same contiguity df\n",
      "39 ms ± 371 µs per loop (mean ± std. dev. of 7 runs, 10 loops each)\n",
      "using numba mdivision over to numpy of different contiguity df\n",
      "36.5 ms ± 1.28 ms per loop (mean ± std. dev. of 7 runs, 10 loops each)\n",
      "using numba mdivision same array\n",
      "34.9 ms ± 1.02 ms per loop (mean ± std. dev. of 7 runs, 10 loops each)\n",
      "using numba mdivision same contiguityt array\n",
      "38.8 ms ± 1.12 ms per loop (mean ± std. dev. of 7 runs, 10 loops each)\n",
      "using numba mdivision different contiguityt array\n",
      "37 ms ± 776 µs per loop (mean ± std. dev. of 7 runs, 10 loops each)\n"
     ]
    }
   ],
   "source": [
    "@nb.jit(nb.float32[::,:](nb.float32[:,:], nb.float32[:,:], nb.float32[:,:]), nopython=True, nogil=True, parallel = True,fastmath=True, looplift=True, target_backend='host', inline='always')\n",
    "def msum(A, B, res):\n",
    "    n, k = A.shape\n",
    "    for j in nb.prange(k):\n",
    "        for i in nb.prange(n):\n",
    "            res[i, j] = A[i, j] + B[i, j]\n",
    "    return res[:n, :k]\n",
    "\n",
    "\n",
    "arr = np.random.randn(10_000_000,3)\n",
    "\n",
    "resF = np.empty(tuple(s * 2 for s in arr.shape), dtype=np.float32)\n",
    "\n",
    "x_c=arr.astype(np.float32).copy(order='C')\n",
    "x_c1=arr.astype(np.float32).copy(order='C')\n",
    "x_f=arr.astype(np.float32).copy(order='F')\n",
    "x_f1=arr.astype(np.float32).copy(order='F')\n",
    "\n",
    "df = pd.DataFrame(x_c)\n",
    "df1b = pd.DataFrame(x_c1)\n",
    "df2= pd.DataFrame(x_f)\n",
    "\n",
    "print('division of DataFrame creates over arrays with same contiguity', end=' ')\n",
    "%timeit df+df1b\n",
    "print('division of DataFrame creates over same arrays copies with different contiguity', end=' ')\n",
    "%timeit df+df2\n",
    "print('division underlying numpy of DataFrame creates with same C-contiguity', end=' ')\n",
    "%timeit df.to_numpy()+df1b.to_numpy()\n",
    "print('division underlying numpy of DataFrame creates with different contiguity', end=' ')\n",
    "%timeit df.to_numpy()+df2.to_numpy()\n",
    "print('division underlying numpy of DataFrame creates with different contiguity copied in C order', end=' ')\n",
    "%timeit df.to_numpy().copy(order='C')+df2.to_numpy().copy(order='C')\n",
    "print('division underlying numpy of DataFrame creates with same F-contiguity', end=' ')\n",
    "%timeit df2.to_numpy()+df2.to_numpy()\n",
    "print('division underlying numpy of DataFrame creates with different contiguity copied in F order', end=' ')\n",
    "%timeit df.to_numpy().copy(order='F')+df2.to_numpy().copy(order='F')\n",
    "print('division of numpy array with himself', end=' ')\n",
    "%timeit x_c+x_c\n",
    "print('division of raw numpy arrays with different contiguity', end=' ')\n",
    "%timeit x_c+x_f\n",
    "print('division of raw numpy arrays with same C-contiguity', end=' ')\n",
    "%timeit x_c+x_c1\n",
    "print('division of raw numpy arrays with same F-contiguity', end=' ')\n",
    "%timeit x_f+x_f\n",
    "print('using numba mdivision over to numpy of same contiguity df')\n",
    "%timeit msum(df.to_numpy(), df1b.to_numpy(), resF)\n",
    "print('using numba mdivision over to numpy of different contiguity df')\n",
    "%timeit msum(df.to_numpy(), df2.to_numpy(), resF)\n",
    "print('using numba mdivision same array')\n",
    "%timeit msum(x_c, x_c, resF)\n",
    "print('using numba mdivision same contiguityt array')\n",
    "%timeit msum(x_c, x_c1, resF)\n",
    "print('using numba mdivision different contiguityt array')\n",
    "%timeit msum(x_c, x_f, resF)"
   ]
  },
  {
   "cell_type": "code",
   "execution_count": 141,
   "id": "8ba876b7-9717-4e71-9003-93b49d46c39d",
   "metadata": {},
   "outputs": [
    {
     "name": "stdout",
     "output_type": "stream",
     "text": [
      "division of DataFrame creates over arrays with same C-contiguity 28.6 ms ± 411 µs per loop (mean ± std. dev. of 7 runs, 10 loops each)\n",
      "division of DataFrame creates over arrays with same F-contiguity 26.8 ms ± 731 µs per loop (mean ± std. dev. of 7 runs, 10 loops each)\n",
      "division of DataFrame creates over same arrays copies with different contiguity 57.4 ms ± 703 µs per loop (mean ± std. dev. of 7 runs, 10 loops each)\n",
      "division underlying numpy of DataFrame creates with same C-contiguity 27 ms ± 177 µs per loop (mean ± std. dev. of 7 runs, 10 loops each)\n",
      "division underlying numpy of DataFrame creates with different contiguity 92.3 ms ± 289 µs per loop (mean ± std. dev. of 7 runs, 10 loops each)\n",
      "division underlying numpy of DataFrame creates with different contiguity copied in C order 97.7 ms ± 124 µs per loop (mean ± std. dev. of 7 runs, 10 loops each)\n",
      "division underlying numpy of DataFrame creates with same F-contiguity 25.4 ms ± 362 µs per loop (mean ± std. dev. of 7 runs, 10 loops each)\n",
      "division underlying numpy of DataFrame creates with different contiguity copied in F order 87.8 ms ± 326 µs per loop (mean ± std. dev. of 7 runs, 10 loops each)\n",
      "division of numpy array with himself 22.9 ms ± 103 µs per loop (mean ± std. dev. of 7 runs, 10 loops each)\n",
      "division of raw numpy arrays with different contiguity 89.2 ms ± 81.7 µs per loop (mean ± std. dev. of 7 runs, 10 loops each)\n",
      "division of raw numpy arrays with same C-contiguity 26.9 ms ± 70.2 µs per loop (mean ± std. dev. of 7 runs, 10 loops each)\n",
      "division of raw numpy arrays with same F-contiguity 21.9 ms ± 13.3 µs per loop (mean ± std. dev. of 7 runs, 10 loops each)\n",
      "using numba mdivision over to numpy of same contiguity df\n",
      "90.5 ms ± 7.49 ms per loop (mean ± std. dev. of 7 runs, 10 loops each)\n",
      "using numba mdivision over to numpy of different contiguity df\n",
      "81.9 ms ± 3.34 ms per loop (mean ± std. dev. of 7 runs, 10 loops each)\n",
      "using numba mdivision same array\n",
      "81.7 ms ± 4.92 ms per loop (mean ± std. dev. of 7 runs, 10 loops each)\n",
      "using numba mdivision same contiguityt array\n",
      "90.5 ms ± 6.28 ms per loop (mean ± std. dev. of 7 runs, 10 loops each)\n",
      "using numba mdivision different contiguityt array\n",
      "79.8 ms ± 3.48 ms per loop (mean ± std. dev. of 7 runs, 10 loops each)\n"
     ]
    }
   ],
   "source": [
    "@nb.jit(nb.float32[::,:](nb.float32[:,:], nb.float32[:,:], nb.float32[:,:]), nopython=True, nogil=True, parallel = True,fastmath=True, looplift=True, target_backend='host', inline='always')\n",
    "def msum(A, B, res):\n",
    "    n, k = A.shape\n",
    "    for j in nb.prange(k):\n",
    "        for i in nb.prange(n):\n",
    "            res[i, j] = A[i, j] / B[i, j]\n",
    "    return res[:n, :k]\n",
    "\n",
    "\n",
    "arr = np.random.randn(10_000_000,5)\n",
    "\n",
    "resF = np.empty(tuple(s * 2 for s in arr.shape), dtype=np.float32)\n",
    "\n",
    "x_c=arr.astype(np.float32).copy(order='C')\n",
    "x_c1=arr.astype(np.float32).copy(order='C')\n",
    "x_f=arr.astype(np.float32).copy(order='F')\n",
    "x_f1=arr.astype(np.float32).copy(order='F')\n",
    "\n",
    "df = pd.DataFrame(x_c)\n",
    "df1b = pd.DataFrame(x_c1)\n",
    "df2= pd.DataFrame(x_f)\n",
    "df2b= pd.DataFrame(x_f1)\n",
    "\n",
    "print('division of DataFrame creates over arrays with same C-contiguity', end=' ')\n",
    "%timeit df/df1b\n",
    "print('division of DataFrame creates over arrays with same F-contiguity', end=' ')\n",
    "%timeit df2/df2b\n",
    "print('division of DataFrame creates over same arrays copies with different contiguity', end=' ')\n",
    "%timeit df/df2\n",
    "print('division underlying numpy of DataFrame creates with same C-contiguity', end=' ')\n",
    "%timeit df.to_numpy()/df1b.to_numpy()\n",
    "print('division underlying numpy of DataFrame creates with different contiguity', end=' ')\n",
    "%timeit df.to_numpy()/df2.to_numpy()\n",
    "print('division underlying numpy of DataFrame creates with different contiguity copied in C order', end=' ')\n",
    "%timeit df.to_numpy().copy(order='C')/df2b.to_numpy().copy(order='C')\n",
    "print('division underlying numpy of DataFrame creates with same F-contiguity', end=' ')\n",
    "%timeit df2.to_numpy()/df2b.to_numpy()\n",
    "print('division underlying numpy of DataFrame creates with different contiguity copied in F order', end=' ')\n",
    "%timeit df.to_numpy().copy(order='F')/df2b.to_numpy().copy(order='F')\n",
    "print('division of numpy array with himself', end=' ')\n",
    "%timeit x_c/x_c\n",
    "print('division of raw numpy arrays with different contiguity', end=' ')\n",
    "%timeit x_c/x_f\n",
    "print('division of raw numpy arrays with same C-contiguity', end=' ')\n",
    "%timeit x_c/x_c1\n",
    "print('division of raw numpy arrays with same F-contiguity', end=' ')\n",
    "%timeit x_f/x_f\n",
    "print('using numba mdivision over to numpy of same contiguity df')\n",
    "%timeit msum(df.to_numpy(), df1b.to_numpy(), resF)\n",
    "print('using numba mdivision over to numpy of different contiguity df')\n",
    "%timeit msum(df.to_numpy(), df2.to_numpy(), resF)\n",
    "print('using numba mdivision same array')\n",
    "%timeit msum(x_c, x_c, resF)\n",
    "print('using numba mdivision same contiguityt array')\n",
    "%timeit msum(x_c, x_c1, resF)\n",
    "print('using numba mdivision different contiguityt array')\n",
    "%timeit msum(x_c, x_f, resF)"
   ]
  },
  {
   "cell_type": "code",
   "execution_count": 143,
   "id": "75d7074e-2545-4037-a229-27469162d989",
   "metadata": {},
   "outputs": [
    {
     "name": "stdout",
     "output_type": "stream",
     "text": [
      "38.1 ms ± 450 µs per loop (mean ± std. dev. of 7 runs, 10 loops each)\n",
      "9.18 ms ± 116 µs per loop (mean ± std. dev. of 7 runs, 100 loops each)\n"
     ]
    }
   ],
   "source": [
    "@nb.jit(nb.float32[::,:](nb.float32[:,:], nb.float32[:,:], nb.float32[:,:]), nopython=True, nogil=True, parallel = True,fastmath=True, looplift=True, target_backend='host', inline='always')\n",
    "def msum(A, B, res):\n",
    "    n, k = A.shape\n",
    "    for j in nb.prange(k):\n",
    "        for i in nb.prange(n):\n",
    "            res[i, j] = A[i, j] / B[i, j]\n",
    "    return res[:n, :k]\n",
    "\n",
    "\n",
    "arr = np.random.randn(10_000_000,5)\n",
    "\n",
    "resF = np.empty(tuple(s * 2 for s in arr.shape), dtype=np.float32)\n",
    "\n",
    "x_c=arr.astype(np.float32).copy(order='F')\n",
    "\n",
    "df = pd.DataFrame(x_c)\n",
    "\n",
    "%timeit df / df.shift()\n",
    "%timeit x_c[1:] / x_c[:-1]\n"
   ]
  },
  {
   "cell_type": "code",
   "execution_count": 140,
   "id": "fe2fc12d-ef85-4d74-a7bb-b0e01c372196",
   "metadata": {},
   "outputs": [
    {
     "data": {
      "text/plain": [
       "True"
      ]
     },
     "execution_count": 140,
     "metadata": {},
     "output_type": "execute_result"
    }
   ],
   "source": [
    "x_c.flags.c_contiguous"
   ]
  },
  {
   "cell_type": "code",
   "execution_count": 60,
   "id": "0e52cef7-801f-4001-a8ce-f772aba93bc1",
   "metadata": {},
   "outputs": [
    {
     "name": "stdout",
     "output_type": "stream",
     "text": [
      "\n",
      "k=7\n",
      "C-contiguous\n",
      "numpy\n",
      "141 ms ± 846 µs per loop (mean ± std. dev. of 7 runs, 10 loops each)\n",
      "numba\n"
     ]
    },
    {
     "ename": "TypeError",
     "evalue": "No matching definition for argument type(s) array(float64, 2d, C)",
     "output_type": "error",
     "traceback": [
      "\u001b[0;31m---------------------------------------------------------------------------\u001b[0m",
      "\u001b[0;31mTypeError\u001b[0m                                 Traceback (most recent call last)",
      "Cell \u001b[0;32mIn[60], line 23\u001b[0m\n\u001b[1;32m     21\u001b[0m get_ipython()\u001b[38;5;241m.\u001b[39mrun_line_magic(\u001b[38;5;124m'\u001b[39m\u001b[38;5;124mtimeit\u001b[39m\u001b[38;5;124m'\u001b[39m, \u001b[38;5;124m'\u001b[39m\u001b[38;5;124mnp.sum(x, axis=1)\u001b[39m\u001b[38;5;124m'\u001b[39m)\n\u001b[1;32m     22\u001b[0m \u001b[38;5;28mprint\u001b[39m(\u001b[38;5;124m'\u001b[39m\u001b[38;5;124mnumba\u001b[39m\u001b[38;5;124m'\u001b[39m)\n\u001b[0;32m---> 23\u001b[0m \u001b[43mget_ipython\u001b[49m\u001b[43m(\u001b[49m\u001b[43m)\u001b[49m\u001b[38;5;241;43m.\u001b[39;49m\u001b[43mrun_line_magic\u001b[49m\u001b[43m(\u001b[49m\u001b[38;5;124;43m'\u001b[39;49m\u001b[38;5;124;43mtimeit\u001b[39;49m\u001b[38;5;124;43m'\u001b[39;49m\u001b[43m,\u001b[49m\u001b[43m \u001b[49m\u001b[38;5;124;43m'\u001b[39;49m\u001b[38;5;124;43mfunc_int_identifier_loop(x)\u001b[39;49m\u001b[38;5;124;43m'\u001b[39;49m\u001b[43m)\u001b[49m\n\u001b[1;32m     25\u001b[0m \u001b[38;5;28mprint\u001b[39m()\n\u001b[1;32m     26\u001b[0m \u001b[38;5;28mprint\u001b[39m(\u001b[38;5;124m'\u001b[39m\u001b[38;5;124mF-contiguous\u001b[39m\u001b[38;5;124m'\u001b[39m)\n",
      "File \u001b[0;32m~/.pyenv/versions/3.12.1/lib/python3.12/site-packages/IPython/core/interactiveshell.py:2456\u001b[0m, in \u001b[0;36mInteractiveShell.run_line_magic\u001b[0;34m(self, magic_name, line, _stack_depth)\u001b[0m\n\u001b[1;32m   2454\u001b[0m     kwargs[\u001b[38;5;124m'\u001b[39m\u001b[38;5;124mlocal_ns\u001b[39m\u001b[38;5;124m'\u001b[39m] \u001b[38;5;241m=\u001b[39m \u001b[38;5;28mself\u001b[39m\u001b[38;5;241m.\u001b[39mget_local_scope(stack_depth)\n\u001b[1;32m   2455\u001b[0m \u001b[38;5;28;01mwith\u001b[39;00m \u001b[38;5;28mself\u001b[39m\u001b[38;5;241m.\u001b[39mbuiltin_trap:\n\u001b[0;32m-> 2456\u001b[0m     result \u001b[38;5;241m=\u001b[39m \u001b[43mfn\u001b[49m\u001b[43m(\u001b[49m\u001b[38;5;241;43m*\u001b[39;49m\u001b[43margs\u001b[49m\u001b[43m,\u001b[49m\u001b[43m \u001b[49m\u001b[38;5;241;43m*\u001b[39;49m\u001b[38;5;241;43m*\u001b[39;49m\u001b[43mkwargs\u001b[49m\u001b[43m)\u001b[49m\n\u001b[1;32m   2458\u001b[0m \u001b[38;5;66;03m# The code below prevents the output from being displayed\u001b[39;00m\n\u001b[1;32m   2459\u001b[0m \u001b[38;5;66;03m# when using magics with decorator @output_can_be_silenced\u001b[39;00m\n\u001b[1;32m   2460\u001b[0m \u001b[38;5;66;03m# when the last Python token in the expression is a ';'.\u001b[39;00m\n\u001b[1;32m   2461\u001b[0m \u001b[38;5;28;01mif\u001b[39;00m \u001b[38;5;28mgetattr\u001b[39m(fn, magic\u001b[38;5;241m.\u001b[39mMAGIC_OUTPUT_CAN_BE_SILENCED, \u001b[38;5;28;01mFalse\u001b[39;00m):\n",
      "File \u001b[0;32m~/.pyenv/versions/3.12.1/lib/python3.12/site-packages/IPython/core/magics/execution.py:1185\u001b[0m, in \u001b[0;36mExecutionMagics.timeit\u001b[0;34m(self, line, cell, local_ns)\u001b[0m\n\u001b[1;32m   1183\u001b[0m \u001b[38;5;28;01mfor\u001b[39;00m index \u001b[38;5;129;01min\u001b[39;00m \u001b[38;5;28mrange\u001b[39m(\u001b[38;5;241m0\u001b[39m, \u001b[38;5;241m10\u001b[39m):\n\u001b[1;32m   1184\u001b[0m     number \u001b[38;5;241m=\u001b[39m \u001b[38;5;241m10\u001b[39m \u001b[38;5;241m*\u001b[39m\u001b[38;5;241m*\u001b[39m index\n\u001b[0;32m-> 1185\u001b[0m     time_number \u001b[38;5;241m=\u001b[39m \u001b[43mtimer\u001b[49m\u001b[38;5;241;43m.\u001b[39;49m\u001b[43mtimeit\u001b[49m\u001b[43m(\u001b[49m\u001b[43mnumber\u001b[49m\u001b[43m)\u001b[49m\n\u001b[1;32m   1186\u001b[0m     \u001b[38;5;28;01mif\u001b[39;00m time_number \u001b[38;5;241m>\u001b[39m\u001b[38;5;241m=\u001b[39m \u001b[38;5;241m0.2\u001b[39m:\n\u001b[1;32m   1187\u001b[0m         \u001b[38;5;28;01mbreak\u001b[39;00m\n",
      "File \u001b[0;32m~/.pyenv/versions/3.12.1/lib/python3.12/site-packages/IPython/core/magics/execution.py:173\u001b[0m, in \u001b[0;36mTimer.timeit\u001b[0;34m(self, number)\u001b[0m\n\u001b[1;32m    171\u001b[0m gc\u001b[38;5;241m.\u001b[39mdisable()\n\u001b[1;32m    172\u001b[0m \u001b[38;5;28;01mtry\u001b[39;00m:\n\u001b[0;32m--> 173\u001b[0m     timing \u001b[38;5;241m=\u001b[39m \u001b[38;5;28;43mself\u001b[39;49m\u001b[38;5;241;43m.\u001b[39;49m\u001b[43minner\u001b[49m\u001b[43m(\u001b[49m\u001b[43mit\u001b[49m\u001b[43m,\u001b[49m\u001b[43m \u001b[49m\u001b[38;5;28;43mself\u001b[39;49m\u001b[38;5;241;43m.\u001b[39;49m\u001b[43mtimer\u001b[49m\u001b[43m)\u001b[49m\n\u001b[1;32m    174\u001b[0m \u001b[38;5;28;01mfinally\u001b[39;00m:\n\u001b[1;32m    175\u001b[0m     \u001b[38;5;28;01mif\u001b[39;00m gcold:\n",
      "File \u001b[0;32m<magic-timeit>:1\u001b[0m, in \u001b[0;36minner\u001b[0;34m(_it, _timer)\u001b[0m\n",
      "File \u001b[0;32m~/.pyenv/versions/3.12.1/lib/python3.12/site-packages/numba/core/dispatcher.py:703\u001b[0m, in \u001b[0;36m_DispatcherBase._explain_matching_error\u001b[0;34m(self, *args, **kws)\u001b[0m\n\u001b[1;32m    700\u001b[0m args \u001b[38;5;241m=\u001b[39m [\u001b[38;5;28mself\u001b[39m\u001b[38;5;241m.\u001b[39mtypeof_pyval(a) \u001b[38;5;28;01mfor\u001b[39;00m a \u001b[38;5;129;01min\u001b[39;00m args]\n\u001b[1;32m    701\u001b[0m msg \u001b[38;5;241m=\u001b[39m (\u001b[38;5;124m\"\u001b[39m\u001b[38;5;124mNo matching definition for argument type(s) \u001b[39m\u001b[38;5;132;01m%s\u001b[39;00m\u001b[38;5;124m\"\u001b[39m\n\u001b[1;32m    702\u001b[0m        \u001b[38;5;241m%\u001b[39m \u001b[38;5;124m'\u001b[39m\u001b[38;5;124m, \u001b[39m\u001b[38;5;124m'\u001b[39m\u001b[38;5;241m.\u001b[39mjoin(\u001b[38;5;28mmap\u001b[39m(\u001b[38;5;28mstr\u001b[39m, args)))\n\u001b[0;32m--> 703\u001b[0m \u001b[38;5;28;01mraise\u001b[39;00m \u001b[38;5;167;01mTypeError\u001b[39;00m(msg)\n",
      "\u001b[0;31mTypeError\u001b[0m: No matching definition for argument type(s) array(float64, 2d, C)"
     ]
    }
   ],
   "source": [
    "\n",
    "\n",
    "for k in range(7,8):\n",
    "    arr = np.random.randn(int(10**k),3)\n",
    "\n",
    "    print()\n",
    "    print(f'k={k}')\n",
    "    print('C-contiguous')\n",
    "    x=arr.copy(order='C')\n",
    "    print('numpy')\n",
    "    %timeit np.sum(x, axis=1)\n",
    "    print('numba')\n",
    "    %timeit func_int_identifier_loop(x)\n",
    "\n",
    "    print()\n",
    "    print('F-contiguous')\n",
    "    x=arr.copy(order='F')\n",
    "    print('numpy')\n",
    "    %timeit np.sum(x, axis=1)\n",
    "    print('numba')\n",
    "    %timeit func_int_identifier_loop(x)\n",
    "\n",
    "    print()\n",
    "    print('C contigous with conversion')\n",
    "    x=arr.copy(order='C')\n",
    "    print('numpy')\n",
    "    %timeit np.sum(x.copy(order='F'), axis=1)\n",
    "    print('numba')\n",
    "    %timeit func_int_identifier_loop(x.copy(order='F'))\n",
    "\n",
    "    print()\n",
    "    print()\n",
    "    print()\n"
   ]
  },
  {
   "cell_type": "code",
   "execution_count": 33,
   "id": "60dac167-6e6d-4bf5-b339-3d856ccdcaef",
   "metadata": {},
   "outputs": [
    {
     "name": "stdout",
     "output_type": "stream",
     "text": [
      "24.2 µs ± 475 ns per loop (mean ± std. dev. of 7 runs, 10,000 loops each)\n",
      "24 µs ± 597 ns per loop (mean ± std. dev. of 7 runs, 10,000 loops each)\n",
      "29.1 µs ± 391 ns per loop (mean ± std. dev. of 7 runs, 10,000 loops each)\n",
      "\n",
      "24.2 µs ± 476 ns per loop (mean ± std. dev. of 7 runs, 10,000 loops each)\n",
      "28.9 µs ± 553 ns per loop (mean ± std. dev. of 7 runs, 10,000 loops each)\n",
      "\n",
      "\n",
      "89.2 µs ± 451 ns per loop (mean ± std. dev. of 7 runs, 10,000 loops each)\n",
      "89.5 µs ± 498 ns per loop (mean ± std. dev. of 7 runs, 10,000 loops each)\n"
     ]
    },
    {
     "ename": "KeyboardInterrupt",
     "evalue": "",
     "output_type": "error",
     "traceback": [
      "\u001b[0;31m---------------------------------------------------------------------------\u001b[0m",
      "\u001b[0;31mKeyboardInterrupt\u001b[0m                         Traceback (most recent call last)",
      "Cell \u001b[0;32mIn[33], line 9\u001b[0m\n\u001b[1;32m      7\u001b[0m get_ipython()\u001b[38;5;241m.\u001b[39mrun_line_magic(\u001b[38;5;124m'\u001b[39m\u001b[38;5;124mtimeit\u001b[39m\u001b[38;5;124m'\u001b[39m, \u001b[38;5;124m'\u001b[39m\u001b[38;5;124mfunc_int_identifier_loop(x)\u001b[39m\u001b[38;5;124m'\u001b[39m)\n\u001b[1;32m      8\u001b[0m x\u001b[38;5;241m=\u001b[39marr\u001b[38;5;241m.\u001b[39mcopy(order\u001b[38;5;241m=\u001b[39m\u001b[38;5;124m'\u001b[39m\u001b[38;5;124mF\u001b[39m\u001b[38;5;124m'\u001b[39m)\n\u001b[0;32m----> 9\u001b[0m \u001b[43mget_ipython\u001b[49m\u001b[43m(\u001b[49m\u001b[43m)\u001b[49m\u001b[38;5;241;43m.\u001b[39;49m\u001b[43mrun_line_magic\u001b[49m\u001b[43m(\u001b[49m\u001b[38;5;124;43m'\u001b[39;49m\u001b[38;5;124;43mtimeit\u001b[39;49m\u001b[38;5;124;43m'\u001b[39;49m\u001b[43m,\u001b[49m\u001b[43m \u001b[49m\u001b[38;5;124;43m\"\u001b[39;49m\u001b[38;5;124;43mfunc_int_identifier_loop(x.copy(order=\u001b[39;49m\u001b[38;5;124;43m'\u001b[39;49m\u001b[38;5;124;43mC\u001b[39;49m\u001b[38;5;124;43m'\u001b[39;49m\u001b[38;5;124;43m))\u001b[39;49m\u001b[38;5;124;43m\"\u001b[39;49m\u001b[43m)\u001b[49m\n\u001b[1;32m     11\u001b[0m \u001b[38;5;28mprint\u001b[39m()\n\u001b[1;32m     13\u001b[0m x\u001b[38;5;241m=\u001b[39marr\u001b[38;5;241m.\u001b[39mcopy(order\u001b[38;5;241m=\u001b[39m\u001b[38;5;124m'\u001b[39m\u001b[38;5;124mF\u001b[39m\u001b[38;5;124m'\u001b[39m)\n",
      "File \u001b[0;32m~/.pyenv/versions/3.12.1/lib/python3.12/site-packages/IPython/core/interactiveshell.py:2456\u001b[0m, in \u001b[0;36mInteractiveShell.run_line_magic\u001b[0;34m(self, magic_name, line, _stack_depth)\u001b[0m\n\u001b[1;32m   2454\u001b[0m     kwargs[\u001b[38;5;124m'\u001b[39m\u001b[38;5;124mlocal_ns\u001b[39m\u001b[38;5;124m'\u001b[39m] \u001b[38;5;241m=\u001b[39m \u001b[38;5;28mself\u001b[39m\u001b[38;5;241m.\u001b[39mget_local_scope(stack_depth)\n\u001b[1;32m   2455\u001b[0m \u001b[38;5;28;01mwith\u001b[39;00m \u001b[38;5;28mself\u001b[39m\u001b[38;5;241m.\u001b[39mbuiltin_trap:\n\u001b[0;32m-> 2456\u001b[0m     result \u001b[38;5;241m=\u001b[39m \u001b[43mfn\u001b[49m\u001b[43m(\u001b[49m\u001b[38;5;241;43m*\u001b[39;49m\u001b[43margs\u001b[49m\u001b[43m,\u001b[49m\u001b[43m \u001b[49m\u001b[38;5;241;43m*\u001b[39;49m\u001b[38;5;241;43m*\u001b[39;49m\u001b[43mkwargs\u001b[49m\u001b[43m)\u001b[49m\n\u001b[1;32m   2458\u001b[0m \u001b[38;5;66;03m# The code below prevents the output from being displayed\u001b[39;00m\n\u001b[1;32m   2459\u001b[0m \u001b[38;5;66;03m# when using magics with decorator @output_can_be_silenced\u001b[39;00m\n\u001b[1;32m   2460\u001b[0m \u001b[38;5;66;03m# when the last Python token in the expression is a ';'.\u001b[39;00m\n\u001b[1;32m   2461\u001b[0m \u001b[38;5;28;01mif\u001b[39;00m \u001b[38;5;28mgetattr\u001b[39m(fn, magic\u001b[38;5;241m.\u001b[39mMAGIC_OUTPUT_CAN_BE_SILENCED, \u001b[38;5;28;01mFalse\u001b[39;00m):\n",
      "File \u001b[0;32m~/.pyenv/versions/3.12.1/lib/python3.12/site-packages/IPython/core/magics/execution.py:1189\u001b[0m, in \u001b[0;36mExecutionMagics.timeit\u001b[0;34m(self, line, cell, local_ns)\u001b[0m\n\u001b[1;32m   1186\u001b[0m         \u001b[38;5;28;01mif\u001b[39;00m time_number \u001b[38;5;241m>\u001b[39m\u001b[38;5;241m=\u001b[39m \u001b[38;5;241m0.2\u001b[39m:\n\u001b[1;32m   1187\u001b[0m             \u001b[38;5;28;01mbreak\u001b[39;00m\n\u001b[0;32m-> 1189\u001b[0m all_runs \u001b[38;5;241m=\u001b[39m \u001b[43mtimer\u001b[49m\u001b[38;5;241;43m.\u001b[39;49m\u001b[43mrepeat\u001b[49m\u001b[43m(\u001b[49m\u001b[43mrepeat\u001b[49m\u001b[43m,\u001b[49m\u001b[43m \u001b[49m\u001b[43mnumber\u001b[49m\u001b[43m)\u001b[49m\n\u001b[1;32m   1190\u001b[0m best \u001b[38;5;241m=\u001b[39m \u001b[38;5;28mmin\u001b[39m(all_runs) \u001b[38;5;241m/\u001b[39m number\n\u001b[1;32m   1191\u001b[0m worst \u001b[38;5;241m=\u001b[39m \u001b[38;5;28mmax\u001b[39m(all_runs) \u001b[38;5;241m/\u001b[39m number\n",
      "File \u001b[0;32m~/.pyenv/versions/3.12.1/lib/python3.12/timeit.py:208\u001b[0m, in \u001b[0;36mTimer.repeat\u001b[0;34m(self, repeat, number)\u001b[0m\n\u001b[1;32m    206\u001b[0m r \u001b[38;5;241m=\u001b[39m []\n\u001b[1;32m    207\u001b[0m \u001b[38;5;28;01mfor\u001b[39;00m i \u001b[38;5;129;01min\u001b[39;00m \u001b[38;5;28mrange\u001b[39m(repeat):\n\u001b[0;32m--> 208\u001b[0m     t \u001b[38;5;241m=\u001b[39m \u001b[38;5;28;43mself\u001b[39;49m\u001b[38;5;241;43m.\u001b[39;49m\u001b[43mtimeit\u001b[49m\u001b[43m(\u001b[49m\u001b[43mnumber\u001b[49m\u001b[43m)\u001b[49m\n\u001b[1;32m    209\u001b[0m     r\u001b[38;5;241m.\u001b[39mappend(t)\n\u001b[1;32m    210\u001b[0m \u001b[38;5;28;01mreturn\u001b[39;00m r\n",
      "File \u001b[0;32m~/.pyenv/versions/3.12.1/lib/python3.12/site-packages/IPython/core/magics/execution.py:173\u001b[0m, in \u001b[0;36mTimer.timeit\u001b[0;34m(self, number)\u001b[0m\n\u001b[1;32m    171\u001b[0m gc\u001b[38;5;241m.\u001b[39mdisable()\n\u001b[1;32m    172\u001b[0m \u001b[38;5;28;01mtry\u001b[39;00m:\n\u001b[0;32m--> 173\u001b[0m     timing \u001b[38;5;241m=\u001b[39m \u001b[38;5;28;43mself\u001b[39;49m\u001b[38;5;241;43m.\u001b[39;49m\u001b[43minner\u001b[49m\u001b[43m(\u001b[49m\u001b[43mit\u001b[49m\u001b[43m,\u001b[49m\u001b[43m \u001b[49m\u001b[38;5;28;43mself\u001b[39;49m\u001b[38;5;241;43m.\u001b[39;49m\u001b[43mtimer\u001b[49m\u001b[43m)\u001b[49m\n\u001b[1;32m    174\u001b[0m \u001b[38;5;28;01mfinally\u001b[39;00m:\n\u001b[1;32m    175\u001b[0m     \u001b[38;5;28;01mif\u001b[39;00m gcold:\n",
      "File \u001b[0;32m<magic-timeit>:1\u001b[0m, in \u001b[0;36minner\u001b[0;34m(_it, _timer)\u001b[0m\n",
      "File \u001b[0;32m~/.pyenv/versions/3.12.1/lib/python3.12/site-packages/numba/core/serialize.py:30\u001b[0m, in \u001b[0;36m_numba_unpickle\u001b[0;34m(address, bytedata, hashed)\u001b[0m\n\u001b[1;32m     26\u001b[0m \u001b[38;5;66;03m# Keep unpickled object via `numba_unpickle` alive.\u001b[39;00m\n\u001b[1;32m     27\u001b[0m _unpickled_memo \u001b[38;5;241m=\u001b[39m {}\n\u001b[0;32m---> 30\u001b[0m \u001b[38;5;28;01mdef\u001b[39;00m \u001b[38;5;21m_numba_unpickle\u001b[39m(address, bytedata, hashed):\n\u001b[1;32m     31\u001b[0m \u001b[38;5;250m    \u001b[39m\u001b[38;5;124;03m\"\"\"Used by `numba_unpickle` from _helperlib.c\u001b[39;00m\n\u001b[1;32m     32\u001b[0m \n\u001b[1;32m     33\u001b[0m \u001b[38;5;124;03m    Parameters\u001b[39;00m\n\u001b[0;32m   (...)\u001b[0m\n\u001b[1;32m     42\u001b[0m \u001b[38;5;124;03m        unpickled object\u001b[39;00m\n\u001b[1;32m     43\u001b[0m \u001b[38;5;124;03m    \"\"\"\u001b[39;00m\n\u001b[1;32m     44\u001b[0m     key \u001b[38;5;241m=\u001b[39m (address, hashed)\n",
      "\u001b[0;31mKeyboardInterrupt\u001b[0m: "
     ]
    }
   ],
   "source": [
    "for k in range(3, 10):\n",
    "    arr = np.random.randn(int(10**k),3)\n",
    "    \n",
    "    x=arr.copy(order='C')\n",
    "    %timeit func_int_identifier_loop(x)\n",
    "    x=arr.copy(order='F')\n",
    "    %timeit func_int_identifier_loop(x)\n",
    "    # x=arr.copy(order='F')\n",
    "    # %timeit func_int_identifier_loop(x.copy(order='C'))\n",
    "\n",
    "    # print()\n",
    "    \n",
    "    # x=arr.copy(order='F')\n",
    "    # %timeit func_int_identifier_loop(x)\n",
    "    # x=arr.copy(order='F')\n",
    "    # %timeit func_int_identifier_loop(x.copy(order='C'))\n",
    "    \n",
    "    # print()\n",
    "    # print()"
   ]
  },
  {
   "cell_type": "code",
   "execution_count": null,
   "id": "e1ed512e-808f-42d5-9635-0dd04be204c5",
   "metadata": {},
   "outputs": [],
   "source": [
    "for k in range(10):\n",
    "    arr = np.random.randn(int(10**k),3)\n",
    "    \n",
    "    x=arr.copy(order='C')\n",
    "    %timeit func_int_identifier_loopD(x.copy(order='C'), axis = 1)\n",
    "    x=arr.copy(order='C')\n",
    "    %timeit func_int_identifier_loopD(x.copy(order='C').copy(order='F'), axis = 1)\n",
    "    \n",
    "    \n",
    "    x=arr.copy(order='F')\n",
    "    %timeit func_int_identifier_loopD(x.copy(order='F'), axis = 0)\n",
    "    x=arr.copy(order='F')\n",
    "    %timeit func_int_identifier_loopD(x.copy(order='F').copy(order='C'), axis = 0)\n",
    "    \n",
    "    print()\n",
    "    print()"
   ]
  },
  {
   "cell_type": "code",
   "execution_count": null,
   "id": "c6d018d8-6ba9-423e-85c7-aed8454891ea",
   "metadata": {},
   "outputs": [],
   "source": [
    "for k in range(10):\n",
    "    arr = np.random.randn(int(10**k),3)\n",
    "    \n",
    "    x=arr.copy(order='C')\n",
    "    %timeit func_int_identifier_loop(x.copy(order='C'), axis = 1)\n",
    "    x=arr.copy(order='C')\n",
    "    %timeit func_int_identifier_loop(x.copy(order='C').copy(order='F'), axis = 1)\n",
    "    \n",
    "    \n",
    "    x=arr.copy(order='F')\n",
    "    %timeit func_int_identifier_loop(x.copy(order='F'), axis = 0)\n",
    "    x=arr.copy(order='F')\n",
    "    %timeit func_int_identifier_loop(x.copy(order='F').copy(order='C'), axis = 0)\n",
    "    \n",
    "    print()\n",
    "    print()"
   ]
  },
  {
   "cell_type": "code",
   "execution_count": 2,
   "id": "37f99bdb-06a5-4c7f-9a10-e6c0abe9f034",
   "metadata": {},
   "outputs": [
    {
     "name": "stdout",
     "output_type": "stream",
     "text": [
      "15.7 µs ± 26.8 ns per loop (mean ± std. dev. of 7 runs, 100,000 loops each)\n",
      "18.4 µs ± 33 ns per loop (mean ± std. dev. of 7 runs, 100,000 loops each)\n"
     ]
    }
   ],
   "source": [
    "# import numpy as np\n",
    "\n",
    "# %timeit x = np.zeros((1_000_000_000, 4), dtype = np.float32)\n",
    "# %timeit x = np.empty((1_000_000_000, 4), dtype = np.float32)\n"
   ]
  },
  {
   "cell_type": "code",
   "execution_count": null,
   "id": "cc6cc7af-ee38-4707-a277-ff54141fb80c",
   "metadata": {},
   "outputs": [],
   "source": []
  },
  {
   "cell_type": "code",
   "execution_count": null,
   "id": "1991fb31-30c6-442b-b3d5-13177ea45ae4",
   "metadata": {},
   "outputs": [],
   "source": [
    "arr = np.random.randn(1000000,3)\n",
    "\n",
    "x=arr.copy(order='F')\n",
    "%timeit np.sum(x.copy(order='F'), axis = 0)\n",
    "x=arr.copy(order='F')\n",
    "%timeit np.sum(x.copy(order='F').copy(order='C'), axis = 0)"
   ]
  },
  {
   "cell_type": "code",
   "execution_count": null,
   "id": "5ea8626f-1fd1-4b41-8893-31306b5179e2",
   "metadata": {},
   "outputs": [],
   "source": [
    "arr = np.random.randn(1000000,3)\n",
    "x=arr.copy(order='F')\n",
    "%timeit np.sum(x.copy(order='F'), axis = 0)\n",
    "x=arr.copy(order='C')\n",
    "%timeit np.sum(x.copy(order='C'), axis = 0)"
   ]
  },
  {
   "cell_type": "code",
   "execution_count": null,
   "id": "f33e37aa-abd3-4bd8-851c-6d0aa12b41e5",
   "metadata": {},
   "outputs": [],
   "source": [
    "from numba import guvectorize, float64\n",
    "\n",
    "@guvectorize([(float64[:], float64[:])], '(n)->(n)', target='cpu')\n",
    "def guvectorized_function(x, out):\n",
    "    for i in range(x.shape[0]):\n",
    "        out[i] = (x[i] + x[i]) / x[i]  \n",
    "\n",
    "guvectorized_function\n"
   ]
  },
  {
   "cell_type": "code",
   "execution_count": null,
   "id": "407bee39-6d7e-4534-9a0d-21f6af999774",
   "metadata": {},
   "outputs": [],
   "source": [
    "@nb.jit(fastmath=True, forceinline=True, looplift=True, inline='always', target_backend='host', no_cfunc_wrapper=True, no_rewrites=True ,nopython=True, nogil=True, parallel = True)\n",
    "def temporaryE(z):\n",
    "    return (z[0] + z[2])/ z[1]\n",
    "    \n",
    "@nb.jit(nopython=True, nogil=True)\n",
    "def func_int_identifier_loopE(Z):\n",
    "    n = Z.shape[0]\n",
    "    res = np.zeros((n, 1))\n",
    "    for i in nb.prange(n):\n",
    "        res[i, 0] = temporaryE(Z[i, :])\n",
    "    return res\n",
    "\n",
    "%timeit func_int_identifier_loopE(arr)"
   ]
  },
  {
   "cell_type": "code",
   "execution_count": null,
   "id": "ee97a2ac-3d7a-4291-bea2-11ad2137be02",
   "metadata": {},
   "outputs": [],
   "source": [
    "@nb.jit(fastmath=True, forceinline=True, looplift=True, inline='always', target_backend='host', no_cfunc_wrapper=True, no_rewrites=True ,nopython=True, nogil=True, parallel = True)\n",
    "def temporaryE(z):\n",
    "    return (z[0] + z[2])/ z[1]\n",
    "    \n",
    "@nb.guvectorize\n",
    "def func_int_identifier_loopE(Z):\n",
    "    n = Z.shape[0]\n",
    "    res = np.zeros((n, 1))\n",
    "    for i in nb.prange(n):\n",
    "        res[i, 0] = temporaryE(Z[i, :])\n",
    "    return res\n",
    "\n",
    "%timeit func_int_identifier_loopE(arr)"
   ]
  },
  {
   "cell_type": "code",
   "execution_count": null,
   "id": "f4de61c1-a8d3-47df-b3cc-bab31ad35bb5",
   "metadata": {},
   "outputs": [],
   "source": []
  }
 ],
 "metadata": {
  "kernelspec": {
   "display_name": "Python 3 (ipykernel)",
   "language": "python",
   "name": "python3"
  },
  "language_info": {
   "codemirror_mode": {
    "name": "ipython",
    "version": 3
   },
   "file_extension": ".py",
   "mimetype": "text/x-python",
   "name": "python",
   "nbconvert_exporter": "python",
   "pygments_lexer": "ipython3",
   "version": "3.12.1"
  }
 },
 "nbformat": 4,
 "nbformat_minor": 5
}
