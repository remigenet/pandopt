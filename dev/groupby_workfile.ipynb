{
 "cells": [
  {
   "cell_type": "code",
   "execution_count": 4,
   "id": "9c106209-5bed-42b3-8dac-028e21ae741e",
   "metadata": {},
   "outputs": [],
   "source": [
    "try:\n",
    "    import pandopt as pdo\n",
    "except:\n",
    "    import sys, os\n",
    "    sys.path.append('/'.join(os.getcwd().split('/')[:-2]))\n",
    "    import pandopt as pdo\n",
    "import pandas as pd\n",
    "from PandOpt import *\n",
    "import numpy as np\n",
    "import tqdm \n",
    "import pandas as pd\n",
    "import numpy as np\n",
    "import timeit\n",
    "import functools\n",
    "\n",
    "import ast\n",
    "import inspdef {func_int_identifier}_loop(Z):\n",
    "    n = Z.shape[0]\n",
    "    res = np.zeros((n, 1))\n",
    "    for i in nb.prange(n):\n",
    "        res[i, 0] = temporary(Z[i, :])\n",
    "    return resect\n",
    "import types\n",
    "import numpy as np\n",
    "import numba as nb\n",
    "import pandas as pd\n",
    "import time\n",
    "import logging\n",
    "import functools\n",
    "import copy\n",
    "import sys\n",
    "from typing import Callable, Type, Dict, Tuple, Any\n",
    "from numpy.lib.stride_tricks import sliding_window_view\n",
    "logger = logging.getLogger()\n",
    "logger.setLevel(0)\n",
    "\n",
    "\n",
    "\n",
    "df = pd.DataFrame(np.random.randn(10000, 4), columns=['A', 'B', 'C', 'D']).astype(np.float32)"
   ]
  },
  {
   "cell_type": "code",
   "execution_count": null,
   "id": "13d69687-e2cc-4303-bcec-e3ba19f461d7",
   "metadata": {},
   "outputs": [],
   "source": []
  },
  {
   "cell_type": "code",
   "execution_count": 27,
   "id": "f799b2b9-456a-4903-93d3-d4f953ee9413",
   "metadata": {},
   "outputs": [
    {
     "data": {
      "text/plain": [
       "<pandas.core.groupby.generic.DataFrameGroupBy object at 0x7f2624c1faa0>"
      ]
     },
     "execution_count": 27,
     "metadata": {},
     "output_type": "execute_result"
    }
   ],
   "source": [
    "df.groupby('E')"
   ]
  },
  {
   "cell_type": "code",
   "execution_count": 16,
   "id": "283a24b1-9193-424f-8dd6-0cc1e24fb2d2",
   "metadata": {},
   "outputs": [],
   "source": [
    "df['E'] = df['A'].apply(lambda x: 1 if x <-2 else 2 if x <-1 else 3 if x<0 else 4 if x<2 else 5)"
   ]
  },
  {
   "cell_type": "code",
   "execution_count": 25,
   "id": "763f64a4-a132-47a4-840c-56511d28bc1a",
   "metadata": {},
   "outputs": [
    {
     "name": "stdout",
     "output_type": "stream",
     "text": [
      "413 µs ± 4.84 µs per loop (mean ± std. dev. of 7 runs, 1,000 loops each)\n"
     ]
    }
   ],
   "source": [
    "%timeit df.loc[df.groupby('E').groups[1]]"
   ]
  },
  {
   "cell_type": "code",
   "execution_count": 26,
   "id": "bd1c4a65-d1cb-4856-a27a-c77a637abc9f",
   "metadata": {},
   "outputs": [
    {
     "name": "stdout",
     "output_type": "stream",
     "text": [
      "333 µs ± 8.11 µs per loop (mean ± std. dev. of 7 runs, 1,000 loops each)\n"
     ]
    }
   ],
   "source": [
    "%timeit df.to_numpy()[df.groupby('E').groups[1]]"
   ]
  },
  {
   "cell_type": "code",
   "execution_count": 28,
   "id": "7f539ec9-dcad-42c5-a128-4af87f4eb9c4",
   "metadata": {},
   "outputs": [],
   "source": [
    "df = df.set_index('C')"
   ]
  },
  {
   "cell_type": "code",
   "execution_count": 29,
   "id": "c510575a-cefe-42fe-877c-1e01b881852e",
   "metadata": {},
   "outputs": [
    {
     "data": {
      "text/plain": [
       "{1: [0.6074827313423157, -0.23682086169719696, -0.7583650350570679, -0.27089250087738037, 0.4290613830089569, 0.24819545447826385, -2.4794089794158936, 0.06844813376665115, -0.19698843359947205, -0.4155316650867462, -1.1914106607437134, 0.6859724521636963, -2.073493719100952, 1.111675500869751, -1.3581395149230957, 0.08854194730520248, 0.020363595336675644, 0.1263808161020279, 1.566175103187561, 0.28795868158340454, 0.11065826565027237, -1.0327575206756592, 1.6044726371765137, -0.32373762130737305, -1.3724071979522705, -0.09387419372797012, -0.49082884192466736, 0.5802645087242126, 0.4747120440006256, -0.7681862711906433, -3.308753728866577, -1.22916841506958, 1.5650982856750488, 0.3566230833530426, 1.3245059251785278, 0.7789903879165649, 0.8563732504844666, 1.0916802883148193, -0.5606488585472107, 1.731178879737854, -0.6979461908340454, 0.3962887227535248, -1.8103595972061157, -1.0783528089523315, 1.3451440334320068, -0.8595927357673645, -0.31391966342926025, 0.051755499094724655, 0.027290109544992447, 0.5891228914260864, 0.3548055589199066, -0.7356641888618469, -0.7002487182617188, -1.2395919561386108, -0.43842077255249023, 0.28443095088005066, -0.4358162581920624, 0.45408767461776733, 1.3163167238235474, -2.166304111480713, -0.12722255289554596, -0.3677130341529846, -0.6665515303611755, 0.515073835849762, -1.106900691986084, 0.13868850469589233, -1.7526308298110962, 0.7768095135688782, -0.8051693439483643, 1.2816061973571777, -0.9174585342407227, -0.5690798759460449, -0.9518997669219971, 0.06671156734228134, 1.6805766820907593, -0.1248958483338356, -0.1773660033941269, -0.6564759016036987, 0.7861168384552002, 1.1103971004486084, 0.2954973578453064, 1.350118637084961, -0.027724646031856537, 0.5374006628990173, 1.715055227279663, -0.7057814002037048, -0.8723148107528687, -1.162387490272522, 1.3315620422363281, -1.323206901550293, 2.9345574378967285, -0.7232270240783691, 1.4883968830108643, -1.2979795932769775, -0.7244647145271301, 0.2211342602968216, 0.4337399899959564, 2.5544490814208984, 0.021761054173111916, -0.06290503591299057, ...], 2: [0.4347648322582245, 1.690375566482544, -0.16103561222553253, -0.8981772065162659, 1.4397109746932983, 1.8025065660476685, 0.667851448059082, 1.6868069171905518, -1.9160650968551636, 0.09293672442436218, 0.2951388955116272, -0.7584370374679565, -1.4133399724960327, 1.2990503311157227, 0.3702712059020996, -0.8936938643455505, 1.6458983421325684, 1.3244602680206299, 0.917547345161438, 1.4632761478424072, 0.9984638690948486, -1.7933214902877808, -0.18694676458835602, -0.3571942448616028, -0.37898916006088257, 0.255389928817749, -0.5048720240592957, -0.07253747433423996, -1.8758810758590698, -0.2816859185695648, 0.5668692588806152, -2.486572504043579, -0.14886826276779175, -0.11610901355743408, -1.712385654449463, -0.8837452530860901, 1.353200912475586, -1.6139543056488037, 0.08551140129566193, -1.984695315361023, 1.3036715984344482, -0.45816922187805176, -0.16556082665920258, 0.5646222233772278, 0.8130502700805664, 0.786531388759613, 0.32758158445358276, 1.4972081184387207, -0.784473717212677, -0.6352161169052124, -1.1532939672470093, -0.009677273221313953, -0.5540722608566284, -1.2569719552993774, 1.5109443664550781, 0.2451469898223877, -1.916013240814209, 1.3089030981063843, -1.5477750301361084, -2.3882343769073486, 1.4365872144699097, -0.34973272681236267, 0.18444031476974487, -0.6634211540222168, 1.5427356958389282, -0.8616536259651184, 1.2685874700546265, 0.48615938425064087, 1.8577359914779663, -1.8056933879852295, 1.8139605522155762, -0.7913801670074463, -0.8577772974967957, 1.4333653450012207, -0.8312435150146484, 1.171571135520935, 1.04108464717865, -0.4994452893733978, -0.17437191307544708, -0.6860476732254028, -0.29262539744377136, -0.17377778887748718, -2.137554407119751, -1.3693019151687622, -2.1127891540527344, 1.2169216871261597, 0.9691346883773804, 1.5080965757369995, 0.9176987409591675, 0.5721393823623657, -0.6173024773597717, -1.939703106880188, -0.967624843120575, 0.8928143382072449, -0.05314865708351135, -0.4895852506160736, -0.4540080726146698, -0.10181189328432083, 0.42234301567077637, -1.5961228609085083, ...], 3: [-2.142521381378174, 0.7215740084648132, -0.4208453893661499, -0.4337224066257477, -1.32441246509552, -0.14648324251174927, 2.955855369567871, 0.6298699975013733, -1.0605015754699707, 0.8349235653877258, 1.012366771697998, -0.14927436411380768, -0.069524385035038, 0.7948697209358215, -0.20631791651248932, 0.6646096706390381, 0.8723061084747314, 0.7121590971946716, 1.8042716979980469, -0.7314920425415039, 0.7729595899581909, -0.03333994001150131, -0.21214242279529572, -0.31449568271636963, 1.2388006448745728, 0.06264971941709518, 1.2870397567749023, -2.020813226699829, 0.4195609390735626, 1.0880082845687866, -0.024604512378573418, 0.45273125171661377, -0.609943151473999, -0.38970673084259033, 1.4138015508651733, -1.2149254083633423, -1.6131086349487305, -0.7070571780204773, 0.6879965662956238, 0.37573298811912537, 0.037115756422281265, -0.5482410788536072, 1.211775541305542, 1.1345263719558716, 0.307624876499176, 0.4046695828437805, -0.9327808022499084, 0.7066593766212463, -1.8178592920303345, 0.7893620133399963, -0.9274567365646362, 0.717311680316925, -0.08666505664587021, 0.7740786075592041, 1.054589867591858, -0.07755645364522934, 0.9545402526855469, -0.19577133655548096, 0.5504314303398132, 1.5187426805496216, -0.6927759647369385, -0.6504992842674255, -0.7044480443000793, 0.79499751329422, -1.0610346794128418, 0.23774702847003937, 0.5315176248550415, -0.3737703859806061, -0.655206024646759, -2.538640260696411, -0.40219876170158386, 0.38453057408332825, 0.9462789297103882, 1.1378355026245117, 1.634482502937317, 1.1747372150421143, 0.3318100571632385, 0.328464537858963, -0.71132493019104, 0.5458142161369324, 1.224602222442627, 1.2729281187057495, -1.3713139295578003, 0.549583911895752, -0.4231415390968323, 0.023179970681667328, 1.016126275062561, -0.724875807762146, -0.9407521486282349, 0.005568297114223242, 0.2864381968975067, 0.9426514506340027, -0.6924064755439758, 0.3711431324481964, 1.9805302619934082, -1.022302508354187, 0.5319951176643372, -2.1569197177886963, 1.6710524559020996, 0.7216429710388184, ...], 4: [-0.22863812744617462, 0.8028367161750793, -0.6644603610038757, -0.2969857156276703, 0.14285627007484436, -1.4392834901809692, 0.6139345765113831, 1.1183582544326782, -1.8531298637390137, -0.11116869747638702, 1.090376853942871, 0.8430176377296448, 0.3410033881664276, 1.2412736415863037, -0.5013736486434937, 2.5035393238067627, -1.4110535383224487, -1.1411765813827515, 0.28275465965270996, -0.06330391764640808, 0.2763381898403168, 0.9668898582458496, 1.6805593967437744, -1.447218656539917, -0.4220077395439148, 0.5457763075828552, -1.4455013275146484, 0.6193361282348633, -1.5702754259109497, 1.5222814083099365, 1.1937289237976074, 0.24221272766590118, -0.36381086707115173, 0.5597609877586365, 0.180754154920578, 0.2871447205543518, 0.027760419994592667, 2.1118438243865967, -0.5063952207565308, -1.16189444065094, -0.025572769343852997, 0.2712864875793457, 1.1646909713745117, -0.350181519985199, 2.167043685913086, -0.7746383547782898, 0.42185187339782715, -0.7632054686546326, -0.39074501395225525, 0.31430864334106445, -0.18264861404895782, -0.9771246314048767, -2.2082996368408203, 0.18856361508369446, 0.6996301412582397, -0.9902238845825195, 0.35764092206954956, 1.2192840576171875, -2.2571113109588623, -2.44354510307312, 0.34854230284690857, -0.03611490875482559, -0.6670765280723572, 0.0861816257238388, -1.3282387256622314, -0.8008116483688354, -0.7229790091514587, 1.061819314956665, -0.5026413202285767, -0.7491337060928345, 0.5993860363960266, 0.5770694613456726, 1.7143380641937256, 0.49009478092193604, -1.2653337717056274, 0.30217888951301575, 1.0029594898223877, -1.1283762454986572, -1.2256420850753784, 0.4864908456802368, 0.41292282938957214, -0.13635508716106415, 1.0952149629592896, 1.396766185760498, -0.16022568941116333, -1.0018458366394043, -0.46145695447921753, 0.33007508516311646, -0.2896260917186737, 0.16886775195598602, -0.5851434469223022, 0.26517292857170105, 0.6722776293754578, 2.153477430343628, -1.5287928581237793, -0.22532033920288086, -1.0269571542739868, 0.3288823664188385, 0.23686154186725616, -0.06063858047127724, ...], 5: [0.163080632686615, -0.003124409355223179, 0.2502422630786896, 0.38916411995887756, 0.16361726820468903, -0.5075522661209106, -0.4362872540950775, -0.28478896617889404, 0.6370711922645569, -0.2038518637418747, -2.299523115158081, -0.4664202630519867, 1.3520830869674683, 1.3940465450286865, -1.0951063632965088, 0.8188549876213074, 2.271947145462036, -1.4973291158676147, 0.3082280457019806, 0.15519799292087555, -0.6287248730659485, -1.3693649768829346, -1.079711675643921, -0.5653231739997864, -0.02012057788670063, -0.9263548851013184, -0.2973911166191101, 1.3884412050247192, -1.6887263059616089, 0.6260870695114136, -0.11573901772499084, 0.19050489366054535, -0.8048679232597351, -0.3720082640647888, 1.5527311563491821, 1.5859344005584717, -0.25243860483169556, -0.21390751004219055, 0.4838195741176605, 0.6032282114028931, 0.3196384608745575, -0.9597801566123962, -0.09476464986801147, 0.13335207104682922, 1.4927380084991455, 1.1731021404266357, -0.7398644685745239, 0.7836941480636597, -1.4333199262619019, -1.0999338626861572, 2.2084124088287354, -0.5454639196395874, -2.048227310180664, -0.734934389591217, 1.8056857585906982, 0.709339439868927, 2.7358949184417725, -0.08749014884233475, 0.7108821868896484, -1.575528621673584, 2.3735439777374268, 0.14115215837955475, 0.9829685091972351, -0.30076542496681213, -0.35162070393562317, 0.006371974945068359, -0.36867815256118774, -0.1566627323627472, 0.3172576427459717, 0.8481942415237427, 0.6000962257385254, -1.9751720428466797, -1.617801308631897, 0.4679836630821228, -1.4098016023635864, 0.8238765597343445, 0.27436861395835876, -0.26641204953193665, -1.3267695903778076, -1.022971749305725, 1.0223734378814697, -1.0066771507263184, 1.8152127265930176, 0.30988892912864685, 0.8499593734741211, 0.7976807951927185, -0.23828284442424774, -0.43907949328422546, -0.9962934851646423, -0.9742109775543213, -0.12759065628051758, 0.5191099643707275, 2.680776357650757, -1.126444935798645, 0.5773300528526306, -0.639065146446228, -0.7249534130096436, -0.08364470303058624, -0.12729963660240173, 0.6726366877555847, ...]}"
      ]
     },
     "execution_count": 29,
     "metadata": {},
     "output_type": "execute_result"
    }
   ],
   "source": [
    "df.groupby('E').groups"
   ]
  },
  {
   "cell_type": "code",
   "execution_count": 4,
   "id": "8e490873-47d0-4ac8-b2f9-8fc97e5231db",
   "metadata": {},
   "outputs": [],
   "source": [
    "\n",
    "# Example usage\n",
    "def simple_start(z):\n",
    "    x = (z['A'] + z['B']) / z['C']\n",
    "    x += z['B'] * z['D']\n",
    "    return x / z['B']\n",
    "\n",
    "def harder_func(z):\n",
    "    x = (z['A'] + z['B']) / z['C']\n",
    "    if x > 0:\n",
    "        return x / z['B']\n",
    "    x += z['B'] * z['D']\n",
    "    return x * z['B']\n",
    "\n",
    "def harder2_func(z):\n",
    "    x = (z['A'] + z['B']) / z['C']\n",
    "    if (k:=z['A']-z['C']) > (j:=z['B']/z['D']):\n",
    "        return x / k\n",
    "    x *= j\n",
    "    return x - k if k > z['C'] else x + k\n",
    "\n",
    "def harder3_func(z):\n",
    "    g=lambda a, b: a if abs(a) > abs(b) else - 2 * (b**(-a))\n",
    "    x = (z['A'] + z['B']) / z['C']\n",
    "    if (k:=z['A']-z['C']) > (j:=g(z['B'],z['D'])):\n",
    "        return j / k\n",
    "    x *= j\n",
    "    return x - k if k > z['C'] else x + k"
   ]
  },
  {
   "cell_type": "code",
   "execution_count": 5,
   "id": "7bea1f95-0966-450b-be3d-b07375b620f6",
   "metadata": {},
   "outputs": [
    {
     "name": "stderr",
     "output_type": "stream",
     "text": [
      "Running Tests:   0%|                                                         | 0/60 [00:00<?, ?it/s]"
     ]
    },
    {
     "ename": "ValueError",
     "evalue": "DataFrame constructor not properly called!",
     "output_type": "error",
     "traceback": [
      "\u001b[0;31m---------------------------------------------------------------------------\u001b[0m",
      "\u001b[0;31mValueError\u001b[0m                                Traceback (most recent call last)",
      "\u001b[0;32m/tmp/ipykernel_849755/1252805999.py\u001b[0m in \u001b[0;36m?\u001b[0;34m()\u001b[0m\n\u001b[1;32m     68\u001b[0m \u001b[0mtest_functions\u001b[0m \u001b[0;34m=\u001b[0m \u001b[0;34m[\u001b[0m\u001b[0;34m]\u001b[0m\u001b[0;31m#[simple_start, harder_func, harder2_func, harder3_func]\u001b[0m\u001b[0;34m\u001b[0m\u001b[0;34m\u001b[0m\u001b[0m\n\u001b[1;32m     69\u001b[0m \u001b[0magg_functions\u001b[0m \u001b[0;34m=\u001b[0m \u001b[0;34m[\u001b[0m\u001b[0magg_sum\u001b[0m\u001b[0;34m,\u001b[0m \u001b[0magg_mean\u001b[0m\u001b[0;34m,\u001b[0m \u001b[0magg_max\u001b[0m\u001b[0;34m,\u001b[0m \u001b[0magg_min\u001b[0m\u001b[0;34m,\u001b[0m \u001b[0magg_std\u001b[0m\u001b[0;34m]\u001b[0m\u001b[0;34m\u001b[0m\u001b[0;34m\u001b[0m\u001b[0m\n\u001b[1;32m     70\u001b[0m \u001b[0mtest_types\u001b[0m \u001b[0;34m=\u001b[0m \u001b[0;34m[\u001b[0m\u001b[0;34m\"apply\"\u001b[0m\u001b[0;34m,\u001b[0m \u001b[0;34m\"rolling\"\u001b[0m\u001b[0;34m,\u001b[0m \u001b[0;34m\"groupby\"\u001b[0m\u001b[0;34m]\u001b[0m\u001b[0;34m\u001b[0m\u001b[0;34m\u001b[0m\u001b[0m\n\u001b[1;32m     71\u001b[0m \u001b[0;34m\u001b[0m\u001b[0m\n\u001b[0;32m---> 72\u001b[0;31m \u001b[0mresults_df\u001b[0m \u001b[0;34m=\u001b[0m \u001b[0mrun_tests\u001b[0m\u001b[0;34m(\u001b[0m\u001b[0mdata_size\u001b[0m\u001b[0;34m=\u001b[0m\u001b[0;36m5\u001b[0m\u001b[0;34m,\u001b[0m \u001b[0mtest_funcs\u001b[0m\u001b[0;34m=\u001b[0m\u001b[0mtest_functions\u001b[0m\u001b[0;34m,\u001b[0m \u001b[0magg_funcs\u001b[0m\u001b[0;34m=\u001b[0m\u001b[0magg_functions\u001b[0m\u001b[0;34m,\u001b[0m \u001b[0mtest_types\u001b[0m\u001b[0;34m=\u001b[0m\u001b[0mtest_types\u001b[0m\u001b[0;34m)\u001b[0m\u001b[0;34m\u001b[0m\u001b[0;34m\u001b[0m\u001b[0m\n\u001b[0m\u001b[1;32m     73\u001b[0m \u001b[0mprint\u001b[0m\u001b[0;34m(\u001b[0m\u001b[0mresults_df\u001b[0m\u001b[0;34m)\u001b[0m\u001b[0;34m\u001b[0m\u001b[0;34m\u001b[0m\u001b[0m\n",
      "\u001b[0;32m/tmp/ipykernel_849755/1252805999.py\u001b[0m in \u001b[0;36m?\u001b[0;34m(data_size, test_funcs, agg_funcs, test_types)\u001b[0m\n\u001b[1;32m     46\u001b[0m \u001b[0;34m\u001b[0m\u001b[0m\n\u001b[1;32m     47\u001b[0m         \u001b[0;32mfor\u001b[0m \u001b[0mfunc\u001b[0m \u001b[0;32min\u001b[0m \u001b[0mtest_funcs\u001b[0m \u001b[0;34m+\u001b[0m \u001b[0magg_funcs\u001b[0m\u001b[0;34m:\u001b[0m\u001b[0;34m\u001b[0m\u001b[0;34m\u001b[0m\u001b[0m\n\u001b[1;32m     48\u001b[0m             \u001b[0;32mfor\u001b[0m \u001b[0mtest_type\u001b[0m \u001b[0;32min\u001b[0m \u001b[0mtest_types\u001b[0m\u001b[0;34m:\u001b[0m\u001b[0;34m\u001b[0m\u001b[0;34m\u001b[0m\u001b[0m\n\u001b[1;32m     49\u001b[0m                 \u001b[0mpandas_checksum\u001b[0m\u001b[0;34m,\u001b[0m \u001b[0mpandas_time\u001b[0m\u001b[0;34m,\u001b[0m \u001b[0mpandas_error\u001b[0m \u001b[0;34m=\u001b[0m \u001b[0mmeasure_performance\u001b[0m\u001b[0;34m(\u001b[0m\u001b[0mpandas_df\u001b[0m\u001b[0;34m,\u001b[0m \u001b[0mfunc\u001b[0m\u001b[0;34m,\u001b[0m \u001b[0mtest_type\u001b[0m\u001b[0;34m)\u001b[0m\u001b[0;34m\u001b[0m\u001b[0;34m\u001b[0m\u001b[0m\n\u001b[0;32m---> 50\u001b[0;31m                 \u001b[0mpandopt_checksum\u001b[0m\u001b[0;34m,\u001b[0m \u001b[0mpandopt_time\u001b[0m\u001b[0;34m,\u001b[0m \u001b[0mpandopt_error\u001b[0m \u001b[0;34m=\u001b[0m \u001b[0mmeasure_performance\u001b[0m\u001b[0;34m(\u001b[0m\u001b[0mpandopt_df\u001b[0m\u001b[0;34m,\u001b[0m \u001b[0mfunc\u001b[0m\u001b[0;34m,\u001b[0m \u001b[0mtest_type\u001b[0m\u001b[0;34m)\u001b[0m\u001b[0;34m\u001b[0m\u001b[0;34m\u001b[0m\u001b[0m\n\u001b[0m\u001b[1;32m     51\u001b[0m \u001b[0;34m\u001b[0m\u001b[0m\n\u001b[1;32m     52\u001b[0m                 \u001b[0mkey\u001b[0m \u001b[0;34m=\u001b[0m \u001b[0;34mf\"\u001b[0m\u001b[0;34mSize: 10^\u001b[0m\u001b[0;34m{\u001b[0m\u001b[0mtest_num\u001b[0m\u001b[0;34m}\u001b[0m\u001b[0;34m, Func: \u001b[0m\u001b[0;34m{\u001b[0m\u001b[0mfunc\u001b[0m\u001b[0;34m.\u001b[0m\u001b[0m__name__\u001b[0m\u001b[0;34m}\u001b[0m\u001b[0;34m, Test: \u001b[0m\u001b[0;34m{\u001b[0m\u001b[0mtest_type\u001b[0m\u001b[0;34m}\u001b[0m\u001b[0;34m\"\u001b[0m\u001b[0;34m\u001b[0m\u001b[0;34m\u001b[0m\u001b[0m\n\u001b[1;32m     53\u001b[0m                 results[key] = {\n",
      "\u001b[0;32m/tmp/ipykernel_849755/1252805999.py\u001b[0m in \u001b[0;36m?\u001b[0;34m(df, func, test_type, window_size)\u001b[0m\n\u001b[1;32m     27\u001b[0m     \u001b[0;32melse\u001b[0m\u001b[0;34m:\u001b[0m\u001b[0;34m\u001b[0m\u001b[0;34m\u001b[0m\u001b[0m\n\u001b[1;32m     28\u001b[0m         \u001b[0;32mraise\u001b[0m \u001b[0mValueError\u001b[0m\u001b[0;34m(\u001b[0m\u001b[0;34m\"Invalid test type\"\u001b[0m\u001b[0;34m)\u001b[0m\u001b[0;34m\u001b[0m\u001b[0;34m\u001b[0m\u001b[0m\n\u001b[1;32m     29\u001b[0m \u001b[0;34m\u001b[0m\u001b[0m\n\u001b[1;32m     30\u001b[0m     \u001b[0mstart_time\u001b[0m \u001b[0;34m=\u001b[0m \u001b[0mtimeit\u001b[0m\u001b[0;34m.\u001b[0m\u001b[0mdefault_timer\u001b[0m\u001b[0;34m(\u001b[0m\u001b[0;34m)\u001b[0m\u001b[0;34m\u001b[0m\u001b[0;34m\u001b[0m\u001b[0m\n\u001b[0;32m---> 31\u001b[0;31m     \u001b[0mresult\u001b[0m \u001b[0;34m=\u001b[0m \u001b[0moperation\u001b[0m\u001b[0;34m(\u001b[0m\u001b[0;34m)\u001b[0m\u001b[0;34m\u001b[0m\u001b[0;34m\u001b[0m\u001b[0m\n\u001b[0m\u001b[1;32m     32\u001b[0m     \u001b[0melapsed_time\u001b[0m \u001b[0;34m=\u001b[0m \u001b[0mtimeit\u001b[0m\u001b[0;34m.\u001b[0m\u001b[0mdefault_timer\u001b[0m\u001b[0;34m(\u001b[0m\u001b[0;34m)\u001b[0m \u001b[0;34m-\u001b[0m \u001b[0mstart_time\u001b[0m\u001b[0;34m\u001b[0m\u001b[0;34m\u001b[0m\u001b[0m\n\u001b[1;32m     33\u001b[0m     \u001b[0;32mreturn\u001b[0m \u001b[0mnp\u001b[0m\u001b[0;34m.\u001b[0m\u001b[0msum\u001b[0m\u001b[0;34m(\u001b[0m\u001b[0mresult\u001b[0m\u001b[0;34m)\u001b[0m\u001b[0;34m,\u001b[0m \u001b[0melapsed_time\u001b[0m\u001b[0;34m,\u001b[0m \u001b[0;32mNone\u001b[0m\u001b[0;34m\u001b[0m\u001b[0;34m\u001b[0m\u001b[0m\n\u001b[1;32m     34\u001b[0m     \u001b[0;31m# except Exception as e:\u001b[0m\u001b[0;34m\u001b[0m\u001b[0;34m\u001b[0m\u001b[0m\n",
      "\u001b[0;32m/tmp/ipykernel_849755/1699937380.py\u001b[0m in \u001b[0;36m?\u001b[0;34m(self, *args, **kwargs)\u001b[0m\n\u001b[1;32m    216\u001b[0m     \u001b[0;34m@\u001b[0m\u001b[0mfunctools\u001b[0m\u001b[0;34m.\u001b[0m\u001b[0mwraps\u001b[0m\u001b[0;34m(\u001b[0m\u001b[0mfn\u001b[0m\u001b[0;34m)\u001b[0m\u001b[0;34m\u001b[0m\u001b[0;34m\u001b[0m\u001b[0m\n\u001b[1;32m    217\u001b[0m     \u001b[0;32mdef\u001b[0m \u001b[0mwrapper\u001b[0m\u001b[0;34m(\u001b[0m\u001b[0mself\u001b[0m\u001b[0;34m,\u001b[0m \u001b[0;34m*\u001b[0m\u001b[0margs\u001b[0m\u001b[0;34m,\u001b[0m \u001b[0;34m**\u001b[0m\u001b[0mkwargs\u001b[0m\u001b[0;34m)\u001b[0m\u001b[0;34m:\u001b[0m\u001b[0;34m\u001b[0m\u001b[0;34m\u001b[0m\u001b[0m\n\u001b[1;32m    218\u001b[0m         \u001b[0;32mif\u001b[0m \u001b[0mself\u001b[0m\u001b[0;34m.\u001b[0m\u001b[0m_outside_call\u001b[0m\u001b[0;34m:\u001b[0m\u001b[0;34m\u001b[0m\u001b[0;34m\u001b[0m\u001b[0m\n\u001b[1;32m    219\u001b[0m             \u001b[0mself\u001b[0m\u001b[0;34m.\u001b[0m\u001b[0m_outside_call\u001b[0m \u001b[0;34m=\u001b[0m \u001b[0;32mFalse\u001b[0m\u001b[0;34m\u001b[0m\u001b[0;34m\u001b[0m\u001b[0m\n\u001b[0;32m--> 220\u001b[0;31m             \u001b[0mres\u001b[0m \u001b[0;34m=\u001b[0m \u001b[0mfn\u001b[0m\u001b[0;34m(\u001b[0m\u001b[0mself\u001b[0m\u001b[0;34m,\u001b[0m \u001b[0;34m*\u001b[0m\u001b[0margs\u001b[0m\u001b[0;34m,\u001b[0m \u001b[0;34m**\u001b[0m\u001b[0mkwargs\u001b[0m\u001b[0;34m)\u001b[0m\u001b[0;34m\u001b[0m\u001b[0;34m\u001b[0m\u001b[0m\n\u001b[0m\u001b[1;32m    221\u001b[0m             \u001b[0;32mif\u001b[0m \u001b[0misinstance\u001b[0m\u001b[0;34m(\u001b[0m\u001b[0mres\u001b[0m\u001b[0;34m,\u001b[0m \u001b[0mpd\u001b[0m\u001b[0;34m.\u001b[0m\u001b[0mDataFrame\u001b[0m\u001b[0;34m)\u001b[0m\u001b[0;34m:\u001b[0m\u001b[0;34m\u001b[0m\u001b[0;34m\u001b[0m\u001b[0m\n\u001b[1;32m    222\u001b[0m                 \u001b[0mres\u001b[0m \u001b[0;34m=\u001b[0m \u001b[0mpandopt\u001b[0m\u001b[0;34m(\u001b[0m\u001b[0mres\u001b[0m\u001b[0;34m)\u001b[0m\u001b[0;34m\u001b[0m\u001b[0;34m\u001b[0m\u001b[0m\n\u001b[1;32m    223\u001b[0m             \u001b[0mself\u001b[0m\u001b[0;34m.\u001b[0m\u001b[0m_outside_call\u001b[0m \u001b[0;34m=\u001b[0m \u001b[0;32mTrue\u001b[0m\u001b[0;34m\u001b[0m\u001b[0;34m\u001b[0m\u001b[0m\n",
      "\u001b[0;32m/tmp/ipykernel_849755/1699937380.py\u001b[0m in \u001b[0;36m?\u001b[0;34m(self, func, axis, pandas_fallback, *args, **kwargs)\u001b[0m\n\u001b[1;32m    306\u001b[0m             \u001b[0;32mreturn\u001b[0m \u001b[0msuper\u001b[0m\u001b[0;34m(\u001b[0m\u001b[0;34m)\u001b[0m\u001b[0;34m.\u001b[0m\u001b[0mapply\u001b[0m\u001b[0;34m(\u001b[0m\u001b[0mfunc\u001b[0m\u001b[0;34m,\u001b[0m \u001b[0maxis\u001b[0m \u001b[0;34m=\u001b[0m \u001b[0;36m0\u001b[0m\u001b[0;34m,\u001b[0m \u001b[0;34m*\u001b[0m\u001b[0margs\u001b[0m\u001b[0;34m,\u001b[0m \u001b[0;34m**\u001b[0m\u001b[0mkwargs\u001b[0m\u001b[0;34m)\u001b[0m\u001b[0;34m\u001b[0m\u001b[0;34m\u001b[0m\u001b[0m\n\u001b[1;32m    307\u001b[0m         \u001b[0;32mif\u001b[0m \u001b[0margs\u001b[0m \u001b[0;32mor\u001b[0m \u001b[0mkwargs\u001b[0m\u001b[0;34m:\u001b[0m\u001b[0;34m\u001b[0m\u001b[0;34m\u001b[0m\u001b[0m\n\u001b[1;32m    308\u001b[0m             \u001b[0mlogger\u001b[0m\u001b[0;34m.\u001b[0m\u001b[0mwarning\u001b[0m\u001b[0;34m(\u001b[0m\u001b[0;34mf'\u001b[0m\u001b[0;34m{\u001b[0m\u001b[0m__class__\u001b[0m\u001b[0;34m}\u001b[0m\u001b[0;34m apply only supports func and axis arguments, using default pandas apply\u001b[0m\u001b[0;34m'\u001b[0m\u001b[0;34m)\u001b[0m\u001b[0;34m\u001b[0m\u001b[0;34m\u001b[0m\u001b[0m\n\u001b[1;32m    309\u001b[0m             \u001b[0;32mreturn\u001b[0m \u001b[0msuper\u001b[0m\u001b[0;34m(\u001b[0m\u001b[0;34m)\u001b[0m\u001b[0;34m.\u001b[0m\u001b[0mapply\u001b[0m\u001b[0;34m(\u001b[0m\u001b[0mfunc\u001b[0m\u001b[0;34m,\u001b[0m \u001b[0maxis\u001b[0m \u001b[0;34m=\u001b[0m \u001b[0;36m0\u001b[0m\u001b[0;34m,\u001b[0m \u001b[0;34m*\u001b[0m\u001b[0margs\u001b[0m\u001b[0;34m,\u001b[0m \u001b[0;34m**\u001b[0m\u001b[0mkwargs\u001b[0m\u001b[0;34m)\u001b[0m\u001b[0;34m\u001b[0m\u001b[0;34m\u001b[0m\u001b[0m\n\u001b[0;32m--> 310\u001b[0;31m         \u001b[0;32mreturn\u001b[0m \u001b[0mpandopt\u001b[0m\u001b[0;34m(\u001b[0m\u001b[0;34m(\u001b[0m\u001b[0mself\u001b[0m\u001b[0;34m.\u001b[0m\u001b[0m_compiled_func\u001b[0m\u001b[0;34m.\u001b[0m\u001b[0mget\u001b[0m\u001b[0;34m(\u001b[0m\u001b[0;34m(\u001b[0m\u001b[0mname\u001b[0m\u001b[0;34m:=\u001b[0m\u001b[0mself\u001b[0m\u001b[0;34m.\u001b[0m\u001b[0m_compiled_qualifier\u001b[0m\u001b[0;34m(\u001b[0m\u001b[0mfunc_qualifier\u001b[0m \u001b[0;34m=\u001b[0m \u001b[0mfunc\u001b[0m\u001b[0;34m.\u001b[0m\u001b[0m__qualname__\u001b[0m\u001b[0;34m,\u001b[0m \u001b[0mmapper\u001b[0m\u001b[0;34m=\u001b[0m\u001b[0;34m(\u001b[0m\u001b[0mmapper\u001b[0m\u001b[0;34m:=\u001b[0m\u001b[0mself\u001b[0m\u001b[0;34m.\u001b[0m\u001b[0mcolname_to_colnum\u001b[0m \u001b[0;32mif\u001b[0m \u001b[0maxis\u001b[0m \u001b[0;32melse\u001b[0m \u001b[0mself\u001b[0m\u001b[0;34m.\u001b[0m\u001b[0mrowname_to_rownum\u001b[0m\u001b[0;34m)\u001b[0m\u001b[0;34m)\u001b[0m\u001b[0;34m)\u001b[0m\u001b[0;34m)\u001b[0m \u001b[0;32mor\u001b[0m \u001b[0mself\u001b[0m\u001b[0;34m.\u001b[0m\u001b[0m_build_apply_versions\u001b[0m\u001b[0;34m(\u001b[0m\u001b[0mfunc\u001b[0m\u001b[0;34m,\u001b[0m \u001b[0mmapper\u001b[0m\u001b[0;34m,\u001b[0m \u001b[0mname\u001b[0m\u001b[0;34m)\u001b[0m\u001b[0;34m)\u001b[0m\u001b[0;34m(\u001b[0m\u001b[0mself\u001b[0m\u001b[0;34m.\u001b[0m\u001b[0mto_numpy\u001b[0m\u001b[0;34m(\u001b[0m\u001b[0;34m)\u001b[0m \u001b[0;32mif\u001b[0m \u001b[0maxis\u001b[0m \u001b[0;32melse\u001b[0m \u001b[0mself\u001b[0m\u001b[0;34m.\u001b[0m\u001b[0mto_numpy\u001b[0m\u001b[0;34m(\u001b[0m\u001b[0;34m)\u001b[0m\u001b[0;34m.\u001b[0m\u001b[0mT\u001b[0m\u001b[0;34m)\u001b[0m\u001b[0;34m,\u001b[0m \u001b[0mindex\u001b[0m \u001b[0;34m=\u001b[0m \u001b[0mself\u001b[0m\u001b[0;34m.\u001b[0m\u001b[0mindex\u001b[0m \u001b[0;32mif\u001b[0m \u001b[0maxis\u001b[0m \u001b[0;32melse\u001b[0m \u001b[0mself\u001b[0m\u001b[0;34m.\u001b[0m\u001b[0mcolumns\u001b[0m\u001b[0;34m)\u001b[0m\u001b[0;34m\u001b[0m\u001b[0;34m\u001b[0m\u001b[0m\n\u001b[0m",
      "\u001b[0;32m/tmp/ipykernel_849755/1699937380.py\u001b[0m in \u001b[0;36m?\u001b[0;34m(self, *args, **kwargs)\u001b[0m\n\u001b[1;32m    284\u001b[0m     \u001b[0;32mdef\u001b[0m \u001b[0m__init__\u001b[0m\u001b[0;34m(\u001b[0m\u001b[0mself\u001b[0m\u001b[0;34m,\u001b[0m \u001b[0;34m*\u001b[0m\u001b[0margs\u001b[0m\u001b[0;34m,\u001b[0m \u001b[0;34m**\u001b[0m\u001b[0mkwargs\u001b[0m\u001b[0;34m)\u001b[0m\u001b[0;34m:\u001b[0m\u001b[0;34m\u001b[0m\u001b[0;34m\u001b[0m\u001b[0m\n\u001b[0;32m--> 285\u001b[0;31m         \u001b[0msuper\u001b[0m\u001b[0;34m(\u001b[0m\u001b[0;34m)\u001b[0m\u001b[0;34m.\u001b[0m\u001b[0m__init__\u001b[0m\u001b[0;34m(\u001b[0m\u001b[0;34m*\u001b[0m\u001b[0margs\u001b[0m\u001b[0;34m,\u001b[0m \u001b[0;34m**\u001b[0m\u001b[0mkwargs\u001b[0m\u001b[0;34m)\u001b[0m\u001b[0;34m\u001b[0m\u001b[0;34m\u001b[0m\u001b[0m\n\u001b[0m\u001b[1;32m    286\u001b[0m         \u001b[0;31m# self._compiled_func = {}\u001b[0m\u001b[0;34m\u001b[0m\u001b[0;34m\u001b[0m\u001b[0m\n",
      "\u001b[0;32m~/.pyenv/versions/3.12.1/lib/python3.12/site-packages/pandas/core/frame.py\u001b[0m in \u001b[0;36m?\u001b[0;34m(self, data, index, columns, dtype, copy)\u001b[0m\n\u001b[1;32m    871\u001b[0m                 \u001b[0;34m)\u001b[0m\u001b[0;34m\u001b[0m\u001b[0;34m\u001b[0m\u001b[0m\n\u001b[1;32m    872\u001b[0m         \u001b[0;31m# For data is scalar\u001b[0m\u001b[0;34m\u001b[0m\u001b[0;34m\u001b[0m\u001b[0m\n\u001b[1;32m    873\u001b[0m         \u001b[0;32melse\u001b[0m\u001b[0;34m:\u001b[0m\u001b[0;34m\u001b[0m\u001b[0;34m\u001b[0m\u001b[0m\n\u001b[1;32m    874\u001b[0m             \u001b[0;32mif\u001b[0m \u001b[0mindex\u001b[0m \u001b[0;32mis\u001b[0m \u001b[0;32mNone\u001b[0m \u001b[0;32mor\u001b[0m \u001b[0mcolumns\u001b[0m \u001b[0;32mis\u001b[0m \u001b[0;32mNone\u001b[0m\u001b[0;34m:\u001b[0m\u001b[0;34m\u001b[0m\u001b[0;34m\u001b[0m\u001b[0m\n\u001b[0;32m--> 875\u001b[0;31m                 \u001b[0;32mraise\u001b[0m \u001b[0mValueError\u001b[0m\u001b[0;34m(\u001b[0m\u001b[0;34m\"DataFrame constructor not properly called!\"\u001b[0m\u001b[0;34m)\u001b[0m\u001b[0;34m\u001b[0m\u001b[0;34m\u001b[0m\u001b[0m\n\u001b[0m\u001b[1;32m    876\u001b[0m \u001b[0;34m\u001b[0m\u001b[0m\n\u001b[1;32m    877\u001b[0m             \u001b[0mindex\u001b[0m \u001b[0;34m=\u001b[0m \u001b[0mensure_index\u001b[0m\u001b[0;34m(\u001b[0m\u001b[0mindex\u001b[0m\u001b[0;34m)\u001b[0m\u001b[0;34m\u001b[0m\u001b[0;34m\u001b[0m\u001b[0m\n\u001b[1;32m    878\u001b[0m             \u001b[0mcolumns\u001b[0m \u001b[0;34m=\u001b[0m \u001b[0mensure_index\u001b[0m\u001b[0;34m(\u001b[0m\u001b[0mcolumns\u001b[0m\u001b[0;34m)\u001b[0m\u001b[0;34m\u001b[0m\u001b[0;34m\u001b[0m\u001b[0m\n",
      "\u001b[0;31mValueError\u001b[0m: DataFrame constructor not properly called!"
     ]
    }
   ],
   "source": [
    "\n",
    "# Assume pandopt, simple_start, harder_func, harder2_func, harder3_func are defined\n",
    "def agg_sum(z):\n",
    "    return np.sum(z)\n",
    "\n",
    "def agg_mean(z):\n",
    "    return np.mean(z)\n",
    "\n",
    "def agg_max(z):\n",
    "    return np.max(z)\n",
    "\n",
    "def agg_min(z):\n",
    "    return np.min(z)\n",
    "\n",
    "def agg_std(z):\n",
    "    return np.std(z)\n",
    "\n",
    "\n",
    "\n",
    "def measure_performance(df, func, test_type, window_size=3):\n",
    "    # try:\n",
    "    if test_type == \"apply\":\n",
    "        operation = functools.partial(df.apply, func, axis=1)\n",
    "    elif test_type == \"rolling\":\n",
    "        operation = functools.partial(df.rolling(window=window_size).apply, func, raw=True)\n",
    "    elif test_type == \"groupby\":\n",
    "        operation = functools.partial(df.groupby('A').apply, func)\n",
    "    else:\n",
    "        raise ValueError(\"Invalid test type\")\n",
    "\n",
    "    start_time = timeit.default_timer()\n",
    "    result = operation()\n",
    "    elapsed_time = timeit.default_timer() - start_time\n",
    "    return np.sum(result), elapsed_time, None\n",
    "    # except Exception as e:\n",
    "        # return None, None, str(e)\n",
    "\n",
    "def run_tests(data_size, test_funcs, agg_funcs, test_types):\n",
    "    results = {}\n",
    "    total_tests = (data_size - 1) * len(test_funcs + agg_funcs) * len(test_types)\n",
    "    progress_bar = tqdm.tqdm(total=total_tests, desc=\"Running Tests\", ncols=100)\n",
    "\n",
    "    for test_num in range(1, data_size):\n",
    "        df_size = int(10**test_num)\n",
    "        pandas_df = pd.DataFrame(np.random.randn(df_size, 4), columns=['A', 'B', 'C', 'D']).astype(np.float32)\n",
    "        pandopt_df = pandopt(pandas_df)\n",
    "\n",
    "        for func in test_funcs + agg_funcs:\n",
    "            for test_type in test_types:\n",
    "                pandas_checksum, pandas_time, pandas_error = measure_performance(pandas_df, func, test_type)\n",
    "                pandopt_checksum, pandopt_time, pandopt_error = measure_performance(pandopt_df, func, test_type)\n",
    "\n",
    "                key = f\"Size: 10^{test_num}, Func: {func.__name__}, Test: {test_type}\"\n",
    "                results[key] = {\n",
    "                    \"Pandas Time (s)\": pandas_time,\n",
    "                    \"Pandopt Time (s)\": pandopt_time,\n",
    "                    \"Checksum Pandas\": pandas_checksum,\n",
    "                    \"Checksum Pandopt\": pandopt_checksum,\n",
    "                    \"Pandas Error\": pandas_error,\n",
    "                    \"Pandopt Error\": pandopt_error\n",
    "                }\n",
    "\n",
    "                progress_bar.update(1)\n",
    "\n",
    "    progress_bar.close()\n",
    "    return pd.DataFrame.from_dict(results, orient='index')\n",
    "\n",
    "# Run the tests\n",
    "test_functions = []#[simple_start, harder_func, harder2_func, harder3_func]\n",
    "agg_functions = [agg_sum, agg_mean, agg_max, agg_min, agg_std]\n",
    "test_types = [\"apply\", \"rolling\", \"groupby\"]\n",
    "\n",
    "results_df = run_tests(data_size=5, test_funcs=test_functions, agg_funcs=agg_functions, test_types=test_types)\n",
    "print(results_df)"
   ]
  },
  {
   "cell_type": "code",
   "execution_count": null,
   "id": "0b2a7148-dad8-4a36-8a18-e3466560bebc",
   "metadata": {},
   "outputs": [],
   "source": [
    "df_size = int(10**5)\n",
    "pandas_df = pd.DataFrame(np.random.randn(df_size, 4), columns=['A', 'B', 'C', 'D']).astype(np.float32)\n",
    "pandopt_df = pandopt(pandas_df)\n",
    "test_types = [\"apply\", \"rolling\", \"groupby\"]\n",
    "measure_performance(pandas_df, simple_start, \"apply\",)"
   ]
  },
  {
   "cell_type": "code",
   "execution_count": 18,
   "id": "80a0dedf-ed73-41a3-825b-bebc2c7ddd6b",
   "metadata": {},
   "outputs": [
    {
     "name": "stderr",
     "output_type": "stream",
     "text": [
      "/home/remi/PhDWork/pandopt/PandOpt.py:215: FutureWarning: The behavior of pandopt.sum with axis=None is deprecated, in a future version this will reduce over both axes and return a scalar. To retain the old behavior, pass axis=0 (or do not pass axis)\n",
      "  return fn(self, *args, **kwargs)\n"
     ]
    },
    {
     "data": {
      "text/plain": [
       "(0    2185600.75\n",
       " dtype: float32,\n",
       " 0.0009504860208835453,\n",
       " None)"
      ]
     },
     "execution_count": 18,
     "metadata": {},
     "output_type": "execute_result"
    }
   ],
   "source": [
    "measure_performance(pandopt_df, simple_start, \"apply\",)"
   ]
  },
  {
   "cell_type": "code",
   "execution_count": 1,
   "id": "9f75f7c5-404c-4727-bfaa-de43158f037b",
   "metadata": {},
   "outputs": [
    {
     "name": "stdout",
     "output_type": "stream",
     "text": [
      "<class 'pandopt.frames.DataFrame'>\n"
     ]
    }
   ],
   "source": [
    "import sys\n",
    "import numpy as np\n",
    "sys.path.append('/home/remi/PhDWork/pandopt')\n",
    "import pandopt as pd\n",
    "\n",
    "def agg_sum(x):\n",
    "    return np.sum(x)\n",
    "\n",
    "df = pd.DataFrame(np.random.randn(10000, 4), columns=['A', 'B', 'C', 'D'])\n",
    "print(type(df))"
   ]
  },
  {
   "cell_type": "code",
   "execution_count": null,
   "id": "986813e3-84b6-4359-9a3d-369ab1fa5fa8",
   "metadata": {},
   "outputs": [],
   "source": []
  },
  {
   "cell_type": "code",
   "execution_count": 2,
   "id": "8dd053f4-8aaa-4f0f-9ddd-a2b571141b07",
   "metadata": {},
   "outputs": [
    {
     "name": "stdout",
     "output_type": "stream",
     "text": [
      "APPLY\n",
      "             0\n",
      "0    -4.680139\n",
      "1     0.379731\n",
      "2     2.071919\n",
      "3    -0.553120\n",
      "4    -3.062971\n",
      "...        ...\n",
      "9995 -4.978951\n",
      "9996 -2.192341\n",
      "9997  1.194534\n",
      "9998  0.170787\n",
      "9999  1.784289\n",
      "\n",
      "[10000 rows x 1 columns]\n",
      "<class 'pandopt.frames.DataFrame'>\n",
      "            0\n",
      "A  -29.927881\n",
      "B  -75.823959\n",
      "C -240.599146\n",
      "D -219.154204\n",
      "<class 'pandopt.frames.DataFrame'>\n",
      "            0\n",
      "A  -29.927881\n",
      "B  -75.823959\n",
      "C -240.599146\n",
      "D -219.154204\n",
      "<class 'pandopt.frames.DataFrame'>\n",
      "           0\n",
      "0 -565.50519\n",
      "<class 'pandopt.frames.DataFrame'>\n",
      "\n",
      "\n",
      "\n",
      "SUM\n",
      "0      -4.680139\n",
      "1       0.379731\n",
      "2       2.071919\n",
      "3      -0.553120\n",
      "4      -3.062971\n",
      "          ...   \n",
      "9995   -4.978951\n",
      "9996   -2.192341\n",
      "9997    1.194534\n",
      "9998    0.170787\n",
      "9999    1.784289\n",
      "Length: 10000, dtype: float64\n",
      "<class 'pandas.core.series.Series'>\n",
      "A    -29.927881\n",
      "B    -75.823959\n",
      "C   -240.599146\n",
      "D   -219.154204\n",
      "dtype: float64\n",
      "<class 'pandas.core.series.Series'>\n",
      "A    -29.927881\n",
      "B    -75.823959\n",
      "C   -240.599146\n",
      "D   -219.154204\n",
      "dtype: float64\n",
      "<class 'pandas.core.series.Series'>\n",
      "-565.5051898268483\n",
      "<class 'numpy.float64'>\n"
     ]
    }
   ],
   "source": [
    "print('APPLY')\n",
    "print(df.apply(agg_sum, axis=1))\n",
    "print(type(df.apply(agg_sum, axis=1)))\n",
    "print(df.apply(agg_sum, axis=0))\n",
    "print(type(df.apply(agg_sum, axis=0)))\n",
    "print(df.apply(agg_sum))\n",
    "print(type(df.apply(agg_sum)))\n",
    "print(df.apply(agg_sum).apply(agg_sum))\n",
    "print(type(df.apply(agg_sum).apply(agg_sum)))\n",
    "print('\\n\\n')\n",
    "print('SUM')\n",
    "print(df.sum(axis=1))\n",
    "print(type(df.sum(axis=1)))\n",
    "print(df.sum(axis=0))\n",
    "print(type(df.sum(axis=0)))\n",
    "print(df.sum())\n",
    "print(type(df.sum()))\n",
    "print(df.sum().sum())\n",
    "print(type(df.sum().sum()))"
   ]
  },
  {
   "cell_type": "code",
   "execution_count": 3,
   "id": "63805ee2-a5f6-42a5-bdb8-3e4cebb15239",
   "metadata": {},
   "outputs": [
    {
     "name": "stdout",
     "output_type": "stream",
     "text": [
      "here\n",
      "             A         B         C         D\n",
      "0    -0.926101 -1.516807 -1.129789 -1.107442\n",
      "1     1.222792  0.572325 -1.166444 -0.248942\n",
      "2     0.405347  0.176174  0.126856  1.363542\n",
      "3    -0.412873  0.227066  0.197526 -0.564839\n",
      "4    -0.484383 -0.398157 -1.605032 -0.575399\n",
      "...        ...       ...       ...       ...\n",
      "9995 -1.643941 -1.598993 -1.455970 -0.280046\n",
      "9996 -0.444016 -1.933455  0.130889  0.054241\n",
      "9997  0.222636  1.032003 -1.266852  1.206747\n",
      "9998  0.760347  0.620871 -0.434712 -0.775720\n",
      "9999 -0.114830  0.370474  0.879388  0.649256\n",
      "\n",
      "[10000 rows x 4 columns]\n",
      "             A         B         C         D\n",
      "0    -0.926101 -1.516807 -1.129789 -1.107442\n",
      "1     1.222792  0.572325 -1.166444 -0.248942\n",
      "2     0.405347  0.176174  0.126856  1.363542\n",
      "3    -0.412873  0.227066  0.197526 -0.564839\n",
      "4    -0.484383 -0.398157 -1.605032 -0.575399\n",
      "...        ...       ...       ...       ...\n",
      "9995 -1.643941 -1.598993 -1.455970 -0.280046\n",
      "9996 -0.444016 -1.933455  0.130889  0.054241\n",
      "9997  0.222636  1.032003 -1.266852  1.206747\n",
      "9998  0.760347  0.620871 -0.434712 -0.775720\n",
      "9999 -0.114830  0.370474  0.879388  0.649256\n",
      "\n",
      "[10000 rows x 4 columns]\n"
     ]
    },
    {
     "data": {
      "text/plain": [
       "RollOpt [window=5,center=False,axis=0,method=single]"
      ]
     },
     "execution_count": 3,
     "metadata": {},
     "output_type": "execute_result"
    }
   ],
   "source": [
    "df.rolling(5)"
   ]
  },
  {
   "cell_type": "code",
   "execution_count": 4,
   "id": "4caa7487-dea5-49f8-b62c-6947b718b65a",
   "metadata": {},
   "outputs": [
    {
     "name": "stdout",
     "output_type": "stream",
     "text": [
      "here\n",
      "             A         B         C         D\n",
      "0    -0.926101 -1.516807 -1.129789 -1.107442\n",
      "1     1.222792  0.572325 -1.166444 -0.248942\n",
      "2     0.405347  0.176174  0.126856  1.363542\n",
      "3    -0.412873  0.227066  0.197526 -0.564839\n",
      "4    -0.484383 -0.398157 -1.605032 -0.575399\n",
      "...        ...       ...       ...       ...\n",
      "9995 -1.643941 -1.598993 -1.455970 -0.280046\n",
      "9996 -0.444016 -1.933455  0.130889  0.054241\n",
      "9997  0.222636  1.032003 -1.266852  1.206747\n",
      "9998  0.760347  0.620871 -0.434712 -0.775720\n",
      "9999 -0.114830  0.370474  0.879388  0.649256\n",
      "\n",
      "[10000 rows x 4 columns]\n",
      "             A         B         C         D\n",
      "0    -0.926101 -1.516807 -1.129789 -1.107442\n",
      "1     1.222792  0.572325 -1.166444 -0.248942\n",
      "2     0.405347  0.176174  0.126856  1.363542\n",
      "3    -0.412873  0.227066  0.197526 -0.564839\n",
      "4    -0.484383 -0.398157 -1.605032 -0.575399\n",
      "...        ...       ...       ...       ...\n",
      "9995 -1.643941 -1.598993 -1.455970 -0.280046\n",
      "9996 -0.444016 -1.933455  0.130889  0.054241\n",
      "9997  0.222636  1.032003 -1.266852  1.206747\n",
      "9998  0.760347  0.620871 -0.434712 -0.775720\n",
      "9999 -0.114830  0.370474  0.879388  0.649256\n",
      "\n",
      "[10000 rows x 4 columns]\n"
     ]
    },
    {
     "data": {
      "text/html": [
       "<div>\n",
       "<style scoped>\n",
       "    .dataframe tbody tr th:only-of-type {\n",
       "        vertical-align: middle;\n",
       "    }\n",
       "\n",
       "    .dataframe tbody tr th {\n",
       "        vertical-align: top;\n",
       "    }\n",
       "\n",
       "    .dataframe thead th {\n",
       "        text-align: right;\n",
       "    }\n",
       "</style>\n",
       "<table border=\"1\" class=\"dataframe\">\n",
       "  <thead>\n",
       "    <tr style=\"text-align: right;\">\n",
       "      <th></th>\n",
       "      <th>A</th>\n",
       "      <th>B</th>\n",
       "      <th>C</th>\n",
       "      <th>D</th>\n",
       "    </tr>\n",
       "  </thead>\n",
       "  <tbody>\n",
       "    <tr>\n",
       "      <th>4</th>\n",
       "      <td>-0.195218</td>\n",
       "      <td>-0.939398</td>\n",
       "      <td>-3.576883</td>\n",
       "      <td>-1.133081</td>\n",
       "    </tr>\n",
       "    <tr>\n",
       "      <th>5</th>\n",
       "      <td>1.863479</td>\n",
       "      <td>1.041853</td>\n",
       "      <td>-2.606025</td>\n",
       "      <td>-0.122979</td>\n",
       "    </tr>\n",
       "    <tr>\n",
       "      <th>6</th>\n",
       "      <td>-0.474910</td>\n",
       "      <td>-1.571922</td>\n",
       "      <td>-0.061762</td>\n",
       "      <td>0.300660</td>\n",
       "    </tr>\n",
       "    <tr>\n",
       "      <th>7</th>\n",
       "      <td>0.603822</td>\n",
       "      <td>-1.437506</td>\n",
       "      <td>0.079643</td>\n",
       "      <td>-0.777279</td>\n",
       "    </tr>\n",
       "    <tr>\n",
       "      <th>8</th>\n",
       "      <td>1.314286</td>\n",
       "      <td>-1.588112</td>\n",
       "      <td>-0.512090</td>\n",
       "      <td>-0.729223</td>\n",
       "    </tr>\n",
       "    <tr>\n",
       "      <th>...</th>\n",
       "      <td>...</td>\n",
       "      <td>...</td>\n",
       "      <td>...</td>\n",
       "      <td>...</td>\n",
       "    </tr>\n",
       "    <tr>\n",
       "      <th>9995</th>\n",
       "      <td>-1.980692</td>\n",
       "      <td>-2.381017</td>\n",
       "      <td>-0.170692</td>\n",
       "      <td>1.794020</td>\n",
       "    </tr>\n",
       "    <tr>\n",
       "      <th>9996</th>\n",
       "      <td>-2.935525</td>\n",
       "      <td>-4.594523</td>\n",
       "      <td>0.824805</td>\n",
       "      <td>0.777312</td>\n",
       "    </tr>\n",
       "    <tr>\n",
       "      <th>9997</th>\n",
       "      <td>-2.916480</td>\n",
       "      <td>-1.511276</td>\n",
       "      <td>-1.742075</td>\n",
       "      <td>2.408877</td>\n",
       "    </tr>\n",
       "    <tr>\n",
       "      <th>9998</th>\n",
       "      <td>-1.294322</td>\n",
       "      <td>-1.012199</td>\n",
       "      <td>-2.065208</td>\n",
       "      <td>1.161731</td>\n",
       "    </tr>\n",
       "    <tr>\n",
       "      <th>9999</th>\n",
       "      <td>-1.219804</td>\n",
       "      <td>-1.509101</td>\n",
       "      <td>-2.147257</td>\n",
       "      <td>0.854479</td>\n",
       "    </tr>\n",
       "  </tbody>\n",
       "</table>\n",
       "<p>9996 rows × 4 columns</p>\n",
       "</div>"
      ],
      "text/plain": [
       "             A         B         C         D\n",
       "4    -0.195218 -0.939398 -3.576883 -1.133081\n",
       "5     1.863479  1.041853 -2.606025 -0.122979\n",
       "6    -0.474910 -1.571922 -0.061762  0.300660\n",
       "7     0.603822 -1.437506  0.079643 -0.777279\n",
       "8     1.314286 -1.588112 -0.512090 -0.729223\n",
       "...        ...       ...       ...       ...\n",
       "9995 -1.980692 -2.381017 -0.170692  1.794020\n",
       "9996 -2.935525 -4.594523  0.824805  0.777312\n",
       "9997 -2.916480 -1.511276 -1.742075  2.408877\n",
       "9998 -1.294322 -1.012199 -2.065208  1.161731\n",
       "9999 -1.219804 -1.509101 -2.147257  0.854479\n",
       "\n",
       "[9996 rows x 4 columns]"
      ]
     },
     "execution_count": 4,
     "metadata": {},
     "output_type": "execute_result"
    }
   ],
   "source": [
    "df.rolling(5).apply(agg_sum)"
   ]
  },
  {
   "cell_type": "code",
   "execution_count": null,
   "id": "c86d6331-1a56-4963-acd6-a5c68297b26a",
   "metadata": {},
   "outputs": [],
   "source": []
  },
  {
   "cell_type": "code",
   "execution_count": null,
   "id": "3804b3e8-1b4b-44fa-8188-617da487b00d",
   "metadata": {},
   "outputs": [],
   "source": [
    "df = pd.DataFrame(np.random.randn(100000, 4), columns=['A', 'B', 'C', 'D'])\n",
    "type(df.rolling(10).apply(agg_sum))\n"
   ]
  },
  {
   "cell_type": "code",
   "execution_count": 14,
   "id": "2cd7bb21-1024-4dea-94b5-4fc3f59f6590",
   "metadata": {},
   "outputs": [
    {
     "data": {
      "text/plain": [
       "pandas.core.series.Series"
      ]
     },
     "execution_count": 14,
     "metadata": {},
     "output_type": "execute_result"
    }
   ],
   "source": [
    "type(df.mean(axis=1))"
   ]
  },
  {
   "cell_type": "code",
   "execution_count": null,
   "id": "59486939-1e6c-463e-9a4a-7b0109c69239",
   "metadata": {},
   "outputs": [],
   "source": []
  }
 ],
 "metadata": {
  "kernelspec": {
   "display_name": "Python 3 (ipykernel)",
   "language": "python",
   "name": "python3"
  },
  "language_info": {
   "codemirror_mode": {
    "name": "ipython",
    "version": 3
   },
   "file_extension": ".py",
   "mimetype": "text/x-python",
   "name": "python",
   "nbconvert_exporter": "python",
   "pygments_lexer": "ipython3",
   "version": "3.12.2"
  }
 },
 "nbformat": 4,
 "nbformat_minor": 5
}
